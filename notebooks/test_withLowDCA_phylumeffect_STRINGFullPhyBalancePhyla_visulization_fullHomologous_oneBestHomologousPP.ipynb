{
 "cells": [
  {
   "cell_type": "markdown",
   "id": "b788e3e6-6028-47c7-9ce6-38a3288f861c",
   "metadata": {},
   "source": [
    "# code and date \n",
    "http://localhost:8206/lab/workspaces/auto-n/tree/code/MNF/notebooks/STRING_Data_11.5/test_withLowDCA_phylumeffect_STRINGFullPhyBalancePhyla_visulization_fullHomologous_oneBestHomologousPP.ipynb\n"
   ]
  },
  {
   "cell_type": "code",
   "execution_count": null,
   "id": "bea26f9d",
   "metadata": {},
   "outputs": [],
   "source": []
  },
  {
   "cell_type": "markdown",
   "id": "96b2dc0f",
   "metadata": {},
   "source": [
    "# load lib and set data "
   ]
  },
  {
   "cell_type": "code",
   "execution_count": 1,
   "id": "6ace04f0",
   "metadata": {},
   "outputs": [],
   "source": [
    "import sys\n",
    "import os \n",
    "import pandas as pd\n",
    "import numpy as np \n",
    "import copy \n",
    "import random\n",
    "from collections import defaultdict\n",
    "import pickle\n",
    "import glob\n",
    "\n",
    "import multiprocessing as mp \n",
    "import subprocess\n",
    "\n",
    "import matplotlib.pyplot as plt \n",
    "# import seaborn as sns\n",
    "\n",
    "from Bio import AlignIO\n",
    "from Bio import SeqIO\n",
    "from Bio.Blast import NCBIXML\n",
    "\n",
    "\n",
    "from Bio.PDB import PDBParser\n",
    "\n",
    "\n",
    "from sklearn.manifold import MDS\n",
    "\n",
    "\n",
    "\n",
    "from sklearn.linear_model import LogisticRegression\n",
    "from sklearn.model_selection import train_test_split\n",
    "from sklearn.model_selection import cross_val_score\n",
    "from sklearn.model_selection import KFold\n",
    "from sklearn.model_selection import StratifiedKFold\n",
    "from sklearn.utils.class_weight import compute_class_weight\n",
    "from sklearn.utils import shuffle\n",
    "\n",
    "import  sklearn.metrics \n",
    "from sklearn.model_selection import GridSearchCV\n",
    "from sklearn.svm import SVC\n",
    "from sklearn import preprocessing\n",
    "from sklearn.preprocessing import MinMaxScaler\n",
    "from sklearn.preprocessing import StandardScaler\n",
    "\n",
    "from sklearn.ensemble import RandomForestClassifier\n",
    "#from xgboost import XGBClassifier\n",
    "\n",
    "from sklearn.impute import SimpleImputer\n",
    "from sklearn.experimental import enable_iterative_imputer\n",
    "from sklearn.impute import IterativeImputer\n",
    "from sklearn.impute import KNNImputer\n",
    "\n",
    "\n",
    "from scipy.stats import ttest_ind\n",
    "\n",
    "\n",
    "\n"
   ]
  },
  {
   "cell_type": "code",
   "execution_count": null,
   "id": "07c59460",
   "metadata": {},
   "outputs": [],
   "source": []
  },
  {
   "cell_type": "code",
   "execution_count": null,
   "id": "6e6caa3d",
   "metadata": {},
   "outputs": [],
   "source": []
  },
  {
   "cell_type": "code",
   "execution_count": null,
   "id": "bac18e8b",
   "metadata": {},
   "outputs": [],
   "source": []
  },
  {
   "cell_type": "code",
   "execution_count": null,
   "id": "4b2e02fa",
   "metadata": {},
   "outputs": [],
   "source": []
  },
  {
   "cell_type": "code",
   "execution_count": null,
   "id": "17d5d775",
   "metadata": {},
   "outputs": [],
   "source": []
  },
  {
   "cell_type": "code",
   "execution_count": 2,
   "id": "66bdf424",
   "metadata": {},
   "outputs": [],
   "source": [
    "%reload_ext autoreload\n",
    "%autoreload 2\n",
    "\n",
    "sys.path.append('../src/utilities/')\n",
    "\n",
    "from ROC_curve import DCA_RocCurve\n",
    "from ROC_curve import Random_RocCurve\n",
    "\n",
    "from Check_SameCogPair_problem import sepCogPairs_topDCAs_ML_predictions\n",
    "\n",
    "\n",
    "\n",
    "\n",
    "from IntergrateBestHomologousPPCoEvo_unNameSorted_ML import sepCogPairs_FullBestHomologousPP_BestHomologousDCAs_uniquePhyla_ML_predictions\n",
    "\n",
    "from IntergrateBestHomologousPPCoEvo_top5_unNameSorted import get_SubjectInfo_top5DCAs_FullBestHomologousPP\n",
    "from IntergrateBestHomologousPPCoEvo_top5_unNameSorted import get_BestHomologousDCAs_top5DCAs_fromMultiSpes\n",
    "from IntergrateBestHomologousPPCoEvo_top5_unNameSorted_ML import VariousReplacing_sepCogPairs_FullBestHomologousPP_BestHomologousDCAs_top5DCAs_uniquePhyla_ML_predictions\n",
    "\n",
    "\n",
    "from biasCheck import getAllIdxOf_fixed_negVSpos_ratio_keepCombination_from_OriginalFrame\n",
    "from ML_training import sepCogPairs_ML_predictions_allTypeFeas\n",
    "from collect_topCoEvos import get_topRanking_CoEvo_file\n",
    "\n"
   ]
  },
  {
   "cell_type": "code",
   "execution_count": null,
   "id": "2915dc4a",
   "metadata": {},
   "outputs": [],
   "source": []
  },
  {
   "cell_type": "code",
   "execution_count": 3,
   "id": "37168439",
   "metadata": {},
   "outputs": [],
   "source": [
    "n_jobs=20#80    #50  # 30 #10\n",
    "\n",
    "scoring_metrics=sklearn.metrics.make_scorer(sklearn.metrics.f1_score)    # None, sklearn.metrics.make_scorer(sklearn.metrics.f1_score)"
   ]
  },
  {
   "cell_type": "code",
   "execution_count": 4,
   "id": "ffc7a89d",
   "metadata": {},
   "outputs": [],
   "source": [
    "Query_tuple=('1224', '511145')\n",
    "Subject_tupleList=[(\"1239\",\"1274374\"),('201174', '105422'), ('976', '411476'),] "
   ]
  },
  {
   "cell_type": "code",
   "execution_count": 5,
   "id": "e65cbcc9-720e-4051-9379-193c13a2e5a2",
   "metadata": {},
   "outputs": [],
   "source": [
    "notebookData_folder=\"/mnt/mnemo6/tao/notebook_data/\"  #\"/mnt/mnemo6/tao/\""
   ]
  },
  {
   "cell_type": "code",
   "execution_count": 6,
   "id": "afc5a5dc",
   "metadata": {},
   "outputs": [
    {
     "data": {
      "text/plain": [
       "'/mnt/mnemo6/tao/notebook_data/PPI_Coevolution/CoEvo_data_STRING11.5/allPPI_511145_EggNOGmaxLevel1224_eggNOGfilteredData/STRINGFullPhyBalancePhyla_Benchmark/ML_inputs/'"
      ]
     },
     "execution_count": 6,
     "metadata": {},
     "output_type": "execute_result"
    }
   ],
   "source": [
    "CoEvo_data_folder=notebookData_folder+\"PPI_Coevolution/CoEvo_data_STRING\"+\"11.5\"+\"/\"\n",
    "Query_input_root_folder=CoEvo_data_folder+\"allPPI_\"+Query_tuple[1]+\"_EggNOGmaxLevel\"+Query_tuple[0]+\"_eggNOGfilteredData/\"\n",
    "Query_Benchmark_folder=Query_input_root_folder+\"STRINGFullPhyBalancePhyla_Benchmark/\"\n",
    "Query_ML_inputPath=Query_Benchmark_folder+\"ML_inputs/\"\n",
    "\n",
    "Query_DCA_coevolutoin_path=Query_input_root_folder+\"coevolutoin_result_DCA/\"\n",
    "\n",
    "\n",
    "Query_ML_inputPath"
   ]
  },
  {
   "cell_type": "code",
   "execution_count": 7,
   "id": "65372c7c",
   "metadata": {},
   "outputs": [
    {
     "data": {
      "text/plain": [
       "('/mnt/mnemo6/tao/notebook_data/PPI_Coevolution/CoEvo_data_STRING11.5/allPPI_511145_EggNOGmaxLevel1224_eggNOGfilteredData/coevolutoin_result_DCA/',\n",
       " '/mnt/mnemo6/tao/notebook_data/PPI_Coevolution/CoEvo_data_STRING11.5/allPPI_511145_EggNOGmaxLevel1224_eggNOGfilteredData/STRINGFullPhyBalancePhyla_Benchmark/')"
      ]
     },
     "execution_count": 7,
     "metadata": {},
     "output_type": "execute_result"
    }
   ],
   "source": [
    "Query_DCA_coevolutoin_path,Query_Benchmark_folder"
   ]
  },
  {
   "cell_type": "code",
   "execution_count": 8,
   "id": "539a7e2b",
   "metadata": {},
   "outputs": [],
   "source": [
    "\n",
    "EggNOG_groupPath=notebookData_folder+\"STRING_Data_11.5/eggnog5AddSTRING11.5_Species/groups/\"\n"
   ]
  },
  {
   "cell_type": "code",
   "execution_count": null,
   "id": "27bc478c",
   "metadata": {},
   "outputs": [],
   "source": []
  },
  {
   "cell_type": "code",
   "execution_count": 9,
   "id": "da416400",
   "metadata": {},
   "outputs": [
    {
     "name": "stdout",
     "output_type": "stream",
     "text": [
      "CPU times: user 19.7 s, sys: 3.82 s, total: 23.5 s\n",
      "Wall time: 23.5 s\n"
     ]
    }
   ],
   "source": [
    "%%time\n",
    "# read cog information \n",
    "max_level=\"2\" #\"2\", \"1224\"\n",
    "EggNOG_group_level2=pd.read_csv(EggNOG_groupPath+max_level+\".tsv\",\n",
    "                                header=None,index_col=None,sep=\"\\t\")\n",
    "\n",
    "\n"
   ]
  },
  {
   "cell_type": "code",
   "execution_count": 10,
   "id": "7c88ec12-1f01-44c3-afad-6151e336672f",
   "metadata": {},
   "outputs": [
    {
     "data": {
      "text/plain": [
       "'/mnt/mnemo6/tao/notebook_data/PPI_Coevolution/CoEvo_data_STRING11.5/allPPI_511145_EggNOGmaxLevel1224_eggNOGfilteredData/'"
      ]
     },
     "execution_count": 10,
     "metadata": {},
     "output_type": "execute_result"
    }
   ],
   "source": [
    "Query_input_root_folder"
   ]
  },
  {
   "cell_type": "code",
   "execution_count": null,
   "id": "e13eab52",
   "metadata": {},
   "outputs": [],
   "source": []
  },
  {
   "cell_type": "markdown",
   "id": "638abb2a",
   "metadata": {
    "tags": []
   },
   "source": [
    "# prepare best homologous protein pp "
   ]
  },
  {
   "cell_type": "code",
   "execution_count": null,
   "id": "0d452120",
   "metadata": {},
   "outputs": [],
   "source": []
  },
  {
   "cell_type": "code",
   "execution_count": 11,
   "id": "1eba3de2",
   "metadata": {},
   "outputs": [
    {
     "name": "stdout",
     "output_type": "stream",
     "text": [
      "CPU times: user 1.5 s, sys: 160 ms, total: 1.66 s\n",
      "Wall time: 1.66 s\n"
     ]
    }
   ],
   "source": [
    "%%time \n",
    "with open(notebookData_folder+\"PPI_Coevolution/STRING_data_11.5/511145_EggNOGmaxLevel1224_allQuery2SubjectPPIMapping/NameUnsorted_Query2Subject_QueSpeAllPPI_homologous_dict_listDict.pickle\", 'rb') as handle:\n",
    "        Query2Subject_QuerySpeAllPPI_BestHomologous_ignoreSubjectDCA_dict_listDict=pickle.load(handle)\n",
    "        \n"
   ]
  },
  {
   "cell_type": "code",
   "execution_count": 12,
   "id": "e6bcf174",
   "metadata": {},
   "outputs": [
    {
     "name": "stdout",
     "output_type": "stream",
     "text": [
      "('1239', '1274374')\n",
      "1510551\n",
      "3021102 1510551.0\n",
      "('201174', '105422')\n",
      "1598711\n",
      "3197422 1598711.0\n",
      "('976', '411476')\n",
      "1229632\n",
      "2459264 1229632.0\n",
      "('2', '179408')\n",
      "1269201\n",
      "2538402 1269201.0\n"
     ]
    }
   ],
   "source": [
    "for _,t_dict in Query2Subject_QuerySpeAllPPI_BestHomologous_ignoreSubjectDCA_dict_listDict.items():\n",
    "    print(_)\n",
    "    print(len(t_dict))\n",
    "    count=0\n",
    "    for v in t_dict.values():\n",
    "        count += len(v)\n",
    "    print(count,count/2)"
   ]
  },
  {
   "cell_type": "code",
   "execution_count": 13,
   "id": "33869953",
   "metadata": {},
   "outputs": [
    {
     "data": {
      "text/plain": [
       "dict_keys([('1239', '1274374'), ('201174', '105422'), ('976', '411476')])"
      ]
     },
     "execution_count": 13,
     "metadata": {},
     "output_type": "execute_result"
    }
   ],
   "source": [
    "Query2Subject_QuerySpeAllPPI_BestHomologous_ignoreSubjectDCA_dict_listDict={k:v for k,v in Query2Subject_QuerySpeAllPPI_BestHomologous_ignoreSubjectDCA_dict_listDict.items() if k in Subject_tupleList }\n",
    "\n",
    "Query2Subject_QuerySpeAllPPI_BestHomologous_ignoreSubjectDCA_dict_listDict.keys()"
   ]
  },
  {
   "cell_type": "code",
   "execution_count": null,
   "id": "322fbc50",
   "metadata": {},
   "outputs": [],
   "source": []
  },
  {
   "cell_type": "code",
   "execution_count": 14,
   "id": "9ac1b383",
   "metadata": {},
   "outputs": [
    {
     "data": {
      "text/plain": [
       "(('511145.b0003', '511145.b0004'),\n",
       " ('1274374.CBLK010000071_gene1043', '1274374.CBLK010000070_gene1131'))"
      ]
     },
     "execution_count": 14,
     "metadata": {},
     "output_type": "execute_result"
    }
   ],
   "source": [
    "list(Query2Subject_QuerySpeAllPPI_BestHomologous_ignoreSubjectDCA_dict_listDict[('1239', '1274374')].items())[0]\n",
    "\n"
   ]
  },
  {
   "cell_type": "code",
   "execution_count": null,
   "id": "786e8309-922c-494d-9737-eed34bda00e0",
   "metadata": {},
   "outputs": [],
   "source": []
  },
  {
   "cell_type": "code",
   "execution_count": null,
   "id": "465d0d84-59e3-471a-a258-f2d29133eb90",
   "metadata": {},
   "outputs": [],
   "source": []
  },
  {
   "cell_type": "code",
   "execution_count": null,
   "id": "072ed78d-dc1f-434c-9810-6f47f90385ee",
   "metadata": {},
   "outputs": [],
   "source": []
  },
  {
   "cell_type": "code",
   "execution_count": null,
   "id": "857745d4-91b5-4b46-9cc1-e71f7c425984",
   "metadata": {},
   "outputs": [],
   "source": []
  },
  {
   "cell_type": "code",
   "execution_count": null,
   "id": "c1854284",
   "metadata": {},
   "outputs": [],
   "source": []
  },
  {
   "cell_type": "code",
   "execution_count": null,
   "id": "e9c57c0e",
   "metadata": {},
   "outputs": [],
   "source": []
  },
  {
   "cell_type": "code",
   "execution_count": null,
   "id": "d7079327",
   "metadata": {},
   "outputs": [],
   "source": []
  },
  {
   "cell_type": "code",
   "execution_count": null,
   "id": "c93e0d9b",
   "metadata": {},
   "outputs": [],
   "source": []
  },
  {
   "cell_type": "markdown",
   "id": "a4d702f3",
   "metadata": {},
   "source": [
    "# STRING 11.5, phylum 1224, species 511145"
   ]
  },
  {
   "cell_type": "markdown",
   "id": "1ef5df2c",
   "metadata": {},
   "source": []
  },
  {
   "cell_type": "code",
   "execution_count": null,
   "id": "01490e36",
   "metadata": {},
   "outputs": [],
   "source": []
  },
  {
   "cell_type": "code",
   "execution_count": null,
   "id": "6d17a1b8",
   "metadata": {},
   "outputs": [
    {
     "name": "stdout",
     "output_type": "stream",
     "text": [
      "ML_inputs: /mnt/mnemo6/tao/notebook_data/PPI_Coevolution/CoEvo_data_STRING11.5/allPPI_511145_EggNOGmaxLevel1224_eggNOGfilteredData/STRINGFullPhyBalancePhyla_Benchmark/ML_inputs/\n",
      "Benchmark_folder: /mnt/mnemo6/tao/notebook_data/PPI_Coevolution/CoEvo_data_STRING11.5/allPPI_511145_EggNOGmaxLevel1224_eggNOGfilteredData/STRINGFullPhyBalancePhyla_Benchmark/\n",
      "allPPI_allInfo_frame.shape: (420412, 5)\n",
      "len(CurrentSpe_EggNOG_group_level2_pro2cog): 4036\n",
      "len(allPPI_cogs): 420412\n",
      "len(allPPI_info): 420412\n",
      "top_CoEvo_frame.shape: (420412, 152)\n",
      "sys.getsizeof(top_CoEvo_frame)/(1024*1024*1024):0.5238795652985573\n",
      "OnlyTopPosNeg_NonPara_XtopDCAs.ndim: 2\n",
      "XtopDCAs_train.shape,XtopDCAs_test.shape,ytopDCAs_train.shape,ytopDCAs_test.shape: (336329, 20) (84083, 20) (336329,) (84083,)\n",
      "[['COG1516', 'COG0479'], ['COG2011', 'COG0250'], ['COG0024', 'COG3123']]\n",
      "len(cogs_train_dict): 249966\n",
      "len(cogs_test),len(Moved_test_idx),len(Kepted_test_idx): 84083 34380 49703\n",
      "XtopDCAs_train.shape,ytopDCAs_train.shape,sum(ytopDCAs_train),ytopDCAs_test.shape,sum(ytopDCAs_test): (370709, 20) (370709,) 4589.0 (49703,) 943.0\n",
      "train LR now _:\n"
     ]
    }
   ],
   "source": [
    "%%time\n",
    "STRING115EggNog1224Spe511145_topDCAs_predicted_results=sepCogPairs_topDCAs_ML_predictions(EggNOG_maxLevel=\"1224\",currentSpe_TaxID=\"511145\",STRING_Version=\"11.5\",\n",
    "                                                                                          EggNOG_group_level2=EggNOG_group_level2,\n",
    "                                                                           ML_methods=[\"LR\",\"RF\"], #[\"LR\",\"RF\"],\n",
    "                                                                           DCA_thres=0,DCA_number=50,selDca_number=20,\n",
    "                                                                CoEvo_data_folder=CoEvo_data_folder,\n",
    "                                                                                                       prefix=\"allPPI_\",\n",
    "                                                                            benchmark_suffix=\"STRINGFullPhyBalancePhyla_Benchmark/\",\n",
    "                                                                                          ifReCollect=False,\n",
    "                                                                                         saveFrame=True,\n",
    "                                                                                         overwrite=False,\n",
    "                                                                                        splitPosandNeg=False,\n",
    "                                                                                         sort_frame=False,\n",
    "                                                                                          use_multiprocessing=30,\n",
    "                                                                                    n_jobs=n_jobs,\n",
    "                                                                scoring_metrics=scoring_metrics,\n",
    "                                                                                         )\n",
    "\n",
    "\n",
    "# second time with  ML_methods=[\"LR\",\"RF\"\n",
    "# CPU times: user 22min 16s, sys: 37.6 s, total: 22min 53s\n",
    "# Wall time: 1h 26min 41\n",
    "\n",
    "# # for F1 scoring \n",
    "# CPU times: user 17min 56s, sys: 36.2 s, total: 18min 32s\n",
    "# Wall time: 2h 15min 31s\n"
   ]
  },
  {
   "cell_type": "code",
   "execution_count": null,
   "id": "86a081a0-1fae-4f9e-9056-48c8a6b242c8",
   "metadata": {},
   "outputs": [],
   "source": []
  },
  {
   "cell_type": "code",
   "execution_count": null,
   "id": "a305f8de-2510-4461-9a85-71bd6b99024a",
   "metadata": {},
   "outputs": [],
   "source": []
  },
  {
   "cell_type": "code",
   "execution_count": null,
   "id": "a545291b-6993-461c-8fc5-6fac3142e86f",
   "metadata": {},
   "outputs": [],
   "source": []
  },
  {
   "cell_type": "code",
   "execution_count": null,
   "id": "324b99a5-6c05-42d6-b3c0-9686ceb0f63a",
   "metadata": {},
   "outputs": [],
   "source": [
    "STRING115EggNog1224Spe511145_topDCAs_predicted_results[\"RF\"][\"Model\"]"
   ]
  },
  {
   "cell_type": "code",
   "execution_count": null,
   "id": "1ea7e192-9ae9-4fe7-89d1-29023e5432af",
   "metadata": {},
   "outputs": [],
   "source": [
    "STRING115EggNog1224Spe511145_topDCAs_predicted_results[\"RF\"][\"Model\"].best_estimator_\n"
   ]
  },
  {
   "cell_type": "code",
   "execution_count": null,
   "id": "6a9b0a02-d823-47b6-a000-41a57955d6aa",
   "metadata": {},
   "outputs": [],
   "source": [
    "STRING115EggNog1224Spe511145_topDCAs_predicted_results.keys()"
   ]
  },
  {
   "cell_type": "code",
   "execution_count": null,
   "id": "52d1cddf-72e7-444e-b447-2408720508d9",
   "metadata": {},
   "outputs": [],
   "source": [
    "sum(STRING115EggNog1224Spe511145_topDCAs_predicted_results[\"YtopDCAs\"]==1),sum(STRING115EggNog1224Spe511145_topDCAs_predicted_results[\"YtopDCAs\"]==0)"
   ]
  },
  {
   "cell_type": "code",
   "execution_count": null,
   "id": "c4fd59e8-f6e2-425a-b677-25dac7745e40",
   "metadata": {},
   "outputs": [],
   "source": []
  },
  {
   "cell_type": "code",
   "execution_count": null,
   "id": "b9f75cea-435a-4d6f-9336-b6cf0d684f4e",
   "metadata": {},
   "outputs": [],
   "source": []
  },
  {
   "cell_type": "code",
   "execution_count": null,
   "id": "6544d49a-3247-4ddf-94ef-6c7d7df5171b",
   "metadata": {},
   "outputs": [],
   "source": []
  },
  {
   "cell_type": "code",
   "execution_count": null,
   "id": "a8235cae",
   "metadata": {},
   "outputs": [],
   "source": []
  },
  {
   "cell_type": "code",
   "execution_count": null,
   "id": "ba707451-e5c6-46c6-a12b-d0ea610eef52",
   "metadata": {},
   "outputs": [],
   "source": []
  },
  {
   "cell_type": "code",
   "execution_count": null,
   "id": "cbf93b66-c782-4c20-b9d7-06449370ef33",
   "metadata": {},
   "outputs": [],
   "source": []
  },
  {
   "cell_type": "markdown",
   "id": "b918005e-a61e-4ef9-9224-224656d8960b",
   "metadata": {},
   "source": [
    "### use plot check overfitting "
   ]
  },
  {
   "cell_type": "code",
   "execution_count": null,
   "id": "9cb7c413-a05d-40e0-a9f5-1b286cd45d5c",
   "metadata": {},
   "outputs": [],
   "source": [
    "\n",
    "count_label=\"rate\"\n",
    "step=10\n",
    "DCA_RocCurve(STRING115EggNog1224Spe511145_topDCAs_predicted_results[\"XtopDCAs_test\"][:,0], \n",
    "             STRING115EggNog1224Spe511145_topDCAs_predicted_results[\"ytopDCAs_test\"],\n",
    "             count_label=count_label,legend=\"max DCA\"+\";11.5;1224;511145\",step=step)\n",
    "\n",
    "\n",
    "DCA_RocCurve(STRING115EggNog1224Spe511145_topDCAs_predicted_results[\"LR\"]['LR_ytopDCAs_predict_prob'], \n",
    "             STRING115EggNog1224Spe511145_topDCAs_predicted_results[\"ytopDCAs_test\"],\n",
    "             count_label=count_label,legend=\"top DCA; LR\"+\";11.5;1224;511145\",step=step)\n",
    "\n",
    "DCA_RocCurve(STRING115EggNog1224Spe511145_topDCAs_predicted_results[\"RF\"]['RF_ytopDCAs_predict_prob'], \n",
    "             STRING115EggNog1224Spe511145_topDCAs_predicted_results[\"ytopDCAs_test\"],\n",
    "             count_label=count_label,legend=\"top DCA; RF\"+\";11.5;1224;511145\",step=step)\n",
    "\n",
    "\n",
    "\n",
    "plt.show()"
   ]
  },
  {
   "cell_type": "code",
   "execution_count": null,
   "id": "e485061e",
   "metadata": {},
   "outputs": [],
   "source": [
    "%%time\n",
    "count_label=\"rate\"\n",
    "step=100\n",
    "zoom_thres=None\n",
    "\n",
    "\n",
    "\n",
    "DCA_RocCurve(STRING115EggNog1224Spe511145_topDCAs_predicted_results[\"updated_allPPI_allInfo_frame\"][\"RF_onesProb\"], \n",
    "             STRING115EggNog1224Spe511145_topDCAs_predicted_results['YtopDCAs'],\n",
    "             count_label=count_label,legend=\"all top DCA  RF\"+\";11.5;1224;511145\",step=step,zoom_thres=zoom_thres)\n",
    "\n",
    "\n",
    "\n",
    "DCA_RocCurve(STRING115EggNog1224Spe511145_topDCAs_predicted_results[\"RF\"]['RF_ytopDCAs_predict_prob'], \n",
    "             STRING115EggNog1224Spe511145_topDCAs_predicted_results[\"ytopDCAs_test\"],\n",
    "             count_label=count_label,legend=\"testing top DCA  RF\"+\";11.5;1224;511145\",step=step,zoom_thres=zoom_thres)\n",
    "\n",
    "\n",
    "\n",
    "DCA_RocCurve(STRING115EggNog1224Spe511145_topDCAs_predicted_results[\"updated_allPPI_allInfo_frame\"][\"LR_onesProb\"], \n",
    "             STRING115EggNog1224Spe511145_topDCAs_predicted_results['YtopDCAs'],\n",
    "             count_label=count_label,legend=\"all top DCA  LR\"+\";11.5;1224;511145\",step=step,zoom_thres=zoom_thres)\n",
    "\n",
    "\n",
    "\n",
    "DCA_RocCurve(STRING115EggNog1224Spe511145_topDCAs_predicted_results[\"LR\"]['LR_ytopDCAs_predict_prob'], \n",
    "             STRING115EggNog1224Spe511145_topDCAs_predicted_results[\"ytopDCAs_test\"],\n",
    "             count_label=count_label,legend=\"testing top DCA  LR\"+\";11.5;1224;511145\",step=step,zoom_thres=zoom_thres)\n",
    "\n",
    "\n",
    "\n",
    "\n",
    "#plt.legend(loc='best')\n",
    "plt.legend( bbox_to_anchor=(1.05, 1), loc='upper left' )\n",
    "plt.show()"
   ]
  },
  {
   "cell_type": "code",
   "execution_count": null,
   "id": "ff3f1590-c638-43d8-bca7-f819cbe2791b",
   "metadata": {},
   "outputs": [],
   "source": []
  },
  {
   "cell_type": "code",
   "execution_count": null,
   "id": "6e80d00d-e93a-4c36-99f2-ac3286eb7a3a",
   "metadata": {},
   "outputs": [],
   "source": []
  },
  {
   "cell_type": "code",
   "execution_count": null,
   "id": "1f4d1b9e",
   "metadata": {},
   "outputs": [],
   "source": []
  },
  {
   "cell_type": "code",
   "execution_count": null,
   "id": "5dbabdf5",
   "metadata": {},
   "outputs": [],
   "source": []
  },
  {
   "cell_type": "code",
   "execution_count": null,
   "id": "6ba8d3b0",
   "metadata": {},
   "outputs": [],
   "source": [
    "\n"
   ]
  },
  {
   "cell_type": "code",
   "execution_count": null,
   "id": "e788e3c9",
   "metadata": {},
   "outputs": [],
   "source": []
  },
  {
   "cell_type": "code",
   "execution_count": null,
   "id": "4b3d09aa",
   "metadata": {},
   "outputs": [],
   "source": []
  },
  {
   "cell_type": "code",
   "execution_count": null,
   "id": "960fb87b",
   "metadata": {},
   "outputs": [],
   "source": []
  },
  {
   "cell_type": "markdown",
   "id": "94a7ce64-dae6-4977-a326-60705388225b",
   "metadata": {},
   "source": [
    "# For Ecoli 11.5, get its top 5 DCA score from its BestHomologous pp from other speceis \n",
    "\n"
   ]
  },
  {
   "cell_type": "code",
   "execution_count": null,
   "id": "662f0061-8279-4f78-8381-40a29564a5ff",
   "metadata": {},
   "outputs": [],
   "source": [
    "\n",
    "HighDCA_Query_allPPI_allInfo_frame=pd.read_csv(Query_Benchmark_folder+\"allPPI_allInfo_frame.csv\",\n",
    "                                 header=0,index_col=None,sep=\"\\t\")\n",
    "print(HighDCA_Query_allPPI_allInfo_frame.shape)\n",
    "HighDCA_Query_allPPI_allInfo_frame.head(n=3)"
   ]
  },
  {
   "cell_type": "code",
   "execution_count": null,
   "id": "537f5a9c-ca6a-4a4b-a818-5ee3d657ded1",
   "metadata": {},
   "outputs": [],
   "source": []
  },
  {
   "cell_type": "code",
   "execution_count": null,
   "id": "4dc90f6a-fd34-4b20-a8f6-1c5d3122aab4",
   "metadata": {},
   "outputs": [],
   "source": [
    "%%time \n",
    "\n",
    "HighDCA_Query_allPPI_info=HighDCA_Query_allPPI_allInfo_frame.loc[:,[\"STRING_ID1\",\"STRING_ID2\",\"benchmark_status\",\"len1\",\"len2\"]].values.tolist()\n",
    "\n",
    "HighDCA_Query_allPPI_allInfo_dict=dict([((p1,p2),(s,len1,len2)) for p1,p2,s,len1,len2 in HighDCA_Query_allPPI_info])\n",
    "\n",
    "\n"
   ]
  },
  {
   "cell_type": "code",
   "execution_count": null,
   "id": "d8ad01db-461c-4faf-9412-4a7ecce1c1fa",
   "metadata": {},
   "outputs": [],
   "source": []
  },
  {
   "cell_type": "code",
   "execution_count": null,
   "id": "1c1d222c-1e1c-40c9-8806-b62e45f4fb02",
   "metadata": {},
   "outputs": [],
   "source": []
  },
  {
   "cell_type": "code",
   "execution_count": null,
   "id": "ed6fb771",
   "metadata": {},
   "outputs": [],
   "source": [
    "HighDCA_Query_topRanking_pydcaFNAPC_file=Query_Benchmark_folder+\"DCA_thres_\"+str(0)+\"_topRanking_pydcaFNAPC_frame.csv\" \n",
    "print(HighDCA_Query_topRanking_pydcaFNAPC_file)\n",
    "\n",
    "HighDCA_Query_allPPI_info=HighDCA_Query_allPPI_allInfo_frame.loc[:,[\"STRING_ID1\",\"STRING_ID2\",\"len1\",\"len2\"]].values.tolist()\n",
    "\n"
   ]
  },
  {
   "cell_type": "code",
   "execution_count": null,
   "id": "21561236",
   "metadata": {},
   "outputs": [],
   "source": []
  },
  {
   "cell_type": "code",
   "execution_count": null,
   "id": "08d3ddd2",
   "metadata": {},
   "outputs": [],
   "source": [
    "%%time \n",
    "HighDCA_Query_top_pydcaFNAPC_dict=get_topRanking_CoEvo_file(topRanking_CoEvo_file=HighDCA_Query_topRanking_pydcaFNAPC_file,\n",
    "                                               coevolutoin_path=Query_DCA_coevolutoin_path,\n",
    "                                               coevo_suffix=\"_pydcaFNAPC_array\",\n",
    "                                               allPPI_info=HighDCA_Query_allPPI_info, \n",
    "                                               returnDic=True,\n",
    "                                               overwrite=False,\n",
    "                                            use_multiprocessing=10\n",
    "                                                             )\n"
   ]
  },
  {
   "cell_type": "code",
   "execution_count": null,
   "id": "b064bf86-3ae3-40bd-b668-b86c1b258b6b",
   "metadata": {},
   "outputs": [],
   "source": [
    "# here to read all homoglogs dca info we here \n",
    "# and because when we computer homologous DCA , we also use pp with low dca in ecoli speceis, so it has all \n",
    "BestHomologousPP_top5DCAs_Subject_allPPI_allInfo_dict_listDict=get_SubjectInfo_top5DCAs_FullBestHomologousPP(Query_tuple,\n",
    "                                                                                                  Subject_tupleList,\n",
    "                                                                                                  STRING_version=\"11.5\",\n",
    "                                                                                                  benchmark_suffix=\"AllPPI_Benchmark/\",\n",
    "                                                                                                CoEvo_data_folder=CoEvo_data_folder,\n",
    "                                                                                                  topDCA_num=5,\n",
    "                                                                                                   returnDic=True,\n",
    "                                                                                                    overwrite=False,\n",
    "                                                                                                    use_multiprocessing=10,\n",
    "                                                                                                        )\n",
    "\n"
   ]
  },
  {
   "cell_type": "code",
   "execution_count": null,
   "id": "467b34c7",
   "metadata": {},
   "outputs": [],
   "source": [
    "\n",
    "BestHomologousPP_top5DCAs_Subject_allPPI_allInfo_dict_listDict.keys()"
   ]
  },
  {
   "cell_type": "code",
   "execution_count": null,
   "id": "ce340362",
   "metadata": {},
   "outputs": [],
   "source": [
    "list(BestHomologousPP_top5DCAs_Subject_allPPI_allInfo_dict_listDict[('1239', '1274374')].items())[0]"
   ]
  },
  {
   "cell_type": "code",
   "execution_count": null,
   "id": "5b9f4ea4",
   "metadata": {},
   "outputs": [],
   "source": [
    "Query2Subject_QuerySpeAllPPI_BestHomologous_ignoreSubjectDCA_dict_listDict.keys()"
   ]
  },
  {
   "cell_type": "code",
   "execution_count": null,
   "id": "b655b6af",
   "metadata": {},
   "outputs": [],
   "source": [
    "%%time\n",
    "Query_top_pydcaFNAPC_top5DCAs_dict={pp:[v[3*i] for i in range(5)] for pp, v in HighDCA_Query_top_pydcaFNAPC_dict.items()}\n",
    "\n",
    "HighDCA_Query_BestHomologousDCAs_top5DCAs_dict=get_BestHomologousDCAs_top5DCAs_fromMultiSpes(Query_allPPI_allInfo_dict=HighDCA_Query_allPPI_allInfo_dict,\n",
    "                                    Query_allPPI_top5DCAs_dict=Query_top_pydcaFNAPC_top5DCAs_dict,\n",
    "                                    BestHomologousPP_Subject_allPPI_top5DCAs_listDict=BestHomologousPP_top5DCAs_Subject_allPPI_allInfo_dict_listDict,\n",
    "                                    Query2Subject_BestHomologous_ignoreSubjectDCA_dict_listDict=Query2Subject_QuerySpeAllPPI_BestHomologous_ignoreSubjectDCA_dict_listDict,\n",
    "                                    topDCA_num=5,\n",
    "                                    with_status=True,    )"
   ]
  },
  {
   "cell_type": "code",
   "execution_count": null,
   "id": "7d8f6215",
   "metadata": {},
   "outputs": [],
   "source": [
    "print(list(HighDCA_Query_BestHomologousDCAs_top5DCAs_dict.items())[0])"
   ]
  },
  {
   "cell_type": "code",
   "execution_count": null,
   "id": "2fe0bae7",
   "metadata": {},
   "outputs": [],
   "source": [
    "print(len(HighDCA_Query_allPPI_allInfo_dict),len(HighDCA_Query_BestHomologousDCAs_top5DCAs_dict))"
   ]
  },
  {
   "cell_type": "code",
   "execution_count": null,
   "id": "d5d30b8a",
   "metadata": {},
   "outputs": [],
   "source": []
  },
  {
   "cell_type": "code",
   "execution_count": null,
   "id": "32df276f",
   "metadata": {},
   "outputs": [],
   "source": []
  },
  {
   "cell_type": "code",
   "execution_count": null,
   "id": "a937c543",
   "metadata": {},
   "outputs": [],
   "source": []
  },
  {
   "cell_type": "code",
   "execution_count": null,
   "id": "adc41e68",
   "metadata": {},
   "outputs": [],
   "source": []
  },
  {
   "cell_type": "code",
   "execution_count": null,
   "id": "a24d801b",
   "metadata": {},
   "outputs": [],
   "source": []
  },
  {
   "cell_type": "code",
   "execution_count": null,
   "id": "54686620",
   "metadata": {},
   "outputs": [],
   "source": []
  },
  {
   "cell_type": "code",
   "execution_count": null,
   "id": "5cbed8da",
   "metadata": {},
   "outputs": [],
   "source": []
  },
  {
   "cell_type": "code",
   "execution_count": null,
   "id": "a0cd3a95",
   "metadata": {},
   "outputs": [],
   "source": []
  },
  {
   "cell_type": "code",
   "execution_count": null,
   "id": "8aef3f0b",
   "metadata": {},
   "outputs": [],
   "source": []
  },
  {
   "cell_type": "markdown",
   "id": "89b1e726-0246-4192-aadb-aab7787c81ff",
   "metadata": {},
   "source": [
    "# train LR for integrated  top 5 DCA scores  with only unique phylum\n"
   ]
  },
  {
   "cell_type": "code",
   "execution_count": null,
   "id": "8dccebac-c9b3-42de-835d-a90fa9b7a6bf",
   "metadata": {},
   "outputs": [],
   "source": [
    "%%time\n",
    "# remember here is tree depth =10 remove over fitting , not 8\n",
    "STRING115EggNog1224Spe511145_uniquePhyla_BestHomologousDCAs_top5DCAs_predicted_results=sepCogPairs_FullBestHomologousPP_BestHomologousDCAs_uniquePhyla_ML_predictions(EggNOG_maxLevel=\"1224\",currentSpe_TaxID=\"511145\",STRING_Version=\"11.5\",\n",
    "                  Query_BestHomologousDCAs_dict=HighDCA_Query_BestHomologousDCAs_top5DCAs_dict,\n",
    "                  ML_methods=[\"LR\",\"RF\"] ,#[\"LR\",\"RF\"],\n",
    "                   EggNOG_group_level2=EggNOG_group_level2,\n",
    "                  CoEvo_type=\"DCA\",\n",
    "                  deleting_column=None,\n",
    "                  DCA_thres=0,\n",
    "                    fillMissingValue=-1,\n",
    "                    topDCA_num=5,\n",
    "                    given_benchmark_folder=Query_Benchmark_folder,\n",
    "                    splitPosandNeg=False,\n",
    "                    sort_frame=False,\n",
    "                    CoEvo_data_folder=CoEvo_data_folder,\n",
    "                    prefix=\"allPPI_\",\n",
    "                    benchmark_suffix=\"STRINGFullPhyBalancePhyla_Benchmark/\",\n",
    "                    n_jobs=n_jobs,\n",
    "                    scoring_metrics=scoring_metrics,\n",
    "                    BestHomologousDCAs_dict_withStatus=True,)\n",
    "\n",
    "# CPU times: user 16min 26s, sys: 32.9 s, total: 16min 59s\n",
    "# Wall time: 1h 12min 56s\n",
    "\n",
    "# for F1 scoring "
   ]
  },
  {
   "cell_type": "code",
   "execution_count": null,
   "id": "94f60012-b4e0-407e-b798-3277aa8e23fd",
   "metadata": {},
   "outputs": [],
   "source": []
  },
  {
   "cell_type": "code",
   "execution_count": null,
   "id": "b8940a15",
   "metadata": {},
   "outputs": [],
   "source": [
    "STRING115EggNog1224Spe511145_uniquePhyla_BestHomologousDCAs_top5DCAs_predicted_results.keys()"
   ]
  },
  {
   "cell_type": "code",
   "execution_count": null,
   "id": "f29606d1-460e-49a4-810c-e85f7f531e18",
   "metadata": {},
   "outputs": [],
   "source": [
    "STRING115EggNog1224Spe511145_uniquePhyla_BestHomologousDCAs_top5DCAs_predicted_results[\"updated_allPPI_allInfo_frame\"].head()"
   ]
  },
  {
   "cell_type": "code",
   "execution_count": null,
   "id": "ef90d857",
   "metadata": {},
   "outputs": [],
   "source": [
    "STRING115EggNog1224Spe511145_uniquePhyla_BestHomologousDCAs_top5DCAs_predicted_results[\"RF\"][\"Model\"]"
   ]
  },
  {
   "cell_type": "code",
   "execution_count": null,
   "id": "0b2efdc7-4958-4ccb-96d4-fe7f1c9b19da",
   "metadata": {},
   "outputs": [],
   "source": [
    "STRING115EggNog1224Spe511145_uniquePhyla_BestHomologousDCAs_top5DCAs_predicted_results['XBestHomologousDCAs']"
   ]
  },
  {
   "cell_type": "code",
   "execution_count": null,
   "id": "2e6549ef-ba1f-4eca-8186-8896890342a4",
   "metadata": {},
   "outputs": [],
   "source": [
    "all(STRING115EggNog1224Spe511145_topDCAs_predicted_results[\"ytopDCAs_test\"]==STRING115EggNog1224Spe511145_uniquePhyla_BestHomologousDCAs_top5DCAs_predicted_results[\"yBestHomologousDCAs_test\"])\n",
    "\n",
    "\n",
    "\n"
   ]
  },
  {
   "cell_type": "code",
   "execution_count": null,
   "id": "2c05fc77",
   "metadata": {},
   "outputs": [],
   "source": [
    "STRING115EggNog1224Spe511145_topDCAs_predicted_results[\"ytopDCAs_test\"].shape"
   ]
  },
  {
   "cell_type": "code",
   "execution_count": null,
   "id": "49004de9",
   "metadata": {},
   "outputs": [],
   "source": [
    "STRING115EggNog1224Spe511145_uniquePhyla_BestHomologousDCAs_top5DCAs_predicted_results[\"yBestHomologousDCAs_test\"].shape"
   ]
  },
  {
   "cell_type": "code",
   "execution_count": null,
   "id": "8fb2b8a6",
   "metadata": {},
   "outputs": [],
   "source": [
    "%%time \n",
    "STRING115EggNog1224Spe511145_uniquePhyla_BestHomologousDCAs_top5DCAs_predicted_results_trainPPs,\\\n",
    "STRING115EggNog1224Spe511145_uniquePhyla_BestHomologousDCAs_top5DCAs_predicted_results_testPPs=sepCogPairs_FullBestHomologousPP_BestHomologousDCAs_uniquePhyla_ML_predictions(EggNOG_maxLevel=\"1224\",currentSpe_TaxID=\"511145\",STRING_Version=\"11.5\",\n",
    "                  Query_BestHomologousDCAs_dict=HighDCA_Query_BestHomologousDCAs_top5DCAs_dict,\n",
    "                  ML_methods=[\"LR\",\"RF\"] ,#[\"LR\",\"RF\"],\n",
    "                   EggNOG_group_level2=EggNOG_group_level2,\n",
    "                  CoEvo_type=\"DCA\",\n",
    "                  deleting_column=None,\n",
    "                  DCA_thres=0,\n",
    "                    fillMissingValue=-1,\n",
    "                    topDCA_num=5,\n",
    "                    given_benchmark_folder=Query_Benchmark_folder,\n",
    "                    splitPosandNeg=False,\n",
    "                    sort_frame=False,\n",
    "                    CoEvo_data_folder=CoEvo_data_folder,\n",
    "                    prefix=\"allPPI_\",\n",
    "                    benchmark_suffix=\"STRINGFullPhyBalancePhyla_Benchmark/\",\n",
    "                    n_jobs=n_jobs,\n",
    "                    scoring_metrics=scoring_metrics,\n",
    "                    BestHomologousDCAs_dict_withStatus=True,\n",
    "                    getTrainandTestPPTuples=True)\n",
    "\n",
    "\n",
    "\n",
    "print(len(STRING115EggNog1224Spe511145_uniquePhyla_BestHomologousDCAs_top5DCAs_predicted_results_trainPPs))\n",
    "print(len(STRING115EggNog1224Spe511145_uniquePhyla_BestHomologousDCAs_top5DCAs_predicted_results_testPPs))\n",
    "\n",
    "\n",
    "count=0\n",
    "for pp in STRING115EggNog1224Spe511145_uniquePhyla_BestHomologousDCAs_top5DCAs_predicted_results_trainPPs:\n",
    "    if HighDCA_Query_allPPI_allInfo_dict[pp][0]==\"P\":\n",
    "        count +=1\n",
    "print(count)"
   ]
  },
  {
   "cell_type": "code",
   "execution_count": null,
   "id": "e3090b8b",
   "metadata": {},
   "outputs": [],
   "source": []
  },
  {
   "cell_type": "code",
   "execution_count": null,
   "id": "c756b451",
   "metadata": {},
   "outputs": [],
   "source": []
  },
  {
   "cell_type": "code",
   "execution_count": null,
   "id": "9c3403a7-7cdd-4aab-b21a-880e46eb750e",
   "metadata": {},
   "outputs": [],
   "source": []
  },
  {
   "cell_type": "code",
   "execution_count": null,
   "id": "f1978e1b-92eb-4518-b538-e56b0d3ae73d",
   "metadata": {},
   "outputs": [],
   "source": []
  },
  {
   "cell_type": "code",
   "execution_count": null,
   "id": "68a05ab5-ab70-4050-846c-684eeb6ad88f",
   "metadata": {},
   "outputs": [],
   "source": []
  },
  {
   "cell_type": "code",
   "execution_count": null,
   "id": "3343933e-3c5a-4dd3-882e-09c1d3d09b4a",
   "metadata": {},
   "outputs": [],
   "source": []
  },
  {
   "cell_type": "markdown",
   "id": "ae17722c-ae4c-4409-8be5-e05b5e1b957c",
   "metadata": {},
   "source": [
    "### use plot check overfitting "
   ]
  },
  {
   "cell_type": "code",
   "execution_count": null,
   "id": "316a56f4",
   "metadata": {},
   "outputs": [],
   "source": [
    "\n",
    "count_label=\"count\"\n",
    "step=10\n",
    "zoom_thres=None\n",
    "\n",
    "DCA_RocCurve(STRING115EggNog1224Spe511145_topDCAs_predicted_results[\"XtopDCAs_test\"][:,0], \n",
    "             STRING115EggNog1224Spe511145_topDCAs_predicted_results[\"ytopDCAs_test\"],\n",
    "             count_label=count_label,\n",
    "             legend=\"MaxDCA(No ML)\",\n",
    "             step=step,zoom_thres=zoom_thres)\n",
    "\n",
    "\n",
    "DCA_RocCurve(STRING115EggNog1224Spe511145_topDCAs_predicted_results[\"LR\"]['LR_ytopDCAs_predict_prob'], \n",
    "             STRING115EggNog1224Spe511145_topDCAs_predicted_results[\"ytopDCAs_test\"],\n",
    "             count_label=count_label,legend=\"top DCA; LR\"+\";11.5;1224;511145\",step=step,zoom_thres=zoom_thres)\n",
    "\n",
    "DCA_RocCurve(STRING115EggNog1224Spe511145_topDCAs_predicted_results[\"RF\"]['RF_ytopDCAs_predict_prob'], \n",
    "             STRING115EggNog1224Spe511145_topDCAs_predicted_results[\"ytopDCAs_test\"],\n",
    "             count_label=count_label,legend=\"top DCA; RF\"+\";11.5;1224;511145\",step=step,zoom_thres=zoom_thres)\n",
    "\n",
    "\n",
    "\n",
    "DCA_RocCurve(STRING115EggNog1224Spe511145_uniquePhyla_BestHomologousDCAs_top5DCAs_predicted_results[\"LR\"]['LR_yBestHomologousDCAs_predict_prob'], \n",
    "             STRING115EggNog1224Spe511145_uniquePhyla_BestHomologousDCAs_top5DCAs_predicted_results[\"yBestHomologousDCAs_test\"],\n",
    "             count_label=count_label,legend=\"BestHomologousDCAs_top5DCAs_uniquePhyla of different species ; LR\"+\";11.5;1224;511145\",step=step,zoom_thres=zoom_thres)\n",
    "\n",
    "\n",
    "DCA_RocCurve(STRING115EggNog1224Spe511145_uniquePhyla_BestHomologousDCAs_top5DCAs_predicted_results[\"RF\"]['RF_yBestHomologousDCAs_predict_prob'], \n",
    "             STRING115EggNog1224Spe511145_uniquePhyla_BestHomologousDCAs_top5DCAs_predicted_results[\"yBestHomologousDCAs_test\"],\n",
    "             count_label=count_label,legend=\"BestHomologousDCAs_top5DCAs_uniquePhyla of different species ; RF\"+\";11.5;1224;511145\",step=step,zoom_thres=zoom_thres)\n",
    "\n",
    "\n",
    "\n",
    "\n",
    "#plt.legend(loc='best')\n",
    "plt.legend( bbox_to_anchor=(1.05, 1), loc='upper left' )\n",
    "plt.show()"
   ]
  },
  {
   "cell_type": "code",
   "execution_count": null,
   "id": "7de6f3de",
   "metadata": {},
   "outputs": [],
   "source": [
    "%%time\n",
    "count_label=\"rate\"\n",
    "step=100\n",
    "zoom_thres=None\n",
    "\n",
    "\n",
    "\n",
    "DCA_RocCurve(STRING115EggNog1224Spe511145_uniquePhyla_BestHomologousDCAs_top5DCAs_predicted_results[\"updated_allPPI_allInfo_frame\"][\"RF_onesProb\"], \n",
    "             STRING115EggNog1224Spe511145_uniquePhyla_BestHomologousDCAs_top5DCAs_predicted_results['YBestHomologousDCAs'],\n",
    "             count_label=count_label,legend=\"all BestHomologousDCAs_top5DCAs_uniquePhyla RF\"+\";11.5;1224;511145\",step=step,zoom_thres=zoom_thres)\n",
    "\n",
    "\n",
    "\n",
    "DCA_RocCurve(STRING115EggNog1224Spe511145_uniquePhyla_BestHomologousDCAs_top5DCAs_predicted_results[\"RF\"]['RF_yBestHomologousDCAs_predict_prob'], \n",
    "             STRING115EggNog1224Spe511145_uniquePhyla_BestHomologousDCAs_top5DCAs_predicted_results[\"yBestHomologousDCAs_test\"],\n",
    "             count_label=count_label,legend=\"testing BestHomologousDCAs_top5DCAs_uniquePhyla RF\"+\";11.5;1224;511145\",step=step,zoom_thres=zoom_thres)\n",
    "\n",
    "\n",
    "\n",
    "DCA_RocCurve(STRING115EggNog1224Spe511145_uniquePhyla_BestHomologousDCAs_top5DCAs_predicted_results[\"updated_allPPI_allInfo_frame\"][\"LR_onesProb\"], \n",
    "             STRING115EggNog1224Spe511145_uniquePhyla_BestHomologousDCAs_top5DCAs_predicted_results['YBestHomologousDCAs'],\n",
    "             count_label=count_label,legend=\"all BestHomologousDCAs_top5DCAs_uniquePhyla LR\"+\";11.5;1224;511145\",step=step,zoom_thres=zoom_thres)\n",
    "\n",
    "\n",
    "\n",
    "DCA_RocCurve(STRING115EggNog1224Spe511145_uniquePhyla_BestHomologousDCAs_top5DCAs_predicted_results[\"LR\"]['LR_yBestHomologousDCAs_predict_prob'], \n",
    "             STRING115EggNog1224Spe511145_uniquePhyla_BestHomologousDCAs_top5DCAs_predicted_results[\"yBestHomologousDCAs_test\"],\n",
    "             count_label=count_label,legend=\"testing BestHomologousDCAs_top5DCAs_uniquePhyla LR\"+\";11.5;1224;511145\",step=step,zoom_thres=zoom_thres)\n",
    "\n",
    "\n",
    "\n",
    "\n",
    "\n",
    "#plt.legend(loc='best')\n",
    "plt.legend( bbox_to_anchor=(1.05, 1), loc='upper left' )\n",
    "plt.show()"
   ]
  },
  {
   "cell_type": "code",
   "execution_count": null,
   "id": "b676a890-69bb-4d19-b1f6-e69a1701e4d9",
   "metadata": {},
   "outputs": [],
   "source": [
    "STRING115EggNog1224Spe511145_uniquePhyla_BestHomologousDCAs_top5DCAs_predicted_results[\"RF\"][\"Model\"].best_estimator_"
   ]
  },
  {
   "cell_type": "code",
   "execution_count": null,
   "id": "3b2744e3-d02e-40ca-a86d-3a91ede075c0",
   "metadata": {},
   "outputs": [],
   "source": []
  },
  {
   "cell_type": "markdown",
   "id": "2ded3f97-d4af-45ff-8912-aa9e1a62f9cc",
   "metadata": {},
   "source": [
    "### save ML model to identify novel ppi in whole proteome level "
   ]
  },
  {
   "cell_type": "code",
   "execution_count": null,
   "id": "ad00213a-99b9-4244-8a41-971e4dd1c800",
   "metadata": {},
   "outputs": [],
   "source": [
    "#https://stackoverflow.com/questions/34143829/sklearn-how-to-save-a-model-created-from-a-pipeline-and-gridsearchcv-using-jobli\n",
    "with open(os.path.join(Query_Benchmark_folder,\n",
    "                       f\"STRING115EggNog1224Spe511145_uniquePhyla_BestHomologousDCAs_top5DCAs_predicted_results_LR.pickle\"),\"wb\") as f:\n",
    "    pickle.dump(STRING115EggNog1224Spe511145_uniquePhyla_BestHomologousDCAs_top5DCAs_predicted_results[\"LR\"]['Model'].best_estimator_,f)\n",
    "    \n",
    "    \n",
    "    \n",
    "#https://stackoverflow.com/questions/34143829/sklearn-how-to-save-a-model-created-from-a-pipeline-and-gridsearchcv-using-jobli\n",
    "with open(os.path.join(Query_Benchmark_folder,\n",
    "                       f\"STRING115EggNog1224Spe511145_uniquePhyla_BestHomologousDCAs_top5DCAs_predicted_results_RF.pickle\"),\"wb\") as f:\n",
    "    pickle.dump(STRING115EggNog1224Spe511145_uniquePhyla_BestHomologousDCAs_top5DCAs_predicted_results[\"RF\"]['Model'].best_estimator_,f)\n",
    "    \n",
    "    \n",
    "with open(os.path.join(Query_Benchmark_folder,\n",
    "                       f\"STRING115EggNog1224Spe511145_uniquePhyla_BestHomologousDCAs_top5DCAs_predicted_results_trainPPs.pickle\"),\"wb\") as f:\n",
    "    pickle.dump(STRING115EggNog1224Spe511145_uniquePhyla_BestHomologousDCAs_top5DCAs_predicted_results_trainPPs,f)\n",
    "    \n",
    "STRING115EggNog1224Spe511145_uniquePhyla_BestHomologousDCAs_top5DCAs_predicted_results['updated_allPPI_allInfo_frame'].to_csv(\\\n",
    "os.path.join(Query_Benchmark_folder,\n",
    "    f\"STRING115EggNog1224Spe511145_uniquePhyla_BestHomologousDCAs_top5DCAs_predicted_results_allPPI_allInfo_frame.csv\"),\n",
    "header=True,index=None)\n",
    "\n"
   ]
  },
  {
   "cell_type": "code",
   "execution_count": null,
   "id": "52c1a476-ec27-4179-b8fc-263031775158",
   "metadata": {},
   "outputs": [],
   "source": [
    "Query_Benchmark_folder"
   ]
  },
  {
   "cell_type": "markdown",
   "id": "c3e5c41a-230a-4827-ac20-da3eac4b6f9f",
   "metadata": {},
   "source": [
    "### check replacing "
   ]
  },
  {
   "cell_type": "code",
   "execution_count": null,
   "id": "ad8c6c44",
   "metadata": {},
   "outputs": [],
   "source": [
    "%%time\n",
    "\n",
    "replacingDCAScores_STRING115EggNog1224Spe511145_uniquePhyla_BestHomologousDCAs_top5DCAs_predicted_results=VariousReplacing_sepCogPairs_FullBestHomologousPP_BestHomologousDCAs_top5DCAs_uniquePhyla_ML_predictions(EggNOG_maxLevel=\"1224\",currentSpe_TaxID=\"511145\",STRING_Version=\"11.5\",\n",
    "                  Query_BestHomologousDCAs_dict=HighDCA_Query_BestHomologousDCAs_top5DCAs_dict,\n",
    "                  ML_methods=[\"LR\",\"RF\"],#[\"LR\",\"RF\"],\n",
    "                   EggNOG_group_level2=EggNOG_group_level2,\n",
    "                  CoEvo_type=\"DCA\",\n",
    "                  topDCA_num=5,\n",
    "                  deleting_column=None,\n",
    "                  DCA_thres=0,\n",
    "                  fillDCAValue=1,\n",
    "                    fillMissingValue=-1,\n",
    "                    replacing=True,\n",
    "                    replacing_strageties=\"replacingDCAScores\",\n",
    "                    given_benchmark_folder=Query_Benchmark_folder,\n",
    "                    splitPosandNeg=False,\n",
    "                    sort_frame=False,\n",
    "                    CoEvo_data_folder=CoEvo_data_folder,\n",
    "                    prefix=\"allPPI_\",\n",
    "                    benchmark_suffix=\"STRINGFullPhyBalancePhyla_Benchmark/\",\n",
    "                    n_jobs=n_jobs,\n",
    "                    scoring_metrics=scoring_metrics,\n",
    "                    BestHomologousDCAs_dict_withStatus=True,)\n",
    "\n",
    "# CPU times: user 26.8 s, sys: 27.8 s, total: 54.6 s\n",
    "# Wall time: 9min 41s"
   ]
  },
  {
   "cell_type": "code",
   "execution_count": null,
   "id": "c45f4f3c-d106-4157-ad15-8023b92c2881",
   "metadata": {},
   "outputs": [],
   "source": [
    "replacingDCAScores_STRING115EggNog1224Spe511145_uniquePhyla_BestHomologousDCAs_top5DCAs_predicted_results.keys()"
   ]
  },
  {
   "cell_type": "code",
   "execution_count": null,
   "id": "7c4a1ff2",
   "metadata": {},
   "outputs": [],
   "source": [
    "replacingDCAScores_STRING115EggNog1224Spe511145_uniquePhyla_BestHomologousDCAs_top5DCAs_predicted_results['XBestHomologousDCAs_train'].shape"
   ]
  },
  {
   "cell_type": "code",
   "execution_count": null,
   "id": "3f261664-5ee4-41ad-b77d-bde855d5cd79",
   "metadata": {},
   "outputs": [],
   "source": [
    "replacingDCAScores_STRING115EggNog1224Spe511145_uniquePhyla_BestHomologousDCAs_top5DCAs_predicted_results['XBestHomologousDCAs_train']"
   ]
  },
  {
   "cell_type": "code",
   "execution_count": null,
   "id": "1baa381b",
   "metadata": {},
   "outputs": [],
   "source": [
    "replacingDCAScores_STRING115EggNog1224Spe511145_uniquePhyla_BestHomologousDCAs_top5DCAs_predicted_results['XBestHomologousDCAs_train'][0:3,:]"
   ]
  },
  {
   "cell_type": "code",
   "execution_count": null,
   "id": "edaa69bb",
   "metadata": {},
   "outputs": [],
   "source": [
    "STRING115EggNog1224Spe511145_uniquePhyla_BestHomologousDCAs_top5DCAs_predicted_results['XBestHomologousDCAs_train']"
   ]
  },
  {
   "cell_type": "code",
   "execution_count": null,
   "id": "91ec0566",
   "metadata": {},
   "outputs": [],
   "source": [
    "STRING115EggNog1224Spe511145_uniquePhyla_BestHomologousDCAs_top5DCAs_predicted_results['XBestHomologousDCAs_train'][0:3,:]"
   ]
  },
  {
   "cell_type": "code",
   "execution_count": null,
   "id": "58f386b4",
   "metadata": {},
   "outputs": [],
   "source": [
    "set(replacingDCAScores_STRING115EggNog1224Spe511145_uniquePhyla_BestHomologousDCAs_top5DCAs_predicted_results['updated_allPPI_allInfo_frame'][\"LR_onesProb\"])"
   ]
  },
  {
   "cell_type": "code",
   "execution_count": null,
   "id": "a71cf4b4-83fe-4f5d-a194-4618d5d91333",
   "metadata": {},
   "outputs": [],
   "source": []
  },
  {
   "cell_type": "code",
   "execution_count": null,
   "id": "9ac9c737",
   "metadata": {},
   "outputs": [],
   "source": []
  },
  {
   "cell_type": "code",
   "execution_count": null,
   "id": "65615e43",
   "metadata": {},
   "outputs": [],
   "source": []
  },
  {
   "cell_type": "markdown",
   "id": "8e79c2c4",
   "metadata": {},
   "source": [
    "# revise ratio at each -1 group , and consider order and combination of -1\n",
    "\n"
   ]
  },
  {
   "cell_type": "code",
   "execution_count": null,
   "id": "298968f6-1937-4175-b111-fbe1926d740c",
   "metadata": {},
   "outputs": [],
   "source": []
  },
  {
   "cell_type": "code",
   "execution_count": null,
   "id": "9f2f992c-bc9b-48a0-9dfe-daebb3850083",
   "metadata": {},
   "outputs": [],
   "source": []
  },
  {
   "cell_type": "code",
   "execution_count": null,
   "id": "61dfe7bb-5c61-4679-9302-a28a44e9afc7",
   "metadata": {},
   "outputs": [],
   "source": [
    "%%time\n",
    "fixedNegVSposRratio_keepCombination_allIdx,\\\n",
    "beforeFixRatio_test_Phaly_PPInum_frame,\\\n",
    "test_Phaly_PPInum_frame_fixedNegVSposRratio_keepCombination=getAllIdxOf_fixed_negVSpos_ratio_keepCombination_from_OriginalFrame(XBestHomologousDCAs_original=STRING115EggNog1224Spe511145_uniquePhyla_BestHomologousDCAs_top5DCAs_predicted_results['XBestHomologousDCAs'],\n",
    "                                                                        YBestHomologousDCAs_original=STRING115EggNog1224Spe511145_uniquePhyla_BestHomologousDCAs_top5DCAs_predicted_results['YBestHomologousDCAs'],\n",
    "                                                                        fillMissingValue=-1,\n",
    "                                                                         ifplot=True)\n",
    "\n",
    "                                                                        \n"
   ]
  },
  {
   "cell_type": "code",
   "execution_count": null,
   "id": "d4712846-3318-4ba7-bda9-3c94f776e56e",
   "metadata": {},
   "outputs": [],
   "source": [
    "beforeFixRatio_test_Phaly_PPInum_frame"
   ]
  },
  {
   "cell_type": "code",
   "execution_count": null,
   "id": "5bd6c1b7-653f-4bd6-8e50-f249ef24b8cf",
   "metadata": {},
   "outputs": [],
   "source": [
    "i=0\n",
    "print(beforeFixRatio_test_Phaly_PPInum_frame.loc[i,\"number\"]+beforeFixRatio_test_Phaly_PPInum_frame.loc[i+1,\"number\"])\n",
    "print(beforeFixRatio_test_Phaly_PPInum_frame.loc[i,\"number\"]/beforeFixRatio_test_Phaly_PPInum_frame.loc[i+1,\"number\"])\n",
    "i=2\n",
    "print(beforeFixRatio_test_Phaly_PPInum_frame.loc[i,\"number\"]+beforeFixRatio_test_Phaly_PPInum_frame.loc[i+1,\"number\"])\n",
    "print(beforeFixRatio_test_Phaly_PPInum_frame.loc[i,\"number\"]/beforeFixRatio_test_Phaly_PPInum_frame.loc[i+1,\"number\"])\n",
    "i=4\n",
    "print(beforeFixRatio_test_Phaly_PPInum_frame.loc[i,\"number\"]+beforeFixRatio_test_Phaly_PPInum_frame.loc[i+1,\"number\"])\n",
    "print(beforeFixRatio_test_Phaly_PPInum_frame.loc[i,\"number\"]/beforeFixRatio_test_Phaly_PPInum_frame.loc[i+1,\"number\"])\n",
    "i=6\n",
    "print(beforeFixRatio_test_Phaly_PPInum_frame.loc[i,\"number\"]+beforeFixRatio_test_Phaly_PPInum_frame.loc[i+1,\"number\"])\n",
    "print(beforeFixRatio_test_Phaly_PPInum_frame.loc[i,\"number\"]/beforeFixRatio_test_Phaly_PPInum_frame.loc[i+1,\"number\"])"
   ]
  },
  {
   "cell_type": "code",
   "execution_count": null,
   "id": "d35fb4b7-5419-418a-8fec-c5c17925fb11",
   "metadata": {},
   "outputs": [],
   "source": [
    "len(fixedNegVSposRratio_keepCombination_allIdx)"
   ]
  },
  {
   "cell_type": "code",
   "execution_count": null,
   "id": "55dfa623-7871-4cff-ba4b-660277a7b21c",
   "metadata": {},
   "outputs": [],
   "source": []
  },
  {
   "cell_type": "code",
   "execution_count": null,
   "id": "3dddfd42-44c5-4b7d-95c0-8671ff5c5031",
   "metadata": {},
   "outputs": [],
   "source": [
    "%%time \n",
    "STRING115EggNog1224Spe511145_topDCAs_predicted_results_fixedNegVSposRratio_keepCombination=sepCogPairs_ML_predictions_allTypeFeas(currentSpe_TaxID=Query_tuple[1],\n",
    "                                                                EggNOG_group_level2=EggNOG_group_level2,\n",
    "                                                                allPPI_allInfo_frame=HighDCA_Query_allPPI_allInfo_frame.iloc[fixedNegVSposRratio_keepCombination_allIdx,:],\n",
    "                                                                inputFea_matrixList=[STRING115EggNog1224Spe511145_topDCAs_predicted_results['XtopDCAs'][fixedNegVSposRratio_keepCombination_allIdx,:],],\n",
    "                                                                Y_matrix=STRING115EggNog1224Spe511145_topDCAs_predicted_results['YtopDCAs'][fixedNegVSposRratio_keepCombination_allIdx], \n",
    "                                                                ML_methods=[\"LR\",\"RF\"],\n",
    "                                                                n_jobs=n_jobs,\n",
    "                                                                scoring_metrics=scoring_metrics,\n",
    "                                                                                             )\n",
    "\n",
    "# CPU times: user 5min 15s, sys: 15.7 s, total: 5min 31s\n",
    "# Wall time: 18min 54s"
   ]
  },
  {
   "cell_type": "code",
   "execution_count": null,
   "id": "6c6ebb89-4f68-4c1d-b4e5-8f74383cf1b4",
   "metadata": {},
   "outputs": [],
   "source": [
    "STRING115EggNog1224Spe511145_topDCAs_predicted_results_fixedNegVSposRratio_keepCombination[\"RF\"][\"Model\"].best_estimator_"
   ]
  },
  {
   "cell_type": "code",
   "execution_count": null,
   "id": "b293e761-33fc-449e-a332-57e0ae06111e",
   "metadata": {},
   "outputs": [],
   "source": [
    "print(sum(STRING115EggNog1224Spe511145_topDCAs_predicted_results_fixedNegVSposRratio_keepCombination['YtopFeas']))\n",
    "STRING115EggNog1224Spe511145_topDCAs_predicted_results_fixedNegVSposRratio_keepCombination['YtopFeas'].shape"
   ]
  },
  {
   "cell_type": "code",
   "execution_count": null,
   "id": "5a6c68d4",
   "metadata": {},
   "outputs": [],
   "source": [
    "sum(STRING115EggNog1224Spe511145_topDCAs_predicted_results_fixedNegVSposRratio_keepCombination[\"YtopFeas\"]==1),sum(STRING115EggNog1224Spe511145_topDCAs_predicted_results_fixedNegVSposRratio_keepCombination[\"YtopFeas\"]==0)"
   ]
  },
  {
   "cell_type": "code",
   "execution_count": null,
   "id": "389925e1",
   "metadata": {},
   "outputs": [],
   "source": [
    "STRING115EggNog1224Spe511145_topDCAs_predicted_results_fixedNegVSposRratio_keepCombination.keys()"
   ]
  },
  {
   "cell_type": "code",
   "execution_count": null,
   "id": "d9c70fae-3039-44a0-a1c9-e87ff78aeb51",
   "metadata": {},
   "outputs": [],
   "source": [
    "STRING115EggNog1224Spe511145_topDCAs_predicted_results_fixedNegVSposRratio_keepCombination['updated_allPPI_allInfo_frame'].to_csv(Query_Benchmark_folder+\"fixedNegVSposRratio_metadata.csv\",\n",
    "                                                                                                                                  header=True, index=None,sep=\"\\t\",\n",
    "                                                                                                                                 )"
   ]
  },
  {
   "cell_type": "code",
   "execution_count": null,
   "id": "7f521e50-01b7-475d-a989-f66a9dd06bfd",
   "metadata": {},
   "outputs": [],
   "source": []
  },
  {
   "cell_type": "code",
   "execution_count": null,
   "id": "21fd13bc-9a2e-4b24-bd01-3954849728e0",
   "metadata": {},
   "outputs": [],
   "source": [
    "%%time \n",
    "STRING115EggNog1224Spe511145_uniquePhyla_BestHomologousDCAs_top5DCAs_predicted_results_fixedNegVSposRratio_keepCombination=sepCogPairs_ML_predictions_allTypeFeas(currentSpe_TaxID=Query_tuple[1],\n",
    "                                                                EggNOG_group_level2=EggNOG_group_level2,\n",
    "                                                                allPPI_allInfo_frame=HighDCA_Query_allPPI_allInfo_frame.iloc[fixedNegVSposRratio_keepCombination_allIdx,:],\n",
    "                                                                inputFea_matrixList=[STRING115EggNog1224Spe511145_uniquePhyla_BestHomologousDCAs_top5DCAs_predicted_results['XBestHomologousDCAs'][fixedNegVSposRratio_keepCombination_allIdx,:],],\n",
    "                                                                Y_matrix=STRING115EggNog1224Spe511145_uniquePhyla_BestHomologousDCAs_top5DCAs_predicted_results['YBestHomologousDCAs'][fixedNegVSposRratio_keepCombination_allIdx], \n",
    "                                                                ML_methods=[\"LR\",\"RF\"],#[\"LR\",\"RF\"],\n",
    "                                                                n_jobs=n_jobs,\n",
    "                                                                scoring_metrics=scoring_metrics,\n",
    "                                                                                             )\n",
    "\n",
    "\n",
    "# old RF parameters CPU times: user 2min 49s, sys: 30.5 s, total: 3min 20s\n",
    "# Wall time: 7min 50s\n",
    "\n",
    "# new RF parameters CPU times: user 4min 13s, sys: 30.7 s, total: 4min 43s\n",
    "# Wall time: 22min 7s"
   ]
  },
  {
   "cell_type": "code",
   "execution_count": null,
   "id": "b745ce23-5be3-478c-965f-3d31f56eb97a",
   "metadata": {},
   "outputs": [],
   "source": [
    "# testModel=STRING115EggNog1224Spe511145_uniquePhyla_BestHomologousDCAs_top5DCAs_predicted_results_fixedNegVSposRratio_keepCombination[\"LR\"][\"Model\"]\n",
    "# print(testModel.best_params_)\n",
    "\n",
    "testModel=STRING115EggNog1224Spe511145_uniquePhyla_BestHomologousDCAs_top5DCAs_predicted_results_fixedNegVSposRratio_keepCombination[\"RF\"][\"Model\"]\n",
    "print(testModel.best_params_)"
   ]
  },
  {
   "cell_type": "code",
   "execution_count": null,
   "id": "52679282-16ed-442d-8885-13a30a05a6c9",
   "metadata": {},
   "outputs": [],
   "source": []
  },
  {
   "cell_type": "code",
   "execution_count": null,
   "id": "be40d7aa-9fff-4827-adb3-2dd7e973ceea",
   "metadata": {},
   "outputs": [],
   "source": [
    "%%time \n",
    "STRING115EggNog1224Spe511145_uniquePhyla_BestHomologousDCAs_top5DCAs_predicted_results_fixedNegVSposRratio_keepCombination_trainPPs,\\\n",
    "STRING115EggNog1224Spe511145_uniquePhyla_BestHomologousDCAs_top5DCAs_predicted_results_fixedNegVSposRratio_keepCombination_testPPs=sepCogPairs_ML_predictions_allTypeFeas(currentSpe_TaxID=Query_tuple[1],\n",
    "                                                                EggNOG_group_level2=EggNOG_group_level2,\n",
    "                                                                allPPI_allInfo_frame=HighDCA_Query_allPPI_allInfo_frame.iloc[fixedNegVSposRratio_keepCombination_allIdx,:],\n",
    "                                                                inputFea_matrixList=[STRING115EggNog1224Spe511145_uniquePhyla_BestHomologousDCAs_top5DCAs_predicted_results['XBestHomologousDCAs'][fixedNegVSposRratio_keepCombination_allIdx,:],],\n",
    "                                                                Y_matrix=STRING115EggNog1224Spe511145_uniquePhyla_BestHomologousDCAs_top5DCAs_predicted_results['YBestHomologousDCAs'][fixedNegVSposRratio_keepCombination_allIdx], \n",
    "                                                                ML_methods=[\"LR\",\"RF\"],\n",
    "                                                                n_jobs=n_jobs,\n",
    "                                                                scoring_metrics=scoring_metrics,\n",
    "                                                                getTrainandTestPPTuples=True\n",
    "                                                                \n",
    "                                                                                             )\n",
    "\n",
    "print(len(STRING115EggNog1224Spe511145_uniquePhyla_BestHomologousDCAs_top5DCAs_predicted_results_fixedNegVSposRratio_keepCombination_trainPPs))\n",
    "print(len(STRING115EggNog1224Spe511145_uniquePhyla_BestHomologousDCAs_top5DCAs_predicted_results_fixedNegVSposRratio_keepCombination_testPPs))\n",
    "\n",
    "\n",
    "count=0\n",
    "for pp in STRING115EggNog1224Spe511145_uniquePhyla_BestHomologousDCAs_top5DCAs_predicted_results_fixedNegVSposRratio_keepCombination_trainPPs:\n",
    "    if HighDCA_Query_allPPI_allInfo_dict[pp][0]==\"P\":\n",
    "        count +=1\n",
    "print(count)"
   ]
  },
  {
   "cell_type": "code",
   "execution_count": null,
   "id": "f4c83487-887f-468a-9c6e-efb3b2c42cd5",
   "metadata": {},
   "outputs": [],
   "source": []
  },
  {
   "cell_type": "code",
   "execution_count": null,
   "id": "2a677519-bd43-466e-bd6f-c45915faeab9",
   "metadata": {},
   "outputs": [],
   "source": []
  },
  {
   "cell_type": "code",
   "execution_count": null,
   "id": "ea0cadeb-69dc-4c71-aaed-6a37b121b9e0",
   "metadata": {},
   "outputs": [],
   "source": []
  },
  {
   "cell_type": "code",
   "execution_count": null,
   "id": "d4aded4f-762e-4385-be0a-277ce12e82af",
   "metadata": {},
   "outputs": [],
   "source": []
  },
  {
   "cell_type": "code",
   "execution_count": null,
   "id": "d33bf84c-a1ac-4d41-93b0-1e167f11f72f",
   "metadata": {},
   "outputs": [],
   "source": [
    "\n"
   ]
  },
  {
   "cell_type": "code",
   "execution_count": null,
   "id": "9ce9f130-6483-40e1-af7c-c6d682f79bbb",
   "metadata": {},
   "outputs": [],
   "source": []
  },
  {
   "cell_type": "code",
   "execution_count": null,
   "id": "abe451ec-6b9c-4704-9f65-1cc041aa8fc6",
   "metadata": {},
   "outputs": [],
   "source": [
    "\n"
   ]
  },
  {
   "cell_type": "code",
   "execution_count": null,
   "id": "87ca0784-49b7-4905-86ee-0e303ed5ac8b",
   "metadata": {},
   "outputs": [],
   "source": []
  },
  {
   "cell_type": "code",
   "execution_count": null,
   "id": "cae63855-c194-449c-b75f-4d243b12762f",
   "metadata": {},
   "outputs": [],
   "source": []
  },
  {
   "cell_type": "code",
   "execution_count": null,
   "id": "c77be55b-443d-4ce0-9ab0-e49c97ae4182",
   "metadata": {},
   "outputs": [],
   "source": []
  },
  {
   "cell_type": "code",
   "execution_count": null,
   "id": "3c659322-889d-4af0-8444-25355a31264b",
   "metadata": {},
   "outputs": [],
   "source": []
  },
  {
   "cell_type": "code",
   "execution_count": null,
   "id": "eea28116-e41b-4d7f-8c95-042a96ac5caa",
   "metadata": {},
   "outputs": [],
   "source": []
  },
  {
   "cell_type": "code",
   "execution_count": null,
   "id": "11d046e4-caf0-4fc7-b8f9-fe7380421072",
   "metadata": {},
   "outputs": [],
   "source": []
  },
  {
   "cell_type": "code",
   "execution_count": null,
   "id": "b2ebe43c-ec87-4b7a-bf1b-bdfc0e027fc8",
   "metadata": {},
   "outputs": [],
   "source": []
  },
  {
   "cell_type": "code",
   "execution_count": null,
   "id": "6bc49114-b74b-4a31-ac6b-2be5d15cf025",
   "metadata": {},
   "outputs": [],
   "source": []
  },
  {
   "cell_type": "code",
   "execution_count": null,
   "id": "73b01462-08d2-4adf-92f9-9aea390dd1bc",
   "metadata": {},
   "outputs": [],
   "source": []
  },
  {
   "cell_type": "code",
   "execution_count": null,
   "id": "c816fda1-6c33-4277-9992-6dc1f82ec797",
   "metadata": {},
   "outputs": [],
   "source": []
  },
  {
   "cell_type": "code",
   "execution_count": null,
   "id": "d2731b6d-480b-4b76-a7c4-cc48450991da",
   "metadata": {},
   "outputs": [],
   "source": []
  },
  {
   "cell_type": "markdown",
   "id": "67253015-1202-432a-8b1d-2628c6dc6767",
   "metadata": {},
   "source": [
    "### check overfitting \n",
    "\n"
   ]
  },
  {
   "cell_type": "code",
   "execution_count": null,
   "id": "8911fd02-213f-476e-b85d-2a7fbaa8070b",
   "metadata": {},
   "outputs": [],
   "source": [
    "\n",
    "count_label=\"rate\"\n",
    "step=100\n",
    "zoom_thres=None\n",
    "\n",
    "\n",
    "# DCA_RocCurve(STRING115EggNog1224Spe511145_uniquePhyla_BestHomologousDCAs_top5DCAs_predicted_results_fixedNegVSposRratio_keepCombination[\"updated_allPPI_allInfo_frame\"][\"LR_onesProb\"], \n",
    "#              STRING115EggNog1224Spe511145_uniquePhyla_BestHomologousDCAs_top5DCAs_predicted_results_fixedNegVSposRratio_keepCombination['YtopFeas'],\n",
    "#              count_label=count_label,legend=\"all BestHomologousDCAs_top5DCAs_uniquePhyla of different species ; LR\"+\";11.5;1224;511145\",step=step,zoom_thres=zoom_thres)\n",
    "\n",
    "\n",
    "# DCA_RocCurve(STRING115EggNog1224Spe511145_uniquePhyla_BestHomologousDCAs_top5DCAs_predicted_results_fixedNegVSposRratio_keepCombination[\"LR\"]['LR_ytopFeas_predict_prob'], \n",
    "#              STRING115EggNog1224Spe511145_uniquePhyla_BestHomologousDCAs_top5DCAs_predicted_results_fixedNegVSposRratio_keepCombination[\"ytopFeas_test\"],\n",
    "#              count_label=count_label,legend=\"testing BestHomologousDCAs_top5DCAs_uniquePhyla of different species ; LR\"+\";11.5;1224;511145\",step=step,zoom_thres=zoom_thres)\n",
    "\n",
    "\n",
    "DCA_RocCurve(STRING115EggNog1224Spe511145_uniquePhyla_BestHomologousDCAs_top5DCAs_predicted_results_fixedNegVSposRratio_keepCombination[\"updated_allPPI_allInfo_frame\"][\"RF_onesProb\"], \n",
    "             STRING115EggNog1224Spe511145_uniquePhyla_BestHomologousDCAs_top5DCAs_predicted_results_fixedNegVSposRratio_keepCombination['YtopFeas'],\n",
    "             count_label=count_label,legend=\"all BestHomologousDCAs_top5DCAs_uniquePhyla of different species ; RF\"+\";11.5;1224;511145\",step=step,zoom_thres=zoom_thres)\n",
    "\n",
    "\n",
    "DCA_RocCurve(STRING115EggNog1224Spe511145_uniquePhyla_BestHomologousDCAs_top5DCAs_predicted_results_fixedNegVSposRratio_keepCombination[\"RF\"]['RF_ytopFeas_predict_prob'], \n",
    "             STRING115EggNog1224Spe511145_uniquePhyla_BestHomologousDCAs_top5DCAs_predicted_results_fixedNegVSposRratio_keepCombination[\"ytopFeas_test\"],\n",
    "             count_label=count_label,legend=\"testing BestHomologousDCAs_top5DCAs_uniquePhyla of different species ; RF\"+\";11.5;1224;511145\",step=step,zoom_thres=zoom_thres)\n",
    "\n",
    "\n",
    "\n",
    "\n",
    "\n",
    "#plt.legend(loc='best')\n",
    "plt.legend( bbox_to_anchor=(1.05, 1), loc='upper left' )\n",
    "plt.show()"
   ]
  },
  {
   "cell_type": "code",
   "execution_count": null,
   "id": "164e494c-160d-4b67-8b08-7d549e731007",
   "metadata": {},
   "outputs": [],
   "source": [
    "\n",
    "count_label=\"rate\"\n",
    "step=100\n",
    "zoom_thres=None\n",
    "\n",
    "\n",
    "\n",
    "DCA_RocCurve(STRING115EggNog1224Spe511145_topDCAs_predicted_results_fixedNegVSposRratio_keepCombination[\"updated_allPPI_allInfo_frame\"][\"RF_onesProb\"], \n",
    "             STRING115EggNog1224Spe511145_topDCAs_predicted_results_fixedNegVSposRratio_keepCombination['YtopFeas'],\n",
    "             count_label=count_label,legend=\"all top DCA ; RF\"+\";11.5;1224;511145\",step=step,zoom_thres=zoom_thres)\n",
    "\n",
    "\n",
    "DCA_RocCurve(STRING115EggNog1224Spe511145_topDCAs_predicted_results_fixedNegVSposRratio_keepCombination[\"RF\"]['RF_ytopFeas_predict_prob'], \n",
    "             STRING115EggNog1224Spe511145_topDCAs_predicted_results_fixedNegVSposRratio_keepCombination[\"ytopFeas_test\"],\n",
    "             count_label=count_label,legend=\"testing top DCA ; RF\"+\";11.5;1224;511145\",step=step,zoom_thres=zoom_thres)\n",
    "\n",
    "\n",
    "\n",
    "\n",
    "\n",
    "#plt.legend(loc='best')\n",
    "plt.legend( bbox_to_anchor=(1.05, 1), loc='upper left' )\n",
    "plt.show()"
   ]
  },
  {
   "cell_type": "code",
   "execution_count": null,
   "id": "41a62b80-21d2-491e-82f8-5ccdbab096e1",
   "metadata": {},
   "outputs": [],
   "source": []
  },
  {
   "cell_type": "markdown",
   "id": "8ca95000-6c1f-4c58-9a74-62b67fb4f72b",
   "metadata": {},
   "source": [
    "### save ML model to identify novel ppi in whole proteome level "
   ]
  },
  {
   "cell_type": "code",
   "execution_count": null,
   "id": "17319b39-25f9-4a65-b519-1b614589e51b",
   "metadata": {},
   "outputs": [],
   "source": []
  },
  {
   "cell_type": "code",
   "execution_count": null,
   "id": "6ead50a6-9e56-4e86-8636-64185ef3c305",
   "metadata": {},
   "outputs": [],
   "source": [
    "#https://stackoverflow.com/questions/34143829/sklearn-how-to-save-a-model-created-from-a-pipeline-and-gridsearchcv-using-jobli\n",
    "with open(os.path.join(Query_Benchmark_folder,\n",
    "                       f\"STRING115EggNog1224Spe511145_uniquePhyla_BestHomologousDCAs_top5DCAs_predicted_results_fixedNegVSposRratio_keepCombination_LR.pickle\"),\"wb\") as f:\n",
    "    pickle.dump(STRING115EggNog1224Spe511145_uniquePhyla_BestHomologousDCAs_top5DCAs_predicted_results_fixedNegVSposRratio_keepCombination[\"LR\"]['Model'].best_estimator_,f)\n",
    "    \n",
    "    \n",
    "    \n",
    "#https://stackoverflow.com/questions/34143829/sklearn-how-to-save-a-model-created-from-a-pipeline-and-gridsearchcv-using-jobli\n",
    "with open(os.path.join(Query_Benchmark_folder,\n",
    "                       f\"STRING115EggNog1224Spe511145_uniquePhyla_BestHomologousDCAs_top5DCAs_predicted_results_fixedNegVSposRratio_keepCombination_RF.pickle\"),\"wb\") as f:\n",
    "    pickle.dump(STRING115EggNog1224Spe511145_uniquePhyla_BestHomologousDCAs_top5DCAs_predicted_results_fixedNegVSposRratio_keepCombination[\"RF\"]['Model'].best_estimator_,f)\n",
    "    \n",
    "    \n",
    "with open(os.path.join(Query_Benchmark_folder,\n",
    "                       f\"STRING115EggNog1224Spe511145_uniquePhyla_BestHomologousDCAs_top5DCAs_predicted_results_fixedNegVSposRratio_keepCombination_trainPPs.pickle\"),\"wb\") as f:\n",
    "    pickle.dump(STRING115EggNog1224Spe511145_uniquePhyla_BestHomologousDCAs_top5DCAs_predicted_results_fixedNegVSposRratio_keepCombination_trainPPs,f)\n",
    "    \n",
    "STRING115EggNog1224Spe511145_uniquePhyla_BestHomologousDCAs_top5DCAs_predicted_results_fixedNegVSposRratio_keepCombination['updated_allPPI_allInfo_frame'].to_csv(\\\n",
    "os.path.join(Query_Benchmark_folder,\n",
    "    f\"STRING115EggNog1224Spe511145_uniquePhyla_BestHomologousDCAs_top5DCAs_predicted_results_fixedNegVSposRratio_keepCombination_allPPI_allInfo_frame.csv\"),\n",
    "header=True,index=None)\n",
    "\n",
    "# then transfer this to s3it \n",
    "# \n",
    "# rsync -az --progress /mnt/mnemo6/tao/PPI_Coevolution/CoEvo_data_STRING11.5/allPPI_511145_EggNOGmaxLevel1224_eggNOGfilteredData/STRINGFullPhyBalancePhyla_Benchmark/STRING115EggNog1224Spe511145_uniquePhyla_BestHomologousDCAs_top5DCAs_predicted_results_fixedNegVSposRratio_keepCombination*  tfang@cluster.s3it.uzh.ch:/net/cephfs/shares/von-mering.imls.uzh/tao/PPI_Coevolution/CoEvo_data_STRING11.5/allPPI_511145_EggNOGmaxLevel1224_eggNOGfilteredData/STRINGFullPhyBalancePhyla_Benchmark"
   ]
  },
  {
   "cell_type": "code",
   "execution_count": null,
   "id": "07e27e7d-3ec5-485c-a8cb-27a60d0e9b64",
   "metadata": {},
   "outputs": [],
   "source": [
    "Query_Benchmark_folder\n"
   ]
  },
  {
   "cell_type": "code",
   "execution_count": null,
   "id": "ac928875-cb7a-4962-8b33-8ebabcdc3358",
   "metadata": {},
   "outputs": [],
   "source": []
  },
  {
   "cell_type": "code",
   "execution_count": null,
   "id": "21512102-fa31-4b63-b68f-b3eb50808ab8",
   "metadata": {},
   "outputs": [],
   "source": [
    "\n",
    "tobeSaved_frame=pd.DataFrame(STRING115EggNog1224Spe511145_uniquePhyla_BestHomologousDCAs_top5DCAs_predicted_results_fixedNegVSposRratio_keepCombination['XtopFeas'])\n",
    "\n",
    "tobeSaved_frame.to_csv(Query_Benchmark_folder+\"fixedNegVSposRratio_BestHomologousDCAs_top5DCAs.csv\",\n",
    "                                           header=True, index=None,sep=\"\\t\",  \n",
    "                                                 )"
   ]
  },
  {
   "cell_type": "code",
   "execution_count": null,
   "id": "16f2fc42",
   "metadata": {},
   "outputs": [],
   "source": []
  },
  {
   "cell_type": "code",
   "execution_count": null,
   "id": "b0e8c9aa",
   "metadata": {},
   "outputs": [],
   "source": []
  },
  {
   "cell_type": "code",
   "execution_count": null,
   "id": "da094a84",
   "metadata": {},
   "outputs": [],
   "source": []
  },
  {
   "cell_type": "code",
   "execution_count": null,
   "id": "571a730b",
   "metadata": {},
   "outputs": [],
   "source": []
  },
  {
   "cell_type": "code",
   "execution_count": null,
   "id": "c68bc885",
   "metadata": {},
   "outputs": [],
   "source": []
  },
  {
   "cell_type": "code",
   "execution_count": null,
   "id": "56d3188d",
   "metadata": {},
   "outputs": [],
   "source": []
  },
  {
   "cell_type": "code",
   "execution_count": null,
   "id": "27e98326",
   "metadata": {},
   "outputs": [],
   "source": []
  },
  {
   "cell_type": "code",
   "execution_count": null,
   "id": "df6d1f18",
   "metadata": {},
   "outputs": [],
   "source": []
  },
  {
   "cell_type": "markdown",
   "id": "23e50334",
   "metadata": {},
   "source": [
    "### check replacing "
   ]
  },
  {
   "cell_type": "code",
   "execution_count": null,
   "id": "d84696d8",
   "metadata": {},
   "outputs": [],
   "source": []
  },
  {
   "cell_type": "code",
   "execution_count": null,
   "id": "0f14a60a-9abb-4c0b-a1df-f994fc90b4a0",
   "metadata": {},
   "outputs": [],
   "source": [
    "%%time \n",
    "replacingDCAScores_STRING115EggNog1224Spe511145_uniquePhyla_BestHomologousDCAs_top5DCAs_predicted_results_fixedNegVSposRratio_keepCombination=sepCogPairs_ML_predictions_allTypeFeas(currentSpe_TaxID=Query_tuple[1],\n",
    "                                                                EggNOG_group_level2=EggNOG_group_level2,\n",
    "                                                                allPPI_allInfo_frame=HighDCA_Query_allPPI_allInfo_frame.iloc[fixedNegVSposRratio_keepCombination_allIdx,:],\n",
    "                                                                inputFea_matrixList=[replacingDCAScores_STRING115EggNog1224Spe511145_uniquePhyla_BestHomologousDCAs_top5DCAs_predicted_results['XBestHomologousDCAs'][fixedNegVSposRratio_keepCombination_allIdx,:],],\n",
    "                                                                Y_matrix=replacingDCAScores_STRING115EggNog1224Spe511145_uniquePhyla_BestHomologousDCAs_top5DCAs_predicted_results['YBestHomologousDCAs'][fixedNegVSposRratio_keepCombination_allIdx], \n",
    "                                                                ML_methods=[\"LR\",\"RF\"],\n",
    "                                                                n_jobs=n_jobs,\n",
    "                                                                scoring_metrics=scoring_metrics,\n",
    "                                                    \n",
    "                                                                                             )\n",
    "\n"
   ]
  },
  {
   "cell_type": "code",
   "execution_count": null,
   "id": "da02c864-8480-4a9e-beff-216bcbbbbf7e",
   "metadata": {},
   "outputs": [],
   "source": [
    "set(replacingDCAScores_STRING115EggNog1224Spe511145_uniquePhyla_BestHomologousDCAs_top5DCAs_predicted_results_fixedNegVSposRratio_keepCombination['updated_allPPI_allInfo_frame'][\"LR_onesProb\"])"
   ]
  },
  {
   "cell_type": "code",
   "execution_count": null,
   "id": "a9b43240-ee45-4fb0-b584-6e9f0c5e9361",
   "metadata": {},
   "outputs": [],
   "source": [
    "set(replacingDCAScores_STRING115EggNog1224Spe511145_uniquePhyla_BestHomologousDCAs_top5DCAs_predicted_results_fixedNegVSposRratio_keepCombination['updated_allPPI_allInfo_frame'][\"RF_onesProb\"])"
   ]
  },
  {
   "cell_type": "code",
   "execution_count": null,
   "id": "e48b6426-289e-4fb8-9094-cb58c47c2df0",
   "metadata": {},
   "outputs": [],
   "source": []
  },
  {
   "cell_type": "code",
   "execution_count": null,
   "id": "98be9750",
   "metadata": {},
   "outputs": [],
   "source": [
    "\n",
    "count_label=\"count\"\n",
    "step=10\n",
    "zoom_thres=None\n",
    "\n",
    "\n",
    "DCA_RocCurve(STRING115EggNog1224Spe511145_topDCAs_predicted_results_fixedNegVSposRratio_keepCombination[\"LR\"]['LR_ytopFeas_predict_prob'], \n",
    "             STRING115EggNog1224Spe511145_topDCAs_predicted_results_fixedNegVSposRratio_keepCombination[\"ytopFeas_test\"],\n",
    "             count_label=count_label,legend=\"top DCA; LR\"+\";11.5;1224;511145\",step=step,zoom_thres=zoom_thres)\n",
    "\n",
    "\n",
    "DCA_RocCurve(STRING115EggNog1224Spe511145_topDCAs_predicted_results_fixedNegVSposRratio_keepCombination[\"RF\"]['RF_ytopFeas_predict_prob'], \n",
    "             STRING115EggNog1224Spe511145_topDCAs_predicted_results_fixedNegVSposRratio_keepCombination[\"ytopFeas_test\"],\n",
    "             count_label=count_label,legend=\"top DCA; RF\"+\";11.5;1224;511145\",step=step,zoom_thres=zoom_thres)\n",
    "\n",
    "\n",
    "\n",
    "DCA_RocCurve(STRING115EggNog1224Spe511145_uniquePhyla_BestHomologousDCAs_top5DCAs_predicted_results_fixedNegVSposRratio_keepCombination[\"LR\"]['LR_ytopFeas_predict_prob'], \n",
    "             STRING115EggNog1224Spe511145_uniquePhyla_BestHomologousDCAs_top5DCAs_predicted_results_fixedNegVSposRratio_keepCombination[\"ytopFeas_test\"],\n",
    "             count_label=count_label,legend=\"BestHomologousDCAs_top5DCAs_uniquePhyla of different species ; LR\"+\";11.5;1224;511145\",step=step,zoom_thres=zoom_thres)\n",
    "\n",
    "\n",
    "DCA_RocCurve(STRING115EggNog1224Spe511145_uniquePhyla_BestHomologousDCAs_top5DCAs_predicted_results_fixedNegVSposRratio_keepCombination[\"RF\"]['RF_ytopFeas_predict_prob'], \n",
    "             STRING115EggNog1224Spe511145_uniquePhyla_BestHomologousDCAs_top5DCAs_predicted_results_fixedNegVSposRratio_keepCombination[\"ytopFeas_test\"],\n",
    "             count_label=count_label,legend=\"BestHomologousDCAs_top5DCAs_uniquePhyla of different species ; RF\"+\";11.5;1224;511145\",step=step,zoom_thres=zoom_thres)\n",
    "\n",
    "\n",
    "\n",
    "#plt.legend(loc='best')\n",
    "plt.legend( bbox_to_anchor=(1.05, 1), loc='upper left' )\n",
    "plt.show()"
   ]
  },
  {
   "cell_type": "code",
   "execution_count": null,
   "id": "1ae9d7e3",
   "metadata": {},
   "outputs": [],
   "source": [
    "\n",
    "count_label=\"count\"\n",
    "step=10\n",
    "zoom_thres=None\n",
    "\n",
    "\n",
    "\n",
    "\n",
    "DCA_RocCurve(STRING115EggNog1224Spe511145_topDCAs_predicted_results_fixedNegVSposRratio_keepCombination[\"XtopFeas_test\"][:,0], \n",
    "             STRING115EggNog1224Spe511145_topDCAs_predicted_results_fixedNegVSposRratio_keepCombination[\"ytopFeas_test\"],\n",
    "             count_label=count_label,legend=\"max DCA\"+\";11.5;1224;511145\",step=step,zoom_thres=zoom_thres)\n",
    "\n",
    "\n",
    "DCA_RocCurve(STRING115EggNog1224Spe511145_topDCAs_predicted_results_fixedNegVSposRratio_keepCombination[\"LR\"]['LR_ytopFeas_predict_prob'], \n",
    "             STRING115EggNog1224Spe511145_topDCAs_predicted_results_fixedNegVSposRratio_keepCombination[\"ytopFeas_test\"],\n",
    "             count_label=count_label,legend=\"top DCA; LR\"+\";11.5;1224;511145\",step=step,zoom_thres=zoom_thres)\n",
    "\n",
    "\n",
    "# DCA_RocCurve(replacingDCAScores_STRING115EggNog1224Spe511145_uniquePhyla_BestHomologousDCAs_predicted_results_fixedNegVSposRratio_keepCombination[\"LR\"]['LR_ytopFeas_predict_prob'], \n",
    "#              replacingDCAScores_STRING115EggNog1224Spe511145_uniquePhyla_BestHomologousDCAs_predicted_results_fixedNegVSposRratio_keepCombination[\"ytopFeas_test\"],\n",
    "#              count_label=count_label,legend=\"replacingDCAScores top5DCAIntegration ; LR\"+\";11.5;1224;511145\",step=step,zoom_thres=zoom_thres)\n",
    "\n",
    "\n",
    "\n",
    "\n",
    "# DCA_RocCurve(STRING115EggNog1224Spe511145_uniquePhyla_BestHomologousDCAs_predicted_results_fixedNegVSposRratio_keepCombination[\"LR\"]['LR_ytopFeas_predict_prob'], \n",
    "#              STRING115EggNog1224Spe511145_uniquePhyla_BestHomologousDCAs_predicted_results_fixedNegVSposRratio_keepCombination[\"ytopFeas_test\"],\n",
    "#              count_label=count_label,legend=\"BestHomologousDCAs_uniquePhyla of different species ; LR\"+\";11.5;1224;511145\",step=step,zoom_thres=zoom_thres)\n",
    "\n",
    "DCA_RocCurve(STRING115EggNog1224Spe511145_uniquePhyla_BestHomologousDCAs_top5DCAs_predicted_results_fixedNegVSposRratio_keepCombination[\"XtopFeas_test\"].max(axis=1), \n",
    "             STRING115EggNog1224Spe511145_uniquePhyla_BestHomologousDCAs_top5DCAs_predicted_results_fixedNegVSposRratio_keepCombination[\"ytopFeas_test\"],\n",
    "             count_label=count_label,legend=\"max DCA of all phylum \"+\";11.5;1224;511145\",step=step,zoom_thres=zoom_thres)\n",
    "\n",
    "DCA_RocCurve(STRING115EggNog1224Spe511145_uniquePhyla_BestHomologousDCAs_top5DCAs_predicted_results_fixedNegVSposRratio_keepCombination[\"LR\"]['LR_ytopFeas_predict_prob'], \n",
    "             STRING115EggNog1224Spe511145_uniquePhyla_BestHomologousDCAs_top5DCAs_predicted_results_fixedNegVSposRratio_keepCombination[\"ytopFeas_test\"],\n",
    "             count_label=count_label,legend=\"top5DCAIntegration ; LR\"+\";11.5;1224;511145\",step=step,zoom_thres=zoom_thres)\n",
    "\n",
    "\n",
    "Random_RocCurve(STRING115EggNog1224Spe511145_topDCAs_predicted_results_fixedNegVSposRratio_keepCombination[\"ytopFeas_test\"],\n",
    "             count_label=count_label,legend=\"Random prediction\"+\";11.5;1224;511145\",step=step,zoom_thres=zoom_thres)\n",
    "\n",
    "\n",
    "\n",
    "\n",
    "#plt.legend(loc='best')\n",
    "plt.legend( bbox_to_anchor=(1.05, 1), loc='upper left' )\n",
    "plt.show()"
   ]
  },
  {
   "cell_type": "code",
   "execution_count": null,
   "id": "f61b0151",
   "metadata": {},
   "outputs": [],
   "source": []
  },
  {
   "cell_type": "code",
   "execution_count": null,
   "id": "1b526ce4",
   "metadata": {},
   "outputs": [],
   "source": [
    "\n",
    "count_label=\"count\"\n",
    "step=10\n",
    "zoom_thres=None\n",
    "\n",
    "\n",
    "\n",
    "\n",
    "DCA_RocCurve(STRING115EggNog1224Spe511145_topDCAs_predicted_results_fixedNegVSposRratio_keepCombination[\"XtopFeas_test\"][:,0], \n",
    "             STRING115EggNog1224Spe511145_topDCAs_predicted_results_fixedNegVSposRratio_keepCombination[\"ytopFeas_test\"],\n",
    "             count_label=count_label,legend=\"max DCA\",step=step,zoom_thres=zoom_thres)\n",
    "\n",
    "\n",
    "DCA_RocCurve(STRING115EggNog1224Spe511145_topDCAs_predicted_results_fixedNegVSposRratio_keepCombination[\"RF\"]['RF_ytopFeas_predict_prob'], \n",
    "             STRING115EggNog1224Spe511145_topDCAs_predicted_results_fixedNegVSposRratio_keepCombination[\"ytopFeas_test\"],\n",
    "             count_label=count_label,legend=\"top DCA; RF\",step=step,zoom_thres=zoom_thres)\n",
    "\n",
    "\n",
    "DCA_RocCurve(STRING115EggNog1224Spe511145_uniquePhyla_BestHomologousDCAs_top5DCAs_predicted_results_fixedNegVSposRratio_keepCombination[\"XtopFeas_test\"].max(axis=1), \n",
    "             STRING115EggNog1224Spe511145_uniquePhyla_BestHomologousDCAs_top5DCAs_predicted_results_fixedNegVSposRratio_keepCombination[\"ytopFeas_test\"],\n",
    "             count_label=count_label,legend=\"max DCA of all phylum \"+\";11.5;1224;511145\",step=step,zoom_thres=zoom_thres)\n",
    "\n",
    "DCA_RocCurve(STRING115EggNog1224Spe511145_uniquePhyla_BestHomologousDCAs_top5DCAs_predicted_results_fixedNegVSposRratio_keepCombination[\"RF\"]['RF_ytopFeas_predict_prob'], \n",
    "             STRING115EggNog1224Spe511145_uniquePhyla_BestHomologousDCAs_top5DCAs_predicted_results_fixedNegVSposRratio_keepCombination[\"ytopFeas_test\"],\n",
    "             count_label=count_label,legend=\"top5DCAIntegration ; RF\",step=step,zoom_thres=zoom_thres)\n",
    "\n",
    "\n",
    "Random_RocCurve(STRING115EggNog1224Spe511145_topDCAs_predicted_results_fixedNegVSposRratio_keepCombination[\"ytopFeas_test\"],\n",
    "             count_label=count_label,legend=\"Random prediction\",step=step,zoom_thres=zoom_thres)\n",
    "\n",
    "\n",
    "\n",
    "\n",
    "#plt.legend(loc='best')\n",
    "plt.legend( bbox_to_anchor=(1.05, 1), loc='upper left' )\n",
    "plt.show()"
   ]
  },
  {
   "cell_type": "code",
   "execution_count": null,
   "id": "0ab65208",
   "metadata": {},
   "outputs": [],
   "source": [
    "\n",
    "# count_label=\"count\"\n",
    "# step=10\n",
    "# zoom_thres=None\n",
    "\n",
    "\n",
    "\n",
    "\n",
    "# DCA_RocCurve(STRING115EggNog1224Spe511145_uniquePhyla_BestHomologousDCAs_top5DCAs_predicted_results_fixedNegVSposRratio_keepCombination[\"LR\"]['LR_ytopFeas_predict_prob'], \n",
    "#              STRING115EggNog1224Spe511145_uniquePhyla_BestHomologousDCAs_top5DCAs_predicted_results_fixedNegVSposRratio_keepCombination[\"ytopFeas_test\"],\n",
    "#              count_label=count_label,legend=\"top5DCAIntegration ; LR\"+\";11.5;1224;511145\",step=step,zoom_thres=zoom_thres)\n",
    "\n",
    "\n",
    "# DCA_RocCurve(STRING115EggNog1224Spe511145_uniquePhyla_BestHomologousDCAs_top5DCAs_predicted_results_fixedNegVSposRratio_keepCombination[\"RF\"]['RF_ytopFeas_predict_prob'], \n",
    "#              STRING115EggNog1224Spe511145_uniquePhyla_BestHomologousDCAs_top5DCAs_predicted_results_fixedNegVSposRratio_keepCombination[\"ytopFeas_test\"],\n",
    "#              count_label=count_label,legend=\"top5DCAIntegration ; RF\"+\";11.5;1224;511145\",step=step,zoom_thres=zoom_thres)\n",
    "\n",
    "\n",
    "\n",
    "\n",
    "\n",
    "# #plt.legend(loc='best')\n",
    "# #plt.legend( bbox_to_anchor=(1.05, 1), loc='upper left' )\n",
    "# plt.show()"
   ]
  },
  {
   "cell_type": "code",
   "execution_count": null,
   "id": "11cd9554",
   "metadata": {},
   "outputs": [],
   "source": [
    "\n",
    "# count_label=\"rate\"\n",
    "# step=10\n",
    "# zoom_thres=None\n",
    "\n",
    "\n",
    "\n",
    "\n",
    "# DCA_RocCurve(STRING115EggNog1224Spe511145_uniquePhyla_BestHomologousDCAs_top5DCAs_predicted_results_fixedNegVSposRratio_keepCombination[\"LR\"]['LR_ytopFeas_predict_prob'], \n",
    "#              STRING115EggNog1224Spe511145_uniquePhyla_BestHomologousDCAs_top5DCAs_predicted_results_fixedNegVSposRratio_keepCombination[\"ytopFeas_test\"],\n",
    "#              count_label=count_label,legend=\"top5DCAIntegration ; LR\"+\";11.5;1224;511145\",step=step,zoom_thres=zoom_thres)\n",
    "\n",
    "\n",
    "# DCA_RocCurve(STRING115EggNog1224Spe511145_uniquePhyla_BestHomologousDCAs_top5DCAs_predicted_results_fixedNegVSposRratio_keepCombination[\"RF\"]['RF_ytopFeas_predict_prob'], \n",
    "#              STRING115EggNog1224Spe511145_uniquePhyla_BestHomologousDCAs_top5DCAs_predicted_results_fixedNegVSposRratio_keepCombination[\"ytopFeas_test\"],\n",
    "#              count_label=count_label,legend=\"top5DCAIntegration ; RF\"+\";11.5;1224;511145\",step=step,zoom_thres=zoom_thres)\n",
    "\n",
    "\n",
    "\n",
    "\n",
    "\n",
    "# #plt.legend(loc='best')\n",
    "# #plt.legend( bbox_to_anchor=(1.05, 1), loc='upper left' )\n",
    "# plt.show()"
   ]
  },
  {
   "cell_type": "code",
   "execution_count": null,
   "id": "69e0d16f",
   "metadata": {},
   "outputs": [],
   "source": []
  },
  {
   "cell_type": "code",
   "execution_count": null,
   "id": "586b9cb6-5464-4b78-a220-3640a2ed2f6a",
   "metadata": {},
   "outputs": [],
   "source": []
  },
  {
   "cell_type": "markdown",
   "id": "e1132298",
   "metadata": {
    "tags": []
   },
   "source": [
    "# testing remove samples with many missing values "
   ]
  },
  {
   "cell_type": "code",
   "execution_count": null,
   "id": "226d5239",
   "metadata": {},
   "outputs": [],
   "source": [
    "%%time\n",
    "notManyNans_0_idx,notManyNans_0_STRING115EggNog1224Spe511145_uniquePhyla_BestHomologousDCAs_top5DCAs_predicted_results=sepCogPairs_FullBestHomologousPP_BestHomologousDCAs_uniquePhyla_ML_predictions(EggNOG_maxLevel=\"1224\",currentSpe_TaxID=\"511145\",STRING_Version=\"11.5\",\n",
    "                  Query_BestHomologousDCAs_dict=HighDCA_Query_BestHomologousDCAs_top5DCAs_dict,\n",
    "                  ML_methods=[],#[\"LR\",\"RF\"],\n",
    "                   EggNOG_group_level2=EggNOG_group_level2,\n",
    "                  CoEvo_type=\"DCA\",\n",
    "                  deleting_column=None,\n",
    "                  DCA_thres=0,\n",
    "                    fillMissingValue=-1,\n",
    "                    removeSamples_withManyNans=True,\n",
    "                    allowedMissing_num=[0,],\n",
    "                    topDCA_num=5,\n",
    "                    given_benchmark_folder=Query_Benchmark_folder,\n",
    "                    splitPosandNeg=False,\n",
    "                    sort_frame=False,\n",
    "                    CoEvo_data_folder=CoEvo_data_folder,\n",
    "                    prefix=\"allPPI_\",\n",
    "                    benchmark_suffix=\"STRINGFullPhyBalancePhyla_Benchmark/\",\n",
    "                    n_jobs=n_jobs,\n",
    "                    scoring_metrics=scoring_metrics,  \n",
    "                    BestHomologousDCAs_dict_withStatus=True)\n",
    "\n",
    "print(len(notManyNans_0_idx),sum(notManyNans_0_idx))"
   ]
  },
  {
   "cell_type": "code",
   "execution_count": null,
   "id": "7fde37ba-5dd2-492e-a99a-3ec76a725263",
   "metadata": {},
   "outputs": [],
   "source": []
  },
  {
   "cell_type": "code",
   "execution_count": null,
   "id": "11586327-f9e0-4943-be7d-1a93e84f31d2",
   "metadata": {},
   "outputs": [],
   "source": []
  },
  {
   "cell_type": "code",
   "execution_count": null,
   "id": "1b8c9078",
   "metadata": {},
   "outputs": [],
   "source": [
    "print(sum(notManyNans_0_STRING115EggNog1224Spe511145_uniquePhyla_BestHomologousDCAs_top5DCAs_predicted_results['YBestHomologousDCAs']==1),\n",
    "     sum(notManyNans_0_STRING115EggNog1224Spe511145_uniquePhyla_BestHomologousDCAs_top5DCAs_predicted_results['YBestHomologousDCAs']==0))"
   ]
  },
  {
   "cell_type": "code",
   "execution_count": null,
   "id": "ceacd31a-6126-4fbc-9218-8f94c2044666",
   "metadata": {},
   "outputs": [],
   "source": [
    "print(notManyNans_0_STRING115EggNog1224Spe511145_uniquePhyla_BestHomologousDCAs_top5DCAs_predicted_results[\"XBestHomologousDCAs\"].shape)\n",
    "max(np.sum(notManyNans_0_STRING115EggNog1224Spe511145_uniquePhyla_BestHomologousDCAs_top5DCAs_predicted_results[\"XBestHomologousDCAs\"]==-1,axis=1))"
   ]
  },
  {
   "cell_type": "code",
   "execution_count": null,
   "id": "f4881275-7f35-407d-bd9f-86080eec88ae",
   "metadata": {},
   "outputs": [],
   "source": []
  },
  {
   "cell_type": "code",
   "execution_count": null,
   "id": "367168bd",
   "metadata": {},
   "outputs": [],
   "source": [
    "%%time \n",
    "notManyNans_0_STRING115EggNog1224Spe511145_topDCAs_predicted_results=sepCogPairs_ML_predictions_allTypeFeas(currentSpe_TaxID=Query_tuple[1],\n",
    "                                                                EggNOG_group_level2=EggNOG_group_level2,\n",
    "                                                                allPPI_allInfo_frame=HighDCA_Query_allPPI_allInfo_frame.loc[notManyNans_0_idx,:],\n",
    "                                                                #inputFea_labelList=[\"DCAs\",],\n",
    "                                                                inputFea_matrixList=[STRING115EggNog1224Spe511145_topDCAs_predicted_results[\"XtopDCAs\"][notManyNans_0_idx,:],],\n",
    "                                                                Y_matrix=STRING115EggNog1224Spe511145_topDCAs_predicted_results[\"YtopDCAs\"][notManyNans_0_idx], \n",
    "                                                                ML_methods=[\"LR\",\"RF\"],\n",
    "                                                                n_jobs=n_jobs,\n",
    "                                                                scoring_metrics=scoring_metrics,\n",
    "                                                                                             )\n",
    "\n",
    "# CPU times: user 1min 4s, sys: 19.4 s, total: 1min 23s\n",
    "# Wall time: 6min 52s"
   ]
  },
  {
   "cell_type": "code",
   "execution_count": null,
   "id": "bcb1c26d",
   "metadata": {},
   "outputs": [],
   "source": []
  },
  {
   "cell_type": "code",
   "execution_count": null,
   "id": "2efaeab7",
   "metadata": {},
   "outputs": [],
   "source": [
    "%%time \n",
    "notManyNans_0_STRING115EggNog1224Spe511145_uniquePhyla_BestHomologousDCAs_top5DCAs_predicted_results=sepCogPairs_ML_predictions_allTypeFeas(currentSpe_TaxID=Query_tuple[1],\n",
    "                                                                EggNOG_group_level2=EggNOG_group_level2,\n",
    "                                                                allPPI_allInfo_frame=HighDCA_Query_allPPI_allInfo_frame.loc[notManyNans_0_idx,:],\n",
    "                                                                #inputFea_labelList=[\"DCAs\",],\n",
    "                                                                inputFea_matrixList=[STRING115EggNog1224Spe511145_uniquePhyla_BestHomologousDCAs_top5DCAs_predicted_results[\"XBestHomologousDCAs\"][notManyNans_0_idx,:],],\n",
    "                                                                Y_matrix=STRING115EggNog1224Spe511145_uniquePhyla_BestHomologousDCAs_top5DCAs_predicted_results[\"YBestHomologousDCAs\"][notManyNans_0_idx], \n",
    "                                                                ML_methods=[\"LR\",\"RF\"],\n",
    "                                                                n_jobs=n_jobs,\n",
    "                                                                scoring_metrics=scoring_metrics,\n",
    "                                                                                             )"
   ]
  },
  {
   "cell_type": "code",
   "execution_count": null,
   "id": "5a7c4371-ab6a-473c-94e9-a49d357b8ea8",
   "metadata": {},
   "outputs": [],
   "source": [
    "print(notManyNans_0_STRING115EggNog1224Spe511145_uniquePhyla_BestHomologousDCAs_top5DCAs_predicted_results[\"XtopFeas\"].shape)\n",
    "max(np.sum(notManyNans_0_STRING115EggNog1224Spe511145_uniquePhyla_BestHomologousDCAs_top5DCAs_predicted_results[\"XtopFeas\"]==-1,axis=1))"
   ]
  },
  {
   "cell_type": "code",
   "execution_count": null,
   "id": "59c7dfb1-44f3-4bae-955c-4804c63e5f65",
   "metadata": {},
   "outputs": [],
   "source": [
    "\n",
    "%%time \n",
    "notManyNans_0_replacingDCAScores_STRING115EggNog1224Spe511145_uniquePhyla_BestHomologousDCAs_top5DCAs_predicted_results=sepCogPairs_ML_predictions_allTypeFeas(currentSpe_TaxID=Query_tuple[1],\n",
    "                                                                EggNOG_group_level2=EggNOG_group_level2,\n",
    "                                                                allPPI_allInfo_frame=HighDCA_Query_allPPI_allInfo_frame.loc[notManyNans_0_idx,:],\n",
    "                                                                #inputFea_labelList=[\"DCAs\",],\n",
    "                                                                inputFea_matrixList=[replacingDCAScores_STRING115EggNog1224Spe511145_uniquePhyla_BestHomologousDCAs_top5DCAs_predicted_results[\"XBestHomologousDCAs\"][notManyNans_0_idx,:],],\n",
    "                                                                Y_matrix=replacingDCAScores_STRING115EggNog1224Spe511145_uniquePhyla_BestHomologousDCAs_top5DCAs_predicted_results[\"YBestHomologousDCAs\"][notManyNans_0_idx], \n",
    "                                                                ML_methods=[\"LR\",\"RF\"],\n",
    "                                                                n_jobs=n_jobs,\n",
    "                                                                scoring_metrics=scoring_metrics,\n",
    "                                                                                             )"
   ]
  },
  {
   "cell_type": "code",
   "execution_count": null,
   "id": "bd50a49f",
   "metadata": {},
   "outputs": [],
   "source": [
    "max(np.sum(notManyNans_0_replacingDCAScores_STRING115EggNog1224Spe511145_uniquePhyla_BestHomologousDCAs_top5DCAs_predicted_results['XtopFeas'],axis=1))\n",
    "min(np.sum(notManyNans_0_replacingDCAScores_STRING115EggNog1224Spe511145_uniquePhyla_BestHomologousDCAs_top5DCAs_predicted_results['XtopFeas'],axis=1))"
   ]
  },
  {
   "cell_type": "code",
   "execution_count": null,
   "id": "a3af1d81-fdef-4e01-bc91-ad8763ee63d8",
   "metadata": {},
   "outputs": [],
   "source": []
  },
  {
   "cell_type": "code",
   "execution_count": null,
   "id": "3dbda0e9-3d07-43a2-a552-796c3476fd2d",
   "metadata": {},
   "outputs": [],
   "source": []
  },
  {
   "cell_type": "code",
   "execution_count": null,
   "id": "652dc1e5",
   "metadata": {},
   "outputs": [],
   "source": [
    "\n",
    "count_label=\"count\"\n",
    "step=10\n",
    "zoom_thres=None\n",
    "\n",
    "\n",
    "\n",
    "DCA_RocCurve(notManyNans_0_STRING115EggNog1224Spe511145_topDCAs_predicted_results[\"XtopFeas_test\"][:,0], \n",
    "             notManyNans_0_STRING115EggNog1224Spe511145_topDCAs_predicted_results[\"ytopFeas_test\"],\n",
    "             count_label=count_label,legend=\"max DCA\",step=step,zoom_thres=zoom_thres)\n",
    "\n",
    "\n",
    "DCA_RocCurve(notManyNans_0_STRING115EggNog1224Spe511145_uniquePhyla_BestHomologousDCAs_top5DCAs_predicted_results[\"XtopFeas_test\"].max(axis=1), \n",
    "             notManyNans_0_STRING115EggNog1224Spe511145_uniquePhyla_BestHomologousDCAs_top5DCAs_predicted_results[\"ytopFeas_test\"],\n",
    "             count_label=count_label,legend=\"max DCA of all phylum \"+\";11.5;1224;511145\",step=step,zoom_thres=zoom_thres)\n",
    "\n",
    "\n",
    "DCA_RocCurve(notManyNans_0_STRING115EggNog1224Spe511145_topDCAs_predicted_results[\"LR\"]['LR_ytopFeas_predict_prob'], \n",
    "             notManyNans_0_STRING115EggNog1224Spe511145_topDCAs_predicted_results[\"ytopFeas_test\"],\n",
    "             count_label=count_label,legend=\"top DCA; LR\"+\";11.5;1224;511145\",step=step,zoom_thres=zoom_thres)\n",
    "\n",
    "DCA_RocCurve(notManyNans_0_STRING115EggNog1224Spe511145_topDCAs_predicted_results[\"RF\"]['RF_ytopFeas_predict_prob'], \n",
    "             notManyNans_0_STRING115EggNog1224Spe511145_topDCAs_predicted_results[\"ytopFeas_test\"],\n",
    "             count_label=count_label,legend=\"top DCA; RF\"+\";11.5;1224;511145\",step=step,zoom_thres=zoom_thres)\n",
    "\n",
    "\n",
    "\n",
    "\n",
    "DCA_RocCurve(notManyNans_0_STRING115EggNog1224Spe511145_uniquePhyla_BestHomologousDCAs_top5DCAs_predicted_results[\"LR\"]['LR_ytopFeas_predict_prob'], \n",
    "             notManyNans_0_STRING115EggNog1224Spe511145_uniquePhyla_BestHomologousDCAs_top5DCAs_predicted_results[\"ytopFeas_test\"],\n",
    "             count_label=count_label,legend=\"BestHomologousDCAs_top5DCAs_uniquePhyla of different species ; LR\"+\";11.5;1224;511145\",step=step,zoom_thres=zoom_thres)\n",
    "\n",
    "DCA_RocCurve(notManyNans_0_STRING115EggNog1224Spe511145_uniquePhyla_BestHomologousDCAs_top5DCAs_predicted_results[\"RF\"]['RF_ytopFeas_predict_prob'], \n",
    "             notManyNans_0_STRING115EggNog1224Spe511145_uniquePhyla_BestHomologousDCAs_top5DCAs_predicted_results[\"ytopFeas_test\"],\n",
    "             count_label=count_label,legend=\"BestHomologousDCAs_top5DCAs_uniquePhyla of different species ; RF\"+\";11.5;1224;511145\",step=step,zoom_thres=zoom_thres)\n",
    "\n",
    "\n",
    "\n",
    "\n",
    "\n",
    "#plt.legend(loc='best')\n",
    "plt.legend( bbox_to_anchor=(1.05, 1), loc='upper left' )\n",
    "plt.show()"
   ]
  },
  {
   "cell_type": "code",
   "execution_count": null,
   "id": "ed9071d9",
   "metadata": {},
   "outputs": [],
   "source": [
    "\n",
    "count_label=\"count\"\n",
    "step=10\n",
    "zoom_thres=None\n",
    "\n",
    "\n",
    "\n",
    "\n",
    "DCA_RocCurve(notManyNans_0_STRING115EggNog1224Spe511145_topDCAs_predicted_results[\"XtopFeas_test\"][:,0], \n",
    "             notManyNans_0_STRING115EggNog1224Spe511145_topDCAs_predicted_results[\"ytopFeas_test\"],\n",
    "             count_label=count_label,legend=\"max DCA\",step=step,zoom_thres=zoom_thres)\n",
    "\n",
    "\n",
    "DCA_RocCurve(notManyNans_0_STRING115EggNog1224Spe511145_uniquePhyla_BestHomologousDCAs_top5DCAs_predicted_results[\"XtopFeas_test\"].max(axis=1), \n",
    "             notManyNans_0_STRING115EggNog1224Spe511145_uniquePhyla_BestHomologousDCAs_top5DCAs_predicted_results[\"ytopFeas_test\"],\n",
    "             count_label=count_label,legend=\"max DCA of all phylum \"+\";11.5;1224;511145\",step=step,zoom_thres=zoom_thres)\n",
    "\n",
    "\n",
    "\n",
    "DCA_RocCurve(notManyNans_0_STRING115EggNog1224Spe511145_topDCAs_predicted_results[\"LR\"]['LR_ytopFeas_predict_prob'], \n",
    "             notManyNans_0_STRING115EggNog1224Spe511145_topDCAs_predicted_results[\"ytopFeas_test\"],\n",
    "             count_label=count_label,legend=\"top DCA; LR\"+\";11.5;1224;511145\",step=step,zoom_thres=zoom_thres)\n",
    "\n",
    "\n",
    "\n",
    "DCA_RocCurve(notManyNans_0_replacingDCAScores_STRING115EggNog1224Spe511145_uniquePhyla_BestHomologousDCAs_top5DCAs_predicted_results[\"LR\"]['LR_ytopFeas_predict_prob'], \n",
    "             notManyNans_0_replacingDCAScores_STRING115EggNog1224Spe511145_uniquePhyla_BestHomologousDCAs_top5DCAs_predicted_results[\"ytopFeas_test\"],\n",
    "             count_label=count_label,legend=\"replacingDCAScores_BestHomologousDCAs_top5DCAs_uniquePhyla of different species ; LR\"+\";11.5;1224;511145\",step=step,zoom_thres=zoom_thres)\n",
    "\n",
    "\n",
    "# DCA_RocCurve(notManyNans_0_STRING115EggNog1224Spe511145_uniquePhyla_BestHomologousDCAs_predicted_results[\"LR\"]['LR_yBestHomologousDCAs_predict_prob'], \n",
    "#              notManyNans_0_STRING115EggNog1224Spe511145_uniquePhyla_BestHomologousDCAs_predicted_results[\"yBestHomologousDCAs_test\"],\n",
    "#              count_label=count_label,legend=\"BestHomologousDCAs_uniquePhyla of different species ; LR\"+\";11.5;1224;511145\",step=step,zoom_thres=zoom_thres)\n",
    "\n",
    "\n",
    "DCA_RocCurve(notManyNans_0_STRING115EggNog1224Spe511145_uniquePhyla_BestHomologousDCAs_top5DCAs_predicted_results[\"LR\"]['LR_ytopFeas_predict_prob'], \n",
    "             notManyNans_0_STRING115EggNog1224Spe511145_uniquePhyla_BestHomologousDCAs_top5DCAs_predicted_results[\"ytopFeas_test\"],\n",
    "             count_label=count_label,legend=\"BestHomologousDCAs_top5DCAs_uniquePhyla of different species ; LR\"+\";11.5;1224;511145\",step=step,zoom_thres=zoom_thres)\n",
    "\n",
    "\n",
    "Random_RocCurve(notManyNans_0_STRING115EggNog1224Spe511145_topDCAs_predicted_results[\"ytopFeas_test\"],\n",
    "             count_label=count_label,legend=\"Random prediction\"+\";11.5;1224;511145\",step=step)\n",
    "\n",
    "\n",
    "\n",
    "\n",
    "#plt.legend(loc='best')\n",
    "plt.legend( bbox_to_anchor=(1.05, 1), loc='upper left' )\n",
    "plt.show()"
   ]
  },
  {
   "cell_type": "code",
   "execution_count": null,
   "id": "3f3d0162",
   "metadata": {},
   "outputs": [],
   "source": []
  },
  {
   "cell_type": "code",
   "execution_count": null,
   "id": "7db5a712",
   "metadata": {},
   "outputs": [],
   "source": []
  },
  {
   "cell_type": "code",
   "execution_count": null,
   "id": "0d52153f",
   "metadata": {},
   "outputs": [],
   "source": [
    "notManyNans_0_replacingDCAScores_STRING115EggNog1224Spe511145_uniquePhyla_BestHomologousDCAs_top5DCAs_predicted_results[\"LR\"]['LR_ytopFeas_predict_prob'],"
   ]
  },
  {
   "cell_type": "code",
   "execution_count": null,
   "id": "2177caf9",
   "metadata": {},
   "outputs": [],
   "source": [
    "set(notManyNans_0_replacingDCAScores_STRING115EggNog1224Spe511145_uniquePhyla_BestHomologousDCAs_top5DCAs_predicted_results['updated_allPPI_allInfo_frame'][\"LR_onesProb\"])"
   ]
  },
  {
   "cell_type": "code",
   "execution_count": null,
   "id": "c57bf37c",
   "metadata": {},
   "outputs": [],
   "source": [
    "set(notManyNans_0_replacingDCAScores_STRING115EggNog1224Spe511145_uniquePhyla_BestHomologousDCAs_top5DCAs_predicted_results['updated_allPPI_allInfo_frame'][\"RF_onesProb\"])"
   ]
  },
  {
   "cell_type": "code",
   "execution_count": null,
   "id": "57d4fe2c",
   "metadata": {},
   "outputs": [],
   "source": [
    "\n",
    "count_label=\"count\"\n",
    "step=10\n",
    "zoom_thres=None\n",
    "\n",
    "\n",
    "\n",
    "\n",
    "DCA_RocCurve(notManyNans_0_STRING115EggNog1224Spe511145_topDCAs_predicted_results[\"XtopFeas_test\"][:,0], \n",
    "             notManyNans_0_STRING115EggNog1224Spe511145_topDCAs_predicted_results[\"ytopFeas_test\"],\n",
    "             count_label=count_label,legend=\"max DCA\"+\";11.5;1224;511145\",step=step,zoom_thres=zoom_thres)\n",
    "\n",
    "\n",
    "DCA_RocCurve(notManyNans_0_STRING115EggNog1224Spe511145_topDCAs_predicted_results[\"RF\"]['RF_ytopFeas_predict_prob'], \n",
    "             notManyNans_0_STRING115EggNog1224Spe511145_topDCAs_predicted_results[\"ytopFeas_test\"],\n",
    "             count_label=count_label,legend=\"top DCA; RF\"+\";11.5;1224;511145\",step=step,zoom_thres=zoom_thres)\n",
    "\n",
    "DCA_RocCurve(notManyNans_0_replacingDCAScores_STRING115EggNog1224Spe511145_uniquePhyla_BestHomologousDCAs_top5DCAs_predicted_results[\"RF\"]['RF_ytopFeas_predict_prob'], \n",
    "             notManyNans_0_replacingDCAScores_STRING115EggNog1224Spe511145_uniquePhyla_BestHomologousDCAs_top5DCAs_predicted_results[\"ytopFeas_test\"],\n",
    "             count_label=count_label,legend=\"replacingDCAScores_BestHomologousDCAs_top5DCAs_uniquePhyla of different species ; RF\"+\";11.5;1224;511145\",step=step,zoom_thres=zoom_thres)\n",
    "\n",
    "\n",
    "DCA_RocCurve(notManyNans_0_STRING115EggNog1224Spe511145_uniquePhyla_BestHomologousDCAs_top5DCAs_predicted_results[\"RF\"]['RF_ytopFeas_predict_prob'], \n",
    "             notManyNans_0_STRING115EggNog1224Spe511145_uniquePhyla_BestHomologousDCAs_top5DCAs_predicted_results[\"ytopFeas_test\"],\n",
    "             count_label=count_label,legend=\"BestHomologousDCAs_top5DCAs_uniquePhyla of different species ; RF\"+\";11.5;1224;511145\",step=step,zoom_thres=zoom_thres)\n",
    "\n",
    "\n",
    "Random_RocCurve(notManyNans_0_STRING115EggNog1224Spe511145_topDCAs_predicted_results[\"ytopFeas_test\"],\n",
    "             count_label=count_label,legend=\"Random prediction\"+\";11.5;1224;511145\",step=step)\n",
    "\n",
    "\n",
    "\n",
    "\n",
    "#plt.legend(loc='best')\n",
    "plt.legend( bbox_to_anchor=(1.05, 1), loc='upper left' )\n",
    "plt.show()"
   ]
  },
  {
   "cell_type": "code",
   "execution_count": null,
   "id": "39f32763",
   "metadata": {},
   "outputs": [],
   "source": [
    "\n",
    "count_label=\"count\"\n",
    "step=10\n",
    "zoom_thres=None\n",
    "\n",
    "\n",
    "\n",
    "\n",
    "DCA_RocCurve(notManyNans_0_STRING115EggNog1224Spe511145_topDCAs_predicted_results[\"XtopFeas_test\"][:,0], \n",
    "             notManyNans_0_STRING115EggNog1224Spe511145_topDCAs_predicted_results[\"ytopFeas_test\"],\n",
    "             count_label=count_label,legend=\"max DCA\",step=step,zoom_thres=zoom_thres)\n",
    "\n",
    "\n",
    "DCA_RocCurve(notManyNans_0_STRING115EggNog1224Spe511145_topDCAs_predicted_results[\"LR\"]['LR_ytopFeas_predict_prob'], \n",
    "             notManyNans_0_STRING115EggNog1224Spe511145_topDCAs_predicted_results[\"ytopFeas_test\"],\n",
    "             count_label=count_label,legend=\"top DCA; LR\",step=step,zoom_thres=zoom_thres)\n",
    "\n",
    "\n",
    "DCA_RocCurve(notManyNans_0_STRING115EggNog1224Spe511145_uniquePhyla_BestHomologousDCAs_top5DCAs_predicted_results[\"LR\"]['LR_ytopFeas_predict_prob'], \n",
    "             notManyNans_0_STRING115EggNog1224Spe511145_uniquePhyla_BestHomologousDCAs_top5DCAs_predicted_results[\"ytopFeas_test\"],\n",
    "             count_label=count_label,legend=\"top5DCAIntegration ; LR\",step=step,zoom_thres=zoom_thres)\n",
    "\n",
    "\n",
    "Random_RocCurve(notManyNans_0_STRING115EggNog1224Spe511145_topDCAs_predicted_results[\"ytopFeas_test\"],\n",
    "             count_label=count_label,legend=\"Random prediction\",step=step)\n",
    "\n",
    "\n",
    "\n",
    "\n",
    "#plt.legend(loc='best')\n",
    "#plt.legend( bbox_to_anchor=(1.05, 1), loc='upper left' )\n",
    "plt.show()"
   ]
  },
  {
   "cell_type": "code",
   "execution_count": null,
   "id": "2b60aa1e-2e10-41b5-b927-e8447995402c",
   "metadata": {},
   "outputs": [],
   "source": [
    "\n",
    "count_label=\"count\"\n",
    "step=10\n",
    "zoom_thres=None\n",
    "\n",
    "\n",
    "\n",
    "\n",
    "DCA_RocCurve(notManyNans_0_STRING115EggNog1224Spe511145_topDCAs_predicted_results[\"XtopFeas_test\"][:,0], \n",
    "             notManyNans_0_STRING115EggNog1224Spe511145_topDCAs_predicted_results[\"ytopFeas_test\"],\n",
    "             count_label=count_label,legend=\"max DCA\",step=step,zoom_thres=zoom_thres)\n",
    "\n",
    "\n",
    "DCA_RocCurve(notManyNans_0_STRING115EggNog1224Spe511145_topDCAs_predicted_results[\"RF\"]['RF_ytopFeas_predict_prob'], \n",
    "             notManyNans_0_STRING115EggNog1224Spe511145_topDCAs_predicted_results[\"ytopFeas_test\"],\n",
    "             count_label=count_label,legend=\"top DCA; RF\",step=step,zoom_thres=zoom_thres)\n",
    "\n",
    "\n",
    "DCA_RocCurve(notManyNans_0_STRING115EggNog1224Spe511145_uniquePhyla_BestHomologousDCAs_top5DCAs_predicted_results[\"RF\"]['RF_ytopFeas_predict_prob'], \n",
    "             notManyNans_0_STRING115EggNog1224Spe511145_uniquePhyla_BestHomologousDCAs_top5DCAs_predicted_results[\"ytopFeas_test\"],\n",
    "             count_label=count_label,legend=\"top5DCAIntegration ; RF\",step=step,zoom_thres=zoom_thres)\n",
    "\n",
    "\n",
    "Random_RocCurve(notManyNans_0_STRING115EggNog1224Spe511145_topDCAs_predicted_results[\"ytopFeas_test\"],\n",
    "             count_label=count_label,legend=\"Random prediction\",step=step)\n",
    "\n",
    "\n",
    "\n",
    "\n",
    "#plt.legend(loc='best')\n",
    "#plt.legend( bbox_to_anchor=(1.05, 1), loc='upper left' )\n",
    "plt.show()"
   ]
  },
  {
   "cell_type": "code",
   "execution_count": null,
   "id": "12b83500-f481-4f68-94f9-c31f8f2c27de",
   "metadata": {},
   "outputs": [],
   "source": []
  },
  {
   "cell_type": "code",
   "execution_count": null,
   "id": "fe309469-03b4-4b8a-9038-ed0898b83f2b",
   "metadata": {},
   "outputs": [],
   "source": []
  },
  {
   "cell_type": "code",
   "execution_count": null,
   "id": "0b83cde3-6041-4b5d-8724-3b6949234819",
   "metadata": {},
   "outputs": [],
   "source": []
  },
  {
   "cell_type": "code",
   "execution_count": null,
   "id": "066f3088-60d8-465a-893d-9b09b649e1c3",
   "metadata": {},
   "outputs": [],
   "source": []
  },
  {
   "cell_type": "markdown",
   "id": "cff19f64-bec7-424d-be67-3ebbc7cb39f4",
   "metadata": {},
   "source": [
    "# figure 4A , performance of phylum integratin and RF model "
   ]
  },
  {
   "cell_type": "code",
   "execution_count": null,
   "id": "51f2bb74-c48f-463f-b640-29c0830ea8b7",
   "metadata": {},
   "outputs": [],
   "source": [
    "fig3C_list=list()\n",
    "for _ ,row in beforeFixRatio_test_Phaly_PPInum_frame.iterrows():\n",
    "    #print(row[1])\n",
    "    fig3C_list.append([row[0]*4,row[1],\"unfixedRatio_\"+row[2]])\n",
    "    \n",
    "for _ ,row in test_Phaly_PPInum_frame_fixedNegVSposRratio_keepCombination.iterrows():\n",
    "    #print(row[1])\n",
    "    fig3C_list.append([row[0]*4,row[1],\"fixedRatio_\"+row[2]])\n",
    "    \n",
    "fig3C_frame=pd.DataFrame(fig3C_list,\n",
    "                        columns=[\"Num Of missing values\",\"Count\", \"Benchmark status\"])\n",
    "\n"
   ]
  },
  {
   "cell_type": "code",
   "execution_count": null,
   "id": "a0713e1b-f3cb-4ba7-9eaf-7cc8ad292749",
   "metadata": {},
   "outputs": [],
   "source": []
  },
  {
   "cell_type": "code",
   "execution_count": null,
   "id": "774fcf52-7611-4f8a-813d-425caad3401e",
   "metadata": {},
   "outputs": [],
   "source": []
  },
  {
   "cell_type": "code",
   "execution_count": null,
   "id": "4cc48ef6-df3a-4fdf-973d-7d596806b901",
   "metadata": {},
   "outputs": [],
   "source": [
    "24958/1681"
   ]
  },
  {
   "cell_type": "code",
   "execution_count": null,
   "id": "18e70d77-4e23-400a-9449-3cc3325fc010",
   "metadata": {},
   "outputs": [],
   "source": [
    "test_model=STRING115EggNog1224Spe511145_uniquePhyla_BestHomologousDCAs_top5DCAs_predicted_results_fixedNegVSposRratio_keepCombination[\"RF\"][\"Model\"]\n",
    "test_model.best_estimator_.feature_importances_"
   ]
  },
  {
   "cell_type": "code",
   "execution_count": null,
   "id": "cdae02d8-e40f-46ce-8f6b-658150877738",
   "metadata": {},
   "outputs": [],
   "source": [
    "%time\n",
    "plotType=\"PR\"\n",
    "count_label=\"rate\"\n",
    "\n",
    "colors=[ '#91bfdb', '#4575b4','#fee090', '#fc8d59', '#d73027']\n",
    "# Fig 3 \n",
    "# https://towardsdatascience.com/4-simple-tips-for-plotting-multiple-graphs-in-python-38df2112965c\n",
    "# https://stackoverflow.com/questions/13714454/specifying-and-saving-a-figure-with-exact-size-in-pixels\n",
    "# https://stackoverflow.com/questions/42435446/how-to-put-text-outside-python-plots\n",
    "# https://matplotlib.org/stable/gallery/text_labels_and_annotations/titles_demo.html\n",
    "\n",
    "fig3 = plt.figure(figsize=(6,6))\n",
    "step=1#10#1\n",
    "zoom_thres=None\n",
    "\n",
    "\n",
    "\n",
    "\n",
    "\n",
    "axB =plt.subplot(1,1,1)\n",
    "DCA_RocCurve(STRING115EggNog1224Spe511145_topDCAs_predicted_results_fixedNegVSposRratio_keepCombination[\"XtopFeas_test\"][:,0], \n",
    "             STRING115EggNog1224Spe511145_topDCAs_predicted_results_fixedNegVSposRratio_keepCombination[\"ytopFeas_test\"],\n",
    "             count_label=count_label,legend=\"Random prediction(No ML)\",step=step,zoom_thres=zoom_thres,\n",
    "            plotType=plotType,\n",
    "             color=colors[0],\n",
    "            randomplot=True)\n",
    "\n",
    "DCA_RocCurve(replacingDCAScores_STRING115EggNog1224Spe511145_uniquePhyla_BestHomologousDCAs_top5DCAs_predicted_results_fixedNegVSposRratio_keepCombination[\"RF\"]['RF_ytopFeas_predict_prob'], \n",
    "             replacingDCAScores_STRING115EggNog1224Spe511145_uniquePhyla_BestHomologousDCAs_top5DCAs_predicted_results_fixedNegVSposRratio_keepCombination[\"ytopFeas_test\"],\n",
    "             count_label=count_label,legend=\"Presence/Absence(RF)\",step=step,zoom_thres=zoom_thres,\n",
    "            plotType=plotType,\n",
    "             color=colors[1],\n",
    "            )\n",
    "\n",
    "DCA_RocCurve(STRING115EggNog1224Spe511145_topDCAs_predicted_results_fixedNegVSposRratio_keepCombination[\"XtopFeas_test\"][:,0], \n",
    "             STRING115EggNog1224Spe511145_topDCAs_predicted_results_fixedNegVSposRratio_keepCombination[\"ytopFeas_test\"],\n",
    "             count_label=count_label,legend=\"MaxDCA(No ML)\",step=step,zoom_thres=zoom_thres,\n",
    "            plotType=plotType,\n",
    "            color=colors[2],)\n",
    "\n",
    "\n",
    "\n",
    "\n",
    "\n",
    "DCA_RocCurve(STRING115EggNog1224Spe511145_topDCAs_predicted_results_fixedNegVSposRratio_keepCombination[\"RF\"]['RF_ytopFeas_predict_prob'], \n",
    "             STRING115EggNog1224Spe511145_topDCAs_predicted_results_fixedNegVSposRratio_keepCombination[\"ytopFeas_test\"],\n",
    "             count_label=count_label,legend=\"Top20DCAsWithoutIntegration(RF)\",step=step,zoom_thres=zoom_thres,\n",
    "            plotType=plotType,\n",
    "            color=colors[3],)\n",
    "\n",
    "DCA_RocCurve(STRING115EggNog1224Spe511145_uniquePhyla_BestHomologousDCAs_top5DCAs_predicted_results_fixedNegVSposRratio_keepCombination[\"RF\"]['RF_ytopFeas_predict_prob'], \n",
    "             STRING115EggNog1224Spe511145_uniquePhyla_BestHomologousDCAs_top5DCAs_predicted_results_fixedNegVSposRratio_keepCombination[\"ytopFeas_test\"],\n",
    "             count_label=count_label,legend=\"Top20DCAsWithIntegration(RF)\",step=step,zoom_thres=zoom_thres,\n",
    "            plotType=plotType,\n",
    "            color=colors[4],)\n",
    "\n",
    "\n",
    "\n",
    "\n",
    "\n",
    "#plt.legend( bbox_to_anchor=(1.05, 1), loc='upper left' )\n",
    "#axB.text(-300, 1000, 'B', weight='bold')\n",
    "# axB.legend(fontsize=8)\n",
    "\n",
    "axB.legend().set_visible(False)\n",
    "axB.set_xlabel(\"Recall\",fontsize=16)\n",
    "axB.set_ylabel(\"Precision\",fontsize=16)\n",
    "# axB.set_title(\"PR curve \",loc='center',fontsize=16)\n",
    "axB.legend(fontsize=10,\n",
    "           # loc=\"upper right\",\n",
    "           # loc='center left', bbox_to_anchor=(1, 0.5),\n",
    "           \n",
    "          )\n",
    "plt.xticks(fontsize=12)# compare with ax2.set_xticks, this one dont need to give exact ticks position\n",
    "plt.yticks(fontsize=12)\n",
    "\n",
    "\n",
    "plt.tight_layout()\n",
    "plt.show()\n",
    "\n",
    "fig3.savefig(\"/mnt/mnemo5/tao/temp_figures/PhysicalPPIScreen_RFmodel.pdf\", dpi=600)\n",
    "\n",
    "\n"
   ]
  },
  {
   "cell_type": "code",
   "execution_count": null,
   "id": "558de3e5-adb4-4667-bb13-d6ee3bfb2669",
   "metadata": {},
   "outputs": [],
   "source": []
  },
  {
   "cell_type": "code",
   "execution_count": null,
   "id": "d1f2ec7b",
   "metadata": {},
   "outputs": [],
   "source": [
    "%%time \n",
    "# Fig 3 \n",
    "# https://towardsdatascience.com/4-simple-tips-for-plotting-multiple-graphs-in-python-38df2112965c\n",
    "# https://stackoverflow.com/questions/13714454/specifying-and-saving-a-figure-with-exact-size-in-pixels\n",
    "# https://stackoverflow.com/questions/42435446/how-to-put-text-outside-python-plots\n",
    "# https://matplotlib.org/stable/gallery/text_labels_and_annotations/titles_demo.html\n",
    "\n",
    "fig3 = plt.figure(figsize=(12,8))\n",
    "count_label=\"count\"\n",
    "step=10 #10\n",
    "zoom_thres=None\n",
    "\n",
    "colors=['#ffff33', '#ff7f00', '#984ea3', '#4daf4a', '#377eb8', '#e41a1c']\n",
    "\n",
    "axA = plt.subplot(2,2,1)\n",
    "Random_RocCurve(STRING115EggNog1224Spe511145_topDCAs_predicted_results[\"ytopDCAs_test\"],\n",
    "             count_label=count_label,\n",
    "                legend=\"Random prediction(No ML)\",\n",
    "                step=step,\n",
    "                color=colors[0]\n",
    "               )\n",
    "\n",
    "DCA_RocCurve(replacingDCAScores_STRING115EggNog1224Spe511145_uniquePhyla_BestHomologousDCAs_top5DCAs_predicted_results[\"RF\"]['RF_yBestHomologousDCAs_predict_prob'], \n",
    "             replacingDCAScores_STRING115EggNog1224Spe511145_uniquePhyla_BestHomologousDCAs_top5DCAs_predicted_results[\"yBestHomologousDCAs_test\"],\n",
    "             count_label=count_label,\n",
    "             legend=\"Presence/Absence(RF)\",\n",
    "             step=step,zoom_thres=zoom_thres,\n",
    "                color=colors[1])\n",
    "\n",
    "DCA_RocCurve(STRING115EggNog1224Spe511145_topDCAs_predicted_results[\"XtopDCAs_test\"][:,0], \n",
    "             STRING115EggNog1224Spe511145_topDCAs_predicted_results[\"ytopDCAs_test\"],\n",
    "             count_label=count_label,\n",
    "             legend=\"MaxDCA(No ML)\",\n",
    "             step=step,zoom_thres=zoom_thres,color=colors[2])\n",
    "\n",
    "\n",
    "DCA_RocCurve(STRING115EggNog1224Spe511145_topDCAs_predicted_results[\"RF\"]['RF_ytopDCAs_predict_prob'], \n",
    "             STRING115EggNog1224Spe511145_topDCAs_predicted_results[\"ytopDCAs_test\"],\n",
    "             count_label=count_label,\n",
    "             legend=\"Top20DCAsWithoutIntegration(RF)\",\n",
    "             step=step,zoom_thres=zoom_thres,color=colors[3])\n",
    "\n",
    "DCA_RocCurve(STRING115EggNog1224Spe511145_uniquePhyla_BestHomologousDCAs_top5DCAs_predicted_results[\"RF\"]['RF_yBestHomologousDCAs_predict_prob'], \n",
    "             STRING115EggNog1224Spe511145_uniquePhyla_BestHomologousDCAs_top5DCAs_predicted_results[\"yBestHomologousDCAs_test\"],\n",
    "             count_label=count_label,\n",
    "             legend=\"top20DCAsWithIntegration(RF)\",\n",
    "             step=step,zoom_thres=zoom_thres,color=colors[4])\n",
    "\n",
    "\n",
    "\n",
    "#plt.legend(loc='best')\n",
    "#plt.legend( bbox_to_anchor=(1.05, 1), loc='upper left' )\n",
    "#axA.set_title(\"Performance \",loc='left',loc='center',fontsize=10)\n",
    "#ax1.set_xlabel(\"taaata\",loc='left top')\n",
    "axA.text(-1000, 1000, 'A', weight='bold')\n",
    "axA.legend(fontsize=8)\n",
    "\n",
    "\n",
    "\n",
    "axB =plt.subplot(2,2,2)\n",
    "Random_RocCurve(STRING115EggNog1224Spe511145_topDCAs_predicted_results_fixedNegVSposRratio_keepCombination[\"ytopFeas_test\"],\n",
    "             count_label=count_label,legend=\"Random prediction(No ML)\",step=step,zoom_thres=zoom_thres,color=colors[0])\n",
    "\n",
    "DCA_RocCurve(replacingDCAScores_STRING115EggNog1224Spe511145_uniquePhyla_BestHomologousDCAs_top5DCAs_predicted_results_fixedNegVSposRratio_keepCombination[\"RF\"]['RF_ytopFeas_predict_prob'], \n",
    "             replacingDCAScores_STRING115EggNog1224Spe511145_uniquePhyla_BestHomologousDCAs_top5DCAs_predicted_results_fixedNegVSposRratio_keepCombination[\"ytopFeas_test\"],\n",
    "             count_label=count_label,legend=\"Presence/Absence(RF)\",step=step,zoom_thres=zoom_thres,color=colors[1])\n",
    "\n",
    "\n",
    "DCA_RocCurve(STRING115EggNog1224Spe511145_topDCAs_predicted_results_fixedNegVSposRratio_keepCombination[\"XtopFeas_test\"][:,0], \n",
    "             STRING115EggNog1224Spe511145_topDCAs_predicted_results_fixedNegVSposRratio_keepCombination[\"ytopFeas_test\"],\n",
    "             count_label=count_label,legend=\"MaxDCA(No ML)\",step=step,zoom_thres=zoom_thres,color=colors[2])\n",
    "\n",
    "DCA_RocCurve(STRING115EggNog1224Spe511145_topDCAs_predicted_results_fixedNegVSposRratio_keepCombination[\"RF\"]['RF_ytopFeas_predict_prob'], \n",
    "             STRING115EggNog1224Spe511145_topDCAs_predicted_results_fixedNegVSposRratio_keepCombination[\"ytopFeas_test\"],\n",
    "             count_label=count_label,legend=\"Top20DCAsWithoutIntegration(RF)\",step=step,zoom_thres=zoom_thres,color=colors[3])\n",
    "\n",
    "DCA_RocCurve(STRING115EggNog1224Spe511145_uniquePhyla_BestHomologousDCAs_top5DCAs_predicted_results_fixedNegVSposRratio_keepCombination[\"RF\"]['RF_ytopFeas_predict_prob'], \n",
    "             STRING115EggNog1224Spe511145_uniquePhyla_BestHomologousDCAs_top5DCAs_predicted_results_fixedNegVSposRratio_keepCombination[\"ytopFeas_test\"],\n",
    "             count_label=count_label,legend=\"Top20DCAsWithIntegration(RF)\",step=step,zoom_thres=zoom_thres,color=colors[4])\n",
    "\n",
    "\n",
    "\n",
    "#plt.legend( bbox_to_anchor=(1.05, 1), loc='upper left' )\n",
    "axB.text(-300, 1000, 'B', weight='bold')\n",
    "axB.legend(fontsize=8)\n",
    "\n",
    "\n",
    "\n",
    "\n",
    "axC =plt.subplot(2,2,3)\n",
    "Random_RocCurve(notManyNans_0_STRING115EggNog1224Spe511145_topDCAs_predicted_results[\"ytopFeas_test\"],\n",
    "             count_label=count_label,legend=\"Random prediction(No ML)\",step=step,color=colors[0])\n",
    "\n",
    "DCA_RocCurve(notManyNans_0_STRING115EggNog1224Spe511145_topDCAs_predicted_results[\"XtopFeas_test\"][:,0], \n",
    "             notManyNans_0_STRING115EggNog1224Spe511145_topDCAs_predicted_results[\"ytopFeas_test\"],\n",
    "             count_label=count_label,legend=\"MaxDCA(No ML)\",step=step,zoom_thres=zoom_thres,color=colors[2])\n",
    "\n",
    "DCA_RocCurve(notManyNans_0_STRING115EggNog1224Spe511145_topDCAs_predicted_results[\"RF\"]['RF_ytopFeas_predict_prob'], \n",
    "             notManyNans_0_STRING115EggNog1224Spe511145_topDCAs_predicted_results[\"ytopFeas_test\"],\n",
    "             count_label=count_label,legend=\"Top20DCAsWithoutIntegration(RF)\",step=step,zoom_thres=zoom_thres,color=colors[3])\n",
    "\n",
    "\n",
    "DCA_RocCurve(notManyNans_0_STRING115EggNog1224Spe511145_uniquePhyla_BestHomologousDCAs_top5DCAs_predicted_results[\"RF\"]['RF_ytopFeas_predict_prob'], \n",
    "             notManyNans_0_STRING115EggNog1224Spe511145_uniquePhyla_BestHomologousDCAs_top5DCAs_predicted_results[\"ytopFeas_test\"],\n",
    "             count_label=count_label,legend=\"Top20DCAsWithIntegration(RF)\",step=step,zoom_thres=zoom_thres,color=colors[4])\n",
    "\n",
    "\n",
    "\n",
    "axC.text(-120, 318.75, 'C', weight='bold') \n",
    "axC.legend(fontsize=8)\n",
    "plt.show()\n",
    "\n",
    "fig3.savefig(\"/mnt/mnemo5/tao/temp_figures/Fig3.pdf\", dpi=600)\n",
    "\n",
    "\n"
   ]
  },
  {
   "cell_type": "code",
   "execution_count": null,
   "id": "3bae28d3-5262-46e4-be52-fe2864b28a2b",
   "metadata": {},
   "outputs": [],
   "source": []
  },
  {
   "cell_type": "code",
   "execution_count": null,
   "id": "42646632-e519-4fae-a3e4-4d74572ed640",
   "metadata": {},
   "outputs": [],
   "source": []
  },
  {
   "cell_type": "code",
   "execution_count": null,
   "id": "0c7f08a5-d8d5-45c3-b64c-7629d29d575e",
   "metadata": {},
   "outputs": [],
   "source": []
  },
  {
   "cell_type": "code",
   "execution_count": null,
   "id": "eb100421-e25c-4fcc-8e13-c07c958104b6",
   "metadata": {},
   "outputs": [],
   "source": []
  },
  {
   "cell_type": "code",
   "execution_count": null,
   "id": "12470f37-d70e-4494-908b-0c1083c1af5b",
   "metadata": {},
   "outputs": [],
   "source": []
  },
  {
   "cell_type": "markdown",
   "id": "2b6c199c-883f-49ac-8c18-e011f9e1b031",
   "metadata": {},
   "source": [
    "##   dropped,figure 3 sup , check if add max DCA of all phyla ,"
   ]
  },
  {
   "cell_type": "code",
   "execution_count": null,
   "id": "ea009884-6810-4ce0-aadf-f531c7a13fe4",
   "metadata": {},
   "outputs": [],
   "source": []
  },
  {
   "cell_type": "code",
   "execution_count": null,
   "id": "cbddba24-22d4-498e-9cc0-ebe107760033",
   "metadata": {
    "tags": []
   },
   "outputs": [],
   "source": [
    "#%%time \n",
    "# Fig 3 \n",
    "# https://towardsdatascience.com/4-simple-tips-for-plotting-multiple-graphs-in-python-38df2112965c\n",
    "# https://stackoverflow.com/questions/13714454/specifying-and-saving-a-figure-with-exact-size-in-pixels\n",
    "# https://stackoverflow.com/questions/42435446/how-to-put-text-outside-python-plots\n",
    "# https://matplotlib.org/stable/gallery/text_labels_and_annotations/titles_demo.html\n",
    "\n",
    "fig3 = plt.figure(figsize=(12,8))\n",
    "count_label=\"count\"\n",
    "step=100 #10\n",
    "zoom_thres=None\n",
    "\n",
    "colors=['#ffff33', '#ff7f00', '#984ea3', '#4daf4a', '#377eb8', '#e41a1c']\n",
    "\n",
    "axA = plt.subplot(2,2,1)\n",
    "Random_RocCurve(STRING115EggNog1224Spe511145_topDCAs_predicted_results[\"ytopDCAs_test\"],\n",
    "             count_label=count_label,\n",
    "                legend=\"Random prediction(No ML)\",\n",
    "                step=step,\n",
    "                color=colors[0]\n",
    "               )\n",
    "\n",
    "# DCA_RocCurve(replacingDCAScores_STRING115EggNog1224Spe511145_uniquePhyla_BestHomologousDCAs_top5DCAs_predicted_results[\"RF\"]['RF_yBestHomologousDCAs_predict_prob'], \n",
    "#              replacingDCAScores_STRING115EggNog1224Spe511145_uniquePhyla_BestHomologousDCAs_top5DCAs_predicted_results[\"yBestHomologousDCAs_test\"],\n",
    "#              count_label=count_label,\n",
    "#              legend=\"Presence/Absence(RF)\",\n",
    "#              step=step,zoom_thres=zoom_thres,\n",
    "#                 color=colors[1])\n",
    "\n",
    "\n",
    "DCA_RocCurve(STRING115EggNog1224Spe511145_topDCAs_predicted_results[\"XtopDCAs_test\"][:,0], \n",
    "             STRING115EggNog1224Spe511145_topDCAs_predicted_results[\"ytopDCAs_test\"],\n",
    "             count_label=count_label,\n",
    "             legend=\"MaxDCA(No ML)\",\n",
    "             step=step,zoom_thres=zoom_thres,color=colors[2])\n",
    "\n",
    "\n",
    "DCA_RocCurve(STRING115EggNog1224Spe511145_uniquePhyla_BestHomologousDCAs_top5DCAs_predicted_results[\"XBestHomologousDCAs_test\"].max(axis=1), \n",
    "             STRING115EggNog1224Spe511145_uniquePhyla_BestHomologousDCAs_top5DCAs_predicted_results[\"yBestHomologousDCAs_test\"],\n",
    "             count_label=count_label,\n",
    "             legend=\"MaxDCA of all Phylum(No ML)\",\n",
    "             step=step,zoom_thres=zoom_thres,color=\"black\")\n",
    "\n",
    "\n",
    "DCA_RocCurve(STRING115EggNog1224Spe511145_topDCAs_predicted_results[\"RF\"]['RF_ytopDCAs_predict_prob'], \n",
    "             STRING115EggNog1224Spe511145_topDCAs_predicted_results[\"ytopDCAs_test\"],\n",
    "             count_label=count_label,\n",
    "             legend=\"Top20DCAsWithoutIntegration(RF)\",\n",
    "             step=step,zoom_thres=zoom_thres,color=colors[3])\n",
    "\n",
    "DCA_RocCurve(STRING115EggNog1224Spe511145_uniquePhyla_BestHomologousDCAs_top5DCAs_predicted_results[\"RF\"]['RF_yBestHomologousDCAs_predict_prob'], \n",
    "             STRING115EggNog1224Spe511145_uniquePhyla_BestHomologousDCAs_top5DCAs_predicted_results[\"yBestHomologousDCAs_test\"],\n",
    "             count_label=count_label,\n",
    "             legend=\"top20DCAsWithIntegratio(RF)\",\n",
    "             step=step,zoom_thres=zoom_thres,color=colors[4])\n",
    "\n",
    "\n",
    "\n",
    "#plt.legend(loc='best')\n",
    "#plt.legend( bbox_to_anchor=(1.05, 1), loc='upper left' )\n",
    "#axA.set_title(\"Performance \",loc='left',loc='center',fontsize=10)\n",
    "#ax1.set_xlabel(\"taaata\",loc='left top')\n",
    "axA.text(-1000, 1000, 'A', weight='bold')\n",
    "axA.legend(fontsize=8)\n",
    "\n",
    "\n",
    "\n",
    "axB =plt.subplot(2,2,2)\n",
    "Random_RocCurve(STRING115EggNog1224Spe511145_topDCAs_predicted_results_fixedNegVSposRratio_keepCombination[\"ytopFeas_test\"],\n",
    "             count_label=count_label,legend=\"Random prediction(No ML)\",step=step,zoom_thres=zoom_thres,color=colors[0])\n",
    "\n",
    "# DCA_RocCurve(replacingDCAScores_STRING115EggNog1224Spe511145_uniquePhyla_BestHomologousDCAs_top5DCAs_predicted_results_fixedNegVSposRratio_keepCombination[\"RF\"]['RF_ytopFeas_predict_prob'], \n",
    "#              replacingDCAScores_STRING115EggNog1224Spe511145_uniquePhyla_BestHomologousDCAs_top5DCAs_predicted_results_fixedNegVSposRratio_keepCombination[\"ytopFeas_test\"],\n",
    "#              count_label=count_label,legend=\"Presence/Absence(RF)\",step=step,zoom_thres=zoom_thres,color=colors[1])\n",
    "\n",
    "\n",
    "DCA_RocCurve(STRING115EggNog1224Spe511145_topDCAs_predicted_results_fixedNegVSposRratio_keepCombination[\"XtopFeas_test\"][:,0], \n",
    "             STRING115EggNog1224Spe511145_topDCAs_predicted_results_fixedNegVSposRratio_keepCombination[\"ytopFeas_test\"],\n",
    "             count_label=count_label,legend=\"MaxDCA(No ML)\",step=step,zoom_thres=zoom_thres,color=colors[2])\n",
    "\n",
    "\n",
    "\n",
    "DCA_RocCurve(STRING115EggNog1224Spe511145_uniquePhyla_BestHomologousDCAs_top5DCAs_predicted_results_fixedNegVSposRratio_keepCombination[\"XtopFeas_test\"].max(axis=1), \n",
    "             STRING115EggNog1224Spe511145_uniquePhyla_BestHomologousDCAs_top5DCAs_predicted_results_fixedNegVSposRratio_keepCombination[\"ytopFeas_test\"],\n",
    "             count_label=count_label,\n",
    "             legend=\"MaxDCA of all Phylum(No ML)\",\n",
    "             step=step,zoom_thres=zoom_thres,color=\"black\")\n",
    "\n",
    "DCA_RocCurve(STRING115EggNog1224Spe511145_topDCAs_predicted_results_fixedNegVSposRratio_keepCombination[\"RF\"]['RF_ytopFeas_predict_prob'], \n",
    "             STRING115EggNog1224Spe511145_topDCAs_predicted_results_fixedNegVSposRratio_keepCombination[\"ytopFeas_test\"],\n",
    "             count_label=count_label,legend=\"Top20DCAsWithoutIntegration(RF)\",step=step,zoom_thres=zoom_thres,color=colors[3])\n",
    "\n",
    "DCA_RocCurve(STRING115EggNog1224Spe511145_uniquePhyla_BestHomologousDCAs_top5DCAs_predicted_results_fixedNegVSposRratio_keepCombination[\"RF\"]['RF_ytopFeas_predict_prob'], \n",
    "             STRING115EggNog1224Spe511145_uniquePhyla_BestHomologousDCAs_top5DCAs_predicted_results_fixedNegVSposRratio_keepCombination[\"ytopFeas_test\"],\n",
    "             count_label=count_label,legend=\"Top20DCAsWithIntegratio(RF)\",step=step,zoom_thres=zoom_thres,color=colors[4])\n",
    "\n",
    "\n",
    "\n",
    "#plt.legend( bbox_to_anchor=(1.05, 1), loc='upper left' )\n",
    "axB.text(-300, 1000, 'B', weight='bold')\n",
    "axB.legend(fontsize=8)\n",
    "\n",
    "\n",
    "\n",
    "\n",
    "axC =plt.subplot(2,2,3)\n",
    "Random_RocCurve(notManyNans_0_STRING115EggNog1224Spe511145_topDCAs_predicted_results[\"ytopFeas_test\"],\n",
    "             count_label=count_label,legend=\"Random prediction(No ML)\",step=step,color=colors[0])\n",
    "\n",
    "DCA_RocCurve(notManyNans_0_STRING115EggNog1224Spe511145_topDCAs_predicted_results[\"XtopFeas_test\"][:,0], \n",
    "             notManyNans_0_STRING115EggNog1224Spe511145_topDCAs_predicted_results[\"ytopFeas_test\"],\n",
    "             count_label=count_label,legend=\"MaxDCA(No ML)\",step=step,zoom_thres=zoom_thres,color=colors[2])\n",
    "\n",
    "\n",
    "DCA_RocCurve(notManyNans_0_STRING115EggNog1224Spe511145_uniquePhyla_BestHomologousDCAs_top5DCAs_predicted_results[\"XtopFeas_test\"].max(axis=1), \n",
    "             notManyNans_0_STRING115EggNog1224Spe511145_uniquePhyla_BestHomologousDCAs_top5DCAs_predicted_results[\"ytopFeas_test\"],\n",
    "             count_label=count_label,\n",
    "             legend=\"MaxDCA of all Phylum(No ML)\",\n",
    "             step=step,zoom_thres=zoom_thres,color=\"black\")\n",
    "\n",
    "DCA_RocCurve(notManyNans_0_STRING115EggNog1224Spe511145_topDCAs_predicted_results[\"RF\"]['RF_ytopFeas_predict_prob'], \n",
    "             notManyNans_0_STRING115EggNog1224Spe511145_topDCAs_predicted_results[\"ytopFeas_test\"],\n",
    "             count_label=count_label,legend=\"Top20DCAsWithoutIntegration(RF)\",step=step,zoom_thres=zoom_thres,color=colors[3])\n",
    "\n",
    "\n",
    "DCA_RocCurve(notManyNans_0_STRING115EggNog1224Spe511145_uniquePhyla_BestHomologousDCAs_top5DCAs_predicted_results[\"RF\"]['RF_ytopFeas_predict_prob'], \n",
    "             notManyNans_0_STRING115EggNog1224Spe511145_uniquePhyla_BestHomologousDCAs_top5DCAs_predicted_results[\"ytopFeas_test\"],\n",
    "             count_label=count_label,legend=\"Top20DCAsWithIntegratio(RF)\",step=step,zoom_thres=zoom_thres,color=colors[4])\n",
    "\n",
    "\n",
    "\n",
    "axC.text(-120, 318.75, 'C', weight='bold') \n",
    "axC.legend(fontsize=8)\n",
    "plt.show()\n",
    "\n",
    "fig3.savefig(\"/mnt/mnemo5/tao/temp_figures/Fig3.pdf\", dpi=600)\n",
    "\n",
    "\n"
   ]
  },
  {
   "cell_type": "code",
   "execution_count": null,
   "id": "b5901c8e-4fdb-455c-b765-31197f16865e",
   "metadata": {},
   "outputs": [],
   "source": []
  },
  {
   "cell_type": "code",
   "execution_count": null,
   "id": "a86bc3b9-a98b-4630-8f8e-f2a6871107b2",
   "metadata": {
    "tags": []
   },
   "outputs": [],
   "source": [
    "# %%time \n",
    "# # Fig 3 \n",
    "# # https://towardsdatascience.com/4-simple-tips-for-plotting-multiple-graphs-in-python-38df2112965c\n",
    "# # https://stackoverflow.com/questions/13714454/specifying-and-saving-a-figure-with-exact-size-in-pixels\n",
    "# # https://stackoverflow.com/questions/42435446/how-to-put-text-outside-python-plots\n",
    "# # https://matplotlib.org/stable/gallery/text_labels_and_annotations/titles_demo.html\n",
    "\n",
    "# fig3 = plt.figure(figsize=(12,8)) #plt.figure(figsize=(12,8))\n",
    "# count_label=\"count\"\n",
    "# step=100 #10\n",
    "# zoom_thres=None\n",
    "\n",
    "# colors=['#ffff33', '#ff7f00', '#984ea3', '#4daf4a', '#377eb8', '#e41a1c']\n",
    "\n",
    "# axA = plt.subplot(2,2,1)\n",
    "# Random_RocCurve(STRING115EggNog1224Spe511145_topDCAs_predicted_results[\"ytopDCAs_test\"],\n",
    "#              count_label=count_label,\n",
    "#                 legend=\"Random prediction(No ML)\",\n",
    "#                 step=step,\n",
    "#                 color=colors[0]\n",
    "#                )\n",
    "\n",
    "\n",
    "# DCA_RocCurve(STRING115EggNog1224Spe511145_topDCAs_predicted_results[\"XtopDCAs_test\"][:,0], \n",
    "#              STRING115EggNog1224Spe511145_topDCAs_predicted_results[\"ytopDCAs_test\"],\n",
    "#              count_label=count_label,\n",
    "#              legend=\"MaxDCA(No ML)\",\n",
    "#              step=step,zoom_thres=zoom_thres,color=colors[2])\n",
    "\n",
    "# DCA_RocCurve(STRING115EggNog1224Spe511145_uniquePhyla_BestHomologousDCAs_top5DCAs_predicted_results[\"XBestHomologousDCAs_test\"].max(axis=1), \n",
    "#              STRING115EggNog1224Spe511145_uniquePhyla_BestHomologousDCAs_top5DCAs_predicted_results[\"yBestHomologousDCAs_test\"],\n",
    "#              count_label=count_label,\n",
    "#              legend=\"MaxDCA of all Phylum(No ML)\",\n",
    "#              step=step,zoom_thres=zoom_thres,color=colors[3])\n",
    "\n",
    "\n",
    "# #plt.legend(loc='best')\n",
    "# #plt.legend( bbox_to_anchor=(1.05, 1), loc='upper left' )\n",
    "# #axA.set_title(\"Performance \",loc='left',loc='center',fontsize=10)\n",
    "# #ax1.set_xlabel(\"taaata\",loc='left top')\n",
    "# #axA.text(-1000, 1000, 'A', weight='bold')\n",
    "\n",
    "# axA.legend(fontsize=8)\n",
    "\n",
    "# plt.show()"
   ]
  },
  {
   "cell_type": "code",
   "execution_count": null,
   "id": "75d9f32c-fbda-47bf-89ae-1878e577ccb8",
   "metadata": {},
   "outputs": [],
   "source": []
  },
  {
   "cell_type": "markdown",
   "id": "9fd97fbd-8f5a-4a10-b602-124584f47513",
   "metadata": {},
   "source": [
    "## sup figure 1 "
   ]
  },
  {
   "cell_type": "code",
   "execution_count": null,
   "id": "d1712317-42e5-43f8-83e3-7eea3bed1ad0",
   "metadata": {
    "tags": []
   },
   "outputs": [],
   "source": [
    "fig3 = plt.figure(figsize=(12,12)) #(15,8)\n",
    "\n",
    "plotType=\"PR\"\n",
    "count_label=\"rate\"\n",
    "\n",
    "step=1#10#1\n",
    "zoom_thres=None\n",
    "\n",
    "colors=[ '#91bfdb', '#4575b4','#fee090', '#fc8d59', '#d73027']\n",
    "\n",
    "axA = plt.subplot(2,2,1)\n",
    "\n",
    "DCA_RocCurve(STRING115EggNog1224Spe511145_topDCAs_predicted_results[\"XtopDCAs_test\"][:,0], \n",
    "             STRING115EggNog1224Spe511145_topDCAs_predicted_results[\"ytopDCAs_test\"],\n",
    "             count_label=count_label,\n",
    "             legend=\"Random prediction(No ML)\",\n",
    "             step=step,zoom_thres=zoom_thres,\n",
    "            plotType=plotType, \n",
    "             color=colors[0],\n",
    "             randomplot=True)\n",
    "\n",
    "\n",
    "DCA_RocCurve(replacingDCAScores_STRING115EggNog1224Spe511145_uniquePhyla_BestHomologousDCAs_top5DCAs_predicted_results[\"RF\"]['RF_yBestHomologousDCAs_predict_prob'], \n",
    "             replacingDCAScores_STRING115EggNog1224Spe511145_uniquePhyla_BestHomologousDCAs_top5DCAs_predicted_results[\"yBestHomologousDCAs_test\"],\n",
    "             count_label=count_label,\n",
    "             legend=\"Presence/Absence(RF)\",\n",
    "             step=step,zoom_thres=zoom_thres,\n",
    "            plotType=plotType,\n",
    "             color=colors[1],\n",
    "            )\n",
    "\n",
    "\n",
    "DCA_RocCurve(STRING115EggNog1224Spe511145_topDCAs_predicted_results[\"XtopDCAs_test\"][:,0], \n",
    "             STRING115EggNog1224Spe511145_topDCAs_predicted_results[\"ytopDCAs_test\"],\n",
    "             count_label=count_label,\n",
    "             legend=\"MaxDCA(No ML)\",\n",
    "             step=step,zoom_thres=zoom_thres,\n",
    "            plotType=plotType,\n",
    "            color=colors[2],)\n",
    "\n",
    "\n",
    "\n",
    "\n",
    "DCA_RocCurve(STRING115EggNog1224Spe511145_topDCAs_predicted_results[\"RF\"]['RF_ytopDCAs_predict_prob'], \n",
    "             STRING115EggNog1224Spe511145_topDCAs_predicted_results[\"ytopDCAs_test\"],\n",
    "             count_label=count_label,\n",
    "             legend=\"Top20DCAsWithoutIntegration(RF)\",\n",
    "             step=step,zoom_thres=zoom_thres,\n",
    "            plotType=plotType,\n",
    "            color=colors[3],)\n",
    "\n",
    "\n",
    "DCA_RocCurve(STRING115EggNog1224Spe511145_uniquePhyla_BestHomologousDCAs_top5DCAs_predicted_results[\"RF\"]['RF_yBestHomologousDCAs_predict_prob'], \n",
    "             STRING115EggNog1224Spe511145_uniquePhyla_BestHomologousDCAs_top5DCAs_predicted_results[\"yBestHomologousDCAs_test\"],\n",
    "             count_label=count_label,\n",
    "             legend=\"top20DCAsWithIntegration(RF)\",\n",
    "             step=step,zoom_thres=zoom_thres,\n",
    "            plotType=plotType,\n",
    "            color=colors[4],)\n",
    "\n",
    "\n",
    "\n",
    "\n",
    "axA.legend().set_visible(False)\n",
    "axA.set_xlabel(\"Recall\",fontsize=16)\n",
    "axA.set_ylabel(\"Precision\",fontsize=16)\n",
    "# axA.set_title(\"PR curve \",loc='center',fontsize=16)\n",
    "axA.legend(fontsize=10,\n",
    "           # loc=\"upper right\",\n",
    "           # loc='center left', bbox_to_anchor=(1, 0.5),\n",
    "          )\n",
    "plt.xticks(fontsize=12)# compare with ax2.set_xticks, this one dont need to give exact ticks position\n",
    "plt.yticks(fontsize=12)\n",
    "\n",
    "axC= plt.subplot(2,2,2)\n",
    "# https://towardsdatascience.com/how-to-use-your-own-color-palettes-with-seaborn-a45bf5175146\n",
    "# Create an array with the colors you want to use\n",
    "# colors = [\"#404040\", \"#bababa\",\"#ca0020\",\"#f4a582\"] # https://colorbrewer2.org/#type=diverging&scheme=RdGy&n=4\n",
    "colors = [\"#404040\", \"#bababa\",\"#4d9221\",\"#a1d76a\",]\n",
    "# Set your custom color palette\n",
    "#sns.set_palette(sns.color_palette(colors))\n",
    "customPalette = sns.set_palette(sns.color_palette(colors))\n",
    "ax=sns.barplot(x=\"Num Of missing values\", y=\"Count\",hue=\"Benchmark status\", \n",
    "            data=fig3C_frame,\n",
    "           palette=customPalette,\n",
    "              ax=axC)\n",
    "ax.set_yscale(\"log\")\n",
    "# axC.legend(fontsize=8)\n",
    "sns.reset_defaults()\n",
    "\n",
    "axC.legend().set_visible(False)\n",
    "axC.set_xlabel(\"Num Of missing values\",fontsize=16)\n",
    "axC.set_ylabel(\"Count\",fontsize=16)\n",
    "# axC.set_title(\"PR curve \",loc='center',fontsize=16)\n",
    "axC.legend(fontsize=10,\n",
    "           # loc=\"upper right\",\n",
    "           # loc='center left', bbox_to_anchor=(1, 0.5),\n",
    "           \n",
    "          )\n",
    "plt.xticks(fontsize=12)# compare with ax2.set_xticks, this one dont need to give exact ticks position\n",
    "plt.yticks(fontsize=12)\n",
    "\n",
    "\n",
    "\n",
    "\n",
    "axD =plt.subplot(2,2,3)\n",
    "plotType=\"PR\"\n",
    "count_label=\"rate\"\n",
    "colors=[ '#91bfdb', '#4575b4','#fee090', '#fc8d59', '#d73027']\n",
    "\n",
    "\n",
    "\n",
    "DCA_RocCurve(notManyNans_0_STRING115EggNog1224Spe511145_topDCAs_predicted_results[\"XtopFeas_test\"][:,0], \n",
    "             notManyNans_0_STRING115EggNog1224Spe511145_topDCAs_predicted_results[\"ytopFeas_test\"],\n",
    "             count_label=count_label,legend=\"Random prediction(No ML)\",step=step,zoom_thres=zoom_thres,\n",
    "            plotType=plotType,\n",
    "             color=colors[0],\n",
    "            randomplot=True)\n",
    "\n",
    "DCA_RocCurve(notManyNans_0_STRING115EggNog1224Spe511145_topDCAs_predicted_results[\"XtopFeas_test\"][:,0], \n",
    "             notManyNans_0_STRING115EggNog1224Spe511145_topDCAs_predicted_results[\"ytopFeas_test\"],\n",
    "             count_label=count_label,legend=\"MaxDCA(No ML)\",step=step,zoom_thres=zoom_thres,\n",
    "            plotType=plotType,\n",
    "             color=colors[2],\n",
    "            )\n",
    "\n",
    "\n",
    "\n",
    "# Random_RocCurve(notManyNans_0_STRING115EggNog1224Spe511145_topDCAs_predicted_results[\"ytopFeas_test\"],\n",
    "#              count_label=count_label,legend=\"Random prediction(No ML)\",step=step,\n",
    "#                plotType=plotType)\n",
    "\n",
    "\n",
    "DCA_RocCurve(notManyNans_0_STRING115EggNog1224Spe511145_topDCAs_predicted_results[\"RF\"]['RF_ytopFeas_predict_prob'], \n",
    "             notManyNans_0_STRING115EggNog1224Spe511145_topDCAs_predicted_results[\"ytopFeas_test\"],\n",
    "             count_label=count_label,legend=\"Top20DCAsWithoutIntegration(RF)\",step=step,zoom_thres=zoom_thres,\n",
    "            plotType=plotType,\n",
    "            color=colors[3],)\n",
    "\n",
    "\n",
    "DCA_RocCurve(notManyNans_0_STRING115EggNog1224Spe511145_uniquePhyla_BestHomologousDCAs_top5DCAs_predicted_results[\"RF\"]['RF_ytopFeas_predict_prob'], \n",
    "             notManyNans_0_STRING115EggNog1224Spe511145_uniquePhyla_BestHomologousDCAs_top5DCAs_predicted_results[\"ytopFeas_test\"],\n",
    "             count_label=count_label,legend=\"Top20DCAsWithIntegratio(RF)\",step=step,zoom_thres=zoom_thres,\n",
    "            plotType=plotType,\n",
    "            color=colors[4],)\n",
    "\n",
    "\n",
    "axD.legend().set_visible(False)\n",
    "axD.set_xlabel(\"Recall\",fontsize=16)\n",
    "axD.set_ylabel(\"Precision\",fontsize=16)\n",
    "# axD.set_title(\"PR curve \",loc='center',fontsize=16)\n",
    "axD.legend(fontsize=10,\n",
    "           # loc=\"upper right\",\n",
    "           # loc='center left', bbox_to_anchor=(1, 0.5),\n",
    "           \n",
    "          )\n",
    "plt.xticks(fontsize=12)# compare with ax2.set_xticks, this one dont need to give exact ticks position\n",
    "plt.yticks(fontsize=12)\n",
    "\n",
    "\n",
    "plt.show()\n",
    "\n",
    "fig3.savefig(\"/mnt/mnemo5/tao/temp_figures/PhysicalPPIScreen_SupFigure.pdf\", dpi=600)\n",
    "\n"
   ]
  },
  {
   "cell_type": "code",
   "execution_count": null,
   "id": "4758a006-c8ae-4546-ba60-15d5d2f13cfc",
   "metadata": {},
   "outputs": [],
   "source": []
  }
 ],
 "metadata": {
  "kernelspec": {
   "display_name": "py38_notebook",
   "language": "python",
   "name": "py38_notebook"
  },
  "language_info": {
   "codemirror_mode": {
    "name": "ipython",
    "version": 3
   },
   "file_extension": ".py",
   "mimetype": "text/x-python",
   "name": "python",
   "nbconvert_exporter": "python",
   "pygments_lexer": "ipython3",
   "version": "3.8.18"
  },
  "toc-autonumbering": false
 },
 "nbformat": 4,
 "nbformat_minor": 5
}
