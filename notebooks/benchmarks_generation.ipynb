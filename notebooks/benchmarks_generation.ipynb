{
 "cells": [
  {
   "cell_type": "code",
   "execution_count": 3,
   "id": "007d7683-2fac-4821-a50d-ad8f6dd98ef6",
   "metadata": {},
   "outputs": [],
   "source": [
    "import pandas as pd"
   ]
  },
  {
   "cell_type": "code",
   "execution_count": null,
   "id": "86200963-7868-4272-8d76-b121ae2adcc6",
   "metadata": {},
   "outputs": [],
   "source": [
    "http://localhost:8206/lab/tree/PPI_Prediction_byCoevolution/notebooks/deimos_identifyNovelPPI_phylumeffect_allEcoliPPI_visulization_fullHomologous_oneBestHomologousPP.ipynb"
   ]
  },
  {
   "cell_type": "code",
   "execution_count": null,
   "id": "f5645ad4-f0fd-4eb6-b6e2-5aa5a3f9c705",
   "metadata": {},
   "outputs": [],
   "source": []
  },
  {
   "cell_type": "markdown",
   "id": "13485d1e-e655-4270-bfd0-158f6b53c82a",
   "metadata": {},
   "source": [
    "# Same pos and neg ppi from different taxononical levels"
   ]
  },
  {
   "cell_type": "code",
   "execution_count": null,
   "id": "2eb51b57-616c-40b9-873f-c00c7f402cf0",
   "metadata": {},
   "outputs": [],
   "source": [
    "http://localhost:8206/lab/workspaces/auto-X/tree/code/MNF/notebooks/STRING_Data_11.5/SamePosandNeg_test_phylumeffect_withLowDCA_visulization_fullHomologous_oneBestHomologousPP.ipynb\n",
    "\n",
    "\n",
    "\n"
   ]
  },
  {
   "cell_type": "code",
   "execution_count": 4,
   "id": "4c569c1e-770f-4519-aad4-3f6816e336e3",
   "metadata": {},
   "outputs": [
    {
     "name": "stdout",
     "output_type": "stream",
     "text": [
      "level2Data.shape: (25870, 7)\n",
      "level1224Data.shape: (18492, 7)\n",
      "level1236Data.shape: (9628, 7)\n",
      "STRINGcurrenttestPhylaEffectSamePPI_benchmark.shape: (53990, 3)\n",
      "STRINGcurrenttestPhylaEffectSamePPI_benchmark.shape: (44612, 3)\n",
      "len(currentSpe_STRINGcurrenttestPhylaEffectSamePPI_posPPI_pps and negPPI_pps): 6279 38333 44612\n"
     ]
    }
   ],
   "source": [
    "level2Data_file=\"/mnt/mnemo6/tao/PPI_Coevolution/CoEvo_data_STRING11.5/511145_EggNOGmaxLevel2_eggNOGfilteredData/STRINPhyPPI_Benchmark/allPPI_allInfo_frame.csv\"\n",
    "level2Data=pd.read_csv(level2Data_file,sep=\"\\t\",\n",
    "                               header=0,index_col=None)\n",
    "print(\"level2Data.shape:\",level2Data.shape)\n",
    "\n",
    "\n",
    "level1224Data_file=\"/mnt/mnemo6/tao/PPI_Coevolution/CoEvo_data_STRING11.5/511145_EggNOGmaxLevel1224_eggNOGfilteredData/STRINPhyPPI_Benchmark/allPPI_allInfo_frame.csv\"\n",
    "level1224Data=pd.read_csv(level1224Data_file,sep=\"\\t\",\n",
    "                               header=0,index_col=None)\n",
    "print(\"level1224Data.shape:\",level1224Data.shape)\n",
    "\n",
    "\n",
    "level1236Data_file=\"/mnt/mnemo6/tao/PPI_Coevolution/CoEvo_data_STRING11.5/511145_EggNOGmaxLevel1236_eggNOGfilteredData/STRINPhyPPI_Benchmark/allPPI_allInfo_frame.csv\"\n",
    "level1236Data=pd.read_csv(level1236Data_file,sep=\"\\t\",\n",
    "                               header=0,index_col=None)\n",
    "print(\"level1236Data.shape:\",level1236Data.shape)\n",
    "\n",
    "\n",
    "\n",
    "STRINGcurrenttestPhylaEffectSamePPI_benchmark=pd.concat([level2Data,level1224Data,level1236Data])\n",
    "STRINGcurrenttestPhylaEffectSamePPI_benchmark=STRINGcurrenttestPhylaEffectSamePPI_benchmark.loc[:,[\"STRING_ID1\",\"STRING_ID2\",\"benchmark_status\"]]\n",
    "print(\"STRINGcurrenttestPhylaEffectSamePPI_benchmark.shape:\",STRINGcurrenttestPhylaEffectSamePPI_benchmark.shape)\n",
    "\n",
    "STRINGcurrenttestPhylaEffectSamePPI_benchmark=STRINGcurrenttestPhylaEffectSamePPI_benchmark.drop_duplicates()\n",
    "print(\"STRINGcurrenttestPhylaEffectSamePPI_benchmark.shape:\",STRINGcurrenttestPhylaEffectSamePPI_benchmark.shape)\n",
    "\n",
    "\n",
    "\n",
    "# constructure final positive  PPI and negative PPI \n",
    "currentSpe_STRINGcurrenttestPhylaEffectSamePPI_posPPI_pps=STRINGcurrenttestPhylaEffectSamePPI_benchmark.loc[STRINGcurrenttestPhylaEffectSamePPI_benchmark[\"benchmark_status\"]==\"P\",[\"STRING_ID1\",\"STRING_ID2\"]].values.tolist()\n",
    "currentSpe_STRINGcurrenttestPhylaEffectSamePPI_posPPI_pps=[tuple(pp) for pp in currentSpe_STRINGcurrenttestPhylaEffectSamePPI_posPPI_pps]\n",
    "\n",
    "\n",
    "currentSpe_STRINGcurrenttestPhylaEffectSamePPI_negPPI_pps=STRINGcurrenttestPhylaEffectSamePPI_benchmark.loc[STRINGcurrenttestPhylaEffectSamePPI_benchmark[\"benchmark_status\"]==\"N\",[\"STRING_ID1\",\"STRING_ID2\"]].values.tolist()\n",
    "currentSpe_STRINGcurrenttestPhylaEffectSamePPI_negPPI_pps=[tuple(pp) for pp in currentSpe_STRINGcurrenttestPhylaEffectSamePPI_negPPI_pps]\n",
    "print(\"len(currentSpe_STRINGcurrenttestPhylaEffectSamePPI_posPPI_pps and negPPI_pps):\",len(currentSpe_STRINGcurrenttestPhylaEffectSamePPI_posPPI_pps),len(currentSpe_STRINGcurrenttestPhylaEffectSamePPI_negPPI_pps),len(currentSpe_STRINGcurrenttestPhylaEffectSamePPI_posPPI_pps)+len(currentSpe_STRINGcurrenttestPhylaEffectSamePPI_negPPI_pps))\n"
   ]
  },
  {
   "cell_type": "code",
   "execution_count": null,
   "id": "ee9faaef-1965-4d55-9c78-de4e962ebccc",
   "metadata": {},
   "outputs": [],
   "source": []
  },
  {
   "cell_type": "code",
   "execution_count": null,
   "id": "0e9b6bb1-c8c6-4499-a28f-8912b4d8d702",
   "metadata": {},
   "outputs": [],
   "source": [
    "# run once \n",
    "# testPhylaEffectDownSampleSamePPs_Benchmark=\"/mnt/mnemo6/tao/PPI_Coevolution/CoEvo_data_STRING11.5/AllLevel_testPhylaEffectSamePosandNeg_Benchmark/\"\n",
    "\n",
    "# SamePosandNeg_STRING115EggNog1236Spe511145_topDCAs_predicted_results['updated_allPPI_allInfo_frame'].to_csv(testPhylaEffectDownSampleSamePPs_Benchmark+\"SamePosandNeg_STRING115EggNog1236Spe511145.benchmark\",\n",
    "#                                                                                                             header=True,index=None,sep=\"\\t\")\n",
    "\n",
    "# SamePosandNeg_STRING115EggNog1224Spe511145_topDCAs_predicted_results['updated_allPPI_allInfo_frame'].to_csv(testPhylaEffectDownSampleSamePPs_Benchmark+\"SamePosandNeg_STRING115EggNog1224Spe511145.benchmark\",\n",
    "#                                                                                                             header=True,index=None,sep=\"\\t\")\n",
    "\n",
    "# SamePosandNeg_STRING115EggNog2Spe511145_topDCAs_predicted_results['updated_allPPI_allInfo_frame'].to_csv(testPhylaEffectDownSampleSamePPs_Benchmark+\"SamePosandNeg_STRING115EggNog2Spe511145.benchmark\",\n",
    "#                                                                                                             header=True,index=None,sep=\"\\t\")\n",
    "\n",
    "\n",
    "# temp_Benchmark_folder_list=list()\n",
    "# for EggNOG_maxLevel,currentSpe_TaxID in [('1236', '511145'),('1224', '511145'), ('2', '511145'),]:\n",
    "#     temp_input_root_folder=CoEvo_data_folder+currentSpe_TaxID+\"_EggNOGmaxLevel\"+EggNOG_maxLevel+\"_eggNOGfilteredData/\"\n",
    "#     temp_Benchmark_folder=temp_input_root_folder+\"testPhylaEffectNotDownSampleSamePPs_Benchmark/\"\n",
    "#     print(temp_Benchmark_folder)\n",
    "        \n",
    "#     if not os.path.exists(temp_Benchmark_folder):\n",
    "#         os.makedirs(temp_Benchmark_folder)\n",
    "#     temp_Benchmark_folder_list.append(temp_Benchmark_folder)\n",
    "    \n",
    "# SamePosandNeg_STRING115EggNog1236Spe511145_topDCAs_predicted_results['updated_allPPI_allInfo_frame'].to_csv(temp_Benchmark_folder_list[0]+\"allPPI_allInfo_frame.csv\",\n",
    "#                                                                                                             header=True,index=None,sep=\"\\t\")\n",
    "\n",
    "# SamePosandNeg_STRING115EggNog1224Spe511145_topDCAs_predicted_results['updated_allPPI_allInfo_frame'].to_csv(temp_Benchmark_folder_list[1]+\"allPPI_allInfo_frame.csv\",\n",
    "#                                                                                                             header=True,index=None,sep=\"\\t\")\n",
    "\n",
    "\n",
    "# SamePosandNeg_STRING115EggNog2Spe511145_topDCAs_predicted_results['updated_allPPI_allInfo_frame'].to_csv(temp_Benchmark_folder_list[2]+\"allPPI_allInfo_frame.csv\",\n",
    "#                                                                                                             header=True,index=None,sep=\"\\t\")\n",
    "\n"
   ]
  }
 ],
 "metadata": {
  "kernelspec": {
   "display_name": "py37_scikitlearn",
   "language": "python",
   "name": "py37_scikitlearn"
  },
  "language_info": {
   "codemirror_mode": {
    "name": "ipython",
    "version": 3
   },
   "file_extension": ".py",
   "mimetype": "text/x-python",
   "name": "python",
   "nbconvert_exporter": "python",
   "pygments_lexer": "ipython3",
   "version": "3.7.12"
  }
 },
 "nbformat": 4,
 "nbformat_minor": 5
}
