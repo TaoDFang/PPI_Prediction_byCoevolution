{
 "cells": [
  {
   "cell_type": "code",
   "execution_count": 67,
   "id": "007d7683-2fac-4821-a50d-ad8f6dd98ef6",
   "metadata": {},
   "outputs": [],
   "source": [
    "import os\n",
    "import sys\n",
    "import pandas as pd\n",
    "import copy\n",
    "import glob\n",
    "import pickle\n",
    "import itertools\n",
    "\n",
    "from collections import defaultdict\n",
    "\n",
    "import matplotlib.pyplot as plt\n",
    "\n",
    "import random \n",
    "random.seed(10)\n",
    "\n",
    "\n",
    "\n",
    "sys.path.append('../src/utilities/')\n",
    "from ML_benchmark_datasets import return_STRINGFulllPhyBalancePhylaPPI_benchmark_PPs\n",
    "from STRING_benchmark import  get_STRING1105_physical_interact\n",
    "from PPI_benchmark_filter import get_PPIwithLimitedProFreByOr"
   ]
  },
  {
   "cell_type": "code",
   "execution_count": 33,
   "id": "f220bd11-1fbf-4c3b-94a4-a386da47beac",
   "metadata": {},
   "outputs": [],
   "source": [
    "notebookData_folder=\"/mnt/mnemo6/tao/notebook_data/\"  #\"/mnt/mnemo6/tao/\" /mnt/mnemo6/tao/notebook_data/"
   ]
  },
  {
   "cell_type": "code",
   "execution_count": 42,
   "id": "29178d14-43ed-42a3-9d05-6a99cce06444",
   "metadata": {},
   "outputs": [],
   "source": [
    "Query_tuple=('1224', '511145')"
   ]
  },
  {
   "cell_type": "code",
   "execution_count": 35,
   "id": "0c96333e-06b2-407a-bd98-b02dc0301670",
   "metadata": {},
   "outputs": [
    {
     "name": "stdout",
     "output_type": "stream",
     "text": [
      "Query_Benchmark_folder:/mnt/mnemo6/tao/notebook_data/PPI_Coevolution/CoEvo_data_STRING11.5/allPPI_511145_EggNOGmaxLevel1224_eggNOGfilteredData/AllPPI_Benchmark/\n",
      "Query_DCA_coevolutoin_path:/mnt/mnemo6/tao/notebook_data/PPI_Coevolution/CoEvo_data_STRING11.5/allPPI_511145_EggNOGmaxLevel1224_eggNOGfilteredData/coevolutoin_result_DCA/\n"
     ]
    }
   ],
   "source": [
    "CoEvo_data_folder=notebookData_folder+\"PPI_Coevolution/CoEvo_data_STRING11.5/\" #\"/mnt/mnemo6/tao/PPI_Coevolution/CoEvo_data_STRING11.5/\",/net/cephfs/shares/von-mering.imls.uzh/tao/PPI_Coevolution/CoEvo_data_STRING11.5/\n",
    "Query_input_root_folder=CoEvo_data_folder+\"allPPI_\"+Query_tuple[1]+\"_EggNOGmaxLevel\"+Query_tuple[0]+\"_eggNOGfilteredData/\"\n",
    "Query_Benchmark_folder=Query_input_root_folder+\"AllPPI_Benchmark/\"\n",
    "Query_ML_inputPath=Query_Benchmark_folder+\"ML_inputs/\"\n",
    "\n",
    "Query_DCA_coevolutoin_path=Query_input_root_folder+\"coevolutoin_result_DCA/\"\n",
    "\n",
    "print(f\"Query_Benchmark_folder:{Query_Benchmark_folder}\")\n",
    "print(f\"Query_DCA_coevolutoin_path:{Query_DCA_coevolutoin_path}\")\n"
   ]
  },
  {
   "cell_type": "markdown",
   "id": "1fdfeb5a-7347-4675-aa90-3af1071a8b5c",
   "metadata": {},
   "source": [
    "# initial large machine learning benchmark\n",
    "\n",
    "original code from MNF/notebooks/ScienceCluster_code/STRING_Data_11.5/identifyNovelPPI_phylumeffect_allEcoliPPI_visulization_fullHomologous_oneBestHomologousPP_STRINGFullPhyBalancePhyla.ipynb\n",
    "\n",
    "\n"
   ]
  },
  {
   "cell_type": "code",
   "execution_count": 36,
   "id": "eb4be924-21f1-4817-97ae-d2b44a5bde68",
   "metadata": {},
   "outputs": [
    {
     "name": "stdout",
     "output_type": "stream",
     "text": [
      "(2269192, 4)\n"
     ]
    }
   ],
   "source": [
    "# %%time \n",
    "\n",
    "#this are collected from all DCA results, skip it if you dont genenerate all DCA results \n",
    "if not os.path.exists(Query_Benchmark_folder+\"allPPI_allInfo_frame.csv\"):\n",
    "    Query_existed_pydcaFNAPC_files=glob.glob(Query_DCA_coevolutoin_path+\"*_pydcaFNAPC_array.npz\")\n",
    "    print(len(Query_existed_pydcaFNAPC_files))\n",
    "    print(Query_existed_pydcaFNAPC_files[0:3])\n",
    "\n",
    "    Query_existed_pydcaFNAPC_files=[os.path.basename(f) for f in Query_existed_pydcaFNAPC_files]\n",
    "    Query_existed_pydcaFNAPC_pps=[f.split(\"and\") for f in Query_existed_pydcaFNAPC_files]\n",
    "    Query_existed_pydcaFNAPC_pps=[(p1,p2[:-21]) for p1, p2 in Query_existed_pydcaFNAPC_pps]\n",
    "\n",
    "\n",
    "\n",
    "    newSTRING_rootFolder=f\"{notebookData_folder}PPI_Coevolution/STRING_data_11.5/\"\n",
    "    Query_currentSpeMiddleDataPath=newSTRING_rootFolder+Query_tuple[1]+\"_EggNOGmaxLevel\"+Query_tuple[0]+\"_MiddleData/\"\n",
    "    with open(Query_currentSpeMiddleDataPath+'fasta_protein_lens_dict.pickle', 'rb') as handle:\n",
    "        Query_fasta_protein_lens=pickle.load(handle) \n",
    "\n",
    "    Query_existed_pydcaFNAPC_pps_info=[[p1,p2,Query_fasta_protein_lens[p1],Query_fasta_protein_lens[p2]] for p1 , p2 in Query_existed_pydcaFNAPC_pps]\n",
    "    print(\"len(Query_existed_pydcaFNAPC_pps_info):\",len(Query_existed_pydcaFNAPC_pps_info))\n",
    "\n",
    "    print(\"Query_existed_pydcaFNAPC_pps_info[0:3]:\",Query_existed_pydcaFNAPC_pps_info[0:3])\n",
    "\n",
    "    Query_allPPI_allInfo_frame=pd.DataFrame(Query_existed_pydcaFNAPC_pps_info,\n",
    "                                        columns=[\"STRING_ID1\",\"STRING_ID2\",\"len1\",\"len2\"]\n",
    "                                            )\n",
    "    Query_allPPI_allInfo_frame.head(n=3)\n",
    "\n",
    "\n",
    "    # Query_allPPI_allInfo_frame.to_csv(Query_Benchmark_folder+\"allPPI_allInfo_frame.csv\",header=True,index=None,sep=\"\\t\")\n",
    "\n",
    "else:\n",
    "    Query_allPPI_allInfo_frame=pd.read_csv(Query_Benchmark_folder+\"allPPI_allInfo_frame.csv\",\n",
    "                                     header=0,index_col=None,sep=\"\\t\")\n",
    "    print(Query_allPPI_allInfo_frame.shape)\n",
    "    Query_allPPI_allInfo_frame.head(n=3)"
   ]
  },
  {
   "cell_type": "code",
   "execution_count": null,
   "id": "0f10bf38-e41c-4fc4-a91a-dd74af07eadd",
   "metadata": {},
   "outputs": [],
   "source": []
  },
  {
   "cell_type": "code",
   "execution_count": null,
   "id": "93f7a4ca-4445-4f32-9915-df3937e96edc",
   "metadata": {},
   "outputs": [],
   "source": []
  },
  {
   "cell_type": "code",
   "execution_count": null,
   "id": "e2e4e965-6379-4ef3-a664-2fae03e862f5",
   "metadata": {},
   "outputs": [],
   "source": []
  },
  {
   "cell_type": "code",
   "execution_count": 37,
   "id": "9aa672e8-3b99-445b-9b70-6748642a0edc",
   "metadata": {},
   "outputs": [
    {
     "name": "stdout",
     "output_type": "stream",
     "text": [
      "STRINGcurrentSpePhyPPI_benchmark.shape: (53300, 3)\n",
      "STRINGcurrentSpePhyPPI_benchmark.shape: (15476, 3)\n",
      "CPU times: user 28.8 ms, sys: 8.55 ms, total: 37.3 ms\n",
      "Wall time: 112 ms\n"
     ]
    },
    {
     "data": {
      "text/plain": [
       "15476"
      ]
     },
     "execution_count": 37,
     "metadata": {},
     "output_type": "execute_result"
    }
   ],
   "source": [
    "%%time\n",
    "ML_pos_benchmarkFrame_dict=get_STRING1105_physical_interact(data_folder=f\"{notebookData_folder}STRING_derived_v11.5/download_files/protein.physical.links.v11.5/\",\n",
    "                                retrieve_spe=511145,\n",
    "                                combined_score_thres=500,\n",
    "                                inputFrameIsReversed=True,\n",
    "                                return_dict=True,)\n",
    "len(ML_pos_benchmarkFrame_dict)\n"
   ]
  },
  {
   "cell_type": "code",
   "execution_count": 38,
   "id": "f7bbcaa9-05e3-457f-8930-c4bd0948a80d",
   "metadata": {},
   "outputs": [
    {
     "name": "stdout",
     "output_type": "stream",
     "text": [
      "(1083186, 10)\n",
      "CPU times: user 2.07 s, sys: 1.87 s, total: 3.95 s\n",
      "Wall time: 4.04 s\n"
     ]
    }
   ],
   "source": [
    "%%time \n",
    "# this is a reversed file alread :(p1,p2),(p2,p1)\n",
    "Ecoli_string_score_filename=f\"{notebookData_folder}PPI_Coevolution/STRING_data_11.5/\"+\"511145.protein.links.detailed.v11.5.txt.gz\"\n",
    "\n",
    "Ecoli_string_score=pd.read_csv(Ecoli_string_score_filename,\n",
    "                               header=0,index_col=None,sep=\" \")\n",
    "Ecoli_string_score_list=Ecoli_string_score.loc[:,[\"protein1\",\"protein2\",\"combined_score\"]].values.tolist()\n",
    "Ecoli_string_score_dict=dict([((p1,p2),s)for p1, p2, s in Ecoli_string_score_list])\n",
    "\n",
    "print(Ecoli_string_score.shape)"
   ]
  },
  {
   "cell_type": "code",
   "execution_count": 39,
   "id": "8b353f95-7432-4b46-a8bb-4caca6797286",
   "metadata": {},
   "outputs": [],
   "source": [
    "input_allPPs_list=Query_allPPI_allInfo_frame.values.tolist()\n",
    "input_allPPs_list=[(p1,p2) for p1,p2,_,_ in input_allPPs_list]"
   ]
  },
  {
   "cell_type": "code",
   "execution_count": 40,
   "id": "7920a88c-384d-4d21-97f0-89ec0e6d35a4",
   "metadata": {},
   "outputs": [
    {
     "name": "stdout",
     "output_type": "stream",
     "text": [
      "len(currentSpe_STRINGFulllPhyBalancePhylaPPI_posPPI): 5532\n",
      "1057\n",
      "len(currentSpe_STRINGFulllPhyBalancePhylaPPI_negPPI): 2263660\n",
      "len(currentSpe_STRINGFulllPhyBalancePhylaPPI_negPPI): 482366\n",
      "string filtering,len(currentSpe_STRINGFulllPhyBalancePhylaPPI_negPPI) 414880\n",
      "frequency filtering ,len(currentSpe_STRINGFulllPhyBalancePhylaPPI_negPPI): 414880\n",
      "len(currentSpe_STRINGPhyBalancePhylaPPI_negPPI_ProFreDict): 1057\n"
     ]
    },
    {
     "data": {
      "image/png": "[encoded data removed]",
      "text/plain": [
       "<Figure size 432x288 with 1 Axes>"
      ]
     },
     "metadata": {
      "needs_background": "light"
     },
     "output_type": "display_data"
    }
   ],
   "source": [
    "\n",
    "\n",
    "currentSpe_STRINGFulllPhyBalancePhylaPPI_posPPI,currentSpe_STRINGFulllPhyBalancePhylaPPI_negPPI=return_STRINGFulllPhyBalancePhylaPPI_benchmark_PPs(ML_pos_benchmarkFrame_dict,\n",
    "                                                       input_allPPs_list\n",
    "                                                                                                                                                   ,\n",
    "                                                       Ecoli_string_score_dict,\n",
    "                                                       limitedProFre=100000,\n",
    "                                                      )\n",
    "\n",
    "currentSpe_STRINGFulllPhyBalancePhylaPPI_frame_list=list()\n",
    "for p1,p2 in currentSpe_STRINGFulllPhyBalancePhylaPPI_posPPI:\n",
    "    currentSpe_STRINGFulllPhyBalancePhylaPPI_frame_list.append([p1,p2,\"P\",])\n",
    "\n",
    "for p1,p2 in currentSpe_STRINGFulllPhyBalancePhylaPPI_negPPI:\n",
    "    currentSpe_STRINGFulllPhyBalancePhylaPPI_frame_list.append([p1,p2,\"N\",])\n",
    "currentSpe_STRINGFulllPhyBalancePhylaPPI_frame=pd.DataFrame(currentSpe_STRINGFulllPhyBalancePhylaPPI_frame_list,\n",
    "                                                            columns=[\"STRING_ID1\",\"STRING_ID2\",\"benchmark_status\"])\n",
    "\n",
    "# currentSpe_STRINGFulllPhyBalancePhylaPPI_frame.to_csv(\"/net/cephfs/shares/von-mering.imls.uzh/tao/PPI_Coevolution/CoEvo_data_STRING11.5/allPPI_511145_EggNOGmaxLevel1224_eggNOGfilteredData/STRINGFullPhyBalancePhyla_Benchmark/allPPI_allInfo_frame.csv\",\n",
    "#                                                       sep=\"\\t\",header=True,index=None)\n",
    "\n",
    "\n",
    "\n",
    "\n"
   ]
  },
  {
   "cell_type": "code",
   "execution_count": 41,
   "id": "720f4f02-8195-422c-a53c-4eb0f52dfad0",
   "metadata": {},
   "outputs": [
    {
     "data": {
      "text/plain": [
       "(420412, 3)"
      ]
     },
     "execution_count": 41,
     "metadata": {},
     "output_type": "execute_result"
    }
   ],
   "source": [
    "currentSpe_STRINGFulllPhyBalancePhylaPPI_frame.shape"
   ]
  },
  {
   "cell_type": "code",
   "execution_count": null,
   "id": "11a956cb-8051-4c0b-a676-b89e5308fb67",
   "metadata": {},
   "outputs": [],
   "source": []
  },
  {
   "cell_type": "code",
   "execution_count": null,
   "id": "20fef697-303f-474a-a48e-266b92493ee4",
   "metadata": {},
   "outputs": [],
   "source": []
  },
  {
   "cell_type": "code",
   "execution_count": null,
   "id": "f8d60bd6-f3aa-466b-9fbe-bb05558b1ed4",
   "metadata": {},
   "outputs": [],
   "source": []
  },
  {
   "cell_type": "code",
   "execution_count": null,
   "id": "86200963-7868-4272-8d76-b121ae2adcc6",
   "metadata": {},
   "outputs": [],
   "source": []
  },
  {
   "cell_type": "code",
   "execution_count": null,
   "id": "f5645ad4-f0fd-4eb6-b6e2-5aa5a3f9c705",
   "metadata": {},
   "outputs": [],
   "source": []
  },
  {
   "cell_type": "code",
   "execution_count": null,
   "id": "ab4756f8-f6c8-49b9-8544-1bfec8052159",
   "metadata": {},
   "outputs": [],
   "source": []
  },
  {
   "cell_type": "markdown",
   "id": "23f015ff-5136-4423-bbb3-a48fd617db2a",
   "metadata": {},
   "source": [
    "# smaller benchmark dataset at  taxononical levels to test effect of different alignment strategies\n",
    "\n",
    "\n",
    "original code from code/MNF/notebooks/STRING_Data_11.5/script_CoEvo_EggNOG_preprocessing_STRING1105_varyEggNOGMaxLevels_prepareSTRINPhyPPIBenchmark.py\n",
    "\n",
    "\n",
    "It generated similar as above but we just dont limit the frequency of each protein of negative PPI to limit the dataset for the sake of computational time.\n"
   ]
  },
  {
   "cell_type": "code",
   "execution_count": 53,
   "id": "79c31b29-e3a2-4add-ae58-3a9070e4ab3d",
   "metadata": {},
   "outputs": [],
   "source": [
    "\n",
    "newSTRING_rootFolder=f\"{notebookData_folder}PPI_Coevolution/STRING_data_11.5/\"\n",
    "Query_currentSpeMiddleDataPath=newSTRING_rootFolder+Query_tuple[1]+\"_EggNOGmaxLevel\"+Query_tuple[0]+\"_MiddleData/\"\n",
    "\n",
    "with open(Query_currentSpeMiddleDataPath+'fasta_protein_lens_dict.pickle', 'rb') as handle:\n",
    "    fasta_protein_lens=pickle.load(handle) "
   ]
  },
  {
   "cell_type": "code",
   "execution_count": null,
   "id": "0b513dd3-1f08-4182-a20a-0a31aecc08d9",
   "metadata": {},
   "outputs": [],
   "source": []
  },
  {
   "cell_type": "code",
   "execution_count": 51,
   "id": "39662023-44ff-4ff3-ac15-336ebc4946b2",
   "metadata": {},
   "outputs": [
    {
     "name": "stdout",
     "output_type": "stream",
     "text": [
      "STRINGcurrentSpePhyPPI_benchmark.shape: (53300, 3)\n",
      "STRINGcurrentSpePhyPPI_benchmark.shape: (15476, 3)\n",
      "len(currentSpe_STRINGcurrentSpePhyPPI_posPPI): 6952\n",
      "[('511145.b0098', '511145.b3315'), ('511145.b1094', '511145.b2563'), ('511145.b0083', '511145.b2748')]\n",
      "len(currentSpe_STRINGcurrentSpePhyPPI_posPPI) 6952\n",
      "len(currentSpe_STRINGcurrentSpePhyPPI_posPPI_dict) 6952\n",
      "[(('511145.b0008', '511145.b4034'), 1), (('511145.b0009', '511145.b1727'), 1), (('511145.b0014', '511145.b0015'), 1)]\n",
      "['511145.b0008', '511145.b0009', '511145.b0014']\n",
      "len(currentSpe_STRINGcurrentSpePhyPPI_allProteins): 1410\n"
     ]
    }
   ],
   "source": [
    "        STRINGcurrentSpePhyPPI_benchmark_file=\"/mnt/mnemo6/damian/STRING_derived_v11.5/download_files/protein.physical.links.v11.5/511145.protein.physical.links.v11.5.txt.gz\"\n",
    "        STRINGcurrentSpePhyPPI_benchmark=pd.read_csv(STRINGcurrentSpePhyPPI_benchmark_file,sep=\" \",\n",
    "                                       header=0,index_col=None)\n",
    "\n",
    "        print(\"STRINGcurrentSpePhyPPI_benchmark.shape:\",STRINGcurrentSpePhyPPI_benchmark.shape)\n",
    "\n",
    "        STRINGcurrentSpePhyPPI_benchmark=STRINGcurrentSpePhyPPI_benchmark.loc[STRINGcurrentSpePhyPPI_benchmark['combined_score']>500,:]\n",
    "        print(\"STRINGcurrentSpePhyPPI_benchmark.shape:\",STRINGcurrentSpePhyPPI_benchmark.shape)\n",
    "\n",
    "        STRINGcurrentSpePhyPPI_benchmark=STRINGcurrentSpePhyPPI_benchmark.sort_values(by=\"combined_score\",ascending=False)\n",
    "\n",
    "        STRINGcurrentSpePhyPPI_benchmark.head(n=3)\n",
    "\n",
    "\n",
    "\n",
    "        currentSpe_STRINGcurrentSpePhyPPI_posPPI=STRINGcurrentSpePhyPPI_benchmark.loc[:,[\"protein1\",\"protein2\"]].values.tolist()\n",
    "\n",
    "\n",
    "\n",
    "        # here rememver one thing different \n",
    "        # if we start to calculate dca score only for ppi in benchmark dataset, we shouldnt use use reversed version of pp\n",
    "        # its a litter different as we do in Ecoli_KEGG , where we first calcuate dca for all protein pari in this species \n",
    "        currentSpe_STRINGcurrentSpePhyPPI_posPPI=[tuple(sorted(pp)) for pp in currentSpe_STRINGcurrentSpePhyPPI_posPPI]\n",
    "        currentSpe_STRINGcurrentSpePhyPPI_posPPI=list(set(currentSpe_STRINGcurrentSpePhyPPI_posPPI))\n",
    "\n",
    "\n",
    "        currentSpe_STRINGcurrentSpePhyPPI_posPPI=[tuple(ppi) for ppi in currentSpe_STRINGcurrentSpePhyPPI_posPPI]\n",
    "        # here need to make sure both protein have alignment data \n",
    "        currentSpe_STRINGcurrentSpePhyPPI_posPPI=[(p1,p2)for p1, p2 in currentSpe_STRINGcurrentSpePhyPPI_posPPI if (p1 in Query_fasta_protein_lens) and (p2 in Query_fasta_protein_lens)]\n",
    "\n",
    "        print(\"len(currentSpe_STRINGcurrentSpePhyPPI_posPPI):\",len(currentSpe_STRINGcurrentSpePhyPPI_posPPI))\n",
    "        print(currentSpe_STRINGcurrentSpePhyPPI_posPPI[0:3])\n",
    "\n",
    "\n",
    "        currentSpe_STRINGcurrentSpePhyPPI_posPPI=sorted(list(set(currentSpe_STRINGcurrentSpePhyPPI_posPPI)))\n",
    "        print(\"len(currentSpe_STRINGcurrentSpePhyPPI_posPPI)\",len(currentSpe_STRINGcurrentSpePhyPPI_posPPI))\n",
    "\n",
    "\n",
    "        currentSpe_STRINGcurrentSpePhyPPI_posPPI_dict=dict([(pp,1) for pp in currentSpe_STRINGcurrentSpePhyPPI_posPPI])\n",
    "        print(\"len(currentSpe_STRINGcurrentSpePhyPPI_posPPI_dict)\",len(currentSpe_STRINGcurrentSpePhyPPI_posPPI_dict))\n",
    "        print(list(currentSpe_STRINGcurrentSpePhyPPI_posPPI_dict.items())[0:3])\n",
    "\n",
    "\n",
    "\n",
    "\n",
    "        currentSpe_STRINGcurrentSpePhyPPI_allProteins=[p for key in currentSpe_STRINGcurrentSpePhyPPI_posPPI_dict.keys() for p in key ]\n",
    "\n",
    "        currentSpe_STRINGcurrentSpePhyPPI_allProteins=list(set(currentSpe_STRINGcurrentSpePhyPPI_allProteins))\n",
    "\n",
    "        # here is import to make sure  every run of this pipeline producing same benchmark \n",
    "        currentSpe_STRINGcurrentSpePhyPPI_allProteins= sorted(set(currentSpe_STRINGcurrentSpePhyPPI_allProteins))\n",
    "\n",
    "        print(currentSpe_STRINGcurrentSpePhyPPI_allProteins[0:3])\n",
    "\n",
    "        print(\"len(currentSpe_STRINGcurrentSpePhyPPI_allProteins):\",len(currentSpe_STRINGcurrentSpePhyPPI_allProteins))\n",
    "        currentSpe_STRINGcurrentSpePhyPPI_allProteins_dict=dict([(p,1) for p in currentSpe_STRINGcurrentSpePhyPPI_allProteins])"
   ]
  },
  {
   "cell_type": "code",
   "execution_count": 56,
   "id": "95f8633b-869e-4bef-bc60-01476adcaf03",
   "metadata": {},
   "outputs": [
    {
     "name": "stdout",
     "output_type": "stream",
     "text": [
      "len(currentSpe_STRINGcurrentSpePhyPPI_posPPI_info) 6952\n",
      "len(currentSpe_STRINGcurrentSpePhyPPI_negPPI) 993345\n",
      "len(currentSpe_STRINGcurrentSpePhyPPI_negPPI): 986393\n"
     ]
    }
   ],
   "source": [
    "        # constructure final positive  PPI \n",
    "        currentSpe_STRINGcurrentSpePhyPPI_posPPI_info=[[p1,p2,fasta_protein_lens[p1],fasta_protein_lens[p2]] for p1,p2 in currentSpe_STRINGcurrentSpePhyPPI_posPPI_dict.keys()]\n",
    "        print(\"len(currentSpe_STRINGcurrentSpePhyPPI_posPPI_info)\",len(currentSpe_STRINGcurrentSpePhyPPI_posPPI_info))\n",
    "\n",
    "\n",
    "        # constracut negaive PPI using proteins in positive PPI\n",
    "        currentSpe_STRINGcurrentSpePhyPPI_negPPI=list(itertools.combinations(currentSpe_STRINGcurrentSpePhyPPI_allProteins, 2))\n",
    "        print(\"len(currentSpe_STRINGcurrentSpePhyPPI_negPPI)\",len(currentSpe_STRINGcurrentSpePhyPPI_negPPI))\n",
    "        currentSpe_STRINGcurrentSpePhyPPI_negPPI=[(p1,p2) for p1,p2 in currentSpe_STRINGcurrentSpePhyPPI_negPPI if (((p1,p2) not in currentSpe_STRINGcurrentSpePhyPPI_posPPI_dict) and ((p2,p1) not in currentSpe_STRINGcurrentSpePhyPPI_posPPI_dict)) ]\n",
    "        print(\"len(currentSpe_STRINGcurrentSpePhyPPI_negPPI):\",len(currentSpe_STRINGcurrentSpePhyPPI_negPPI))"
   ]
  },
  {
   "cell_type": "code",
   "execution_count": 60,
   "id": "541f0655-c1ef-48b6-8272-8d9a8f5cec1e",
   "metadata": {},
   "outputs": [
    {
     "name": "stdout",
     "output_type": "stream",
     "text": [
      "[('511145.b0470', '511145.b2609'), ('511145.b0722', '511145.b1917'), ('511145.b0545', '511145.b3270')]\n",
      "len(currentSpe_STRINGcurrentSpePhyPPI_negPPI_info): 986393\n",
      "len(currentSpe_STRINGcurrentSpePhyPPI_negPPI_info) 883101\n"
     ]
    }
   ],
   "source": [
    "        # here shuffle negative ppi randomly \n",
    "        random.Random(10).shuffle(currentSpe_STRINGcurrentSpePhyPPI_negPPI)\n",
    "        print(currentSpe_STRINGcurrentSpePhyPPI_negPPI[0:3])\n",
    "\n",
    "\n",
    "\n",
    "        currentSpe_STRINGcurrentSpePhyPPI_negPPI_info=[[p1,p2,fasta_protein_lens[p1],fasta_protein_lens[p2]] for p1,p2 in currentSpe_STRINGcurrentSpePhyPPI_negPPI]\n",
    "        print(\"len(currentSpe_STRINGcurrentSpePhyPPI_negPPI_info):\",len(currentSpe_STRINGcurrentSpePhyPPI_negPPI_info))\n",
    "\n",
    "\n",
    "        #%%time\n",
    "        # constructure final positive and negigeve PPI using string score \n",
    "\n",
    "        #currentSpe_STRINGcurrentSpePhyPPI_negPPI_info=[l for l in currentSpe_STRINGcurrentSpePhyPPI_negPPI_info if  ((l[0],l[1]) not in Ecoli_string_score_dict) or (Ecoli_string_score_dict[(l[0],l[1])]==0)]\n",
    "        currentSpe_STRINGcurrentSpePhyPPI_negPPI_info=[l for l in currentSpe_STRINGcurrentSpePhyPPI_negPPI_info if  ((l[0],l[1]) not in Ecoli_string_score_dict) ]\n",
    "\n",
    "        print(\"len(currentSpe_STRINGcurrentSpePhyPPI_negPPI_info)\",len(currentSpe_STRINGcurrentSpePhyPPI_negPPI_info))\n",
    "\n"
   ]
  },
  {
   "cell_type": "code",
   "execution_count": 63,
   "id": "9d0442fd-4d12-4549-b5f1-1b701302864b",
   "metadata": {},
   "outputs": [
    {
     "name": "stdout",
     "output_type": "stream",
     "text": [
      "len(currentSpe_STRINGcurrentSpePhyPPI_negPPI_info): 23478\n"
     ]
    }
   ],
   "source": [
    "        ## here we  limited frquence of protein in postive and negative dataset. \n",
    "        ## acturally only for negative now \n",
    "        ## futer post-filter step can be applied later , for example by Remove Ribosome protein or not \n",
    "        currentSpe_STRINGcurrentSpePhyPPI_negPPI_info=get_PPIwithLimitedProFreByOr(currentSpe_STRINGcurrentSpePhyPPI_negPPI_info)\n",
    "        print(\"len(currentSpe_STRINGcurrentSpePhyPPI_negPPI_info):\",len(currentSpe_STRINGcurrentSpePhyPPI_negPPI_info))"
   ]
  },
  {
   "cell_type": "code",
   "execution_count": 68,
   "id": "6c7e77b7-9f00-427b-a696-0001d9972e4a",
   "metadata": {},
   "outputs": [
    {
     "name": "stdout",
     "output_type": "stream",
     "text": [
      "len(currentSpe_STRINGcurrentSpePhyPPI_negPPI_ProFreDict): 1410\n"
     ]
    },
    {
     "data": {
      "image/png": "[encoded data removed]",
      "text/plain": [
       "<Figure size 432x288 with 1 Axes>"
      ]
     },
     "metadata": {
      "needs_background": "light"
     },
     "output_type": "display_data"
    }
   ],
   "source": [
    "        currentSpe_STRINGcurrentSpePhyPPI_negPPI_ProFreDict=defaultdict(int)\n",
    "        for p1,p2, _,_ in currentSpe_STRINGcurrentSpePhyPPI_negPPI_info:\n",
    "            currentSpe_STRINGcurrentSpePhyPPI_negPPI_ProFreDict[p1] +=1\n",
    "            currentSpe_STRINGcurrentSpePhyPPI_negPPI_ProFreDict[p2] +=1\n",
    "\n",
    "\n",
    "        print(\"len(currentSpe_STRINGcurrentSpePhyPPI_negPPI_ProFreDict):\",len(currentSpe_STRINGcurrentSpePhyPPI_negPPI_ProFreDict))\n",
    "        len([v for v in currentSpe_STRINGcurrentSpePhyPPI_negPPI_ProFreDict.values() if v >50])\n",
    "\n",
    "        plt.hist(currentSpe_STRINGcurrentSpePhyPPI_negPPI_ProFreDict.values(),bins=100)\n",
    "        #plt.xscale('log')\n",
    "        plt.yscale('log')\n",
    "        plt.show()\n"
   ]
  },
  {
   "cell_type": "code",
   "execution_count": 70,
   "id": "16d53cb1-dff0-4355-a2cd-eecaae987b1c",
   "metadata": {},
   "outputs": [
    {
     "name": "stdout",
     "output_type": "stream",
     "text": [
      "len(currentSpe_STRINGcurrentSpePhyPPI_posPPI_pps): 6952 23478 30430\n"
     ]
    }
   ],
   "source": [
    "        currentSpe_STRINGcurrentSpePhyPPI_posPPI_pps=[(l[0],l[1]) for l in currentSpe_STRINGcurrentSpePhyPPI_posPPI_info]\n",
    "        currentSpe_STRINGcurrentSpePhyPPI_negPPI_pps=[(l[0],l[1]) for l in currentSpe_STRINGcurrentSpePhyPPI_negPPI_info]\n",
    "        print(\"len(currentSpe_STRINGcurrentSpePhyPPI_posPPI_pps):\",len(currentSpe_STRINGcurrentSpePhyPPI_posPPI_pps),len(currentSpe_STRINGcurrentSpePhyPPI_negPPI_pps),len(currentSpe_STRINGcurrentSpePhyPPI_posPPI_pps)+len(currentSpe_STRINGcurrentSpePhyPPI_negPPI_pps))\n"
   ]
  },
  {
   "cell_type": "code",
   "execution_count": 72,
   "id": "e5eede77-5049-4b65-becf-e15e8d6d3936",
   "metadata": {},
   "outputs": [],
   "source": [
    "        currentSpe_TaxID=\"5111145\"\n",
    "        EggNOG_maxLevel=\"1224\"\n",
    "        CoEvo_data_folder=\"/mnt/mnemo6/tao/PPI_Coevolution/CoEvo_data_STRING11.5/\"\n",
    "\n",
    "\n",
    "        input_root_folder=CoEvo_data_folder+currentSpe_TaxID+\"_EggNOGmaxLevel\"+EggNOG_maxLevel+\"_eggNOGfilteredData/\"\n",
    "\n",
    "        Benchmark_folder=input_root_folder+\"STRINPhyPPI_Benchmark/\"\n",
    "\n",
    "\n",
    "        pairedMSA_unfiltered_folder=input_root_folder+\"pair_MSA_unfiltered_PasteAlign/\""
   ]
  },
  {
   "cell_type": "code",
   "execution_count": null,
   "id": "c9fba7fb-19ce-48aa-bb23-9ea1522bfee9",
   "metadata": {},
   "outputs": [],
   "source": []
  },
  {
   "cell_type": "code",
   "execution_count": null,
   "id": "cc15ec31-46fe-49fd-bc0a-871af41856df",
   "metadata": {},
   "outputs": [],
   "source": [
    "\n",
    "\n",
    "\n",
    "\n",
    "        # ## get postivte and negative ppi  second setp (after get all needed final paired MSA)\n",
    "        # by  same protein ratio on two side of MSA \n",
    "        # first need to update postive and negative ppi to only use pp that have large Nf90 value \n",
    "        pairedMSA_Nf90_frame = pd.read_csv(pairedMSA_Nf90_csv,header=None,index_col=None,sep=\"\\t\")\n",
    "        print(\"pairedMSA_Nf90_frame.shape:\",pairedMSA_Nf90_frame.shape)\n",
    "\n",
    "        pairedMSA_Nf90_list=pairedMSA_Nf90_frame.iloc[:,[0,1]].values.tolist()\n",
    "        pairedMSA_Nf90_dict=dict([((p1,p2),1) for p1, p2 in pairedMSA_Nf90_list])\n",
    "\n",
    "        currentSpe_STRINGcurrentSpePhyPPI_posPPI_pps=[pp for pp in currentSpe_STRINGcurrentSpePhyPPI_posPPI_pps if pp in pairedMSA_Nf90_dict]\n",
    "        currentSpe_STRINGcurrentSpePhyPPI_negPPI_pps=[pp for pp in currentSpe_STRINGcurrentSpePhyPPI_negPPI_pps if pp in pairedMSA_Nf90_dict]\n",
    "        print(\"len(currentSpe_STRINGcurrentSpePhyPPI_posPPI_pps):\",len(currentSpe_STRINGcurrentSpePhyPPI_posPPI_pps))\n",
    "        print(\"len(currentSpe_STRINGcurrentSpePhyPPI_negPPI_pps):\",len(currentSpe_STRINGcurrentSpePhyPPI_negPPI_pps))\n",
    "\n",
    "\n",
    "        # In[ ]:\n",
    "\n",
    "\n",
    "        #%%time \n",
    "\n",
    "        #heck paired MSA of homologus , if same proteins  from same species in both side\n",
    "\n",
    "        if os.path.getsize(pairedMSA_sameProteinRatio_csv) == 0:\n",
    "            pairedMSA_sameProteinRatio_dict=dict()\n",
    "        else:\n",
    "            pairedMSA_sameProteinRatio_frame = pd.read_csv(pairedMSA_sameProteinRatio_csv,header=None,index_col=None,sep=\"\\t\")\n",
    "            pairedMSA_sameProteinRatio_list=pairedMSA_sameProteinRatio_frame.values.tolist()\n",
    "            pairedMSA_sameProteinRatio_dict=dict([((p1,p2),r) for p1 , p2 , r in pairedMSA_sameProteinRatio_list])\n",
    "            #print(pairedMSA_sameProteinRatio_frame.shape)\n",
    "\n",
    "        currentSpe_STRINGcurrentSpePhyPPI_allPPI_pps=currentSpe_STRINGcurrentSpePhyPPI_posPPI_pps+currentSpe_STRINGcurrentSpePhyPPI_negPPI_pps\n",
    "        currentSpe_STRINGcurrentSpePhyPPI_allPPI_ArgForSamePro=[(p1,p2,pairedMSA_Nf90_folder) for p1, p2, in currentSpe_STRINGcurrentSpePhyPPI_allPPI_pps if (p1, p2) not in pairedMSA_sameProteinRatio_dict]\n",
    "        print(\"len(currentSpe_STRINGcurrentSpePhyPPI_allPPI_ArgForSamePro):\",len(currentSpe_STRINGcurrentSpePhyPPI_allPPI_ArgForSamePro))\n",
    "\n",
    "        if len(currentSpe_STRINGcurrentSpePhyPPI_allPPI_ArgForSamePro)>0:\n",
    "            pool=mp.Pool(50)\n",
    "            sameProtein_ratio_results=pool.map(getSameProteinRatio,currentSpe_STRINGcurrentSpePhyPPI_allPPI_ArgForSamePro)\n",
    "            pool.close() \n",
    "\n",
    "\n",
    "            sameProtein_ratio_frame=pd.DataFrame(sameProtein_ratio_results,columns=[\"protein1\",\"protein2\",\"saemProtein_ratio\"])\n",
    "            sameProtein_ratio_frame.to_csv(pairedMSA_sameProteinRatio_csv,mode=\"a\",\n",
    "                                header=None,index=None,sep=\"\\t\")\n",
    "            print(sameProtein_ratio_frame.shape)\n",
    "\n",
    "        # CPU times: user 144 ms, sys: 639 ms, total: 783 ms\n",
    "        # Wall time: 53.2 s\n",
    "\n",
    "\n",
    "        # In[ ]:\n",
    "\n",
    "\n",
    "        # remove protein pair with same prortein on two side of MSA \n",
    "\n",
    "        sameProtein_ratio_frame=pd.read_csv(pairedMSA_sameProteinRatio_csv,\n",
    "                                header=None,index_col=None,sep=\"\\t\")\n",
    "        print(sameProtein_ratio_frame.shape)\n",
    "        large_sameProtein_ratio_frame=sameProtein_ratio_frame.loc[sameProtein_ratio_frame.iloc[:,2]>0,:]\n",
    "        print(large_sameProtein_ratio_frame.shape)\n",
    "\n",
    "        large_sameProtein_ratio_dict=dict([((p1,p2),r) for p1,p2,r in large_sameProtein_ratio_frame.values.tolist()])\n",
    "\n",
    "\n",
    "\n",
    "\n",
    "        currentSpe_STRINGcurrentSpePhyPPI_posPPI_pps=[pp for pp in currentSpe_STRINGcurrentSpePhyPPI_posPPI_pps if pp not in large_sameProtein_ratio_dict]\n",
    "        print(\"len(currentSpe_STRINGcurrentSpePhyPPI_posPPI_pps):\",len(currentSpe_STRINGcurrentSpePhyPPI_posPPI_pps))\n",
    "\n",
    "\n",
    "        currentSpe_STRINGcurrentSpePhyPPI_negPPI_pps=[pp for pp in currentSpe_STRINGcurrentSpePhyPPI_negPPI_pps if pp not in large_sameProtein_ratio_dict]\n",
    "        print(\"len(currentSpe_STRINGcurrentSpePhyPPI_negPPI_pps):\",len(currentSpe_STRINGcurrentSpePhyPPI_negPPI_pps))\n",
    "\n",
    "\n",
    "        # In[ ]:\n",
    "\n",
    "\n",
    "\n",
    "\n",
    "        currentSpe_STRINGcurrentSpePhyPPI_posPPI_beforeCoEvoComp_info=[(p1,p2, \"P\") for p1, p2 in currentSpe_STRINGcurrentSpePhyPPI_posPPI_pps]\n",
    "        currentSpe_STRINGcurrentSpePhyPPI_negPPI_beforeCoEvoComp_info=[(p1,p2, \"N\") for p1, p2 in currentSpe_STRINGcurrentSpePhyPPI_negPPI_pps]\n",
    "\n",
    "        currentSpe_STRINGcurrentSpePhyPPI_allPPI_beforeCoEvoComp_frame=pd.DataFrame(currentSpe_STRINGcurrentSpePhyPPI_posPPI_beforeCoEvoComp_info+currentSpe_STRINGcurrentSpePhyPPI_negPPI_beforeCoEvoComp_info,\n",
    "                                                                                   columns=[\"STRING_ID1\",\"STRING_ID2\",\"benchmark_status\"])\n",
    "        currentSpe_STRINGcurrentSpePhyPPI_allPPI_beforeCoEvoComp_frame.to_csv(Benchmark_folder+\"PPIInfoBeforeCoEvoComp.csv\",\n",
    "                                                                             header=True, index=False,sep=\"\\t\")"
   ]
  },
  {
   "cell_type": "code",
   "execution_count": null,
   "id": "8a5f7065-6580-41d4-b1ce-c88601050ed5",
   "metadata": {},
   "outputs": [],
   "source": [
    "\n",
    "\n",
    "\n",
    "\n",
    "\n",
    "\n",
    "\n",
    "\n",
    "\n",
    "\n",
    "\n",
    "\n",
    "\n",
    "\n",
    "\n",
    "        \n",
    "        # ## get paired MSA if pass certain creteria \n",
    "\n",
    "\n",
    "\n",
    "        pairedMSA_unfiltered_folder\n",
    "\n",
    "\n",
    "        # In[ ]:\n",
    "\n",
    "\n",
    "        #%%time \n",
    "\n",
    "        pairedMSA_unfiltered_files =os.listdir(pairedMSA_unfiltered_folder) # here to check if paired MSA already been processed before \n",
    "        print(\"len(pairedMSA_unfiltered_files):\",len(pairedMSA_unfiltered_files))\n",
    "        print(pairedMSA_unfiltered_files[0:3])\n",
    "\n",
    "        pairedMSA_unfiltered_pps=[f.split(\"and\") for f in pairedMSA_unfiltered_files]\n",
    "        pairedMSA_unfiltered_pps=[(p1,p2[0:-6]) for p1,p2 in pairedMSA_unfiltered_pps]\n",
    "\n",
    "        pairedMSA_unfiltered_dict=dict([(f,1) for f in pairedMSA_unfiltered_pps])\n",
    "\n",
    "\n",
    "        currentSpe_STRINGcurrentSpePhyPPI_posPPI_forPairMSA=[pp for pp in currentSpe_STRINGcurrentSpePhyPPI_posPPI_pps if pp not in pairedMSA_unfiltered_dict]\n",
    "        currentSpe_STRINGcurrentSpePhyPPI_posPPI_ArgForPairMSA=[(currentSpe_TaxID,currentSpe_hmmalign_path,p1,p2,Nf90_thres,pairedMSA_unfiltered_folder,pairedMSA_hhfilter_folder,pairedMSA_Nf90_folder) for p1,p2 in currentSpe_STRINGcurrentSpePhyPPI_posPPI_forPairMSA]\n",
    "\n",
    "        currentSpe_STRINGcurrentSpePhyPPI_negPPI_forPairMSA=[pp for pp in currentSpe_STRINGcurrentSpePhyPPI_negPPI_pps if pp not in pairedMSA_unfiltered_dict]\n",
    "        currentSpe_STRINGcurrentSpePhyPPI_negPPI_ArgForPairMSA=[(currentSpe_TaxID,currentSpe_hmmalign_path,p1,p2,Nf90_thres,pairedMSA_unfiltered_folder,pairedMSA_hhfilter_folder,pairedMSA_Nf90_folder) for p1,p2 in currentSpe_STRINGcurrentSpePhyPPI_negPPI_forPairMSA]\n",
    "\n",
    "        print(\"len(currentSpe_STRINGcurrentSpePhyPPI_posPPI_pps),len(currentSpe_STRINGcurrentSpePhyPPI_negPPI_pps)\")\n",
    "        print(len(currentSpe_STRINGcurrentSpePhyPPI_posPPI_pps),len(currentSpe_STRINGcurrentSpePhyPPI_negPPI_pps))\n",
    "        print(len(currentSpe_STRINGcurrentSpePhyPPI_posPPI_ArgForPairMSA),len(currentSpe_STRINGcurrentSpePhyPPI_negPPI_ArgForPairMSA))\n",
    "\n",
    "        # #run once #actually this is not necesseary  as function will check  if files is still existed \n",
    "\n",
    "\n",
    "        if len(currentSpe_STRINGcurrentSpePhyPPI_posPPI_ArgForPairMSA)>0:\n",
    "            #pool=mp.Pool(50)   #mp.Pool(160) \n",
    "            pool=get_context(\"spawn\").Pool(50)\n",
    "            get_pairedMSA_inOneRun_result=pool.map(get_pairedMSA_inOneRun,currentSpe_STRINGcurrentSpePhyPPI_posPPI_ArgForPairMSA)\n",
    "            pool.close() \n",
    "\n",
    "\n",
    "            get_pairedMSA_inOneRun_result=[s for s in get_pairedMSA_inOneRun_result if s is not None]\n",
    "            get_pairedMSA_inOneRun_result_frame=pd.DataFrame(get_pairedMSA_inOneRun_result,columns=[\"protein1\",\"protein2\",\"L1\",\"L2\",\"Nf90\"])\n",
    "            get_pairedMSA_inOneRun_result_frame.to_csv(pairedMSA_Nf90_csv,mode=\"a\",\n",
    "                                header=None,index=None,sep=\"\\t\")\n",
    "            print(get_pairedMSA_inOneRun_result_frame.shape)\n",
    "\n",
    "\n",
    "\n",
    "        if len(currentSpe_STRINGcurrentSpePhyPPI_negPPI_ArgForPairMSA)>0:\n",
    "\n",
    "            #pool=mp.Pool(50)   #mp.Pool(160) \n",
    "            pool=get_context(\"spawn\").Pool(50)\n",
    "            get_pairedMSA_inOneRun_result=pool.map(get_pairedMSA_inOneRun,currentSpe_STRINGcurrentSpePhyPPI_negPPI_ArgForPairMSA)\n",
    "            pool.close() \n",
    "\n",
    "\n",
    "            get_pairedMSA_inOneRun_result=[s for s in get_pairedMSA_inOneRun_result if s is not None]\n",
    "            get_pairedMSA_inOneRun_result_frame=pd.DataFrame(get_pairedMSA_inOneRun_result,columns=[\"protein1\",\"protein2\",\"L1\",\"L2\",\"Nf90\"])\n",
    "            get_pairedMSA_inOneRun_result_frame.to_csv(pairedMSA_Nf90_csv,mode=\"a\",\n",
    "                                header=None,index=None,sep=\"\\t\")\n",
    "            print(get_pairedMSA_inOneRun_result_frame.shape)\n",
    "\n",
    "\n",
    "        # CPU times: user 1.01 s, sys: 1.55 s, total: 2.56 s\n",
    "        # Wall time: 5min 34s\n",
    "\n",
    "\n",
    "        # In[ ]:\n",
    "\n",
    "\n",
    "        #??? why so few ???\n",
    "\n",
    "\n",
    "        # In[ ]:\n",
    "\n",
    "\n",
    "\n",
    "\n",
    "\n",
    "        # In[ ]:\n",
    "\n",
    "\n",
    "\n",
    "\n",
    "\n",
    "        # In[ ]:\n",
    "\n",
    "\n",
    "\n",
    "\n",
    "\n",
    "        # In[ ]:\n",
    "\n",
    "\n",
    "\n",
    "\n",
    "\n",
    "        # In[ ]:\n",
    "\n",
    "\n"
   ]
  }
 ],
 "metadata": {
  "kernelspec": {
   "display_name": "py37_scikitlearn",
   "language": "python",
   "name": "py37_scikitlearn"
  },
  "language_info": {
   "codemirror_mode": {
    "name": "ipython",
    "version": 3
   },
   "file_extension": ".py",
   "mimetype": "text/x-python",
   "name": "python",
   "nbconvert_exporter": "python",
   "pygments_lexer": "ipython3",
   "version": "3.7.12"
  }
 },
 "nbformat": 4,
 "nbformat_minor": 5
}
