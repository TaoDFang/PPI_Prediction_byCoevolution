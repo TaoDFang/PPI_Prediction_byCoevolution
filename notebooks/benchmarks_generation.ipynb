{
 "cells": [
  {
   "cell_type": "code",
   "execution_count": 1,
   "id": "007d7683-2fac-4821-a50d-ad8f6dd98ef6",
   "metadata": {},
   "outputs": [],
   "source": [
    "import os\n",
    "import sys\n",
    "import pandas as pd\n",
    "import copy\n",
    "import glob\n",
    "import pickle\n",
    "\n",
    "\n",
    "\n",
    "\n",
    "sys.path.append('../src/utilities/')\n",
    "from ML_benchmark_datasets import return_STRINGFulllPhyBalancePhylaPPI_benchmark_PPs\n",
    "from STRING_benchmark import  get_STRING1105_physical_interact\n",
    "from PPI_benchmark_filter import get_PPIwithLimitedProFreByOr"
   ]
  },
  {
   "cell_type": "code",
   "execution_count": 2,
   "id": "f220bd11-1fbf-4c3b-94a4-a386da47beac",
   "metadata": {},
   "outputs": [],
   "source": [
    "notebookData_folder=\"/mnt/mnemo6/tao/notebook_data/\"  #\"/mnt/mnemo6/tao/\" /mnt/mnemo6/tao/notebook_data/"
   ]
  },
  {
   "cell_type": "code",
   "execution_count": 3,
   "id": "29178d14-43ed-42a3-9d05-6a99cce06444",
   "metadata": {},
   "outputs": [],
   "source": [
    "Query_tuple=('1224', '511145')"
   ]
  },
  {
   "cell_type": "code",
   "execution_count": 4,
   "id": "0c96333e-06b2-407a-bd98-b02dc0301670",
   "metadata": {},
   "outputs": [
    {
     "name": "stdout",
     "output_type": "stream",
     "text": [
      "Query_Benchmark_folder:/mnt/mnemo6/tao/notebook_data/PPI_Coevolution/CoEvo_data_STRING11.5/allPPI_511145_EggNOGmaxLevel1224_eggNOGfilteredData/AllPPI_Benchmark/\n",
      "Query_DCA_coevolutoin_path:/mnt/mnemo6/tao/notebook_data/PPI_Coevolution/CoEvo_data_STRING11.5/allPPI_511145_EggNOGmaxLevel1224_eggNOGfilteredData/coevolutoin_result_DCA/\n"
     ]
    }
   ],
   "source": [
    "CoEvo_data_folder=notebookData_folder+\"PPI_Coevolution/CoEvo_data_STRING11.5/\" #\"/mnt/mnemo6/tao/PPI_Coevolution/CoEvo_data_STRING11.5/\",/net/cephfs/shares/von-mering.imls.uzh/tao/PPI_Coevolution/CoEvo_data_STRING11.5/\n",
    "Query_input_root_folder=CoEvo_data_folder+\"allPPI_\"+Query_tuple[1]+\"_EggNOGmaxLevel\"+Query_tuple[0]+\"_eggNOGfilteredData/\"\n",
    "Query_Benchmark_folder=Query_input_root_folder+\"AllPPI_Benchmark/\"\n",
    "Query_ML_inputPath=Query_Benchmark_folder+\"ML_inputs/\"\n",
    "\n",
    "Query_DCA_coevolutoin_path=Query_input_root_folder+\"coevolutoin_result_DCA/\"\n",
    "\n",
    "print(f\"Query_Benchmark_folder:{Query_Benchmark_folder}\")\n",
    "print(f\"Query_DCA_coevolutoin_path:{Query_DCA_coevolutoin_path}\")\n"
   ]
  },
  {
   "cell_type": "markdown",
   "id": "1fdfeb5a-7347-4675-aa90-3af1071a8b5c",
   "metadata": {},
   "source": [
    "# initial large machine learning benchmark\n",
    "\n",
    "original code from MNF/notebooks/ScienceCluster_code/STRING_Data_11.5/identifyNovelPPI_phylumeffect_allEcoliPPI_visulization_fullHomologous_oneBestHomologousPP_STRINGFullPhyBalancePhyla.ipynb\n",
    "\n",
    "\n"
   ]
  },
  {
   "cell_type": "code",
   "execution_count": 5,
   "id": "eb4be924-21f1-4817-97ae-d2b44a5bde68",
   "metadata": {},
   "outputs": [
    {
     "name": "stdout",
     "output_type": "stream",
     "text": [
      "(2269192, 4)\n"
     ]
    }
   ],
   "source": [
    "# %%time \n",
    "\n",
    "#this are collected from all DCA results, skip it if you dont genenerate all DCA results \n",
    "if not os.path.exists(Query_Benchmark_folder+\"allPPI_allInfo_frame.csv\"):\n",
    "    Query_existed_pydcaFNAPC_files=glob.glob(Query_DCA_coevolutoin_path+\"*_pydcaFNAPC_array.npz\")\n",
    "    print(len(Query_existed_pydcaFNAPC_files))\n",
    "    print(Query_existed_pydcaFNAPC_files[0:3])\n",
    "\n",
    "    Query_existed_pydcaFNAPC_files=[os.path.basename(f) for f in Query_existed_pydcaFNAPC_files]\n",
    "    Query_existed_pydcaFNAPC_pps=[f.split(\"and\") for f in Query_existed_pydcaFNAPC_files]\n",
    "    Query_existed_pydcaFNAPC_pps=[(p1,p2[:-21]) for p1, p2 in Query_existed_pydcaFNAPC_pps]\n",
    "\n",
    "\n",
    "\n",
    "    newSTRING_rootFolder=f\"{notebookData_folder}PPI_Coevolution/STRING_data_11.5/\"\n",
    "    Query_currentSpeMiddleDataPath=newSTRING_rootFolder+Query_tuple[1]+\"_EggNOGmaxLevel\"+Query_tuple[0]+\"_MiddleData/\"\n",
    "    with open(Query_currentSpeMiddleDataPath+'fasta_protein_lens_dict.pickle', 'rb') as handle:\n",
    "        Query_fasta_protein_lens=pickle.load(handle) \n",
    "\n",
    "    Query_existed_pydcaFNAPC_pps_info=[[p1,p2,Query_fasta_protein_lens[p1],Query_fasta_protein_lens[p2]] for p1 , p2 in Query_existed_pydcaFNAPC_pps]\n",
    "    print(\"len(Query_existed_pydcaFNAPC_pps_info):\",len(Query_existed_pydcaFNAPC_pps_info))\n",
    "\n",
    "    print(\"Query_existed_pydcaFNAPC_pps_info[0:3]:\",Query_existed_pydcaFNAPC_pps_info[0:3])\n",
    "\n",
    "    Query_allPPI_allInfo_frame=pd.DataFrame(Query_existed_pydcaFNAPC_pps_info,\n",
    "                                        columns=[\"STRING_ID1\",\"STRING_ID2\",\"len1\",\"len2\"]\n",
    "                                            )\n",
    "    Query_allPPI_allInfo_frame.head(n=3)\n",
    "\n",
    "\n",
    "    # Query_allPPI_allInfo_frame.to_csv(Query_Benchmark_folder+\"allPPI_allInfo_frame.csv\",header=True,index=None,sep=\"\\t\")\n",
    "\n",
    "else:\n",
    "    Query_allPPI_allInfo_frame=pd.read_csv(Query_Benchmark_folder+\"allPPI_allInfo_frame.csv\",\n",
    "                                     header=0,index_col=None,sep=\"\\t\")\n",
    "    print(Query_allPPI_allInfo_frame.shape)\n",
    "    Query_allPPI_allInfo_frame.head(n=3)"
   ]
  },
  {
   "cell_type": "code",
   "execution_count": null,
   "id": "0f10bf38-e41c-4fc4-a91a-dd74af07eadd",
   "metadata": {},
   "outputs": [],
   "source": []
  },
  {
   "cell_type": "code",
   "execution_count": null,
   "id": "93f7a4ca-4445-4f32-9915-df3937e96edc",
   "metadata": {},
   "outputs": [],
   "source": []
  },
  {
   "cell_type": "code",
   "execution_count": null,
   "id": "e2e4e965-6379-4ef3-a664-2fae03e862f5",
   "metadata": {},
   "outputs": [],
   "source": []
  },
  {
   "cell_type": "code",
   "execution_count": 6,
   "id": "9aa672e8-3b99-445b-9b70-6748642a0edc",
   "metadata": {},
   "outputs": [
    {
     "name": "stdout",
     "output_type": "stream",
     "text": [
      "STRINGcurrentSpePhyPPI_benchmark.shape: (53300, 3)\n",
      "STRINGcurrentSpePhyPPI_benchmark.shape: (15476, 3)\n",
      "CPU times: user 29 ms, sys: 1.44 ms, total: 30.4 ms\n",
      "Wall time: 82 ms\n"
     ]
    },
    {
     "data": {
      "text/plain": [
       "15476"
      ]
     },
     "execution_count": 6,
     "metadata": {},
     "output_type": "execute_result"
    }
   ],
   "source": [
    "%%time\n",
    "ML_pos_benchmarkFrame_dict=get_STRING1105_physical_interact(data_folder=f\"{notebookData_folder}STRING_derived_v11.5/download_files/protein.physical.links.v11.5/\",\n",
    "                                retrieve_spe=511145,\n",
    "                                combined_score_thres=500,\n",
    "                                inputFrameIsReversed=True,\n",
    "                                return_dict=True,)\n",
    "len(ML_pos_benchmarkFrame_dict)\n"
   ]
  },
  {
   "cell_type": "code",
   "execution_count": 7,
   "id": "f7bbcaa9-05e3-457f-8930-c4bd0948a80d",
   "metadata": {},
   "outputs": [
    {
     "name": "stdout",
     "output_type": "stream",
     "text": [
      "(1083186, 10)\n",
      "CPU times: user 1.67 s, sys: 125 ms, total: 1.8 s\n",
      "Wall time: 1.8 s\n"
     ]
    }
   ],
   "source": [
    "%%time \n",
    "# this is a reversed file alread :(p1,p2),(p2,p1)\n",
    "Ecoli_string_score_filename=f\"{notebookData_folder}PPI_Coevolution/STRING_data_11.5/\"+\"511145.protein.links.detailed.v11.5.txt.gz\"\n",
    "\n",
    "Ecoli_string_score=pd.read_csv(Ecoli_string_score_filename,\n",
    "                               header=0,index_col=None,sep=\" \")\n",
    "Ecoli_string_score_list=Ecoli_string_score.loc[:,[\"protein1\",\"protein2\",\"combined_score\"]].values.tolist()\n",
    "Ecoli_string_score_dict=dict([((p1,p2),s)for p1, p2, s in Ecoli_string_score_list])\n",
    "\n",
    "print(Ecoli_string_score.shape)"
   ]
  },
  {
   "cell_type": "code",
   "execution_count": 8,
   "id": "8b353f95-7432-4b46-a8bb-4caca6797286",
   "metadata": {},
   "outputs": [],
   "source": [
    "input_allPPs_list=Query_allPPI_allInfo_frame.values.tolist()\n",
    "input_allPPs_list=[(p1,p2) for p1,p2,_,_ in input_allPPs_list]"
   ]
  },
  {
   "cell_type": "code",
   "execution_count": 9,
   "id": "7920a88c-384d-4d21-97f0-89ec0e6d35a4",
   "metadata": {},
   "outputs": [
    {
     "name": "stdout",
     "output_type": "stream",
     "text": [
      "len(currentSpe_STRINGFulllPhyBalancePhylaPPI_posPPI): 5532\n",
      "1057\n",
      "len(currentSpe_STRINGFulllPhyBalancePhylaPPI_negPPI): 2263660\n",
      "len(currentSpe_STRINGFulllPhyBalancePhylaPPI_negPPI): 482366\n",
      "string filtering,len(currentSpe_STRINGFulllPhyBalancePhylaPPI_negPPI) 414880\n",
      "frequency filtering ,len(currentSpe_STRINGFulllPhyBalancePhylaPPI_negPPI): 414880\n",
      "len(currentSpe_STRINGPhyBalancePhylaPPI_negPPI_ProFreDict): 1057\n"
     ]
    },
    {
     "data": {
      "image/png": "[encoded data removed]",
      "text/plain": [
       "<Figure size 640x480 with 1 Axes>"
      ]
     },
     "metadata": {},
     "output_type": "display_data"
    }
   ],
   "source": [
    "\n",
    "\n",
    "currentSpe_STRINGFulllPhyBalancePhylaPPI_posPPI,currentSpe_STRINGFulllPhyBalancePhylaPPI_negPPI=return_STRINGFulllPhyBalancePhylaPPI_benchmark_PPs(ML_pos_benchmarkFrame_dict,\n",
    "                                                       input_allPPs_list\n",
    "                                                                                                                                                   ,\n",
    "                                                       Ecoli_string_score_dict,\n",
    "                                                       limitedProFre=100000,\n",
    "                                                      )\n",
    "\n",
    "currentSpe_STRINGFulllPhyBalancePhylaPPI_frame_list=list()\n",
    "for p1,p2 in currentSpe_STRINGFulllPhyBalancePhylaPPI_posPPI:\n",
    "    currentSpe_STRINGFulllPhyBalancePhylaPPI_frame_list.append([p1,p2,\"P\",])\n",
    "\n",
    "for p1,p2 in currentSpe_STRINGFulllPhyBalancePhylaPPI_negPPI:\n",
    "    currentSpe_STRINGFulllPhyBalancePhylaPPI_frame_list.append([p1,p2,\"N\",])\n",
    "currentSpe_STRINGFulllPhyBalancePhylaPPI_frame=pd.DataFrame(currentSpe_STRINGFulllPhyBalancePhylaPPI_frame_list,\n",
    "                                                            columns=[\"STRING_ID1\",\"STRING_ID2\",\"benchmark_status\"])\n",
    "\n",
    "# currentSpe_STRINGFulllPhyBalancePhylaPPI_frame.to_csv(\"/net/cephfs/shares/von-mering.imls.uzh/tao/PPI_Coevolution/CoEvo_data_STRING11.5/allPPI_511145_EggNOGmaxLevel1224_eggNOGfilteredData/STRINGFullPhyBalancePhyla_Benchmark/allPPI_allInfo_frame.csv\",\n",
    "#                                                       sep=\"\\t\",header=True,index=None)\n",
    "\n",
    "\n",
    "\n",
    "\n"
   ]
  },
  {
   "cell_type": "code",
   "execution_count": 10,
   "id": "720f4f02-8195-422c-a53c-4eb0f52dfad0",
   "metadata": {},
   "outputs": [
    {
     "data": {
      "text/plain": [
       "(420412, 3)"
      ]
     },
     "execution_count": 10,
     "metadata": {},
     "output_type": "execute_result"
    }
   ],
   "source": [
    "currentSpe_STRINGFulllPhyBalancePhylaPPI_frame.shape"
   ]
  },
  {
   "cell_type": "code",
   "execution_count": null,
   "id": "11a956cb-8051-4c0b-a676-b89e5308fb67",
   "metadata": {},
   "outputs": [],
   "source": []
  },
  {
   "cell_type": "code",
   "execution_count": null,
   "id": "20fef697-303f-474a-a48e-266b92493ee4",
   "metadata": {},
   "outputs": [],
   "source": []
  },
  {
   "cell_type": "code",
   "execution_count": null,
   "id": "f8d60bd6-f3aa-466b-9fbe-bb05558b1ed4",
   "metadata": {},
   "outputs": [],
   "source": []
  },
  {
   "cell_type": "code",
   "execution_count": null,
   "id": "86200963-7868-4272-8d76-b121ae2adcc6",
   "metadata": {},
   "outputs": [],
   "source": []
  },
  {
   "cell_type": "code",
   "execution_count": null,
   "id": "f5645ad4-f0fd-4eb6-b6e2-5aa5a3f9c705",
   "metadata": {},
   "outputs": [],
   "source": []
  },
  {
   "cell_type": "code",
   "execution_count": null,
   "id": "ab4756f8-f6c8-49b9-8544-1bfec8052159",
   "metadata": {},
   "outputs": [],
   "source": []
  },
  {
   "cell_type": "markdown",
   "id": "23f015ff-5136-4423-bbb3-a48fd617db2a",
   "metadata": {},
   "source": [
    "# smaller benchmark dataset at  taxononical levels to test effect of different alignment strategies\n",
    "\n",
    "It generated similar as above but we just dont limit the frequency of each protein of negative PPI to limit the dataset for the sake of computational time.\n",
    "\n",
    "check code: PPI_Prediction_byCoevolution/src/utilities/script_CoEvo_EggNOG_preprocessing_STRING1105_varyEggNOGMaxLevels_prepareSTRINPhyPPIBenchmark.py\n",
    "\n",
    "\n"
   ]
  },
  {
   "cell_type": "code",
   "execution_count": null,
   "id": "79c31b29-e3a2-4add-ae58-3a9070e4ab3d",
   "metadata": {},
   "outputs": [],
   "source": []
  },
  {
   "cell_type": "code",
   "execution_count": null,
   "id": "0b513dd3-1f08-4182-a20a-0a31aecc08d9",
   "metadata": {},
   "outputs": [],
   "source": []
  },
  {
   "cell_type": "code",
   "execution_count": null,
   "id": "39662023-44ff-4ff3-ac15-336ebc4946b2",
   "metadata": {},
   "outputs": [],
   "source": []
  },
  {
   "cell_type": "code",
   "execution_count": null,
   "id": "95f8633b-869e-4bef-bc60-01476adcaf03",
   "metadata": {},
   "outputs": [],
   "source": []
  },
  {
   "cell_type": "code",
   "execution_count": null,
   "id": "541f0655-c1ef-48b6-8272-8d9a8f5cec1e",
   "metadata": {},
   "outputs": [],
   "source": []
  },
  {
   "cell_type": "code",
   "execution_count": null,
   "id": "9d0442fd-4d12-4549-b5f1-1b701302864b",
   "metadata": {},
   "outputs": [],
   "source": []
  },
  {
   "cell_type": "code",
   "execution_count": null,
   "id": "6c7e77b7-9f00-427b-a696-0001d9972e4a",
   "metadata": {},
   "outputs": [],
   "source": []
  },
  {
   "cell_type": "code",
   "execution_count": null,
   "id": "16d53cb1-dff0-4355-a2cd-eecaae987b1c",
   "metadata": {},
   "outputs": [],
   "source": []
  },
  {
   "cell_type": "code",
   "execution_count": null,
   "id": "e5eede77-5049-4b65-becf-e15e8d6d3936",
   "metadata": {},
   "outputs": [],
   "source": []
  },
  {
   "cell_type": "code",
   "execution_count": null,
   "id": "c9fba7fb-19ce-48aa-bb23-9ea1522bfee9",
   "metadata": {},
   "outputs": [],
   "source": []
  },
  {
   "cell_type": "code",
   "execution_count": null,
   "id": "cc15ec31-46fe-49fd-bc0a-871af41856df",
   "metadata": {},
   "outputs": [],
   "source": []
  },
  {
   "cell_type": "code",
   "execution_count": null,
   "id": "8a5f7065-6580-41d4-b1ce-c88601050ed5",
   "metadata": {},
   "outputs": [],
   "source": []
  }
 ],
 "metadata": {
  "kernelspec": {
   "display_name": "py38_notebook",
   "language": "python",
   "name": "py38_notebook"
  },
  "language_info": {
   "codemirror_mode": {
    "name": "ipython",
    "version": 3
   },
   "file_extension": ".py",
   "mimetype": "text/x-python",
   "name": "python",
   "nbconvert_exporter": "python",
   "pygments_lexer": "ipython3",
   "version": "3.8.18"
  }
 },
 "nbformat": 4,
 "nbformat_minor": 5
}
