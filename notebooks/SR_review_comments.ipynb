{
 "cells": [
  {
   "cell_type": "code",
   "execution_count": 2,
   "metadata": {},
   "outputs": [],
   "source": [
    "import sys\n",
    "import os\n",
    "import glob\n",
    "import pickle\n",
    "import pandas as pd\n",
    "import numpy as np \n",
    "\n",
    "from Bio import AlignIO\n",
    "from Bio.Align import MultipleSeqAlignment\n",
    "import random\n",
    "\n",
    "\n",
    "import multiprocessing as mp\n",
    "\n",
    "\n",
    "import matplotlib.pyplot as plt\n",
    "import seaborn as sns"
   ]
  },
  {
   "cell_type": "code",
   "execution_count": null,
   "metadata": {},
   "outputs": [],
   "source": []
  },
  {
   "cell_type": "code",
   "execution_count": 3,
   "metadata": {},
   "outputs": [],
   "source": [
    "\n",
    "%reload_ext autoreload\n",
    "%autoreload 2\n",
    "\n",
    "sys.path.append('../src/utilities/')\n",
    "\n",
    "\n",
    "from pdb_benchmark import get_STRING1105_pdb_interact\n",
    "\n",
    "from MSA_tools import downsample_msa\n",
    "from MSA_tools import onePhylumRandomised_msa\n",
    "from MSA_tools import allPhylumRandomised_msa\n",
    "from MSA_tools import get_msa_statistics_dict\n",
    "from MSA_tools import get_msa_dist_list\n",
    "\n",
    "from collect_topCoEvos import get_maxBetValue_dict_pydcaFNAPC_array_npz\n"
   ]
  },
  {
   "cell_type": "code",
   "execution_count": 4,
   "metadata": {},
   "outputs": [],
   "source": [
    "# \"/mnt/mnemo6/tao/\", /mnt/mnemo6/tao/notebook_data/\n",
    "notebookData_folder = \"/mnt/mnemo6/tao/\"\n",
    "newSTRING_rootFolder = f\"{notebookData_folder}PPI_Coevolution/STRING_data_11.5/\"\n",
    "CoEvo_data_folder = f\"{notebookData_folder}PPI_Coevolution/CoEvo_data_STRING11.5/\""
   ]
  },
  {
   "cell_type": "markdown",
   "metadata": {},
   "source": [
    "# control experiments \n",
    "\n",
    "Regarding the clade-wise alignment method. I would like to see more in-depth analysis of the following issues\u000b\n",
    "\u000b(1) Control of the effect of subdividing the msas by constructing pair alignments in which phylum-x submsa of protein 1 is merged with \n",
    "phylum-y submsa from protein 2. The perform of these control alignments where phylogenetic clades are mixed up should give a quantitative \n",
    "estimation of the effect of the method proposed. \u000b\n",
    "\n",
    "\u000b(2) Control of the effect of the classification method by pairing clade-msas for protein 1 with random versions of clade-msas for protein 2. \n",
    "Usually DCA methods assume for intra-molecular contacts that the protein has contacts and report some top pairs are real interactions. \n",
    "This method for inter-molecular interactions is expected to decide whether two proteins interact or not using a discrimination method. \n",
    "How does that work? These controls should inform about the false positive predicted interactions.\n",
    "\n",
    "our solution : \n",
    "\n",
    "One side from one phyla, other side from one same  or all different phyla , but shuffled \n",
    "\n",
    "\n",
    "\n",
    "\n",
    "\n",
    "\n"
   ]
  },
  {
   "cell_type": "markdown",
   "metadata": {},
   "source": [
    "## get small and postive benchmark \n",
    "\n",
    "we use pdb_interact as benchmark \n"
   ]
  },
  {
   "cell_type": "code",
   "execution_count": 4,
   "metadata": {},
   "outputs": [
    {
     "name": "stdout",
     "output_type": "stream",
     "text": [
      "len of intersection: 309\n",
      "414 3243 3657\n",
      "0\n",
      "3657\n"
     ]
    }
   ],
   "source": [
    "pdb_interact_PPs, pdb_complex_PPs = get_STRING1105_pdb_interact(pdb_interact_filename=\"/mnt/mnemo6/damian/STRING_derived_v11.5/pdb/pdb_interact.tsv\",\n",
    "                                                                retrieve_spe=511145,)\n",
    "\n",
    "\n",
    "pdb_interact_PPs_dict = {pp: 1 for pp in pdb_interact_PPs}\n",
    "pdb_complex_PPs_dict = {pp: 1 for pp in pdb_complex_PPs}\n",
    "pdb_PPs_dict = {pp: 1 for pp in pdb_interact_PPs+pdb_complex_PPs}\n",
    "\n",
    "print(len(pdb_interact_PPs), len(pdb_complex_PPs), len(pdb_PPs_dict))\n",
    "\n",
    "\n",
    "print(len(set(pdb_interact_PPs).intersection(pdb_complex_PPs)))\n",
    "\n",
    "print(len(set(pdb_interact_PPs).union(pdb_complex_PPs)))"
   ]
  },
  {
   "cell_type": "code",
   "execution_count": null,
   "metadata": {},
   "outputs": [],
   "source": []
  },
  {
   "cell_type": "markdown",
   "metadata": {},
   "source": [
    "## control 1 \n",
    "\n",
    "\n",
    "for phylum 1224 "
   ]
  },
  {
   "cell_type": "code",
   "execution_count": 21,
   "metadata": {},
   "outputs": [],
   "source": [
    "# # run once to generate randomised paired MSA \n",
    "# Query_tuple = ('1224', '511145')\n",
    "# EggNOG_maxLevel, currentSpe_TaxID = Query_tuple\n",
    "# input_root_folder = CoEvo_data_folder+currentSpe_TaxID + \\\n",
    "#     \"_EggNOGmaxLevel\"+EggNOG_maxLevel+\"_eggNOGfilteredData/\"\n",
    "# SamePosandNeg_pairedMSA_Nf90_folder = input_root_folder+\"pair_MSA_Nf90_PasteAlign/\"\n",
    "# print(SamePosandNeg_pairedMSA_Nf90_folder)\n",
    "\n",
    "# onePhylumRandomised_SamePosandNeg_pairedMSA_Nf90_folder = input_root_folder + \\\n",
    "#     \"onePhylumRandomised_pair_MSA_Nf90_PasteAlign/\"\n",
    "# print(onePhylumRandomised_SamePosandNeg_pairedMSA_Nf90_folder)\n",
    "\n",
    "\n",
    "# currentSpeMiddleDataPath = newSTRING_rootFolder+currentSpe_TaxID + \\\n",
    "#     \"_EggNOGmaxLevel\"+EggNOG_maxLevel+\"_MiddleData/\"\n",
    "# print(currentSpeMiddleDataPath)\n",
    "# with open(currentSpeMiddleDataPath+'fasta_protein_lens_dict.pickle', 'rb') as handle:\n",
    "#     fasta_protein_lens = pickle.load(handle)\n",
    "\n",
    "# print(fasta_protein_lens[\"511145.b0014\"], fasta_protein_lens[\"511145.b0055\"],\n",
    "#       fasta_protein_lens[\"511145.b0095\"], fasta_protein_lens[\"511145.b0436\"])\n",
    "\n",
    "\n",
    "# if not os.path.exists(onePhylumRandomised_SamePosandNeg_pairedMSA_Nf90_folder):\n",
    "#     os.makedirs(onePhylumRandomised_SamePosandNeg_pairedMSA_Nf90_folder)\n",
    "#     print(onePhylumRandomised_SamePosandNeg_pairedMSA_Nf90_folder)\n",
    "\n",
    "# mp_args = [(pp1, pp2, fasta_protein_lens[pp1], SamePosandNeg_pairedMSA_Nf90_folder,\n",
    "#             onePhylumRandomised_SamePosandNeg_pairedMSA_Nf90_folder) for pp1, pp2 in pdb_interact_PPs if pp1 in fasta_protein_lens]\n",
    "\n",
    "# pool = mp.Pool(20)\n",
    "# pool.map(onePhylumRandomised_msa, mp_args)\n",
    "# pool.close()"
   ]
  },
  {
   "cell_type": "code",
   "execution_count": null,
   "metadata": {},
   "outputs": [],
   "source": []
  },
  {
   "cell_type": "markdown",
   "metadata": {},
   "source": [
    "### compuation \n",
    "\n",
    "for run DCA . \n",
    "\n",
    "use: \n",
    " conda activate py37_pydca\n",
    " python onePhylumRandomised_DCA.py"
   ]
  },
  {
   "cell_type": "code",
   "execution_count": 5,
   "metadata": {},
   "outputs": [
    {
     "name": "stdout",
     "output_type": "stream",
     "text": [
      "/mnt/mnemo6/tao/PPI_Coevolution/CoEvo_data_STRING11.5/511145_EggNOGmaxLevel1224_eggNOGfilteredData/onePhylumRandomised_pair_MSA_Nf90_PasteAlign/\n",
      "295\n",
      "len(ArgForGetDCAMax): 295\n"
     ]
    }
   ],
   "source": [
    "# # run once to collect data,\n",
    "# # move it here due to enviroment conflict, pandas is broken in py37_pydca\n",
    "# Query_tuple = ('1224', '511145')\n",
    "# EggNOG_maxLevel, currentSpe_TaxID = Query_tuple\n",
    "\n",
    "# input_root_folder = CoEvo_data_folder+currentSpe_TaxID + \\\n",
    "#     \"_EggNOGmaxLevel\"+EggNOG_maxLevel+\"_eggNOGfilteredData/\"\n",
    "\n",
    "# onePhylumRandomised_SamePosandNeg_pairedMSA_Nf90_folder = input_root_folder + \\\n",
    "#     \"onePhylumRandomised_pair_MSA_Nf90_PasteAlign/\"\n",
    "# print(onePhylumRandomised_SamePosandNeg_pairedMSA_Nf90_folder)\n",
    "\n",
    "\n",
    "# DCA_coevolutoin_path = input_root_folder + \\\n",
    "#     \"onePhylumRandomised_coevolutoin_result_DCA/\"\n",
    "\n",
    "\n",
    "# Benchmark_folder = input_root_folder+\"onePhylumRandomised_Benchmark/\"\n",
    "\n",
    "\n",
    "# currentSpeMiddleDataPath = newSTRING_rootFolder+currentSpe_TaxID + \\\n",
    "#     \"_EggNOGmaxLevel\"+EggNOG_maxLevel+\"_MiddleData/\"\n",
    "# with open(currentSpeMiddleDataPath+'fasta_protein_lens_dict.pickle', 'rb') as handle:\n",
    "#     fasta_protein_lens = pickle.load(handle)\n",
    "\n",
    "# input_msaFiles = glob.glob(\n",
    "#     onePhylumRandomised_SamePosandNeg_pairedMSA_Nf90_folder+\"*.fasta\")\n",
    "# print(len(input_msaFiles))\n",
    "# input_msaFiles = [os.path.basename(f)[0:-len(\".fasta\")]\n",
    "#                   for f in input_msaFiles]\n",
    "# input_PPs = [f.split(\"and\") for f in input_msaFiles]\n",
    "\n",
    "\n",
    "# ArgForGetDCAMax = [(p1, p2, fasta_protein_lens[p1], fasta_protein_lens[p2],\n",
    "#                     DCA_coevolutoin_path) for p1, p2 in input_PPs]\n",
    "# print(\"len(ArgForGetDCAMax):\", len(ArgForGetDCAMax))\n",
    "\n",
    "# if not os.path.exists(Benchmark_folder+\"max_pydcaFNAPC_frame.csv\"):\n",
    "#     pool = mp.Pool(30)\n",
    "#     max_pydcaFNAPC_list = pool.map(\n",
    "#         get_maxBetValue_dict_pydcaFNAPC_array_npz, ArgForGetDCAMax)\n",
    "#     pool.close()\n",
    "#     max_pydcaFNAPC_frame = pd.DataFrame(max_pydcaFNAPC_list, columns=[\"currentSpe_pro1\", \"currentSpe_pro2\",\n",
    "#                                                                       \"maxValue_all_idx_row\", \"maxValue_all_idx_col\", \"maxValue_all\",\n",
    "#                                                                       \"maxValue_bet_idx_row\", \"maxValue_bet_idx_col\", \"maxValue_bet\"])\n",
    "#     max_pydcaFNAPC_frame.to_csv(\n",
    "#         Benchmark_folder+\"max_pydcaFNAPC_frame.csv\", header=True, index=None, sep=\"\\t\")"
   ]
  },
  {
   "cell_type": "markdown",
   "metadata": {},
   "source": [
    "### collection resutls and compare "
   ]
  },
  {
   "cell_type": "code",
   "execution_count": null,
   "metadata": {},
   "outputs": [],
   "source": []
  },
  {
   "cell_type": "code",
   "execution_count": null,
   "metadata": {},
   "outputs": [],
   "source": []
  },
  {
   "cell_type": "code",
   "execution_count": null,
   "metadata": {},
   "outputs": [],
   "source": []
  },
  {
   "cell_type": "code",
   "execution_count": 7,
   "metadata": {},
   "outputs": [
    {
     "name": "stdout",
     "output_type": "stream",
     "text": [
      "(2269191, 152)\n"
     ]
    }
   ],
   "source": [
    "# get original reusults in this phylum\n",
    "\n",
    "\n",
    "original_topRanking_DCA_frame = pd.read_csv(f\"{CoEvo_data_folder}allPPI_511145_EggNOGmaxLevel1224_eggNOGfilteredData/AllPPI_Benchmark/\"+\"DCA_thres_0_topRanking_pydcaFNAPC_frame.csv\",\n",
    "                                            header=0, index_col=None, sep=\"\\t\")\n",
    "print(original_topRanking_DCA_frame.shape)\n",
    "original_topRanking_DCA_frame.head(n=3)\n",
    "\n",
    "original_topRanking_DCA_dict = {(l[0], l[1]): l[2] for l in original_topRanking_DCA_frame.values.tolist()}"
   ]
  },
  {
   "cell_type": "code",
   "execution_count": null,
   "metadata": {},
   "outputs": [],
   "source": []
  },
  {
   "cell_type": "code",
   "execution_count": 8,
   "metadata": {},
   "outputs": [
    {
     "name": "stdout",
     "output_type": "stream",
     "text": [
      "/mnt/mnemo6/tao/PPI_Coevolution/CoEvo_data_STRING11.5/511145_EggNOGmaxLevel1224_eggNOGfilteredData/onePhylumRandomised_pair_MSA_Nf90_PasteAlign/\n"
     ]
    }
   ],
   "source": [
    "leftPhylum_tuple = ('1224', '511145')\n",
    "leftPhylum_EggNOG_maxLevel, leftPhylum_currentSpe_TaxID = leftPhylum_tuple\n",
    "leftPhylum_input_root_folder = CoEvo_data_folder+leftPhylum_currentSpe_TaxID + \\\n",
    "    \"_EggNOGmaxLevel\"+leftPhylum_EggNOG_maxLevel+\"_eggNOGfilteredData/\"\n",
    "leftPhylumRandomised_SamePosandNeg_pairedMSA_Nf90_folder = leftPhylum_input_root_folder + \\\n",
    "    \"onePhylumRandomised_pair_MSA_Nf90_PasteAlign/\"\n",
    "print(leftPhylumRandomised_SamePosandNeg_pairedMSA_Nf90_folder)"
   ]
  },
  {
   "cell_type": "code",
   "execution_count": 9,
   "metadata": {},
   "outputs": [
    {
     "name": "stdout",
     "output_type": "stream",
     "text": [
      "295\n"
     ]
    }
   ],
   "source": [
    "input_msaFiles = glob.glob(\n",
    "    leftPhylumRandomised_SamePosandNeg_pairedMSA_Nf90_folder+\"*.fasta\")\n",
    "print(len(input_msaFiles))\n",
    "input_msaFiles = [os.path.basename(f)[0:-len(\".fasta\")]\n",
    "                  for f in input_msaFiles]\n",
    "input_PPs = [f.split(\"and\") for f in input_msaFiles]"
   ]
  },
  {
   "cell_type": "code",
   "execution_count": 10,
   "metadata": {},
   "outputs": [
    {
     "name": "stdout",
     "output_type": "stream",
     "text": [
      "294\n"
     ]
    }
   ],
   "source": [
    "control1_original_topRanking_DCA_dict = {(p1, p2): original_topRanking_DCA_dict[(\n",
    "    p1, p2)] for p1, p2 in input_PPs if (p1, p2) in original_topRanking_DCA_dict}\n",
    "print(len(control1_original_topRanking_DCA_dict))\n",
    "# one exceptin is ('511145.b0440', '511145.b4000'), probably removed by other filtering step, like deep homologs , no bigie\n",
    "# from STRING_benchmark import get_STRING1105_physical_interact\n",
    "# strPhy_dict = get_STRING1105_physical_interact(data_folder=\"/mnt/mnemo6/tao/notebook_data/STRING_derived_v11.5/download_files/protein.physical.links.v11.5/\",\n",
    "#                                 retrieve_spe=511145,\n",
    "#                                      combined_score_thres=500,\n",
    "#                                      inputFrameIsReversed=True,\n",
    "#                                      return_dict=True,\n",
    "#                                     )"
   ]
  },
  {
   "cell_type": "code",
   "execution_count": null,
   "metadata": {},
   "outputs": [],
   "source": []
  },
  {
   "cell_type": "code",
   "execution_count": 15,
   "metadata": {},
   "outputs": [],
   "source": [
    "control1_dataframe_file = leftPhylum_input_root_folder + \\\n",
    "    \"onePhylumRandomised_Benchmark/max_pydcaFNAPC_frame.csv\"\n",
    "control1_dataframe = pd.read_csv(control1_dataframe_file, header=0, index_col=None, sep=\"\\t\")\n",
    "\n",
    "control1_topRanking_DCA_dict = control1_dataframe.values.tolist()\n",
    "\n",
    "control1_topRanking_DCA_dict={(l[0],l[1]):l[-1] for l in control1_topRanking_DCA_dict}"
   ]
  },
  {
   "cell_type": "code",
   "execution_count": 17,
   "metadata": {},
   "outputs": [
    {
     "name": "stdout",
     "output_type": "stream",
     "text": [
      "('511145.b0014', '511145.b0015') 1.7117 0.8064\n",
      "('511145.b1089', '511145.b1716') 6.6822 1.4293\n",
      "('511145.b0972', '511145.b0973') 1.0936 0.79\n",
      "('511145.b0722', '511145.b0724') 3.2454 0.8421\n",
      "('511145.b0284', '511145.b0286') 1.1323 0.8214\n",
      "('511145.b0095', '511145.b2412') 1.0345 0.8547\n",
      "('511145.b1174', '511145.b1175') 1.3983 0.9687\n",
      "('511145.b1089', '511145.b3294') 5.6763 1.2303\n",
      "('511145.b0878', '511145.b0879') 0.8282 0.7681\n",
      "('511145.b1475', '511145.b1476') 1.0555 0.8552\n",
      "('511145.b0198', '511145.b0199') 1.4329 0.6787\n",
      "('511145.b1089', '511145.b3315') 3.4067 1.5083\n",
      "('511145.b0285', '511145.b0286') 2.5192 0.7658\n",
      "('511145.b0169', '511145.b3649') 1.3299 0.7483\n",
      "('511145.b0114', '511145.b0115') 1.8909 0.802\n",
      "('511145.b0640', '511145.b1099') 0.7796 0.4473\n",
      "('511145.b1185', '511145.b3860') 1.0561 0.6293\n",
      "('511145.b0723', '511145.b0724') 1.6641 0.6798\n",
      "('511145.b0409', '511145.b3300') 0.9468 0.613\n",
      "('511145.b1681', '511145.b1682') 1.4088 0.6144\n",
      "('511145.b0878', '511145.b3035') 0.6822 0.6062\n",
      "('511145.b0098', '511145.b3312') 0.9091 0.5835\n",
      "('511145.b0177', '511145.b2512') 0.8139 0.5684\n",
      "('511145.b1094', '511145.b1206') 0.7129 0.5518\n",
      "('511145.b0184', '511145.b0215') 1.8504 0.5888\n",
      "('511145.b0408', '511145.b0409') 1.9652 0.4895\n",
      "('511145.b0470', '511145.b1099') 1.1544 0.5869\n",
      "('511145.b1211', '511145.b1212') 0.9499 0.4306\n",
      "('511145.b1712', '511145.b2755') 0.9508 0.8756\n",
      "('511145.b0723', '511145.b2897') 0.9342 0.8541\n",
      "('511145.b1717', '511145.b3636') 2.7867 1.1133\n",
      "('511145.b1922', '511145.b3987') 0.9625 0.8506\n",
      "('511145.b0014', '511145.b0383') 0.9454 0.8105\n",
      "('511145.b0383', '511145.b0436') 0.722 0.6631\n",
      "('511145.b2573', '511145.b3987') 0.9528 0.7371\n",
      "('511145.b2221', '511145.b2222') 1.5049 0.971\n",
      "('511145.b2569', '511145.b3342') 1.3194 0.8534\n",
      "('511145.b1922', '511145.b3988') 0.8992 0.7805\n",
      "('511145.b0640', '511145.b3701') 0.8123 0.5966\n",
      "('511145.b1732', '511145.b4172') 0.8526 0.7022\n",
      "('511145.b0881', '511145.b0882') 1.3061 0.7896\n",
      "('511145.b0728', '511145.b0729') 1.5697 0.7389\n",
      "('511145.b2573', '511145.b3988') 0.9286 0.7115\n",
      "('511145.b0383', '511145.b3609') 0.8773 0.959\n",
      "('511145.b1681', '511145.b1683') 2.2422 0.6829\n",
      "('511145.b2017', '511145.b4539') 3.6116 1.3885\n",
      "('511145.b1094', '511145.b2323') 1.2093 0.6359\n",
      "('511145.b2533', '511145.b3169') 0.9882 0.5308\n",
      "('511145.b2569', '511145.b3983') 1.1198 0.9195\n",
      "('511145.b0696', '511145.b0698') 3.678 0.8705\n",
      "('511145.b1682', '511145.b1683') 2.1736 0.8677\n",
      "('511145.b2576', '511145.b3929') 0.8096 0.641\n",
      "('511145.b0098', '511145.b3318') 0.8754 0.6057\n",
      "('511145.b2571', '511145.b2572') 1.1544 0.8795\n",
      "('511145.b2606', '511145.b3320') 3.2732 0.6423\n",
      "('511145.b2185', '511145.b3313') 1.8791 0.6197\n",
      "('511145.b0408', '511145.b3175') 0.9403 0.6849\n",
      "('511145.b0697', '511145.b0698') 1.3823 0.9667\n",
      "('511145.b2231', '511145.b3699') 1.3191 0.6733\n",
      "('511145.b1092', '511145.b1094') 1.4689 0.5837\n",
      "('511145.b0014', '511145.b2614') 1.1702 0.7618\n",
      "('511145.b1094', '511145.b2563') 1.5705 0.7463\n",
      "('511145.b0409', '511145.b3705') 0.9545 0.4978\n",
      "('511145.b0184', '511145.b0470') 1.2319 0.5252\n",
      "('511145.b1713', '511145.b1714') 2.3606 0.5175\n",
      "('511145.b2829', '511145.b3206') 0.982 0.6535\n",
      "('511145.b2897', '511145.b4154') 1.0872 0.8668\n",
      "('511145.b2595', '511145.b2617') 1.7484 0.5697\n",
      "('511145.b0177', '511145.b2595') 1.9989 0.5282\n",
      "('511145.b1094', '511145.b3412') 1.3591 0.8081\n",
      "('511145.b0101', '511145.b2231') 0.8925 0.8606\n",
      "('511145.b0888', '511145.b3781') 2.3648 0.6203\n",
      "('511145.b2610', '511145.b3309') 1.2114 0.6785\n",
      "('511145.b2234', '511145.b2235') 0.9874 0.5796\n",
      "('511145.b2606', '511145.b3310') 3.0367 1.1322\n",
      "('511145.b3065', '511145.b3297') 2.5491 1.2803\n",
      "('511145.b2610', '511145.b3464') 1.4163 0.6206\n",
      "('511145.b0101', '511145.b3699') 1.3899 0.7755\n",
      "('511145.b0733', '511145.b0734') 1.3961 0.574\n",
      "('511145.b2533', '511145.b3649') 1.0157 0.541\n",
      "('511145.b1716', '511145.b3186') 4.2684 0.727\n",
      "('511145.b2195', '511145.b4136') 0.8919 0.617\n",
      "('511145.b3065', '511145.b4202') 2.4642 1.7334\n",
      "('511145.b0416', '511145.b3169') 1.0753 0.6756\n",
      "('511145.b0177', '511145.b2617') 0.8821 0.6573\n",
      "('511145.b2830', '511145.b3809') 1.0731 0.5688\n",
      "('511145.b2610', '511145.b3312') 1.5309 0.9646\n",
      "('511145.b0032', '511145.b0033') 2.4252 0.6444\n",
      "('511145.b0891', '511145.b1116') 0.9835 0.7838\n",
      "('511145.b0408', '511145.b3300') 1.2164 0.5658\n",
      "('511145.b3067', '511145.b3229') 1.0709 0.8388\n",
      "('511145.b1716', '511145.b3231') 3.2946 0.8575\n",
      "('511145.b3067', '511145.b3649') 1.0953 0.7563\n",
      "('511145.b1094', '511145.b1095') 1.1814 0.5498\n",
      "('511145.b1114', '511145.b4058') 0.724 0.5119\n",
      "('511145.b0416', '511145.b3321') 1.4805 0.6075\n",
      "('511145.b2904', '511145.b2905') 2.0276 0.5871\n",
      "('511145.b3169', '511145.b3982') 1.138 0.6359\n",
      "('511145.b1717', '511145.b3301') 3.7198 0.8224\n",
      "('511145.b0184', '511145.b3701') 0.6494 0.5061\n",
      "('511145.b2891', '511145.b3313') 1.5698 0.7835\n",
      "('511145.b2610', '511145.b3315') 1.3552 0.8157\n",
      "('511145.b3067', '511145.b3987') 0.8205 0.6827\n",
      "('511145.b0407', '511145.b0462') 0.6096 0.5425\n",
      "('511145.b2533', '511145.b3982') 0.8796 0.5919\n",
      "('511145.b3067', '511145.b3295') 0.9845 0.6953\n",
      "('511145.b3199', '511145.b4262') 1.0368 0.9068\n",
      "('511145.b3191', '511145.b3195') 1.1508 0.8973\n",
      "('511145.b3067', '511145.b3357') 0.7893 0.7558\n",
      "('511145.b3169', '511145.b3987') 0.9482 0.7643\n",
      "('511145.b3067', '511145.b3988') 0.9248 0.7421\n",
      "('511145.b2533', '511145.b3987') 0.981 0.6846\n",
      "('511145.b3230', '511145.b3321') 2.3389 1.2219\n",
      "('511145.b2610', '511145.b3318') 1.2385 0.679\n",
      "('511145.b3168', '511145.b3342') 1.0471 0.5267\n",
      "('511145.b3183', '511145.b3305') 1.1796 0.5391\n",
      "('511145.b0430', '511145.b0431') 1.0274 0.5709\n",
      "('511145.b0185', '511145.b2316') 2.8392 0.7093\n",
      "('511145.b0179', '511145.b1094') 1.1919 0.5015\n",
      "('511145.b3230', '511145.b3341') 2.0699 0.7138\n",
      "('511145.b3294', '511145.b3315') 2.2056 0.705\n",
      "('511145.b3295', '511145.b3649') 1.157 0.8068\n",
      "('511145.b3193', '511145.b3194') 2.1029 0.671\n",
      "('511145.b3175', '511145.b3300') 1.7651 0.6745\n",
      "('511145.b2533', '511145.b3988') 0.746 0.8637\n",
      "('511145.b3298', '511145.b3316') 3.425 1.0191\n",
      "('511145.b0197', '511145.b0198') 1.2178 0.7208\n",
      "('511145.b3169', '511145.b3295') 1.0449 0.678\n",
      "('511145.b3296', '511145.b3987') 1.081 0.9033\n",
      "('511145.b0408', '511145.b3705') 0.8095 0.5485\n",
      "('511145.b3295', '511145.b3783') 1.1277 0.8971\n",
      "('511145.b3185', '511145.b3304') 2.0371 0.7992\n",
      "('511145.b3294', '511145.b3320') 1.5262 0.6563\n",
      "('511145.b0180', '511145.b1094') 1.8218 0.7049\n",
      "('511145.b3201', '511145.b4261') 1.3319 0.5156\n",
      "('511145.b3296', '511145.b3988') 0.9081 0.7694\n",
      "('511145.b3231', '511145.b3320') 2.8961 0.7094\n",
      "('511145.b3295', '511145.b3987') 1.0793 0.7247\n",
      "('511145.b3169', '511145.b3296') 1.3109 0.9049\n",
      "('511145.b0408', '511145.b3981') 1.1766 0.8464\n",
      "('511145.b3193', '511145.b3195') 1.2644 0.5528\n",
      "('511145.b3185', '511145.b3313') 1.9026 1.0792\n",
      "('511145.b3300', '511145.b3318') 1.2393 0.9827\n",
      "('511145.b3295', '511145.b3314') 1.3309 0.8332\n",
      "('511145.b3298', '511145.b4161') 1.2765 0.6916\n",
      "('511145.b3295', '511145.b3988') 1.1302 0.74\n",
      "('511145.b3303', '511145.b3314') 1.7503 0.9038\n",
      "('511145.b3299', '511145.b3305') 1.8471 1.3166\n",
      "('511145.b3295', '511145.b3321') 1.8447 1.0255\n",
      "('511145.b3186', '511145.b3231') 1.2305 0.6391\n",
      "('511145.b3306', '511145.b3342') 3.2264 0.8768\n",
      "('511145.b3169', '511145.b3321') 1.2079 0.9795\n",
      "('511145.b3295', '511145.b3357') 0.8971 0.876\n",
      "('511145.b3175', '511145.b3705') 1.3877 0.6608\n",
      "('511145.b3244', '511145.b4235') 2.1094 0.5642\n",
      "('511145.b3303', '511145.b3988') 1.05 0.7368\n",
      "('511145.b3307', '511145.b3314') 3.1789 1.0883\n",
      "('511145.b3296', '511145.b3303') 1.4316 0.8259\n",
      "('511145.b3300', '511145.b3309') 1.0287 0.7076\n",
      "('511145.b3314', '511145.b3982') 1.2796 0.8282\n",
      "('511145.b3308', '511145.b4391') 0.8954 0.7065\n",
      "('511145.b3169', '511145.b3783') 1.292 0.8076\n",
      "('511145.b3175', '511145.b3981') 1.5725 0.7937\n",
      "('511145.b3307', '511145.b3316') 2.9839 1.0952\n",
      "('511145.b3318', '511145.b3703') 1.9596 1.1506\n",
      "('511145.b3314', '511145.b3987') 0.933 0.7419\n",
      "('511145.b3186', '511145.b3301') 3.8989 0.5164\n",
      "('511145.b3307', '511145.b3321') 3.1463 1.2531\n",
      "('511145.b3201', '511145.b4262') 0.955 0.524\n",
      "('511145.b3300', '511145.b3312') 1.168 1.0004\n",
      "('511145.b3318', '511145.b3981') 1.2434 0.9938\n",
      "('511145.b3194', '511145.b3195') 0.9001 0.6617\n",
      "('511145.b3310', '511145.b3320') 1.4217 0.8021\n",
      "('511145.b3300', '511145.b3705') 1.4862 0.4963\n",
      "('511145.b3340', '511145.b3342') 1.0619 0.7807\n",
      "('511145.b3255', '511145.b3256') 1.1752 0.694\n",
      "('511145.b3199', '511145.b4261') 1.4171 0.9354\n",
      "('511145.b3308', '511145.b3936') 2.5801 1.0197\n",
      "('511145.b3300', '511145.b3981') 2.6338 0.8564\n",
      "('511145.b3311', '511145.b3342') 1.8178 1.5141\n",
      "('511145.b3343', '511145.b3345') 2.5067 0.8712\n",
      "('511145.b3319', '511145.b3703') 2.3648 1.3294\n",
      "('511145.b3344', '511145.b3345') 1.8063 0.7205\n",
      "('511145.b3312', '511145.b3318') 7.3076 0.7582\n",
      "('511145.b3462', '511145.b3613') 1.1694 0.6432\n",
      "('511145.b3341', '511145.b4391') 1.0963 0.6635\n",
      "('511145.b3314', '511145.b3321') 1.8405 0.9114\n",
      "('511145.b3301', '511145.b3319') 1.8444 0.646\n",
      "('511145.b3649', '511145.b3988') 0.87 0.7069\n",
      "('511145.b3303', '511145.b3306') 2.0508 0.7222\n",
      "('511145.b3342', '511145.b4161') 1.455 0.6148\n",
      "('511145.b3731', '511145.b3734') 1.3789 0.6738\n",
      "('511145.b3736', '511145.b3737') 1.6372 1.111\n",
      "('511145.b3731', '511145.b3737') 1.422 0.8185\n",
      "('511145.b3783', '511145.b3987') 0.8369 0.8628\n",
      "('511145.b3736', '511145.b3738') 4.4504 0.8451\n",
      "('511145.b3733', '511145.b3734') 1.3542 0.7646\n",
      "('511145.b3732', '511145.b3733') 1.3651 0.7996\n",
      "('511145.b3783', '511145.b3988') 0.8308 0.7517\n",
      "('511145.b3737', '511145.b3738') 1.6697 0.9482\n",
      "('511145.b3733', '511145.b3737') 1.2283 0.8045\n",
      "('511145.b4098', '511145.b4099') 2.0862 0.9779\n",
      "('511145.b3936', '511145.b4203') 1.2495 0.6855\n",
      "('511145.b3732', '511145.b3734') 2.5522 0.8\n",
      "('511145.b4098', '511145.b4100') 4.4507 0.9427\n",
      "('511145.b3982', '511145.b3987') 0.8014 0.9816\n",
      "('511145.b3984', '511145.b4391') 1.0108 0.6764\n",
      "('511145.b4098', '511145.b4101') 2.038 1.0403\n",
      "('511145.b3734', '511145.b3735') 1.3083 0.7391\n",
      "('511145.b3734', '511145.b3736') 1.5097 1.0634\n",
      "('511145.b3732', '511145.b3735') 1.0828 0.6806\n",
      "('511145.b4099', '511145.b4100') 1.2852 0.834\n",
      "('511145.b4142', '511145.b4143') 1.336 0.9359\n",
      "('511145.b3982', '511145.b3988') 1.1663 0.7186\n",
      "('511145.b4099', '511145.b4101') 2.5827 0.9902\n",
      "('511145.b3985', '511145.b3986') 3.3923 0.6028\n",
      "('511145.b3735', '511145.b3736') 1.1927 0.5507\n",
      "('511145.b4147', '511145.b4155') 1.2511 0.6225\n",
      "('511145.b3983', '511145.b3985') 2.7319 0.6853\n",
      "('511145.b3987', '511145.b3988') 1.2657 0.8185\n",
      "('511145.b4261', '511145.b4262') 1.0003 0.4811\n",
      "('511145.b3983', '511145.b4173') 0.9277 0.5407\n",
      "('511145.b0059', '511145.b3649') 0.747 0.7238\n",
      "('511145.b0169', '511145.b3303') 1.5738 0.7852\n",
      "('511145.b0437', '511145.b0438') 1.2442 0.8287\n",
      "('511145.b0711', '511145.b0712') 1.5371 0.5337\n",
      "('511145.b0093', '511145.b2748') 1.6218 0.5539\n",
      "('511145.b0145', '511145.b3987') 1.0021 0.7213\n",
      "('511145.b0912', '511145.b1712') 3.1091 0.8012\n",
      "('511145.b0721', '511145.b0722') 4.4006 0.7764\n",
      "('511145.b0169', '511145.b3306') 1.4009 0.7004\n",
      "('511145.b0437', '511145.b0882') 1.0755 0.9268\n",
      "('511145.b0721', '511145.b0723') 1.0002 0.9162\n",
      "('511145.b0954', '511145.b1094') 1.5452 1.1334\n",
      "('511145.b0145', '511145.b3988') 0.9475 0.7534\n",
      "('511145.b0169', '511145.b3314') 1.972 0.8628\n",
      "('511145.b0721', '511145.b0724') 1.7637 0.7725\n",
      "('511145.b0215', '511145.b3701') 0.8459 0.5489\n",
      "('511145.b0740', '511145.b0741') 3.0193 0.5625\n",
      "('511145.b0462', '511145.b0463') 0.5235 0.5231\n",
      "('511145.b0487', '511145.b3067') 0.7379 0.9505\n",
      "('511145.b1084', '511145.b2779') 1.0594 0.5857\n",
      "('511145.b1388', '511145.b1390') 2.7858 1.3364\n",
      "('511145.b0784', '511145.b0785') 3.6081 0.5574\n",
      "('511145.b1393', '511145.b1394') 0.9555 0.6195\n",
      "('511145.b0450', '511145.b0451') 0.8615 0.6503\n",
      "('511145.b0574', '511145.b0575') 0.6649 0.6184\n",
      "('511145.b1474', '511145.b1475') 0.8877 0.6577\n",
      "('511145.b0231', '511145.b3701') 0.686 0.4931\n",
      "('511145.b0284', '511145.b0285') 0.8366 0.7804\n",
      "('511145.b0784', '511145.b0826') 2.0184 0.6433\n",
      "('511145.b1602', '511145.b1603') 0.9016 0.7579\n",
      "('511145.b0463', '511145.b3035') 0.7022 0.4645\n",
      "('511145.b1881', '511145.b1882') 1.385 0.6988\n",
      "('511145.b1887', '511145.b1888') 0.7078 0.7372\n",
      "('511145.b1225', '511145.b1227') 2.2216 1.0857\n",
      "('511145.b0470', '511145.b0640') 0.9859 0.647\n",
      "('511145.b1882', '511145.b1888') 0.8104 0.7489\n",
      "('511145.b2440', '511145.b2441') 2.9814 0.905\n",
      "('511145.b1882', '511145.b1945') 0.8288 0.7881\n",
      "('511145.b1887', '511145.b4355') 1.0425 0.5976\n",
      "('511145.b2477', '511145.b2617') 1.3757 0.78\n",
      "('511145.b1807', '511145.b3064') 4.8094 0.6074\n",
      "('511145.b2496', '511145.b3701') 1.4211 0.702\n",
      "('511145.b2572', '511145.b3228') 1.6733 1.0538\n",
      "('511145.b2511', '511145.b3317') 1.0426 0.6351\n",
      "('511145.b1888', '511145.b4355') 0.6727 0.6916\n",
      "('511145.b2511', '511145.b3984') 1.0935 0.7818\n",
      "('511145.b2762', '511145.b3781') 0.927 0.4788\n",
      "('511145.b2819', '511145.b2820') 0.7226 0.4234\n",
      "('511145.b2733', '511145.b4170') 0.9117 0.5272\n",
      "('511145.b2819', '511145.b2822') 0.8644 0.4702\n",
      "('511145.b2994', '511145.b2997') 1.1781 0.9376\n",
      "('511145.b3005', '511145.b3006') 1.3183 0.8521\n",
      "('511145.b2820', '511145.b2822') 0.5915 0.4911\n",
      "('511145.b2893', '511145.b4136') 0.773 0.597\n",
      "('511145.b3230', '511145.b3307') 1.4768 0.8556\n",
      "('511145.b3297', '511145.b3341') 1.8781 0.8385\n",
      "('511145.b3321', '511145.b3982') 1.6054 0.9374\n",
      "('511145.b3297', '511145.b4202') 2.5447 1.177\n",
      "('511145.b3317', '511145.b4203') 1.1514 0.7968\n",
      "('511145.b3305', '511145.b4173') 0.9337 0.5098\n",
      "('511145.b3343', '511145.b3344') 2.5909 1.0634\n",
      "('511145.b3306', '511145.b3311') 1.7958 0.7394\n",
      "('511145.b3636', '511145.b4391') 1.0616 0.6689\n",
      "('511145.b3705', '511145.b3737') 0.975 0.6535\n",
      "('511145.b3783', '511145.b3982') 1.221 0.9322\n",
      "('511145.b3731', '511145.b3732') 1.3831 0.7669\n",
      "('511145.b3931', '511145.b3932') 1.3416 0.6868\n",
      "('511145.b3637', '511145.b4203') 1.3174 0.6386\n",
      "('511145.b3649', '511145.b3987') 0.8751 0.7667\n",
      "('511145.b3731', '511145.b3733') 1.361 0.5093\n",
      "('511145.b4153', '511145.b4154') 1.5502 0.7291\n",
      "('511145.b4200', '511145.b4202') 2.6772 0.7698\n"
     ]
    }
   ],
   "source": [
    "for pp in control1_original_topRanking_DCA_dict: \n",
    "    print(pp, control1_original_topRanking_DCA_dict[pp], control1_topRanking_DCA_dict[pp])"
   ]
  },
  {
   "cell_type": "code",
   "execution_count": null,
   "metadata": {},
   "outputs": [],
   "source": [
    " input_root_folder+\"onePhylumRandomised_Benchmark/\""
   ]
  },
  {
   "cell_type": "code",
   "execution_count": null,
   "metadata": {},
   "outputs": [],
   "source": [
    "%%time \n",
    "\n",
    "Query_allPPI_info=Query_allPPI_allInfo_frame.loc[:,[\"STRING_ID1\",\"STRING_ID2\",\"len1\",\"len2\"]].values.tolist()\n",
    "\n",
    "Query_allPPI_allInfo_dict=dict([((p1,p2),(len1,len2)) for p1,p2,len1,len2 in Query_allPPI_info])\n",
    "\n",
    "\n",
    "# CPU times: user 2.1 s, sys: 361 ms, total: 2.46 s\n",
    "# Wall time: 15.1 s\n"
   ]
  },
  {
   "cell_type": "code",
   "execution_count": null,
   "metadata": {},
   "outputs": [],
   "source": []
  },
  {
   "cell_type": "markdown",
   "metadata": {},
   "source": [
    "## control 2"
   ]
  },
  {
   "cell_type": "code",
   "execution_count": 22,
   "metadata": {},
   "outputs": [],
   "source": [
    "# # run once to get randomised paired MSA data \n",
    "# leftPhylum_tuple = ('1224', '511145')\n",
    "\n",
    "# leftPhylum_EggNOG_maxLevel, leftPhylum_currentSpe_TaxID = leftPhylum_tuple\n",
    "# leftPhylum_input_root_folder = CoEvo_data_folder+leftPhylum_currentSpe_TaxID + \\\n",
    "#     \"_EggNOGmaxLevel\"+leftPhylum_EggNOG_maxLevel+\"_eggNOGfilteredData/\"\n",
    "# leftPhylum_pairedMSA_Nf90_folder = leftPhylum_input_root_folder + \\\n",
    "#     \"pair_MSA_Nf90_PasteAlign/\"\n",
    "# print(leftPhylum_pairedMSA_Nf90_folder)\n",
    "\n",
    "\n",
    "# leftPhylum_currentSpeMiddleDataPath = newSTRING_rootFolder+leftPhylum_currentSpe_TaxID + \\\n",
    "#     \"_EggNOGmaxLevel\"+leftPhylum_EggNOG_maxLevel+\"_MiddleData/\"\n",
    "# print(leftPhylum_currentSpeMiddleDataPath)\n",
    "# with open(leftPhylum_currentSpeMiddleDataPath+'fasta_protein_lens_dict.pickle', 'rb') as handle:\n",
    "#     leftPhylum_fasta_protein_lens = pickle.load(handle)\n",
    "\n",
    "# print(leftPhylum_fasta_protein_lens[\"511145.b0014\"], leftPhylum_fasta_protein_lens[\"511145.b0055\"],\n",
    "#       leftPhylum_fasta_protein_lens[\"511145.b0095\"], leftPhylum_fasta_protein_lens[\"511145.b0436\"])\n",
    "\n",
    "# allPhylum_tuple = ('2', '511145')\n",
    "\n",
    "# allPhylum_EggNOG_maxLevel, allPhylum_currentSpe_TaxID = allPhylum_tuple\n",
    "# allPhylum_input_root_folder = CoEvo_data_folder+allPhylum_currentSpe_TaxID + \\\n",
    "#     \"_EggNOGmaxLevel\"+allPhylum_EggNOG_maxLevel+\"_eggNOGfilteredData/\"\n",
    "# allPhylum_pairedMSA_Nf90_folder = allPhylum_input_root_folder + \\\n",
    "#     \"pair_MSA_Nf90_PasteAlign/\"\n",
    "# print(allPhylum_pairedMSA_Nf90_folder)\n",
    "\n",
    "\n",
    "# allPhylum_currentSpeMiddleDataPath = newSTRING_rootFolder+allPhylum_currentSpe_TaxID + \\\n",
    "#     \"_EggNOGmaxLevel\"+allPhylum_EggNOG_maxLevel+\"_MiddleData/\"\n",
    "# print(allPhylum_currentSpeMiddleDataPath)\n",
    "# with open(allPhylum_currentSpeMiddleDataPath+'fasta_protein_lens_dict.pickle', 'rb') as handle:\n",
    "#     allPhylum_fasta_protein_lens = pickle.load(handle)\n",
    "\n",
    "# print(allPhylum_fasta_protein_lens[\"511145.b0014\"], allPhylum_fasta_protein_lens[\"511145.b0055\"],\n",
    "#       allPhylum_fasta_protein_lens[\"511145.b0095\"], allPhylum_fasta_protein_lens[\"511145.b0436\"])\n",
    "\n",
    "\n",
    "# allPhylumRandomised_SamePosandNeg_pairedMSA_Nf90_folder = leftPhylum_input_root_folder + \\\n",
    "#     \"allPhylumRandomised_pair_MSA_Nf90_PasteAlign/\"\n",
    "# print(allPhylumRandomised_SamePosandNeg_pairedMSA_Nf90_folder)\n",
    "\n",
    "# if not os.path.exists(allPhylumRandomised_SamePosandNeg_pairedMSA_Nf90_folder):\n",
    "#     os.makedirs(allPhylumRandomised_SamePosandNeg_pairedMSA_Nf90_folder)\n",
    "#     print(allPhylumRandomised_SamePosandNeg_pairedMSA_Nf90_folder)\n",
    "\n",
    "\n",
    "# mp_args = [(pp1, pp2, leftPhylum_fasta_protein_lens[pp1], allPhylum_fasta_protein_lens[pp1], leftPhylum_pairedMSA_Nf90_folder, allPhylum_pairedMSA_Nf90_folder,\n",
    "#             allPhylumRandomised_SamePosandNeg_pairedMSA_Nf90_folder) for pp1, pp2 in pdb_interact_PPs if (pp1 in leftPhylum_fasta_protein_lens) and (pp1 in allPhylum_fasta_protein_lens)]\n",
    "# print(len(mp_args))\n",
    "# pool = mp.Pool(20)\n",
    "# pool.map(allPhylumRandomised_msa, mp_args)\n",
    "# pool.close()"
   ]
  },
  {
   "cell_type": "code",
   "execution_count": null,
   "metadata": {},
   "outputs": [],
   "source": []
  },
  {
   "cell_type": "code",
   "execution_count": null,
   "metadata": {},
   "outputs": [],
   "source": []
  },
  {
   "cell_type": "code",
   "execution_count": 54,
   "metadata": {},
   "outputs": [],
   "source": []
  },
  {
   "cell_type": "code",
   "execution_count": null,
   "metadata": {},
   "outputs": [],
   "source": []
  },
  {
   "cell_type": "markdown",
   "metadata": {},
   "source": [
    "### computation \n",
    "\n",
    "for run DCA . \n",
    "\n",
    "use: \n",
    " conda  activate py37_pydca\n",
    " python allPhylumRandomised_DCA.py"
   ]
  },
  {
   "cell_type": "markdown",
   "metadata": {},
   "source": [
    "# collection resutls and compare"
   ]
  },
  {
   "cell_type": "code",
   "execution_count": null,
   "metadata": {},
   "outputs": [],
   "source": []
  },
  {
   "cell_type": "code",
   "execution_count": 23,
   "metadata": {},
   "outputs": [],
   "source": []
  },
  {
   "cell_type": "markdown",
   "metadata": {},
   "source": [
    "# pair-wise similarity distribution  of certain protein family \n",
    "\n",
    "first filter protein by their exsitences in different phylum , and in comman benchmark and of course has the final pairedMSA \n",
    "\n",
    "could first pick up one randome pps to write the follwoing pipeline .. \n",
    "\n",
    "for this one , we dont have to choose posive and dont have to be from pdb ?"
   ]
  },
  {
   "cell_type": "code",
   "execution_count": null,
   "metadata": {},
   "outputs": [],
   "source": []
  },
  {
   "cell_type": "code",
   "execution_count": 58,
   "metadata": {},
   "outputs": [
    {
     "name": "stdout",
     "output_type": "stream",
     "text": [
      "len of intersection: 309\n",
      "414 3243 3657\n",
      "0\n",
      "3657\n"
     ]
    }
   ],
   "source": [
    "pdb_interact_PPs, pdb_complex_PPs = get_STRING1105_pdb_interact(pdb_interact_filename=\"/mnt/mnemo6/damian/STRING_derived_v11.5/pdb/pdb_interact.tsv\",\n",
    "                                                                retrieve_spe=511145,)\n",
    "\n",
    "\n",
    "pdb_interact_PPs_dict = {pp: 1 for pp in pdb_interact_PPs}\n",
    "pdb_complex_PPs_dict = {pp: 1 for pp in pdb_complex_PPs}\n",
    "pdb_PPs_dict = {pp: 1 for pp in pdb_interact_PPs+pdb_complex_PPs}\n",
    "\n",
    "print(len(pdb_interact_PPs), len(pdb_complex_PPs), len(pdb_PPs_dict))\n",
    "\n",
    "\n",
    "print(len(set(pdb_interact_PPs).intersection(pdb_complex_PPs)))\n",
    "\n",
    "print(len(set(pdb_interact_PPs).union(pdb_complex_PPs)))"
   ]
  },
  {
   "cell_type": "code",
   "execution_count": 26,
   "metadata": {},
   "outputs": [],
   "source": [
    "SamePosandNeg_Benchmark=CoEvo_data_folder+\"AllLevel_testPhylaEffectSamePosandNeg_Benchmark/\"\n",
    "\n",
    "SamePosandNeg_frame=pd.read_csv(SamePosandNeg_Benchmark+\"SamePosandNeg_STRING115EggNog\"+EggNOG_maxLevel+\"Spe\"+currentSpe_TaxID+\".benchmark\",\n",
    "                                                                                                            header=0,index_col=None,sep=\"\\t\")\n",
    "SamePosandNeg_PPs_dict = SamePosandNeg_frame.values.tolist()\n",
    "SamePosandNeg_PPs_dict={(l[0],l[1]):1 for l in SamePosandNeg_PPs_dict}"
   ]
  },
  {
   "cell_type": "code",
   "execution_count": 59,
   "metadata": {},
   "outputs": [
    {
     "name": "stdout",
     "output_type": "stream",
     "text": [
      "154\n"
     ]
    }
   ],
   "source": [
    "# selected_PPs=[pp for pp in pdb_interact_PPs if pp in SamePosandNeg_PPs_dict]\n",
    "# if here is use pdb_interact_PPs, than later there is pp that have recored in different phylum \n",
    "# even use the one from allPPI benmark ?\n",
    "selected_PPs = [pp for pp in pdb_interact_PPs if pp in SamePosandNeg_PPs_dict]\n",
    "print(len(selected_PPs))"
   ]
  },
  {
   "cell_type": "code",
   "execution_count": 55,
   "metadata": {},
   "outputs": [
    {
     "name": "stdout",
     "output_type": "stream",
     "text": [
      "/mnt/mnemo6/tao/PPI_Coevolution/CoEvo_data_STRING11.5/511145_EggNOGmaxLevel2_eggNOGfilteredData/DownSample_num3_pair_MSA_Nf90_PasteAlign/\n",
      "/mnt/mnemo6/tao/PPI_Coevolution/CoEvo_data_STRING11.5/511145_EggNOGmaxLevel2_eggNOGfilteredData/DownSample_num10_pair_MSA_Nf90_PasteAlign/\n",
      "/mnt/mnemo6/tao/PPI_Coevolution/CoEvo_data_STRING11.5/511145_EggNOGmaxLevel2_eggNOGfilteredData/DownSample_num50_pair_MSA_Nf90_PasteAlign/\n",
      "/mnt/mnemo6/tao/PPI_Coevolution/CoEvo_data_STRING11.5/511145_EggNOGmaxLevel2_eggNOGfilteredData/DownSample_num100_pair_MSA_Nf90_PasteAlign/\n",
      "/mnt/mnemo6/tao/PPI_Coevolution/CoEvo_data_STRING11.5/511145_EggNOGmaxLevel2_eggNOGfilteredData/DownSample_num300_pair_MSA_Nf90_PasteAlign/\n",
      "/mnt/mnemo6/tao/PPI_Coevolution/CoEvo_data_STRING11.5/511145_EggNOGmaxLevel2_eggNOGfilteredData/pair_MSA_Nf90_PasteAlign/\n",
      "/mnt/mnemo6/tao/PPI_Coevolution/CoEvo_data_STRING11.5/511145_EggNOGmaxLevel1224_eggNOGfilteredData/pair_MSA_Nf90_PasteAlign/\n",
      "/mnt/mnemo6/tao/PPI_Coevolution/CoEvo_data_STRING11.5/1274374_EggNOGmaxLevel1239_eggNOGfilteredData/pair_MSA_Nf90_PasteAlign/\n",
      "/mnt/mnemo6/tao/PPI_Coevolution/CoEvo_data_STRING11.5/105422_EggNOGmaxLevel201174_eggNOGfilteredData/pair_MSA_Nf90_PasteAlign/\n",
      "/mnt/mnemo6/tao/PPI_Coevolution/CoEvo_data_STRING11.5/411476_EggNOGmaxLevel976_eggNOGfilteredData/pair_MSA_Nf90_PasteAlign/\n"
     ]
    }
   ],
   "source": [
    "DownSample_strategy = \"num\"#\"percent\"\n",
    "DownSample_sizes=[3,10,50,100,300]\n",
    "pairedMSA_Nf90_folder_list=list()\n",
    "for DownSample_size in DownSample_sizes:\n",
    "    for EggNOG_maxLevel,currentSpe_TaxID in [('2', '511145')]:\n",
    "        input_root_folder=CoEvo_data_folder+currentSpe_TaxID+\"_EggNOGmaxLevel\"+EggNOG_maxLevel+\"_eggNOGfilteredData/\"\n",
    "        DownSample_SamePosandNeg_pairedMSA_Nf90_folder = input_root_folder+\"DownSample_\"+DownSample_strategy+str(DownSample_size)+\"_pair_MSA_Nf90_PasteAlign/\"\n",
    "        pairedMSA_Nf90_folder_list.append(DownSample_SamePosandNeg_pairedMSA_Nf90_folder)\n",
    "\n",
    "\n",
    "tupleList = [('2', '511145'), ('1224', '511145'), (\"1239\", \"1274374\"),\n",
    "                   ('201174', '105422'), ('976', '411476'),]\n",
    "for EggNOG_maxLevel,currentSpe_TaxID in tupleList:\n",
    "    input_root_folder=CoEvo_data_folder+currentSpe_TaxID+\"_EggNOGmaxLevel\"+EggNOG_maxLevel+\"_eggNOGfilteredData/\"\n",
    "    SamePosandNeg_pairedMSA_Nf90_folder = input_root_folder+\"pair_MSA_Nf90_PasteAlign/\"\n",
    "    pairedMSA_Nf90_folder_list.append(SamePosandNeg_pairedMSA_Nf90_folder)\n",
    "for f in pairedMSA_Nf90_folder_list:\n",
    "    print(f) "
   ]
  },
  {
   "cell_type": "code",
   "execution_count": 46,
   "metadata": {},
   "outputs": [],
   "source": [
    "def check_fileExist_inFolders(pp1,pp2, list_of_folders):\n",
    "    basefile_name = f\"{pp1}and{pp2}.fasta\"\n",
    "    flag=True\n",
    "    for folder in list_of_folders:\n",
    "        if not os.path.exists(os.path.join(folder,basefile_name)):\n",
    "            flag=False\n",
    "            #print(basefile_name,list_of_folders)\n",
    "            break\n",
    "    #print(f\"flag:{flag}\")\n",
    "    return (flag)"
   ]
  },
  {
   "cell_type": "code",
   "execution_count": 56,
   "metadata": {},
   "outputs": [
    {
     "name": "stdout",
     "output_type": "stream",
     "text": [
      "0\n",
      "CPU times: user 0 ns, sys: 11.2 ms, total: 11.2 ms\n",
      "Wall time: 37.5 ms\n"
     ]
    }
   ],
   "source": [
    "%%time\n",
    "selected_PPs=[(p1,p2) for p1,p2 in selected_PPs if check_fileExist_inFolders(p1,p2,pairedMSA_Nf90_folder_list)]\n",
    "print(len(selected_PPs))"
   ]
  },
  {
   "cell_type": "code",
   "execution_count": null,
   "metadata": {},
   "outputs": [],
   "source": []
  },
  {
   "cell_type": "code",
   "execution_count": 65,
   "metadata": {},
   "outputs": [
    {
     "name": "stdout",
     "output_type": "stream",
     "text": [
      "(4090, 5)\n",
      "4090\n"
     ]
    }
   ],
   "source": [
    "mapping_file = pd.read_csv(filepath_or_buffer=\"/mnt/mnemo5/tao/STRING/ecoli.uniprot_2_string.2018.tsv\",\n",
    "                           sep=\"\\t\", index_col=None, header=None)\n",
    "print(mapping_file.shape)\n",
    "mapping_file_UniID2StringID_list = mapping_file.loc[:, [1, 2]].values.tolist()\n",
    "mapping_file_UniID2StringID_dict = {uniprotID.split(\n",
    "    '|')[0]: stringID for uniprotID, stringID in mapping_file_UniID2StringID_list}\n",
    "print(len(mapping_file_UniID2StringID_dict))"
   ]
  },
  {
   "cell_type": "code",
   "execution_count": null,
   "metadata": {},
   "outputs": [],
   "source": [
    "get protein info from this file \n",
    "data download from : https://current.geneontology.org/annotations/ecocyc.gaf.gz\n",
    "\n"
   ]
  },
  {
   "cell_type": "code",
   "execution_count": null,
   "metadata": {},
   "outputs": [],
   "source": []
  },
  {
   "cell_type": "code",
   "execution_count": null,
   "metadata": {},
   "outputs": [],
   "source": []
  },
  {
   "cell_type": "code",
   "execution_count": 8,
   "metadata": {},
   "outputs": [
    {
     "name": "stdout",
     "output_type": "stream",
     "text": [
      "('511145.b0014', '511145.b0015')\n"
     ]
    }
   ],
   "source": []
  },
  {
   "cell_type": "code",
   "execution_count": 9,
   "metadata": {},
   "outputs": [
    {
     "name": "stdout",
     "output_type": "stream",
     "text": [
      "/mnt/mnemo6/tao/PPI_Coevolution/CoEvo_data_STRING11.5/511145_EggNOGmaxLevel1224_eggNOGfilteredData/pair_MSA_Nf90_PasteAlign/\n"
     ]
    }
   ],
   "source": [
    "# run once to generate randomised paired MSA\n",
    "Query_tuple = ('1224', '511145')\n",
    "EggNOG_maxLevel, currentSpe_TaxID = Query_tuple\n",
    "input_root_folder = CoEvo_data_folder+currentSpe_TaxID + \\\n",
    "    \"_EggNOGmaxLevel\"+EggNOG_maxLevel+\"_eggNOGfilteredData/\"\n",
    "pairedMSA_Nf90_folder = input_root_folder+\"pair_MSA_Nf90_PasteAlign/\"\n",
    "print(pairedMSA_Nf90_folder)"
   ]
  },
  {
   "cell_type": "code",
   "execution_count": null,
   "metadata": {},
   "outputs": [],
   "source": []
  },
  {
   "cell_type": "code",
   "execution_count": 10,
   "metadata": {},
   "outputs": [],
   "source": [
    "pp1, pp2, msa_ori, msa_dists_list=get_msa_dist_list([pp1,pp2,pairedMSA_Nf90_folder])"
   ]
  },
  {
   "cell_type": "code",
   "execution_count": 11,
   "metadata": {},
   "outputs": [
    {
     "data": {
      "image/png": "[encoded data removed]",
      "text/plain": [
       "<Figure size 800x600 with 1 Axes>"
      ]
     },
     "metadata": {},
     "output_type": "display_data"
    },
    {
     "name": "stdout",
     "output_type": "stream",
     "text": [
      "CPU times: user 805 ms, sys: 41 µs, total: 805 ms\n",
      "Wall time: 806 ms\n"
     ]
    }
   ],
   "source": [
    "%%time \n",
    "# Drawing the distribution plot\n",
    "plt.figure(figsize=(8, 6))\n",
    "#sns.distplot(msa_dists_triu, bins=len(msa_dists_triu), kde=True) # \n",
    "sns.histplot(msa_dists_list,bins=100)\n",
    "\n",
    "# Adding labels and title\n",
    "plt.title('Distribution Plot of Upper Triangle Values')\n",
    "plt.xlabel('Value')\n",
    "plt.ylabel('Density')\n",
    "\n",
    "# Show the plot\n",
    "plt.show()"
   ]
  },
  {
   "cell_type": "code",
   "execution_count": null,
   "metadata": {},
   "outputs": [],
   "source": []
  },
  {
   "cell_type": "code",
   "execution_count": null,
   "metadata": {},
   "outputs": [],
   "source": []
  },
  {
   "cell_type": "code",
   "execution_count": null,
   "metadata": {},
   "outputs": [],
   "source": []
  }
 ],
 "metadata": {
  "kernelspec": {
   "display_name": "py38_notebook",
   "language": "python",
   "name": "py38_notebook"
  },
  "language_info": {
   "codemirror_mode": {
    "name": "ipython",
    "version": 3
   },
   "file_extension": ".py",
   "mimetype": "text/x-python",
   "name": "python",
   "nbconvert_exporter": "python",
   "pygments_lexer": "ipython3",
   "version": "3.8.18"
  }
 },
 "nbformat": 4,
 "nbformat_minor": 2
}
