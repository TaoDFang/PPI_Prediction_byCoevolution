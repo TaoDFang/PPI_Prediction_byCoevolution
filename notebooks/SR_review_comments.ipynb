{
 "cells": [
  {
   "cell_type": "code",
   "execution_count": 7,
   "metadata": {},
   "outputs": [],
   "source": [
    "import sys\n",
    "import os\n",
    "import glob\n",
    "import pickle\n",
    "import pandas as pd\n",
    "import numpy as np \n",
    "\n",
    "from Bio import AlignIO\n",
    "from Bio.Align import MultipleSeqAlignment\n",
    "import random\n",
    "\n",
    "\n",
    "import multiprocessing as mp\n",
    "\n",
    "\n",
    "import matplotlib.pyplot as plt\n",
    "import seaborn as sns"
   ]
  },
  {
   "cell_type": "code",
   "execution_count": 4,
   "metadata": {},
   "outputs": [
    {
     "data": {
      "text/plain": [
       "'/mnt/mnemo5/tao/PPI_Prediction_byCoevolution/notebooks'"
      ]
     },
     "execution_count": 4,
     "metadata": {},
     "output_type": "execute_result"
    }
   ],
   "source": [
    "os.getcwd()"
   ]
  },
  {
   "cell_type": "code",
   "execution_count": 5,
   "metadata": {},
   "outputs": [],
   "source": [
    "\n",
    "%reload_ext autoreload\n",
    "%autoreload 2\n",
    "\n",
    "sys.path.append('../src/utilities/')\n",
    "\n",
    "\n",
    "from pdb_benchmark import get_STRING1105_pdb_interact\n",
    "\n",
    "from MSA_tools import downsample_msa\n",
    "from MSA_tools import onePhylumRandomised_msa\n",
    "from MSA_tools import allPhylumRandomised_msa\n",
    "from MSA_tools import get_msa_statistics_dict\n",
    "from MSA_tools import get_msa_dist_list\n",
    "\n",
    "from collect_topCoEvos import get_maxBetValue_dict_pydcaFNAPC_array_npz\n"
   ]
  },
  {
   "cell_type": "code",
   "execution_count": 6,
   "metadata": {},
   "outputs": [],
   "source": [
    "# \"/mnt/mnemo6/tao/\", /mnt/mnemo6/tao/notebook_data/\n",
    "notebookData_folder = \"/mnt/mnemo6/tao/\"\n",
    "newSTRING_rootFolder = f\"{notebookData_folder}PPI_Coevolution/STRING_data_11.5/\"\n",
    "CoEvo_data_folder = f\"{notebookData_folder}PPI_Coevolution/CoEvo_data_STRING11.5/\""
   ]
  },
  {
   "cell_type": "markdown",
   "metadata": {},
   "source": [
    "# control experiments \n",
    "\n",
    "Regarding the clade-wise alignment method. I would like to see more in-depth analysis of the following issues\u000b\n",
    "\u000b(1) Control of the effect of subdividing the msas by constructing pair alignments in which phylum-x submsa of protein 1 is merged with \n",
    "phylum-y submsa from protein 2. The perform of these control alignments where phylogenetic clades are mixed up should give a quantitative \n",
    "estimation of the effect of the method proposed. \u000b\n",
    "\n",
    "\u000b(2) Control of the effect of the classification method by pairing clade-msas for protein 1 with random versions of clade-msas for protein 2. \n",
    "Usually DCA methods assume for intra-molecular contacts that the protein has contacts and report some top pairs are real interactions. \n",
    "This method for inter-molecular interactions is expected to decide whether two proteins interact or not using a discrimination method. \n",
    "How does that work? These controls should inform about the false positive predicted interactions.\n",
    "\n",
    "our solution : \n",
    "\n",
    "One side from one phyla, other side from one same  or all different phyla , but shuffled \n",
    "\n",
    "\n",
    "\n",
    "\n",
    "\n",
    "\n"
   ]
  },
  {
   "cell_type": "markdown",
   "metadata": {},
   "source": [
    "## get small and postive benchmark \n",
    "\n",
    "we use pdb_interact as benchmark \n"
   ]
  },
  {
   "cell_type": "code",
   "execution_count": 4,
   "metadata": {},
   "outputs": [
    {
     "name": "stdout",
     "output_type": "stream",
     "text": [
      "len of intersection: 309\n",
      "414 3243 3657\n",
      "0\n",
      "3657\n"
     ]
    }
   ],
   "source": [
    "pdb_interact_PPs, pdb_complex_PPs = get_STRING1105_pdb_interact(pdb_interact_filename=\"/mnt/mnemo6/damian/STRING_derived_v11.5/pdb/pdb_interact.tsv\",\n",
    "                                                                retrieve_spe=511145,)\n",
    "\n",
    "\n",
    "pdb_interact_PPs_dict = {pp: 1 for pp in pdb_interact_PPs}\n",
    "pdb_complex_PPs_dict = {pp: 1 for pp in pdb_complex_PPs}\n",
    "pdb_PPs_dict = {pp: 1 for pp in pdb_interact_PPs+pdb_complex_PPs}\n",
    "\n",
    "print(len(pdb_interact_PPs), len(pdb_complex_PPs), len(pdb_PPs_dict))\n",
    "\n",
    "\n",
    "print(len(set(pdb_interact_PPs).intersection(pdb_complex_PPs)))\n",
    "\n",
    "print(len(set(pdb_interact_PPs).union(pdb_complex_PPs)))"
   ]
  },
  {
   "cell_type": "code",
   "execution_count": null,
   "metadata": {},
   "outputs": [],
   "source": []
  },
  {
   "cell_type": "markdown",
   "metadata": {},
   "source": [
    "## control 1 \n",
    "\n",
    "\n",
    "for phylum 1224 "
   ]
  },
  {
   "cell_type": "code",
   "execution_count": 21,
   "metadata": {},
   "outputs": [],
   "source": [
    "# # run once to generate randomised paired MSA \n",
    "# Query_tuple = ('1224', '511145')\n",
    "# EggNOG_maxLevel, currentSpe_TaxID = Query_tuple\n",
    "# input_root_folder = CoEvo_data_folder+currentSpe_TaxID + \\\n",
    "#     \"_EggNOGmaxLevel\"+EggNOG_maxLevel+\"_eggNOGfilteredData/\"\n",
    "# SamePosandNeg_pairedMSA_Nf90_folder = input_root_folder+\"pair_MSA_Nf90_PasteAlign/\"\n",
    "# print(SamePosandNeg_pairedMSA_Nf90_folder)\n",
    "\n",
    "# onePhylumRandomised_SamePosandNeg_pairedMSA_Nf90_folder = input_root_folder + \\\n",
    "#     \"onePhylumRandomised_pair_MSA_Nf90_PasteAlign/\"\n",
    "# print(onePhylumRandomised_SamePosandNeg_pairedMSA_Nf90_folder)\n",
    "\n",
    "\n",
    "# currentSpeMiddleDataPath = newSTRING_rootFolder+currentSpe_TaxID + \\\n",
    "#     \"_EggNOGmaxLevel\"+EggNOG_maxLevel+\"_MiddleData/\"\n",
    "# print(currentSpeMiddleDataPath)\n",
    "# with open(currentSpeMiddleDataPath+'fasta_protein_lens_dict.pickle', 'rb') as handle:\n",
    "#     fasta_protein_lens = pickle.load(handle)\n",
    "\n",
    "# print(fasta_protein_lens[\"511145.b0014\"], fasta_protein_lens[\"511145.b0055\"],\n",
    "#       fasta_protein_lens[\"511145.b0095\"], fasta_protein_lens[\"511145.b0436\"])\n",
    "\n",
    "\n",
    "# if not os.path.exists(onePhylumRandomised_SamePosandNeg_pairedMSA_Nf90_folder):\n",
    "#     os.makedirs(onePhylumRandomised_SamePosandNeg_pairedMSA_Nf90_folder)\n",
    "#     print(onePhylumRandomised_SamePosandNeg_pairedMSA_Nf90_folder)\n",
    "\n",
    "# mp_args = [(pp1, pp2, fasta_protein_lens[pp1], SamePosandNeg_pairedMSA_Nf90_folder,\n",
    "#             onePhylumRandomised_SamePosandNeg_pairedMSA_Nf90_folder) for pp1, pp2 in pdb_interact_PPs if pp1 in fasta_protein_lens]\n",
    "\n",
    "# pool = mp.Pool(20)\n",
    "# pool.map(onePhylumRandomised_msa, mp_args)\n",
    "# pool.close()"
   ]
  },
  {
   "cell_type": "code",
   "execution_count": null,
   "metadata": {},
   "outputs": [],
   "source": []
  },
  {
   "cell_type": "markdown",
   "metadata": {},
   "source": [
    "### compuation \n",
    "\n",
    "for run DCA . \n",
    "\n",
    "use: \n",
    " conda activate py37_pydca\n",
    " python onePhylumRandomised_DCA.py"
   ]
  },
  {
   "cell_type": "code",
   "execution_count": 5,
   "metadata": {},
   "outputs": [
    {
     "name": "stdout",
     "output_type": "stream",
     "text": [
      "/mnt/mnemo6/tao/PPI_Coevolution/CoEvo_data_STRING11.5/511145_EggNOGmaxLevel1224_eggNOGfilteredData/onePhylumRandomised_pair_MSA_Nf90_PasteAlign/\n",
      "295\n",
      "len(ArgForGetDCAMax): 295\n"
     ]
    }
   ],
   "source": [
    "# # run once to collect data,\n",
    "# # move it here due to enviroment conflict, pandas is broken in py37_pydca\n",
    "# Query_tuple = ('1224', '511145')\n",
    "# EggNOG_maxLevel, currentSpe_TaxID = Query_tuple\n",
    "\n",
    "# input_root_folder = CoEvo_data_folder+currentSpe_TaxID + \\\n",
    "#     \"_EggNOGmaxLevel\"+EggNOG_maxLevel+\"_eggNOGfilteredData/\"\n",
    "\n",
    "# onePhylumRandomised_SamePosandNeg_pairedMSA_Nf90_folder = input_root_folder + \\\n",
    "#     \"onePhylumRandomised_pair_MSA_Nf90_PasteAlign/\"\n",
    "# print(onePhylumRandomised_SamePosandNeg_pairedMSA_Nf90_folder)\n",
    "\n",
    "\n",
    "# DCA_coevolutoin_path = input_root_folder + \\\n",
    "#     \"onePhylumRandomised_coevolutoin_result_DCA/\"\n",
    "\n",
    "\n",
    "# Benchmark_folder = input_root_folder+\"onePhylumRandomised_Benchmark/\"\n",
    "\n",
    "\n",
    "# currentSpeMiddleDataPath = newSTRING_rootFolder+currentSpe_TaxID + \\\n",
    "#     \"_EggNOGmaxLevel\"+EggNOG_maxLevel+\"_MiddleData/\"\n",
    "# with open(currentSpeMiddleDataPath+'fasta_protein_lens_dict.pickle', 'rb') as handle:\n",
    "#     fasta_protein_lens = pickle.load(handle)\n",
    "\n",
    "# input_msaFiles = glob.glob(\n",
    "#     onePhylumRandomised_SamePosandNeg_pairedMSA_Nf90_folder+\"*.fasta\")\n",
    "# print(len(input_msaFiles))\n",
    "# input_msaFiles = [os.path.basename(f)[0:-len(\".fasta\")]\n",
    "#                   for f in input_msaFiles]\n",
    "# input_PPs = [f.split(\"and\") for f in input_msaFiles]\n",
    "\n",
    "\n",
    "# ArgForGetDCAMax = [(p1, p2, fasta_protein_lens[p1], fasta_protein_lens[p2],\n",
    "#                     DCA_coevolutoin_path) for p1, p2 in input_PPs]\n",
    "# print(\"len(ArgForGetDCAMax):\", len(ArgForGetDCAMax))\n",
    "\n",
    "# if not os.path.exists(Benchmark_folder+\"max_pydcaFNAPC_frame.csv\"):\n",
    "#     pool = mp.Pool(30)\n",
    "#     max_pydcaFNAPC_list = pool.map(\n",
    "#         get_maxBetValue_dict_pydcaFNAPC_array_npz, ArgForGetDCAMax)\n",
    "#     pool.close()\n",
    "#     max_pydcaFNAPC_frame = pd.DataFrame(max_pydcaFNAPC_list, columns=[\"currentSpe_pro1\", \"currentSpe_pro2\",\n",
    "#                                                                       \"maxValue_all_idx_row\", \"maxValue_all_idx_col\", \"maxValue_all\",\n",
    "#                                                                       \"maxValue_bet_idx_row\", \"maxValue_bet_idx_col\", \"maxValue_bet\"])\n",
    "#     max_pydcaFNAPC_frame.to_csv(\n",
    "#         Benchmark_folder+\"max_pydcaFNAPC_frame.csv\", header=True, index=None, sep=\"\\t\")"
   ]
  },
  {
   "cell_type": "markdown",
   "metadata": {},
   "source": [
    "### collection resutls and compare "
   ]
  },
  {
   "cell_type": "code",
   "execution_count": 61,
   "metadata": {},
   "outputs": [
    {
     "name": "stdout",
     "output_type": "stream",
     "text": [
      "(2269191, 152)\n"
     ]
    }
   ],
   "source": [
    "# get original reusults in this phylum\n",
    "\n",
    "\n",
    "original_topRanking_DCA_frame = pd.read_csv(f\"{CoEvo_data_folder}allPPI_511145_EggNOGmaxLevel1224_eggNOGfilteredData/AllPPI_Benchmark/\"+\"DCA_thres_0_topRanking_pydcaFNAPC_frame.csv\",\n",
    "                                            header=0, index_col=None, sep=\"\\t\")\n",
    "print(original_topRanking_DCA_frame.shape)\n",
    "original_topRanking_DCA_frame.head(n=3)\n",
    "\n",
    "original_topRanking_DCA_dict = {\n",
    "    (l[0], l[1]): l[2] for l in original_topRanking_DCA_frame.values.tolist()}"
   ]
  },
  {
   "cell_type": "code",
   "execution_count": null,
   "metadata": {},
   "outputs": [],
   "source": []
  },
  {
   "cell_type": "code",
   "execution_count": 62,
   "metadata": {},
   "outputs": [
    {
     "name": "stdout",
     "output_type": "stream",
     "text": [
      "/mnt/mnemo6/tao/PPI_Coevolution/CoEvo_data_STRING11.5/511145_EggNOGmaxLevel1224_eggNOGfilteredData/onePhylumRandomised_pair_MSA_Nf90_PasteAlign/\n"
     ]
    }
   ],
   "source": [
    "leftPhylum_tuple = ('1224', '511145')\n",
    "leftPhylum_EggNOG_maxLevel, leftPhylum_currentSpe_TaxID = leftPhylum_tuple\n",
    "leftPhylum_input_root_folder = CoEvo_data_folder+leftPhylum_currentSpe_TaxID + \\\n",
    "    \"_EggNOGmaxLevel\"+leftPhylum_EggNOG_maxLevel+\"_eggNOGfilteredData/\"\n",
    "leftPhylumRandomised_SamePosandNeg_pairedMSA_Nf90_folder = leftPhylum_input_root_folder + \\\n",
    "    \"onePhylumRandomised_pair_MSA_Nf90_PasteAlign/\"\n",
    "print(leftPhylumRandomised_SamePosandNeg_pairedMSA_Nf90_folder)"
   ]
  },
  {
   "cell_type": "code",
   "execution_count": 63,
   "metadata": {},
   "outputs": [
    {
     "name": "stdout",
     "output_type": "stream",
     "text": [
      "295\n"
     ]
    }
   ],
   "source": [
    "leftPhylum_input_msaFiles = glob.glob(\n",
    "    leftPhylumRandomised_SamePosandNeg_pairedMSA_Nf90_folder+\"*.fasta\")\n",
    "print(len(leftPhylum_input_msaFiles))\n",
    "leftPhylum_input_msaFiles = [os.path.basename(f)[0:-len(\".fasta\")]\n",
    "                  for f in leftPhylum_input_msaFiles]\n",
    "leftPhylum_input_PPs = [f.split(\"and\") for f in leftPhylum_input_msaFiles]"
   ]
  },
  {
   "cell_type": "code",
   "execution_count": 64,
   "metadata": {},
   "outputs": [
    {
     "name": "stdout",
     "output_type": "stream",
     "text": [
      "294\n"
     ]
    }
   ],
   "source": [
    "control1_original_topRanking_DCA_dict = {(p1, p2): original_topRanking_DCA_dict[(\n",
    "    p1, p2)] for p1, p2 in leftPhylum_input_PPs if (p1, p2) in original_topRanking_DCA_dict}\n",
    "print(len(control1_original_topRanking_DCA_dict))\n",
    "# one exceptin is ('511145.b0440', '511145.b4000'), probably removed by other filtering step, like deep homologs , no bigie\n",
    "# from STRING_benchmark import get_STRING1105_physical_interact\n",
    "# strPhy_dict = get_STRING1105_physical_interact(data_folder=\"/mnt/mnemo6/tao/notebook_data/STRING_derived_v11.5/download_files/protein.physical.links.v11.5/\",\n",
    "#                                 retrieve_spe=511145,\n",
    "#                                      combined_score_thres=500,\n",
    "#                                      inputFrameIsReversed=True,\n",
    "#                                      return_dict=True,\n",
    "#                                     )"
   ]
  },
  {
   "cell_type": "code",
   "execution_count": 65,
   "metadata": {},
   "outputs": [
    {
     "name": "stdout",
     "output_type": "stream",
     "text": [
      "295\n"
     ]
    }
   ],
   "source": [
    "control1_dataframe_file = leftPhylum_input_root_folder + \\\n",
    "    \"onePhylumRandomised_Benchmark/max_pydcaFNAPC_frame.csv\"\n",
    "control1_dataframe = pd.read_csv(\n",
    "    control1_dataframe_file, header=0, index_col=None, sep=\"\\t\")\n",
    "\n",
    "control1_topRanking_DCA_dict = control1_dataframe.values.tolist()\n",
    "\n",
    "control1_topRanking_DCA_dict = {(l[0],l[1]):l[-1] for l in control1_topRanking_DCA_dict}\n",
    "print(len(control1_topRanking_DCA_dict))"
   ]
  },
  {
   "cell_type": "code",
   "execution_count": 35,
   "metadata": {},
   "outputs": [],
   "source": [
    "# original_list = list()\n",
    "# control1_list = list()\n",
    "# for pp in control1_original_topRanking_DCA_dict:\n",
    "#     # print(pp, control1_original_topRanking_DCA_dict[pp], control1_topRanking_DCA_dict[pp])\n",
    "#     original_list.append(control1_original_topRanking_DCA_dict[pp])\n",
    "#     control1_list.append(control1_topRanking_DCA_dict[pp])\n",
    "\n",
    "# plt.hist(control1_list, bins=30, alpha=0.5, label=\"control1\")\n",
    "# plt.hist(original_list, bins=30, alpha=0.5, label=\"original value\")\n",
    "# plt.legend(loc='upper right')\n",
    "# plt.show()\n",
    "\n",
    "# # could plot all the two control on the same plot ?"
   ]
  },
  {
   "cell_type": "code",
   "execution_count": null,
   "metadata": {},
   "outputs": [],
   "source": []
  },
  {
   "cell_type": "code",
   "execution_count": null,
   "metadata": {},
   "outputs": [],
   "source": []
  },
  {
   "cell_type": "markdown",
   "metadata": {},
   "source": []
  },
  {
   "cell_type": "code",
   "execution_count": null,
   "metadata": {},
   "outputs": [],
   "source": []
  },
  {
   "cell_type": "code",
   "execution_count": null,
   "metadata": {},
   "outputs": [],
   "source": []
  },
  {
   "cell_type": "code",
   "execution_count": null,
   "metadata": {},
   "outputs": [],
   "source": []
  },
  {
   "cell_type": "markdown",
   "metadata": {},
   "source": [
    "## control 2"
   ]
  },
  {
   "cell_type": "code",
   "execution_count": 22,
   "metadata": {},
   "outputs": [],
   "source": [
    "# # run once to get randomised paired MSA data \n",
    "# leftPhylum_tuple = ('1224', '511145')\n",
    "\n",
    "# leftPhylum_EggNOG_maxLevel, leftPhylum_currentSpe_TaxID = leftPhylum_tuple\n",
    "# leftPhylum_input_root_folder = CoEvo_data_folder+leftPhylum_currentSpe_TaxID + \\\n",
    "#     \"_EggNOGmaxLevel\"+leftPhylum_EggNOG_maxLevel+\"_eggNOGfilteredData/\"\n",
    "# leftPhylum_pairedMSA_Nf90_folder = leftPhylum_input_root_folder + \\\n",
    "#     \"pair_MSA_Nf90_PasteAlign/\"\n",
    "# print(leftPhylum_pairedMSA_Nf90_folder)\n",
    "\n",
    "\n",
    "# leftPhylum_currentSpeMiddleDataPath = newSTRING_rootFolder+leftPhylum_currentSpe_TaxID + \\\n",
    "#     \"_EggNOGmaxLevel\"+leftPhylum_EggNOG_maxLevel+\"_MiddleData/\"\n",
    "# print(leftPhylum_currentSpeMiddleDataPath)\n",
    "# with open(leftPhylum_currentSpeMiddleDataPath+'fasta_protein_lens_dict.pickle', 'rb') as handle:\n",
    "#     leftPhylum_fasta_protein_lens = pickle.load(handle)\n",
    "\n",
    "# print(leftPhylum_fasta_protein_lens[\"511145.b0014\"], leftPhylum_fasta_protein_lens[\"511145.b0055\"],\n",
    "#       leftPhylum_fasta_protein_lens[\"511145.b0095\"], leftPhylum_fasta_protein_lens[\"511145.b0436\"])\n",
    "\n",
    "# allPhylum_tuple = ('2', '511145')\n",
    "\n",
    "# allPhylum_EggNOG_maxLevel, allPhylum_currentSpe_TaxID = allPhylum_tuple\n",
    "# allPhylum_input_root_folder = CoEvo_data_folder+allPhylum_currentSpe_TaxID + \\\n",
    "#     \"_EggNOGmaxLevel\"+allPhylum_EggNOG_maxLevel+\"_eggNOGfilteredData/\"\n",
    "# allPhylum_pairedMSA_Nf90_folder = allPhylum_input_root_folder + \\\n",
    "#     \"pair_MSA_Nf90_PasteAlign/\"\n",
    "# print(allPhylum_pairedMSA_Nf90_folder)\n",
    "\n",
    "\n",
    "# allPhylum_currentSpeMiddleDataPath = newSTRING_rootFolder+allPhylum_currentSpe_TaxID + \\\n",
    "#     \"_EggNOGmaxLevel\"+allPhylum_EggNOG_maxLevel+\"_MiddleData/\"\n",
    "# print(allPhylum_currentSpeMiddleDataPath)\n",
    "# with open(allPhylum_currentSpeMiddleDataPath+'fasta_protein_lens_dict.pickle', 'rb') as handle:\n",
    "#     allPhylum_fasta_protein_lens = pickle.load(handle)\n",
    "\n",
    "# print(allPhylum_fasta_protein_lens[\"511145.b0014\"], allPhylum_fasta_protein_lens[\"511145.b0055\"],\n",
    "#       allPhylum_fasta_protein_lens[\"511145.b0095\"], allPhylum_fasta_protein_lens[\"511145.b0436\"])\n",
    "\n",
    "\n",
    "# allPhylumRandomised_SamePosandNeg_pairedMSA_Nf90_folder = leftPhylum_input_root_folder + \\\n",
    "#     \"allPhylumRandomised_pair_MSA_Nf90_PasteAlign/\"\n",
    "# print(allPhylumRandomised_SamePosandNeg_pairedMSA_Nf90_folder)\n",
    "\n",
    "# if not os.path.exists(allPhylumRandomised_SamePosandNeg_pairedMSA_Nf90_folder):\n",
    "#     os.makedirs(allPhylumRandomised_SamePosandNeg_pairedMSA_Nf90_folder)\n",
    "#     print(allPhylumRandomised_SamePosandNeg_pairedMSA_Nf90_folder)\n",
    "\n",
    "\n",
    "# mp_args = [(pp1, pp2, leftPhylum_fasta_protein_lens[pp1], allPhylum_fasta_protein_lens[pp1], leftPhylum_pairedMSA_Nf90_folder, allPhylum_pairedMSA_Nf90_folder,\n",
    "#             allPhylumRandomised_SamePosandNeg_pairedMSA_Nf90_folder) for pp1, pp2 in pdb_interact_PPs if (pp1 in leftPhylum_fasta_protein_lens) and (pp1 in allPhylum_fasta_protein_lens)]\n",
    "# print(len(mp_args))\n",
    "# pool = mp.Pool(20)\n",
    "# pool.map(allPhylumRandomised_msa, mp_args)\n",
    "# pool.close()"
   ]
  },
  {
   "cell_type": "code",
   "execution_count": null,
   "metadata": {},
   "outputs": [],
   "source": []
  },
  {
   "cell_type": "markdown",
   "metadata": {},
   "source": [
    "### computation \n",
    "\n",
    "for run DCA . \n",
    "\n",
    "use: \n",
    " conda  activate py37_pydca\n",
    " python allPhylumRandomised_DCA.py"
   ]
  },
  {
   "cell_type": "code",
   "execution_count": null,
   "metadata": {},
   "outputs": [],
   "source": [
    "# # # run once to collect data,\n",
    "# # # move it here due to enviroment conflict, pandas is broken in py37_pydcab\n",
    "\n",
    "\n",
    "# leftPhylum_tuple = ('1224', '511145')\n",
    "# leftPhylum_EggNOG_maxLevel, leftPhylum_currentSpe_TaxID = leftPhylum_tuple\n",
    "# leftPhylum_input_root_folder = CoEvo_data_folder+leftPhylum_currentSpe_TaxID + \\\n",
    "#     \"_EggNOGmaxLevel\"+leftPhylum_EggNOG_maxLevel+\"_eggNOGfilteredData/\"\n",
    "# leftPhylum_currentSpeMiddleDataPath = newSTRING_rootFolder+leftPhylum_currentSpe_TaxID + \\\n",
    "#     \"_EggNOGmaxLevel\"+leftPhylum_EggNOG_maxLevel+\"_MiddleData/\"\n",
    "# print(leftPhylum_currentSpeMiddleDataPath)\n",
    "# with open(leftPhylum_currentSpeMiddleDataPath+'fasta_protein_lens_dict.pickle', 'rb') as handle:\n",
    "#     leftPhylum_fasta_protein_lens = pickle.load(handle)\n",
    "\n",
    "\n",
    "# allPhylum_tuple = ('2', '511145')\n",
    "\n",
    "# allPhylum_EggNOG_maxLevel, allPhylum_currentSpe_TaxID = allPhylum_tuple\n",
    "# allPhylum_input_root_folder = CoEvo_data_folder+allPhylum_currentSpe_TaxID + \\\n",
    "#     \"_EggNOGmaxLevel\"+allPhylum_EggNOG_maxLevel+\"_eggNOGfilteredData/\"\n",
    "# allPhylum_currentSpeMiddleDataPath = newSTRING_rootFolder+allPhylum_currentSpe_TaxID + \\\n",
    "#     \"_EggNOGmaxLevel\"+allPhylum_EggNOG_maxLevel+\"_MiddleData/\"\n",
    "# print(allPhylum_currentSpeMiddleDataPath)\n",
    "# with open(allPhylum_currentSpeMiddleDataPath+'fasta_protein_lens_dict.pickle', 'rb') as handle:\n",
    "#     allPhylum_fasta_protein_lens = pickle.load(handle)\n",
    "\n",
    "# allPhylumRandomised_SamePosandNeg_pairedMSA_Nf90_folder = leftPhylum_input_root_folder + \\\n",
    "#     \"allPhylumRandomised_pair_MSA_Nf90_PasteAlign/\"\n",
    "# print(allPhylumRandomised_SamePosandNeg_pairedMSA_Nf90_folder)\n",
    "\n",
    "# DCA_coevolutoin_path = leftPhylum_input_root_folder + \\\n",
    "#     \"allPhylumRandomised_coevolutoin_result_DCA/\"\n",
    "# MI_coevolutoin_path = leftPhylum_input_root_folder + \\\n",
    "#     \"allPhylumRandomised_coevolutoin_result_MI/\"\n",
    "\n",
    "# Benchmark_folder = leftPhylum_input_root_folder+\"allPhylumRandomised_Benchmark/\"\n",
    "\n",
    "\n",
    "# input_msaFiles = glob.glob(\n",
    "#     allPhylumRandomised_SamePosandNeg_pairedMSA_Nf90_folder+\"*.fasta\")\n",
    "# print(len(input_msaFiles))\n",
    "# input_msaFiles = [os.path.basename(f)[0:-len(\".fasta\")]\n",
    "#                   for f in input_msaFiles]\n",
    "# input_PPs = [f.split(\"and\") for f in input_msaFiles]\n",
    "\n",
    "# ArgForGetDCAMax = [(p1, p2, leftPhylum_fasta_protein_lens[p1], allPhylum_fasta_protein_lens[p2],\n",
    "#                     DCA_coevolutoin_path) for p1, p2 in input_PPs]\n",
    "# print(\"len(ArgForGetDCAMax):\", len(ArgForGetDCAMax))\n",
    "\n",
    "# if not os.path.exists(Benchmark_folder+\"max_pydcaFNAPC_frame.csv\"):\n",
    "#     pool = mp.Pool(30)\n",
    "#     max_pydcaFNAPC_list = pool.map(\n",
    "#         get_maxBetValue_dict_pydcaFNAPC_array_npz, ArgForGetDCAMax)\n",
    "#     pool.close()\n",
    "#     max_pydcaFNAPC_frame = pd.DataFrame(max_pydcaFNAPC_list, columns=[\"currentSpe_pro1\", \"currentSpe_pro2\",\n",
    "#                                                                       \"maxValue_all_idx_row\", \"maxValue_all_idx_col\", \"maxValue_all\",\n",
    "#                                                                       \"maxValue_bet_idx_row\", \"maxValue_bet_idx_col\", \"maxValue_bet\"])\n",
    "#     max_pydcaFNAPC_frame.to_csv(\n",
    "#         Benchmark_folder+\"max_pydcaFNAPC_frame.csv\", header=True, index=None, sep=\"\\t\")"
   ]
  },
  {
   "cell_type": "code",
   "execution_count": 17,
   "metadata": {},
   "outputs": [
    {
     "name": "stdout",
     "output_type": "stream",
     "text": [
      "/mnt/mnemo6/tao/PPI_Coevolution/STRING_data_11.5/511145_EggNOGmaxLevel1224_MiddleData/\n",
      "/mnt/mnemo6/tao/PPI_Coevolution/STRING_data_11.5/511145_EggNOGmaxLevel2_MiddleData/\n",
      "/mnt/mnemo6/tao/PPI_Coevolution/CoEvo_data_STRING11.5/511145_EggNOGmaxLevel1224_eggNOGfilteredData/allPhylumRandomised_pair_MSA_Nf90_PasteAlign/\n"
     ]
    }
   ],
   "source": []
  },
  {
   "cell_type": "code",
   "execution_count": null,
   "metadata": {},
   "outputs": [],
   "source": []
  },
  {
   "cell_type": "code",
   "execution_count": null,
   "metadata": {},
   "outputs": [],
   "source": []
  },
  {
   "cell_type": "markdown",
   "metadata": {},
   "source": [
    "### collection resutls and compare"
   ]
  },
  {
   "cell_type": "code",
   "execution_count": 66,
   "metadata": {},
   "outputs": [
    {
     "name": "stdout",
     "output_type": "stream",
     "text": [
      "/mnt/mnemo6/tao/PPI_Coevolution/STRING_data_11.5/511145_EggNOGmaxLevel1224_MiddleData/\n",
      "/mnt/mnemo6/tao/PPI_Coevolution/STRING_data_11.5/511145_EggNOGmaxLevel2_MiddleData/\n",
      "/mnt/mnemo6/tao/PPI_Coevolution/CoEvo_data_STRING11.5/511145_EggNOGmaxLevel1224_eggNOGfilteredData/allPhylumRandomised_pair_MSA_Nf90_PasteAlign/\n"
     ]
    }
   ],
   "source": [
    "leftPhylum_tuple = ('1224', '511145')\n",
    "leftPhylum_EggNOG_maxLevel, leftPhylum_currentSpe_TaxID = leftPhylum_tuple\n",
    "leftPhylum_input_root_folder = CoEvo_data_folder+leftPhylum_currentSpe_TaxID + \\\n",
    "    \"_EggNOGmaxLevel\"+leftPhylum_EggNOG_maxLevel+\"_eggNOGfilteredData/\"\n",
    "leftPhylum_currentSpeMiddleDataPath = newSTRING_rootFolder+leftPhylum_currentSpe_TaxID + \\\n",
    "    \"_EggNOGmaxLevel\"+leftPhylum_EggNOG_maxLevel+\"_MiddleData/\"\n",
    "print(leftPhylum_currentSpeMiddleDataPath)\n",
    "with open(leftPhylum_currentSpeMiddleDataPath+'fasta_protein_lens_dict.pickle', 'rb') as handle:\n",
    "    leftPhylum_fasta_protein_lens = pickle.load(handle)\n",
    "\n",
    "\n",
    "allPhylum_tuple = ('2', '511145')\n",
    "allPhylum_EggNOG_maxLevel, allPhylum_currentSpe_TaxID = allPhylum_tuple\n",
    "# allPhylum_input_root_folder = CoEvo_data_folder+allPhylum_currentSpe_TaxID + \\\n",
    "#     \"_EggNOGmaxLevel\"+allPhylum_EggNOG_maxLevel+\"_eggNOGfilteredData/\"\n",
    "allPhylum_currentSpeMiddleDataPath = newSTRING_rootFolder+allPhylum_currentSpe_TaxID + \\\n",
    "    \"_EggNOGmaxLevel\"+allPhylum_EggNOG_maxLevel+\"_MiddleData/\"\n",
    "print(allPhylum_currentSpeMiddleDataPath)\n",
    "with open(allPhylum_currentSpeMiddleDataPath+'fasta_protein_lens_dict.pickle', 'rb') as handle:\n",
    "    allPhylum_fasta_protein_lens = pickle.load(handle)\n",
    "\n",
    "allPhylumRandomised_SamePosandNeg_pairedMSA_Nf90_folder = leftPhylum_input_root_folder + \\\n",
    "    \"allPhylumRandomised_pair_MSA_Nf90_PasteAlign/\"\n",
    "print(allPhylumRandomised_SamePosandNeg_pairedMSA_Nf90_folder)"
   ]
  },
  {
   "cell_type": "code",
   "execution_count": 67,
   "metadata": {},
   "outputs": [
    {
     "name": "stdout",
     "output_type": "stream",
     "text": [
      "287\n"
     ]
    }
   ],
   "source": [
    "allPhylum_input_msaFiles = glob.glob(\n",
    "    allPhylumRandomised_SamePosandNeg_pairedMSA_Nf90_folder+\"*.fasta\")\n",
    "print(len(allPhylum_input_msaFiles))\n",
    "allPhylum_input_msaFiles = [os.path.basename(f)[0:-len(\".fasta\")]\n",
    "                             for f in allPhylum_input_msaFiles]\n",
    "allPhylum_input_PPs = [f.split(\"and\") for f in allPhylum_input_msaFiles]"
   ]
  },
  {
   "cell_type": "code",
   "execution_count": 68,
   "metadata": {},
   "outputs": [
    {
     "name": "stdout",
     "output_type": "stream",
     "text": [
      "286\n"
     ]
    }
   ],
   "source": [
    "control2_original_topRanking_DCA_dict = {(p1, p2): original_topRanking_DCA_dict[(\n",
    "    p1, p2)] for p1, p2 in allPhylum_input_PPs if (p1, p2) in original_topRanking_DCA_dict}\n",
    "print(len(control2_original_topRanking_DCA_dict))\n",
    "\n",
    "# one exceptin is ('511145.b0440', '511145.b4000'), probably removed by other filtering step, like deep homologs , no bigie"
   ]
  },
  {
   "cell_type": "code",
   "execution_count": null,
   "metadata": {},
   "outputs": [],
   "source": []
  },
  {
   "cell_type": "code",
   "execution_count": 69,
   "metadata": {},
   "outputs": [
    {
     "name": "stdout",
     "output_type": "stream",
     "text": [
      "(287, 8)\n"
     ]
    }
   ],
   "source": [
    "control2_dataframe_file = leftPhylum_input_root_folder + \\\n",
    "    \"allPhylumRandomised_Benchmark/max_pydcaFNAPC_frame.csv\"\n",
    "control2_dataframe = pd.read_csv(control2_dataframe_file, header=0, index_col=None, sep=\"\\t\")\n",
    "print(control2_dataframe.shape)\n",
    "control2_topRanking_DCA_dict = control2_dataframe.values.tolist()\n",
    "\n",
    "control2_topRanking_DCA_dict={(l[0],l[1]):l[-1] for l in control2_topRanking_DCA_dict}"
   ]
  },
  {
   "cell_type": "code",
   "execution_count": 36,
   "metadata": {},
   "outputs": [],
   "source": [
    "# original_list=list()\n",
    "# control2_list=list()\n",
    "# for pp in control2_original_topRanking_DCA_dict: \n",
    "#     #print(pp, control1_original_topRanking_DCA_dict[pp], control1_topRanking_DCA_dict[pp])\n",
    "#     original_list.append(control2_original_topRanking_DCA_dict[pp])\n",
    "#     control2_list.append(control2_topRanking_DCA_dict[pp])\n",
    "# plt.hist(control1_list, bins=30, alpha=0.5, label=\"control1\")\n",
    "# plt.hist(original_list, bins=30, alpha=0.5, label=\"original value\")\n",
    "# plt.legend(loc='upper right')\n",
    "# plt.show()\n",
    "\n",
    "# # could plot all the two control on the same plot ?"
   ]
  },
  {
   "cell_type": "code",
   "execution_count": null,
   "metadata": {},
   "outputs": [],
   "source": []
  },
  {
   "cell_type": "code",
   "execution_count": null,
   "metadata": {},
   "outputs": [],
   "source": []
  },
  {
   "cell_type": "code",
   "execution_count": null,
   "metadata": {},
   "outputs": [],
   "source": []
  },
  {
   "cell_type": "markdown",
   "metadata": {},
   "source": [
    "# put two control in same plot "
   ]
  },
  {
   "cell_type": "code",
   "execution_count": 70,
   "metadata": {},
   "outputs": [
    {
     "name": "stdout",
     "output_type": "stream",
     "text": [
      "294 286\n",
      "286\n"
     ]
    }
   ],
   "source": [
    "print(len(control1_original_topRanking_DCA_dict),len(control2_original_topRanking_DCA_dict))\n",
    "common_PPs=[pp for pp in control1_original_topRanking_DCA_dict if pp in control2_original_topRanking_DCA_dict]\n",
    "print(len(common_PPs))"
   ]
  },
  {
   "cell_type": "code",
   "execution_count": 71,
   "metadata": {},
   "outputs": [
    {
     "data": {
      "image/png": "[encoded data removed]",
      "text/plain": [
       "<Figure size 640x480 with 1 Axes>"
      ]
     },
     "metadata": {},
     "output_type": "display_data"
    }
   ],
   "source": [
    "original_list=list()\n",
    "control1_list = list()\n",
    "control2_list=list()\n",
    "for pp in common_PPs:\n",
    "    #print(pp, control1_original_topRanking_DCA_dict[pp], control1_topRanking_DCA_dict[pp])\n",
    "    original_list.append(control2_original_topRanking_DCA_dict[pp])\n",
    "    control1_list.append(control1_topRanking_DCA_dict[pp])\n",
    "    control2_list.append(control2_topRanking_DCA_dict[pp])\n",
    "\n",
    "bins_num=30 # 30\n",
    "plt.hist(control1_list, bins=bins_num, alpha=0.5, label=\"control1\")\n",
    "plt.hist(control2_list, bins=bins_num, alpha=0.5, label=\"control2\")\n",
    "plt.hist(original_list, bins=bins_num, alpha=0.5, label=\"original value\")\n",
    "plt.legend(loc='upper right')\n",
    "plt.show()"
   ]
  },
  {
   "cell_type": "code",
   "execution_count": null,
   "metadata": {},
   "outputs": [],
   "source": []
  },
  {
   "cell_type": "code",
   "execution_count": null,
   "metadata": {},
   "outputs": [],
   "source": []
  },
  {
   "cell_type": "markdown",
   "metadata": {},
   "source": [
    "# comment :  pair-wise similarity distribution  of certain protein family \n",
    "For different representative protein family, do a protein sim distribution plot for different phylunm and downsampled size  \n",
    "Do distribgution , for other idea, mention them , (guided downsampl )\n",
    "\n",
    "\n",
    "first filter protein by their exsitences in different phylum , and in comman benchmark and of course has the final pairedMSA \n",
    "\n",
    "could first pick up one randome pps to write the follwoing pipeline .. \n",
    "\n",
    "for this one , we dont have to choose posive and dont have to be from pdb ?"
   ]
  },
  {
   "cell_type": "code",
   "execution_count": null,
   "metadata": {},
   "outputs": [],
   "source": []
  },
  {
   "cell_type": "code",
   "execution_count": 8,
   "metadata": {},
   "outputs": [
    {
     "name": "stdout",
     "output_type": "stream",
     "text": [
      "len of intersection: 309\n",
      "414 3243 3657\n",
      "0\n",
      "3657\n"
     ]
    }
   ],
   "source": [
    "pdb_interact_PPs, pdb_complex_PPs = get_STRING1105_pdb_interact(pdb_interact_filename=\"/mnt/mnemo6/damian/STRING_derived_v11.5/pdb/pdb_interact.tsv\",\n",
    "                                                                retrieve_spe=511145,)\n",
    "\n",
    "\n",
    "pdb_interact_PPs_dict = {pp: 1 for pp in pdb_interact_PPs}\n",
    "pdb_complex_PPs_dict = {pp: 1 for pp in pdb_complex_PPs}\n",
    "pdb_PPs_dict = {pp: 1 for pp in pdb_interact_PPs+pdb_complex_PPs}\n",
    "\n",
    "print(len(pdb_interact_PPs), len(pdb_complex_PPs), len(pdb_PPs_dict))\n",
    "\n",
    "\n",
    "print(len(set(pdb_interact_PPs).intersection(pdb_complex_PPs)))\n",
    "\n",
    "print(len(set(pdb_interact_PPs).union(pdb_complex_PPs)))"
   ]
  },
  {
   "cell_type": "code",
   "execution_count": 9,
   "metadata": {},
   "outputs": [],
   "source": [
    "EggNOG_maxLevel, currentSpe_TaxID = Query_tuple = ('1224', '511145')\n",
    "\n",
    "SamePosandNeg_Benchmark=CoEvo_data_folder+\"AllLevel_testPhylaEffectSamePosandNeg_Benchmark/\"\n",
    "\n",
    "SamePosandNeg_frame=pd.read_csv(SamePosandNeg_Benchmark+\"SamePosandNeg_STRING115EggNog\"+EggNOG_maxLevel+\"Spe\"+currentSpe_TaxID+\".benchmark\",\n",
    "                                                                                                            header=0,index_col=None,sep=\"\\t\")\n",
    "SamePosandNeg_PPs_dict = SamePosandNeg_frame.values.tolist()\n",
    "SamePosandNeg_PPs_dict={(l[0],l[1]):1 for l in SamePosandNeg_PPs_dict}"
   ]
  },
  {
   "cell_type": "code",
   "execution_count": 10,
   "metadata": {},
   "outputs": [
    {
     "name": "stdout",
     "output_type": "stream",
     "text": [
      "(3420, 9)\n"
     ]
    }
   ],
   "source": [
    "pos_SamePosandNeg_frame = SamePosandNeg_frame.loc[SamePosandNeg_frame[\"benchmark_status\"]==\"P\", :]\n",
    "print(pos_SamePosandNeg_frame.shape)\n",
    "\n",
    "pos_SamePosandNeg_PPs_dict = pos_SamePosandNeg_frame.values.tolist()\n",
    "pos_SamePosandNeg_PPs_dict = {(l[0], l[1]): 1 for l in pos_SamePosandNeg_PPs_dict}"
   ]
  },
  {
   "cell_type": "code",
   "execution_count": 11,
   "metadata": {},
   "outputs": [
    {
     "name": "stdout",
     "output_type": "stream",
     "text": [
      "154\n",
      "[('511145.b0014', '511145.b2614'), ('511145.b0093', '511145.b2748'), ('511145.b0095', '511145.b2412'), ('511145.b0098', '511145.b3312'), ('511145.b0098', '511145.b3318'), ('511145.b0114', '511145.b0115'), ('511145.b0169', '511145.b3303'), ('511145.b0169', '511145.b3306'), ('511145.b0169', '511145.b3314'), ('511145.b0169', '511145.b3649')]\n"
     ]
    }
   ],
   "source": [
    "# selected_PPs=[pp for pp in pdb_interact_PPs if pp in SamePosandNeg_PPs_dict]\n",
    "# if here is use pdb_interact_PPs, than later there is pp that have recored in different phylum \n",
    "# even use the one from allPPI benmark ?\n",
    "selected_PPs = [pp for pp in pdb_interact_PPs if pp in SamePosandNeg_PPs_dict]\n",
    "#selected_PPs = [pp for pp in pos_SamePosandNeg_PPs_dict.keys()]\n",
    "print(len(selected_PPs))\n",
    "\n",
    "print(selected_PPs[0:10])"
   ]
  },
  {
   "cell_type": "code",
   "execution_count": 12,
   "metadata": {},
   "outputs": [
    {
     "name": "stdout",
     "output_type": "stream",
     "text": [
      "/mnt/mnemo6/tao/PPI_Coevolution/CoEvo_data_STRING11.5/511145_EggNOGmaxLevel2_eggNOGfilteredData/DownSample_num3_pair_MSA_Nf90_PasteAlign/\n",
      "/mnt/mnemo6/tao/PPI_Coevolution/CoEvo_data_STRING11.5/511145_EggNOGmaxLevel2_eggNOGfilteredData/DownSample_num10_pair_MSA_Nf90_PasteAlign/\n",
      "/mnt/mnemo6/tao/PPI_Coevolution/CoEvo_data_STRING11.5/511145_EggNOGmaxLevel2_eggNOGfilteredData/DownSample_num50_pair_MSA_Nf90_PasteAlign/\n",
      "/mnt/mnemo6/tao/PPI_Coevolution/CoEvo_data_STRING11.5/511145_EggNOGmaxLevel2_eggNOGfilteredData/DownSample_num100_pair_MSA_Nf90_PasteAlign/\n",
      "/mnt/mnemo6/tao/PPI_Coevolution/CoEvo_data_STRING11.5/511145_EggNOGmaxLevel2_eggNOGfilteredData/DownSample_num300_pair_MSA_Nf90_PasteAlign/\n",
      "/mnt/mnemo6/tao/PPI_Coevolution/CoEvo_data_STRING11.5/511145_EggNOGmaxLevel1224_eggNOGfilteredData/pair_MSA_Nf90_PasteAlign/\n",
      "/mnt/mnemo6/tao/PPI_Coevolution/CoEvo_data_STRING11.5/511145_EggNOGmaxLevel2_eggNOGfilteredData/pair_MSA_Nf90_PasteAlign/\n",
      "/mnt/mnemo6/tao/PPI_Coevolution/CoEvo_data_STRING11.5/1274374_EggNOGmaxLevel1239_eggNOGfilteredData/pair_MSA_Nf90_PasteAlign/\n",
      "/mnt/mnemo6/tao/PPI_Coevolution/CoEvo_data_STRING11.5/105422_EggNOGmaxLevel201174_eggNOGfilteredData/pair_MSA_Nf90_PasteAlign/\n",
      "/mnt/mnemo6/tao/PPI_Coevolution/CoEvo_data_STRING11.5/411476_EggNOGmaxLevel976_eggNOGfilteredData/pair_MSA_Nf90_PasteAlign/\n"
     ]
    }
   ],
   "source": [
    "DownSample_strategy = \"num\"#\"percent\"\n",
    "DownSample_sizes=[3,10,50,100,300]\n",
    "pairedMSA_Nf90_folder_list=list()\n",
    "for DownSample_size in DownSample_sizes:\n",
    "    for EggNOG_maxLevel,currentSpe_TaxID in [('2', '511145')]:\n",
    "        input_root_folder=CoEvo_data_folder+currentSpe_TaxID+\"_EggNOGmaxLevel\"+EggNOG_maxLevel+\"_eggNOGfilteredData/\"\n",
    "        DownSample_SamePosandNeg_pairedMSA_Nf90_folder = input_root_folder+\"DownSample_\"+DownSample_strategy+str(DownSample_size)+\"_pair_MSA_Nf90_PasteAlign/\"\n",
    "        pairedMSA_Nf90_folder_list.append(DownSample_SamePosandNeg_pairedMSA_Nf90_folder)\n",
    "\n",
    "\n",
    "tupleList = [ ('1224', '511145'), \n",
    "              ('2', '511145'),\n",
    "                (\"1239\", \"1274374\"), # for other phylum , we need to retrive its homologous protein pair\n",
    "                ('201174', '105422'), ('976', '411476'),\n",
    "                   ]\n",
    "for EggNOG_maxLevel,currentSpe_TaxID in tupleList:\n",
    "    input_root_folder=CoEvo_data_folder+currentSpe_TaxID+\"_EggNOGmaxLevel\"+EggNOG_maxLevel+\"_eggNOGfilteredData/\"\n",
    "    SamePosandNeg_pairedMSA_Nf90_folder = input_root_folder+\"pair_MSA_Nf90_PasteAlign/\"\n",
    "    pairedMSA_Nf90_folder_list.append(SamePosandNeg_pairedMSA_Nf90_folder)\n",
    "for f in pairedMSA_Nf90_folder_list:\n",
    "    print(f) "
   ]
  },
  {
   "cell_type": "code",
   "execution_count": 13,
   "metadata": {},
   "outputs": [
    {
     "name": "stdout",
     "output_type": "stream",
     "text": [
      "('1239', '1274374') 1510551\n",
      "('201174', '105422') 1598711\n",
      "('976', '411476') 1229632\n",
      "('2', '179408') 1269201\n",
      "('511145.b0003', '511145.b0008') ('179408.Osc7112_2857', '179408.Osc7112_2817')\n"
     ]
    }
   ],
   "source": [
    "with open(f\"{CoEvo_data_folder}511145_EggNOGmaxLevel1224_eggNOGfilteredData/STRINPhyPPI_Benchmark/NameUnsorted_Subject2Query_SubSpeAllPPI_BestHomologous_ignoreQueryDCA_dict_listDict.pickle\", 'rb') as handle:\n",
    "    Query2Subject_QueSpeAllPPI_BestHomologous_listDict = pickle.load(handle)\n",
    "\n",
    "\n",
    "for key, l_dict in Query2Subject_QueSpeAllPPI_BestHomologous_listDict.items():\n",
    "    print(key, len(l_dict))\n",
    "\n",
    "for k, v in l_dict.items():\n",
    "    print(k, v)\n",
    "    break"
   ]
  },
  {
   "cell_type": "code",
   "execution_count": 14,
   "metadata": {},
   "outputs": [],
   "source": [
    "\n",
    "\n",
    "def check_fileExist_inFolders(pp1,pp2,BestHomologous_listDict, list_of_folders):\n",
    "    flag=True\n",
    "    for folder in list_of_folders:\n",
    "        if '1274374' in folder: \n",
    "            if (pp1,pp2) in BestHomologous_listDict[('1239', '1274374')]: \n",
    "                new_pp1, new_pp2 = BestHomologous_listDict[('1239', '1274374')][(pp1,pp2)]\n",
    "                #print(pp1,pp2)\n",
    "            else:\n",
    "                flag = False\n",
    "                break\n",
    "\n",
    "\n",
    "\n",
    "        elif '105422' in folder:\n",
    "            if (pp1,pp2) in BestHomologous_listDict[('201174', '105422')]: \n",
    "                new_pp1, new_pp2 = BestHomologous_listDict[(\n",
    "                    '201174', '105422')][(pp1, pp2)]\n",
    "                #print(pp1, pp2)\n",
    "            else:\n",
    "                flag = False\n",
    "                break\n",
    "\n",
    "        elif '411476' in folder:\n",
    "            if (pp1,pp2) in BestHomologous_listDict[('976', '411476')]:\n",
    "                new_pp1, new_pp2 = BestHomologous_listDict[(\n",
    "                    '976', '411476')][(pp1, pp2)]\n",
    "                #print(pp1, pp2)\n",
    "            else:\n",
    "                flag = False\n",
    "                break\n",
    "        else:\n",
    "            new_pp1, new_pp2=pp1,pp2\n",
    "\n",
    "        #print(new_pp1, new_pp2)\n",
    "        basefile_name = f\"{new_pp1}and{new_pp2}.fasta\"\n",
    "        if not os.path.exists(os.path.join(folder,basefile_name)):\n",
    "            flag=False\n",
    "            #print(basefile_name,list_of_folders)\n",
    "            break\n",
    "    #print(f\"flag:{flag}\")\n",
    "    return (flag)"
   ]
  },
  {
   "cell_type": "code",
   "execution_count": 15,
   "metadata": {},
   "outputs": [
    {
     "name": "stdout",
     "output_type": "stream",
     "text": [
      "154\n",
      "48\n",
      "CPU times: user 3.18 ms, sys: 24.9 ms, total: 28.1 ms\n",
      "Wall time: 121 ms\n"
     ]
    }
   ],
   "source": [
    "%%time\n",
    "print(len(selected_PPs))\n",
    "selected_PPs=[(p1,p2) for p1,p2 in selected_PPs if check_fileExist_inFolders(p1,p2,Query2Subject_QueSpeAllPPI_BestHomologous_listDict,pairedMSA_Nf90_folder_list)]\n",
    "print(len(selected_PPs))"
   ]
  },
  {
   "cell_type": "code",
   "execution_count": null,
   "metadata": {},
   "outputs": [],
   "source": []
  },
  {
   "cell_type": "code",
   "execution_count": 16,
   "metadata": {},
   "outputs": [
    {
     "name": "stdout",
     "output_type": "stream",
     "text": [
      "(4090, 5)\n",
      "4090\n"
     ]
    }
   ],
   "source": [
    "StringID2UniID_file = pd.read_csv(filepath_or_buffer=\"/mnt/mnemo5/tao/STRING/ecoli.uniprot_2_string.2018.tsv\",\n",
    "                                  sep=\"\\t\", index_col=None, header=None)\n",
    "print(StringID2UniID_file.shape)\n",
    "StringID2UniID_list = StringID2UniID_file.loc[:, [1, 2]].values.tolist()\n",
    "StringID2UniID_dict = {stringID: uniprotID.split('|')[0] for uniprotID, stringID in StringID2UniID_list}\n",
    "print(len(StringID2UniID_dict))"
   ]
  },
  {
   "cell_type": "code",
   "execution_count": 17,
   "metadata": {},
   "outputs": [
    {
     "name": "stdout",
     "output_type": "stream",
     "text": [
      "(62955, 17)\n"
     ]
    }
   ],
   "source": [
    "# get protein info from \"/mnt/mnemo6/tao/ecocyc/ecocyc.gaf.gz\"\n",
    "# data download from : https://current.geneontology.org/annotations/ecocyc.gaf.gz\n",
    "\n",
    "# to understand gaf header : https://geneontology.org/docs/go-annotation-file-gaf-format-2.1/#dbreference-column-6\n",
    "\n",
    "ecocyc = pd.read_csv(\"/mnt/mnemo6/tao/ecocyc/ecocyc.gaf.gz\",\n",
    "                     header=None, skiprows=32, sep=\"\\t\")\n",
    "print(ecocyc.shape)\n",
    "ecocyc.head(n=6)\n",
    "ecocyc_info_dict=ecocyc.values.tolist()\n",
    "ecocyc_info_dict={l[1]: l for l in ecocyc_info_dict}"
   ]
  },
  {
   "cell_type": "code",
   "execution_count": 18,
   "metadata": {},
   "outputs": [
    {
     "name": "stdout",
     "output_type": "stream",
     "text": [
      "************ 511145.b0014 511145.b2614\n",
      "['UniProtKB', 'P0A6Y8', 'dnaK', 'involved_in', 'GO:0051085', 'GOREF:0000033', 'IBA', 'PANTHER:PTN008570368|UniProtKB:P0A6Y8|MGI:MGI:105384', 'P', 'Chaperone protein DnaK', 'dnaK|groP|grpF|seg|JW0013|b0014', 'protein', 'taxon:83333', 20230111, 'GO_Central', nan, nan]\n",
      "['UniProtKB', 'P09372', 'grpE', 'is_active_in', 'GO:0005829', 'GOREF:0000033', 'IBA', 'PANTHER:PTN000478395|UniProtKB:P09372', 'C', 'Protein GrpE', 'grpE|JW2594|b2614', 'protein', 'taxon:83333', 20170228, 'GO_Central', nan, nan]\n",
      "************ 511145.b0098 511145.b3318\n",
      "['UniProtKB', 'P10408', 'secA', 'part_of', 'GO:0031522', 'GOREF:0000033', 'IBA', 'PANTHER:PTN000770133|UniProtKB:P9WGP5|UniProtKB:P10408', 'C', 'Protein translocase subunit SecA', 'secA|azi|pea|prlD|JW0096|b0098', 'protein', 'taxon:83333', 20170228, 'GO_Central', nan, nan]\n",
      "['UniProtKB', 'P0ADZ0', 'rplW', 'involved_in', 'GO:0000027', 'GOREF:0000033', 'IBA', 'PANTHER:PTN000178698|UniProtKB:P0ADZ0|SGD:S000005487', 'P', 'Large ribosomal subunit protein uL23', 'rplW|JW3280|b3318', 'protein', 'taxon:83333', 20170228, 'GO_Central', nan, nan]\n",
      "************ 511145.b0169 511145.b3303\n",
      "['UniProtKB', 'P0A7V0', 'rpsB', 'enables', 'GO:0003735', 'GOREF:0000033', 'IBA', 'PANTHER:PTN000283441|UniProtKB:P0A7V0|SGD:S000000996', 'F', 'Small ribosomal subunit protein uS2', 'rpsB|JW0164|b0169', 'protein', 'taxon:83333', 20200808, 'GO_Central', nan, nan]\n",
      "['UniProtKB', 'P0A7W1', 'rpsE', 'enables', 'GO:0003735', 'GOREF:0000033', 'IBA', 'PANTHER:PTN000346706|UniProtKB:P0A7W1|RGD:619887|UniProtKB:Q8IL02|FB:FBgn0004867|UniProtKB:P15880|MGI:MGI:105110|SGD:S000003091|SGD:S000000455', 'F', 'Small ribosomal subunit protein uS5', 'rpsE|spc|JW3265|b3303', 'protein', 'taxon:83333', 20230406, 'GO_Central', nan, nan]\n",
      "************ 511145.b0169 511145.b3306\n",
      "['UniProtKB', 'P0A7V0', 'rpsB', 'enables', 'GO:0003735', 'GOREF:0000033', 'IBA', 'PANTHER:PTN000283441|UniProtKB:P0A7V0|SGD:S000000996', 'F', 'Small ribosomal subunit protein uS2', 'rpsB|JW0164|b0169', 'protein', 'taxon:83333', 20200808, 'GO_Central', nan, nan]\n",
      "['UniProtKB', 'P0A7W7', 'rpsH', 'part_of', 'GO:0022627', 'GOREF:0000033', 'IBA', 'PANTHER:PTN000204723|UniProtKB:P62244|MGI:MGI:2389091|UniProtKB:P0A7W7|SGD:S000003726|SGD:S000004359|RGD:619939', 'C', 'Small ribosomal subunit protein uS8', 'rpsH|JW3268|b3306', 'protein', 'taxon:83333', 20230405, 'GO_Central', nan, nan]\n",
      "************ 511145.b0169 511145.b3314\n",
      "['UniProtKB', 'P0A7V0', 'rpsB', 'enables', 'GO:0003735', 'GOREF:0000033', 'IBA', 'PANTHER:PTN000283441|UniProtKB:P0A7V0|SGD:S000000996', 'F', 'Small ribosomal subunit protein uS2', 'rpsB|JW0164|b0169', 'protein', 'taxon:83333', 20200808, 'GO_Central', nan, nan]\n",
      "['UniProtKB', 'P0A7V3', 'rpsC', 'part_of', 'GO:0022627', 'GOREF:0000033', 'IBA', 'PANTHER:PTN000205057|MGI:MGI:1350917|UniProtKB:P23396|UniProtKB:P0A7V3|SGD:S000005122|RGD:619888|UniProtKB:Q8IKH8', 'C', 'Small ribosomal subunit protein uS3', 'rpsC|JW3276|b3314', 'protein', 'taxon:83333', 20230405, 'GO_Central', nan, nan]\n",
      "************ 511145.b0231 511145.b3701\n",
      "['UniProtKB', 'Q47155', 'dinB', 'involved_in', 'GO:0042276', 'GOREF:0000033', 'IBA', 'PANTHER:PTN000117876|WB:WBGene00017696|UniProtKB:Q47155|UniProtKB:Q9UBT6', 'P', 'DNA polymerase IV', 'dinB|dinP|JW0221|b0231', 'protein', 'taxon:83333', 20200929, 'GO_Central', nan, nan]\n",
      "['UniProtKB', 'P0A988', 'dnaN', 'involved_in', 'GO:0006271', 'GOREF:0000033', 'IBA', 'PANTHER:PTN000767221|UniProtKB:P0A988', 'P', 'Beta sliding clamp', 'dnaN|JW3678|b3701', 'protein', 'taxon:83333', 20180218, 'GO_Central', nan, nan]\n",
      "************ 511145.b0408 511145.b3300\n",
      "['UniProtKB', 'P0AG90', 'secD', 'involved_in', 'GO:0015031', 'GOREF:0000033', 'IBA', 'PANTHER:PTN000763987|UniProtKB:P0AG90|UniProtKB:P0AG93', 'P', 'Protein translocase subunit SecD', 'secD|JW0398|b0408', 'protein', 'taxon:83333', 20230406, 'GO_Central', nan, nan]\n",
      "['UniProtKB', 'P0AGA2', 'secY', 'involved_in', 'GO:0006616', 'GOREF:0000033', 'IBA', 'PANTHER:PTN000097217|SGD:S000004370|UniProtKB:P0AGA2', 'P', 'Protein translocase subunit SecY', 'secY|prlA|JW3262|b3300', 'protein', 'taxon:83333', 20180302, 'GO_Central', nan, nan]\n",
      "************ 511145.b0408 511145.b3705\n",
      "['UniProtKB', 'P0AG90', 'secD', 'involved_in', 'GO:0015031', 'GOREF:0000033', 'IBA', 'PANTHER:PTN000763987|UniProtKB:P0AG90|UniProtKB:P0AG93', 'P', 'Protein translocase subunit SecD', 'secD|JW0398|b0408', 'protein', 'taxon:83333', 20230406, 'GO_Central', nan, nan]\n",
      "['UniProtKB', 'P25714', 'yidC', 'enables', 'GO:0032977', 'GOREF:0000033', 'IBA', 'PANTHER:PTN000276804|UniProtKB:Q8N8Q8|SGD:S000000956|UniProtKB:P25714|PomBase:SPCC1442.15c|SGD:S000003294', 'F', 'Membrane protein insertase YidC', 'yidC|JW3683|b3705', 'protein', 'taxon:83333', 20181116, 'GO_Central', nan, nan]\n",
      "************ 511145.b0409 511145.b3300\n",
      "['UniProtKB', 'P0AG93', 'secF', 'involved_in', 'GO:0015031', 'GOREF:0000033', 'IBA', 'PANTHER:PTN000763987|UniProtKB:P0AG90|UniProtKB:P0AG93', 'P', 'Protein translocase subunit SecF', 'secF|JW0399|b0409', 'protein', 'taxon:83333', 20230406, 'GO_Central', nan, nan]\n",
      "['UniProtKB', 'P0AGA2', 'secY', 'involved_in', 'GO:0006616', 'GOREF:0000033', 'IBA', 'PANTHER:PTN000097217|SGD:S000004370|UniProtKB:P0AGA2', 'P', 'Protein translocase subunit SecY', 'secY|prlA|JW3262|b3300', 'protein', 'taxon:83333', 20180302, 'GO_Central', nan, nan]\n",
      "************ 511145.b0409 511145.b3705\n",
      "['UniProtKB', 'P0AG93', 'secF', 'involved_in', 'GO:0015031', 'GOREF:0000033', 'IBA', 'PANTHER:PTN000763987|UniProtKB:P0AG90|UniProtKB:P0AG93', 'P', 'Protein translocase subunit SecF', 'secF|JW0399|b0409', 'protein', 'taxon:83333', 20230406, 'GO_Central', nan, nan]\n",
      "['UniProtKB', 'P25714', 'yidC', 'enables', 'GO:0032977', 'GOREF:0000033', 'IBA', 'PANTHER:PTN000276804|UniProtKB:Q8N8Q8|SGD:S000000956|UniProtKB:P25714|PomBase:SPCC1442.15c|SGD:S000003294', 'F', 'Membrane protein insertase YidC', 'yidC|JW3683|b3705', 'protein', 'taxon:83333', 20181116, 'GO_Central', nan, nan]\n",
      "************ 511145.b0416 511145.b3169\n",
      "['UniProtKB', 'P0A780', 'nusB', 'is_active_in', 'GO:0005829', 'GOREF:0000033', 'IBA', 'PANTHER:PTN000118200|UniProtKB:P0A780', 'C', 'Transcription antitermination protein NusB', 'nusB|groNB|ssyB|JW0406|b0416', 'protein', 'taxon:83333', 20190524, 'GO_Central', nan, nan]\n",
      "['UniProtKB', 'P0AFF6', 'nusA', 'involved_in', 'GO:0031564', 'GOREF:0000033', 'IBA', 'PANTHER:PTN000505391|UniProtKB:P9WIV3|UniProtKB:P0AFF6', 'P', 'Transcription termination/antitermination protein NusA', 'nusA|JW3138|b3169', 'protein', 'taxon:83333', 20170228, 'GO_Central', nan, nan]\n",
      "************ 511145.b0416 511145.b3321\n",
      "['UniProtKB', 'P0A780', 'nusB', 'is_active_in', 'GO:0005829', 'GOREF:0000033', 'IBA', 'PANTHER:PTN000118200|UniProtKB:P0A780', 'C', 'Transcription antitermination protein NusB', 'nusB|groNB|ssyB|JW0406|b0416', 'protein', 'taxon:83333', 20190524, 'GO_Central', nan, nan]\n",
      "['UniProtKB', 'P0A7R5', 'rpsJ', 'part_of', 'GO:0015935', 'GOREF:0000033', 'IBA', 'PANTHER:PTN000193512|SGD:S000001007|UniProtKB:P0A7R5|MGI:MGI:1914677|UniProtKB:P60866|UniProtKB:A1XQU9|RGD:621037|SGD:S000002448', 'C', 'Small ribosomal subunit protein uS10', 'rpsJ|nusE|JW3283|b3321', 'protein', 'taxon:83333', 20230405, 'GO_Central', nan, nan]\n",
      "************ 511145.b0437 511145.b0438\n",
      "['UniProtKB', 'P0A6G7', 'clpP', 'involved_in', 'GO:0006515', 'GOREF:0000033', 'IBA', 'PANTHER:PTN000043558|UniProtKB:P0A6G7', 'P', 'ATP-dependent Clp protease proteolytic subunit', 'clpP|lopP|JW0427|b0437', 'protein', 'taxon:83333', 20180913, 'GO_Central', nan, nan]\n",
      "['UniProtKB', 'P0A6H1', 'clpX', 'involved_in', 'GO:0051301', 'GOREF:0000033', 'IBA', 'PANTHER:PTN000137358|UniProtKB:P0A6H1|UniProtKB:P9WPB9', 'P', 'ATP-dependent Clp protease ATP-binding subunit ClpX', 'clpX|lopC|JW0428|b0438', 'protein', 'taxon:83333', 20170228, 'GO_Central', nan, nan]\n",
      "************ 511145.b0470 511145.b1099\n",
      "['UniProtKB', 'P06710', 'dnaX', 'involved_in', 'GO:0006261', 'GOREF:0000033', 'IBA', 'PANTHER:PTN000186208|PomBase:SPAC23D3.02|UniProtKB:P35249|PomBase:SPAC27E2.10c|UniProtKB:P40937|PomBase:SPAC1687.03c|PomBase:SPBC83.14c|SGD:S000005234|SGD:S000003829|UniProtKB:P28631|UniProtKB:P35250|UniProtKB:P40938|SGD:S000005454|SGD:S000000291', 'P', 'DNA polymerase III subunit tau', 'dnaX|dnaZ|dnaZX|JW0459|b0470', 'protein', 'taxon:83333', 20231108, 'GO_Central', nan, nan]\n",
      "['UniProtKB', 'P28631', 'holB', 'involved_in', 'GO:0006261', 'GOREF:0000033', 'IBA', 'PANTHER:PTN000186208|PomBase:SPAC23D3.02|UniProtKB:P35249|PomBase:SPAC27E2.10c|UniProtKB:P40937|PomBase:SPAC1687.03c|PomBase:SPBC83.14c|SGD:S000005234|SGD:S000003829|UniProtKB:P28631|UniProtKB:P35250|UniProtKB:P40938|SGD:S000005454|SGD:S000000291', 'P', \"DNA polymerase III subunit delta'\", 'holB|JW1085|b1099', 'protein', 'taxon:83333', 20231108, 'GO_Central', nan, nan]\n",
      "************ 511145.b0888 511145.b3781\n",
      "['UniProtKB', 'P0A9P4', 'trxB', 'enables', 'GO:0004791', 'GOREF:0000033', 'IBA', 'PANTHER:PTN005133404|FB:FBgn0037170|SGD:S000002761|RGD:61959|MGI:MGI:2386711|CGD:CAL0000184081|RGD:61960|UniProtKB:C8V4E8|UniProtKB:Q70G58|TAIR:locus:2117612|UniProtKB:P9WHH1|WB:WBGene00014028|PomBase:SPBC3F6.03|UniProtKB:Q16881|TAIR:locus:2062683|MGI:MGI:1354175|UniProtKB:P0A9P4|FB:FBgn0020653|UniProtKB:Q9N2I8|SGD:S000001148|UniProtKB:Q39242|dictyBase:DDB_G0280815', 'F', 'Thioredoxin reductase', 'trxB|JW0871|b0888', 'protein', 'taxon:83333', 20220926, 'GO_Central', nan, nan]\n",
      "['UniProtKB', 'P0AA25', 'trxA', 'is_active_in', 'GO:0005829', 'GOREF:0000033', 'IBA', 'PANTHER:PTN000047549|UniProtKB:P0AA25', 'C', 'Thioredoxin 1', 'trxA|fipA|tsnC|JW5856|b3781', 'protein', 'taxon:83333', 20170228, 'GO_Central', nan, nan]\n",
      "************ 511145.b1092 511145.b1094\n",
      "['UniProtKB', 'P0AAI9', 'fabD', 'enables', 'GO:0004314', 'GOREF:0000033', 'IBA', 'PANTHER:PTN002448244|UniProtKB:P0AAI9|SGD:S000005747|UniProtKB:Q8IVS2|UniProtKB:P9WNG5|TAIR:locus:2060884', 'F', 'Malonyl CoA-acyl carrier protein transacylase', 'fabD|tfpA|JW1078|b1092', 'protein', 'taxon:83333', 20211112, 'GO_Central', nan, nan]\n",
      "['UniProtKB', 'P0A6A8', 'acpP', 'enables', 'GO:0000036', 'GOREF:0000033', 'IBA', 'PANTHER:PTN000466551|UniProtKB:P9WQF1|UniProtKB:P0A6A8|TAIR:locus:2206300|TAIR:locus:2168968|TAIR:locus:2042331|UniProtKB:P9WQF3|UniProtKB:Q57WW9|UniProtKB:P11943', 'F', 'Acyl carrier protein', 'acpP|JW1080|b1094', 'protein', 'taxon:83333', 20230111, 'GO_Central', nan, nan]\n",
      "************ 511145.b1211 511145.b1212\n",
      "['UniProtKB', 'P0A7I0', 'prfA', 'located_in', 'GO:0005829', 'PMID:18304323', 'IDA', nan, 'C', 'Peptide chain release factor RF1', 'prfA|sueB|uar|JW1202|b1211', 'protein', 'taxon:83333', 20140602, 'EcoCyc', nan, nan]\n",
      "['UniProtKB', 'P0ACC1', 'prmC', 'enables', 'GO:0036009', 'GOREF:0000033', 'IBA', 'PANTHER:PTN000430983|UniProtKB:P0ACC1', 'F', 'Release factor glutamine methyltransferase', 'prmC|hemK|JW1203|b1212', 'protein', 'taxon:83333', 20170228, 'GO_Central', nan, nan]\n",
      "************ 511145.b1713 511145.b1714\n",
      "['UniProtKB', 'P07395', 'pheT', 'contributes_to', 'GO:0004826', 'GOREF:0000033', 'IBA', 'PANTHER:PTN000101805|SGD:S000004050', 'F', 'Phenylalanine--tRNA ligase beta subunit', 'pheT|JW1703|b1713', 'protein', 'taxon:83333', 20170228, 'GO_Central', nan, nan]\n",
      "['UniProtKB', 'P08312', 'pheS', 'involved_in', 'GO:0006432', 'GOREF:0000033', 'IBA', 'PANTHER:PTN000165932|SGD:S000006251|FB:FBgn0030007|UniProtKB:P08312|UniProtKB:C6KSN5|UniProtKB:O95363|FB:FBgn0275436|UniProtKB:Q9Y285|SGD:S000001872', 'P', 'Phenylalanine--tRNA ligase alpha subunit', 'pheS|JW5277|b1714', 'protein', 'taxon:83333', 20230110, 'GO_Central', nan, nan]\n",
      "************ 511145.b1716 511145.b3186\n",
      "['UniProtKB', 'P0A7L3', 'rplT', 'involved_in', 'GO:0000027', 'GOREF:0000033', 'IBA', 'PANTHER:PTN000105838|UniProtKB:P0A7L3', 'P', 'Large ribosomal subunit protein bL20', 'rplT|pdzA|JW1706|b1716', 'protein', 'taxon:83333', 20170228, 'GO_Central', nan, nan]\n",
      "['UniProtKB', 'P0AG48', 'rplU', 'enables', 'GO:0003735', 'GOREF:0000033', 'IBA', 'PANTHER:PTN000482431|SGD:S000003632', 'F', 'Large ribosomal subunit protein bL21', 'rplU|JW3153|b3186', 'protein', 'taxon:83333', 20170228, 'GO_Central', nan, nan]\n",
      "************ 511145.b1716 511145.b3231\n",
      "['UniProtKB', 'P0A7L3', 'rplT', 'involved_in', 'GO:0000027', 'GOREF:0000033', 'IBA', 'PANTHER:PTN000105838|UniProtKB:P0A7L3', 'P', 'Large ribosomal subunit protein bL20', 'rplT|pdzA|JW1706|b1716', 'protein', 'taxon:83333', 20170228, 'GO_Central', nan, nan]\n",
      "['UniProtKB', 'P0AA10', 'rplM', 'is_active_in', 'GO:0005840', 'GOREF:0000033', 'IBA', 'PANTHER:PTN000166701|FB:FBgn0037351|UniProtKB:P40429|SGD:S000001395|MGI:MGI:2137218|MGI:MGI:1351455|UniProtKB:Q9BYD1|SGD:S000005676|UniProtKB:P0AA10|SGD:S000005013|RGD:628697|UniProtKB:Q580D5|UniProtKB:O96222', 'C', 'Large ribosomal subunit protein uL13', 'rplM|JW3200|b3231', 'protein', 'taxon:83333', 20230110, 'GO_Central', nan, nan]\n",
      "************ 511145.b2185 511145.b3313\n",
      "['UniProtKB', 'P68919', 'rplY', 'enables', 'GO:0008097', 'GOREF:0000033', 'IBA', 'PANTHER:PTN002116473|UniProtKB:P68919', 'F', 'Large ribosomal subunit protein bL25', 'rplY|JW2173|b2185', 'protein', 'taxon:83333', 20170228, 'GO_Central', nan, nan]\n",
      "['UniProtKB', 'P0ADY7', 'rplP', 'part_of', 'GO:0022625', 'GOREF:0000033', 'IBA', 'PANTHER:PTN008534822|UniProtKB:P0ADY7', 'C', 'Large ribosomal subunit protein uL16', 'rplP|JW3275|b3313', 'protein', 'taxon:83333', 20170228, 'GO_Central', nan, nan]\n",
      "************ 511145.b2511 511145.b3984\n",
      "['UniProtKB', 'P0A6P5', 'der', 'involved_in', 'GO:0000027', 'GOREF:0000033', 'IBA', 'PANTHER:PTN000182950|UniProtKB:P0A6P5', 'P', 'GTPase Der', 'der|engA|yfgK|JW5403|b2511', 'protein', 'taxon:83333', 20170228, 'GO_Central', nan, nan]\n",
      "['UniProtKB', 'P0A7L0', 'rplA', 'part_of', 'GO:0022625', 'GOREF:0000033', 'IBA', 'PANTHER:PTN000560546|UniProtKB:P0A7L0', 'C', 'Large ribosomal subunit protein uL1', 'rplA|JW3947|b3984', 'protein', 'taxon:83333', 20230407, 'GO_Central', nan, nan]\n",
      "************ 511145.b2606 511145.b3320\n",
      "['UniProtKB', 'P0A7K6', 'rplS', 'enables', 'GO:0003735', 'GOREF:0000033', 'IBA', 'PANTHER:PTN000402783|UniProtKB:P0A7K6|SGD:S000000642', 'F', 'Large ribosomal subunit protein bL19', 'rplS|JW2587|b2606', 'protein', 'taxon:83333', 20170228, 'GO_Central', nan, nan]\n",
      "['UniProtKB', 'P60438', 'rplC', 'part_of', 'GO:0022625', 'GOREF:0000033', 'IBA', 'PANTHER:PTN000132497|UniProtKB:P60438', 'C', 'Large ribosomal subunit protein uL3', 'rplC|JW3282|b3320', 'protein', 'taxon:83333', 20181024, 'GO_Central', nan, nan]\n",
      "************ 511145.b2610 511145.b3309\n",
      "['UniProtKB', 'P0AGD7', 'ffh', 'part_of', 'GO:1990904', 'PMID:1701272', 'IDA', nan, 'C', 'Signal recognition particle protein', 'ffh|JW5414|b2610', 'protein', 'taxon:83333', 20080723, 'EcoliWiki', nan, nan]\n",
      "['UniProtKB', 'P60624', 'rplX', 'part_of', 'GO:0022625', 'GOREF:0000033', 'IBA', 'PANTHER:PTN008543942|UniProtKB:P60624', 'C', 'Large ribosomal subunit protein uL24', 'rplX|JW3271|b3309', 'protein', 'taxon:83333', 20170228, 'GO_Central', nan, nan]\n",
      "************ 511145.b2891 511145.b3313\n",
      "['UniProtKB', 'P07012', 'prfB', 'located_in', 'GO:0005829', 'PMID:18304323', 'IDA', nan, 'C', 'Peptide chain release factor RF2', 'prfB|supK|JW5847|b2891', 'protein', 'taxon:83333', 20140602, 'EcoCyc', nan, nan]\n",
      "['UniProtKB', 'P0ADY7', 'rplP', 'part_of', 'GO:0022625', 'GOREF:0000033', 'IBA', 'PANTHER:PTN008534822|UniProtKB:P0ADY7', 'C', 'Large ribosomal subunit protein uL16', 'rplP|JW3275|b3313', 'protein', 'taxon:83333', 20170228, 'GO_Central', nan, nan]\n",
      "************ 511145.b3183 511145.b3305\n",
      "['UniProtKB', 'P42641', 'obgE', 'enables', 'GO:0003924', 'GOREF:0000033', 'IBA', 'PANTHER:PTN000193646|UniProtKB:P9WMT1|UniProtKB:P42641|UniProtKB:A0A144A1B2|UniProtKB:Q9H4K7|TAIR:locus:2182998', 'F', 'GTPase ObgE/CgtA', 'obgE|cgtA|obg|yhbZ|JW3150|b3183', 'protein', 'taxon:83333', 20230110, 'GO_Central', nan, nan]\n",
      "['UniProtKB', 'P0AG55', 'rplF', 'part_of', 'GO:0022625', 'GOREF:0000033', 'IBA', 'PANTHER:PTN000183776|UniProtKB:P0AG55', 'C', 'Large ribosomal subunit protein uL6', 'rplF|JW3267|b3305', 'protein', 'taxon:83333', 20170228, 'GO_Central', nan, nan]\n",
      "************ 511145.b3185 511145.b3304\n",
      "['UniProtKB', 'P0A7L8', 'rpmA', 'enables', 'GO:0003735', 'GOREF:0000033', 'IBA', 'PANTHER:PTN000407638|UniProtKB:P0A7L8|SGD:S000004950', 'F', 'Large ribosomal subunit protein bL27', 'rpmA|JW3152|b3185', 'protein', 'taxon:83333', 20170228, 'GO_Central', nan, nan]\n",
      "['UniProtKB', 'P0C018', 'rplR', 'enables', 'GO:0008097', 'GOREF:0000033', 'IBA', 'PANTHER:PTN000307352|UniProtKB:Q9H0U6|UniProtKB:P0C018', 'F', 'Large ribosomal subunit protein uL18', 'rplR|JW3266|b3304', 'protein', 'taxon:83333', 20170228, 'GO_Central', nan, nan]\n",
      "************ 511145.b3185 511145.b3313\n",
      "['UniProtKB', 'P0A7L8', 'rpmA', 'enables', 'GO:0003735', 'GOREF:0000033', 'IBA', 'PANTHER:PTN000407638|UniProtKB:P0A7L8|SGD:S000004950', 'F', 'Large ribosomal subunit protein bL27', 'rpmA|JW3152|b3185', 'protein', 'taxon:83333', 20170228, 'GO_Central', nan, nan]\n",
      "['UniProtKB', 'P0ADY7', 'rplP', 'part_of', 'GO:0022625', 'GOREF:0000033', 'IBA', 'PANTHER:PTN008534822|UniProtKB:P0ADY7', 'C', 'Large ribosomal subunit protein uL16', 'rplP|JW3275|b3313', 'protein', 'taxon:83333', 20170228, 'GO_Central', nan, nan]\n",
      "************ 511145.b3186 511145.b3231\n",
      "['UniProtKB', 'P0AG48', 'rplU', 'enables', 'GO:0003735', 'GOREF:0000033', 'IBA', 'PANTHER:PTN000482431|SGD:S000003632', 'F', 'Large ribosomal subunit protein bL21', 'rplU|JW3153|b3186', 'protein', 'taxon:83333', 20170228, 'GO_Central', nan, nan]\n",
      "['UniProtKB', 'P0AA10', 'rplM', 'is_active_in', 'GO:0005840', 'GOREF:0000033', 'IBA', 'PANTHER:PTN000166701|FB:FBgn0037351|UniProtKB:P40429|SGD:S000001395|MGI:MGI:2137218|MGI:MGI:1351455|UniProtKB:Q9BYD1|SGD:S000005676|UniProtKB:P0AA10|SGD:S000005013|RGD:628697|UniProtKB:Q580D5|UniProtKB:O96222', 'C', 'Large ribosomal subunit protein uL13', 'rplM|JW3200|b3231', 'protein', 'taxon:83333', 20230110, 'GO_Central', nan, nan]\n",
      "************ 511145.b3186 511145.b3301\n",
      "['UniProtKB', 'P0AG48', 'rplU', 'enables', 'GO:0003735', 'GOREF:0000033', 'IBA', 'PANTHER:PTN000482431|SGD:S000003632', 'F', 'Large ribosomal subunit protein bL21', 'rplU|JW3153|b3186', 'protein', 'taxon:83333', 20170228, 'GO_Central', nan, nan]\n",
      "['UniProtKB', 'P02413', 'rplO', 'part_of', 'GO:0022625', 'GOREF:0000033', 'IBA', 'PANTHER:PTN000309650|UniProtKB:P02413', 'C', 'Large ribosomal subunit protein uL15', 'rplO|JW3263|b3301', 'protein', 'taxon:83333', 20170228, 'GO_Central', nan, nan]\n",
      "************ 511145.b3230 511145.b3307\n",
      "['UniProtKB', 'P0A7X3', 'rpsI', 'enables', 'GO:0003735', 'GOREF:0000033', 'IBA', 'PANTHER:PTN000490829|FB:FBgn0034743|MGI:MGI:98118|SGD:S000000350|UniProtKB:P0A7X3|UniProtKB:P62249', 'F', 'Small ribosomal subunit protein uS9', 'rpsI|JW3199|b3230', 'protein', 'taxon:83333', 20230406, 'GO_Central', nan, nan]\n",
      "['UniProtKB', 'P0AG59', 'rpsN', 'part_of', 'GO:0015935', 'GOREF:0000033', 'IBA', 'PANTHER:PTN000457003|UniProtKB:O60783|SGD:S000006370|UniProtKB:P0AG59', 'C', 'Small ribosomal subunit protein uS14', 'rpsN|JW3269|b3307', 'protein', 'taxon:83333', 20200808, 'GO_Central', nan, nan]\n",
      "************ 511145.b3230 511145.b3341\n",
      "['UniProtKB', 'P0A7X3', 'rpsI', 'enables', 'GO:0003735', 'GOREF:0000033', 'IBA', 'PANTHER:PTN000490829|FB:FBgn0034743|MGI:MGI:98118|SGD:S000000350|UniProtKB:P0A7X3|UniProtKB:P62249', 'F', 'Small ribosomal subunit protein uS9', 'rpsI|JW3199|b3230', 'protein', 'taxon:83333', 20230406, 'GO_Central', nan, nan]\n",
      "['UniProtKB', 'P02359', 'rpsG', 'involved_in', 'GO:0000028', 'GOREF:0000033', 'IBA', 'PANTHER:PTN000128889|UniProtKB:P02359', 'P', 'Small ribosomal subunit protein uS7', 'rpsG|JW3303|b3341', 'protein', 'taxon:83333', 20170228, 'GO_Central', nan, nan]\n",
      "************ 511145.b3231 511145.b3320\n",
      "['UniProtKB', 'P0AA10', 'rplM', 'is_active_in', 'GO:0005840', 'GOREF:0000033', 'IBA', 'PANTHER:PTN000166701|FB:FBgn0037351|UniProtKB:P40429|SGD:S000001395|MGI:MGI:2137218|MGI:MGI:1351455|UniProtKB:Q9BYD1|SGD:S000005676|UniProtKB:P0AA10|SGD:S000005013|RGD:628697|UniProtKB:Q580D5|UniProtKB:O96222', 'C', 'Large ribosomal subunit protein uL13', 'rplM|JW3200|b3231', 'protein', 'taxon:83333', 20230110, 'GO_Central', nan, nan]\n",
      "['UniProtKB', 'P60438', 'rplC', 'part_of', 'GO:0022625', 'GOREF:0000033', 'IBA', 'PANTHER:PTN000132497|UniProtKB:P60438', 'C', 'Large ribosomal subunit protein uL3', 'rplC|JW3282|b3320', 'protein', 'taxon:83333', 20181024, 'GO_Central', nan, nan]\n",
      "************ 511145.b3294 511145.b3315\n",
      "['UniProtKB', 'P0AG44', 'rplQ', 'enables', 'GO:0003735', 'GOREF:0000033', 'IBA', 'PANTHER:PTN000373768|SGD:S000003599|UniProtKB:P0AG44', 'F', 'Large ribosomal subunit protein bL17', 'rplQ|JW3256|b3294', 'protein', 'taxon:83333', 20170228, 'GO_Central', nan, nan]\n",
      "['UniProtKB', 'P61175', 'rplV', 'part_of', 'GO:0022625', 'GOREF:0000033', 'IBA', 'PANTHER:PTN000337498|UniProtKB:P61175', 'C', 'Large ribosomal subunit protein uL22', 'rplV|eryB|JW3277|b3315', 'protein', 'taxon:83333', 20170228, 'GO_Central', nan, nan]\n",
      "************ 511145.b3294 511145.b3320\n",
      "['UniProtKB', 'P0AG44', 'rplQ', 'enables', 'GO:0003735', 'GOREF:0000033', 'IBA', 'PANTHER:PTN000373768|SGD:S000003599|UniProtKB:P0AG44', 'F', 'Large ribosomal subunit protein bL17', 'rplQ|JW3256|b3294', 'protein', 'taxon:83333', 20170228, 'GO_Central', nan, nan]\n",
      "['UniProtKB', 'P60438', 'rplC', 'part_of', 'GO:0022625', 'GOREF:0000033', 'IBA', 'PANTHER:PTN000132497|UniProtKB:P60438', 'C', 'Large ribosomal subunit protein uL3', 'rplC|JW3282|b3320', 'protein', 'taxon:83333', 20181024, 'GO_Central', nan, nan]\n",
      "************ 511145.b3298 511145.b4161\n",
      "['UniProtKB', 'P0A7S9', 'rpsM', 'part_of', 'GO:0015935', 'GOREF:0000033', 'IBA', 'PANTHER:PTN000093238|MGI:MGI:98146|UniProtKB:P0A7S9|RGD:3595|UniProtKB:P62269|UniProtKB:P62272|SGD:S000005025', 'C', 'Small ribosomal subunit protein uS13', 'rpsM|JW3260|b3298', 'protein', 'taxon:83333', 20230405, 'GO_Central', nan, nan]\n",
      "['UniProtKB', 'P39286', 'rsgA', 'located_in', 'GO:0005829', 'PMID:18304323', 'IDA', nan, 'C', 'Small ribosomal subunit biogenesis GTPase RsgA', 'rsgA|engC|yjeQ|JW4122|b4161', 'protein', 'taxon:83333', 20140602, 'EcoCyc', nan, nan]\n",
      "************ 511145.b3300 511145.b3309\n",
      "['UniProtKB', 'P0AGA2', 'secY', 'involved_in', 'GO:0006616', 'GOREF:0000033', 'IBA', 'PANTHER:PTN000097217|SGD:S000004370|UniProtKB:P0AGA2', 'P', 'Protein translocase subunit SecY', 'secY|prlA|JW3262|b3300', 'protein', 'taxon:83333', 20180302, 'GO_Central', nan, nan]\n",
      "['UniProtKB', 'P60624', 'rplX', 'part_of', 'GO:0022625', 'GOREF:0000033', 'IBA', 'PANTHER:PTN008543942|UniProtKB:P60624', 'C', 'Large ribosomal subunit protein uL24', 'rplX|JW3271|b3309', 'protein', 'taxon:83333', 20170228, 'GO_Central', nan, nan]\n",
      "************ 511145.b3300 511145.b3705\n",
      "['UniProtKB', 'P0AGA2', 'secY', 'involved_in', 'GO:0006616', 'GOREF:0000033', 'IBA', 'PANTHER:PTN000097217|SGD:S000004370|UniProtKB:P0AGA2', 'P', 'Protein translocase subunit SecY', 'secY|prlA|JW3262|b3300', 'protein', 'taxon:83333', 20180302, 'GO_Central', nan, nan]\n",
      "['UniProtKB', 'P25714', 'yidC', 'enables', 'GO:0032977', 'GOREF:0000033', 'IBA', 'PANTHER:PTN000276804|UniProtKB:Q8N8Q8|SGD:S000000956|UniProtKB:P25714|PomBase:SPCC1442.15c|SGD:S000003294', 'F', 'Membrane protein insertase YidC', 'yidC|JW3683|b3705', 'protein', 'taxon:83333', 20181116, 'GO_Central', nan, nan]\n",
      "************ 511145.b3301 511145.b3319\n",
      "['UniProtKB', 'P02413', 'rplO', 'part_of', 'GO:0022625', 'GOREF:0000033', 'IBA', 'PANTHER:PTN000309650|UniProtKB:P02413', 'C', 'Large ribosomal subunit protein uL15', 'rplO|JW3263|b3301', 'protein', 'taxon:83333', 20170228, 'GO_Central', nan, nan]\n",
      "['UniProtKB', 'P60723', 'rplD', 'enables', 'GO:0003735', 'GOREF:0000033', 'IBA', 'PANTHER:PTN000078778|SGD:S000004487', 'F', 'Large ribosomal subunit protein uL4', 'rplD|eryA|JW3281|b3319', 'protein', 'taxon:83333', 20170228, 'GO_Central', nan, nan]\n",
      "************ 511145.b3303 511145.b3306\n",
      "['UniProtKB', 'P0A7W1', 'rpsE', 'enables', 'GO:0003735', 'GOREF:0000033', 'IBA', 'PANTHER:PTN000346706|UniProtKB:P0A7W1|RGD:619887|UniProtKB:Q8IL02|FB:FBgn0004867|UniProtKB:P15880|MGI:MGI:105110|SGD:S000003091|SGD:S000000455', 'F', 'Small ribosomal subunit protein uS5', 'rpsE|spc|JW3265|b3303', 'protein', 'taxon:83333', 20230406, 'GO_Central', nan, nan]\n",
      "['UniProtKB', 'P0A7W7', 'rpsH', 'part_of', 'GO:0022627', 'GOREF:0000033', 'IBA', 'PANTHER:PTN000204723|UniProtKB:P62244|MGI:MGI:2389091|UniProtKB:P0A7W7|SGD:S000003726|SGD:S000004359|RGD:619939', 'C', 'Small ribosomal subunit protein uS8', 'rpsH|JW3268|b3306', 'protein', 'taxon:83333', 20230405, 'GO_Central', nan, nan]\n",
      "************ 511145.b3305 511145.b4173\n",
      "['UniProtKB', 'P0AG55', 'rplF', 'part_of', 'GO:0022625', 'GOREF:0000033', 'IBA', 'PANTHER:PTN000183776|UniProtKB:P0AG55', 'C', 'Large ribosomal subunit protein uL6', 'rplF|JW3267|b3305', 'protein', 'taxon:83333', 20170228, 'GO_Central', nan, nan]\n",
      "['UniProtKB', 'P25519', 'hflX', 'is_active_in', 'GO:0005737', 'GOREF:0000033', 'IBA', 'PANTHER:PTN000027640|UniProtKB:P25519', 'C', 'GTPase HflX', 'hflX|JW4131|b4173', 'protein', 'taxon:83333', 20200807, 'GO_Central', nan, nan]\n",
      "************ 511145.b3306 511145.b3311\n",
      "['UniProtKB', 'P0A7W7', 'rpsH', 'part_of', 'GO:0022627', 'GOREF:0000033', 'IBA', 'PANTHER:PTN000204723|UniProtKB:P62244|MGI:MGI:2389091|UniProtKB:P0A7W7|SGD:S000003726|SGD:S000004359|RGD:619939', 'C', 'Small ribosomal subunit protein uS8', 'rpsH|JW3268|b3306', 'protein', 'taxon:83333', 20230405, 'GO_Central', nan, nan]\n",
      "['UniProtKB', 'P0AG63', 'rpsQ', 'part_of', 'GO:0022627', 'GOREF:0000033', 'IBA', 'PANTHER:PTN000078534|RGD:621026|MGI:MGI:1351329|UniProtKB:P0AG63|SGD:S000000252|SGD:S000002432|UniProtKB:P62280', 'C', 'Small ribosomal subunit protein uS17', 'rpsQ|neaA|JW3273|b3311', 'protein', 'taxon:83333', 20230405, 'GO_Central', nan, nan]\n",
      "************ 511145.b3314 511145.b3982\n",
      "['UniProtKB', 'P0A7V3', 'rpsC', 'part_of', 'GO:0022627', 'GOREF:0000033', 'IBA', 'PANTHER:PTN000205057|MGI:MGI:1350917|UniProtKB:P23396|UniProtKB:P0A7V3|SGD:S000005122|RGD:619888|UniProtKB:Q8IKH8', 'C', 'Small ribosomal subunit protein uS3', 'rpsC|JW3276|b3314', 'protein', 'taxon:83333', 20230405, 'GO_Central', nan, nan]\n",
      "['UniProtKB', 'P0AFG0', 'nusG', 'is_active_in', 'GO:0005829', 'GOREF:0000033', 'IBA', 'PANTHER:PTN000767438|UniProtKB:P0AFG0', 'C', 'Transcription termination/antitermination protein NusG', 'nusG|JW3945|b3982', 'protein', 'taxon:83333', 20170228, 'GO_Central', nan, nan]\n",
      "************ 511145.b3317 511145.b4203\n",
      "['UniProtKB', 'P60422', 'rplB', 'enables', 'GO:0003723', 'GOREF:0000033', 'IBA', 'PANTHER:PTN000343556|TAIR:locus:504954483|TAIR:locus:2122189|RGD:619827|TAIR:locus:2828126|TAIR:locus:2060917', 'F', 'Large ribosomal subunit protein uL2', 'rplB|JW3279|b3317', 'protein', 'taxon:83333', 20230110, 'GO_Central', nan, nan]\n",
      "['UniProtKB', 'P0A7R1', 'rplI', 'part_of', 'GO:0022625', 'GOREF:0000033', 'IBA', 'PANTHER:PTN000483103|UniProtKB:P0A7R1', 'C', 'Large ribosomal subunit protein bL9', 'rplI|JW4161|b4203', 'protein', 'taxon:83333', 20170228, 'GO_Central', nan, nan]\n",
      "************ 511145.b3342 511145.b4161\n",
      "['UniProtKB', 'P0A7S3', 'rpsL', 'is_active_in', 'GO:0005840', 'GOREF:0000033', 'IBA', 'PANTHER:PTN000182999|RGD:621039|MGI:MGI:1913725|UniProtKB:Q6SA96|UniProtKB:Q29RU1|UniProtKB:P62266|UniProtKB:P0A7S3|UniProtKB:O15235|SGD:S000006336|SGD:S000005319|FB:FBgn0033912|SGD:S000003350', 'C', 'Small ribosomal subunit protein uS12', 'rpsL|strA|JW3304|b3342', 'protein', 'taxon:83333', 20230405, 'GO_Central', nan, nan]\n",
      "['UniProtKB', 'P39286', 'rsgA', 'located_in', 'GO:0005829', 'PMID:18304323', 'IDA', nan, 'C', 'Small ribosomal subunit biogenesis GTPase RsgA', 'rsgA|engC|yjeQ|JW4122|b4161', 'protein', 'taxon:83333', 20140602, 'EcoCyc', nan, nan]\n",
      "************ 511145.b3731 511145.b3733\n",
      "['UniProtKB', 'P0A6E6', 'atpC', 'part_of', 'GO:0045261', 'GOREF:0000033', 'IBA', 'PANTHER:PTN000352521|UniProtKB:P0A6E6', 'C', 'ATP synthase epsilon chain', 'atpC|papG|uncC|JW3709|b3731', 'protein', 'taxon:83333', 20170228, 'GO_Central', nan, nan]\n",
      "['UniProtKB', 'P0ABA6', 'atpG', 'involved_in', 'GO:0015986', 'GOREF:0000033', 'IBA', 'PANTHER:PTN000190379|UniProtKB:P36542|UniProtKB:P0ABA6|SGD:S000000243', 'P', 'ATP synthase gamma chain', 'atpG|papC|uncG|JW3711|b3733', 'protein', 'taxon:83333', 20230405, 'GO_Central', nan, nan]\n",
      "************ 511145.b3983 511145.b3985\n",
      "['UniProtKB', 'P0A7J7', 'rplK', 'part_of', 'GO:0022625', 'GOREF:0000033', 'IBA', 'PANTHER:PTN008523224|UniProtKB:P0A7J7', 'C', 'Large ribosomal subunit protein uL11', 'rplK|relC|JW3946|b3983', 'protein', 'taxon:83333', 20170228, 'GO_Central', nan, nan]\n",
      "['UniProtKB', 'P0A7J3', 'rplJ', 'involved_in', 'GO:0006412', 'GOREF:0000033', 'IBA', 'PANTHER:PTN000169209|UniProtKB:P0A7J3|UniProtKB:Q3MHY7', 'P', 'Large ribosomal subunit protein uL10', 'rplJ|JW3948|b3985', 'protein', 'taxon:83333', 20170228, 'GO_Central', nan, nan]\n",
      "************ 511145.b3983 511145.b4173\n",
      "['UniProtKB', 'P0A7J7', 'rplK', 'part_of', 'GO:0022625', 'GOREF:0000033', 'IBA', 'PANTHER:PTN008523224|UniProtKB:P0A7J7', 'C', 'Large ribosomal subunit protein uL11', 'rplK|relC|JW3946|b3983', 'protein', 'taxon:83333', 20170228, 'GO_Central', nan, nan]\n",
      "['UniProtKB', 'P25519', 'hflX', 'is_active_in', 'GO:0005737', 'GOREF:0000033', 'IBA', 'PANTHER:PTN000027640|UniProtKB:P25519', 'C', 'GTPase HflX', 'hflX|JW4131|b4173', 'protein', 'taxon:83333', 20200807, 'GO_Central', nan, nan]\n"
     ]
    }
   ],
   "source": [
    "for p1,p2 in selected_PPs: \n",
    "    uni_p1,uni_p2 = StringID2UniID_dict[p1], StringID2UniID_dict[p2]\n",
    "    print(\"*\"*12,p1,p2)\n",
    "    print(ecocyc_info_dict[uni_p1])\n",
    "    print(ecocyc_info_dict[uni_p2])"
   ]
  },
  {
   "cell_type": "code",
   "execution_count": null,
   "metadata": {},
   "outputs": [],
   "source": []
  },
  {
   "cell_type": "code",
   "execution_count": null,
   "metadata": {},
   "outputs": [],
   "source": []
  },
  {
   "cell_type": "code",
   "execution_count": 19,
   "metadata": {},
   "outputs": [
    {
     "name": "stdout",
     "output_type": "stream",
     "text": [
      "/mnt/mnemo6/tao/PPI_Coevolution/CoEvo_data_STRING11.5/511145_EggNOGmaxLevel2_eggNOGfilteredData/DownSample_num3_pair_MSA_Nf90_PasteAlign/\n",
      "/mnt/mnemo6/tao/PPI_Coevolution/CoEvo_data_STRING11.5/511145_EggNOGmaxLevel2_eggNOGfilteredData/DownSample_num10_pair_MSA_Nf90_PasteAlign/\n",
      "/mnt/mnemo6/tao/PPI_Coevolution/CoEvo_data_STRING11.5/511145_EggNOGmaxLevel2_eggNOGfilteredData/DownSample_num50_pair_MSA_Nf90_PasteAlign/\n",
      "/mnt/mnemo6/tao/PPI_Coevolution/CoEvo_data_STRING11.5/511145_EggNOGmaxLevel2_eggNOGfilteredData/DownSample_num100_pair_MSA_Nf90_PasteAlign/\n",
      "/mnt/mnemo6/tao/PPI_Coevolution/CoEvo_data_STRING11.5/511145_EggNOGmaxLevel2_eggNOGfilteredData/DownSample_num300_pair_MSA_Nf90_PasteAlign/\n",
      "/mnt/mnemo6/tao/PPI_Coevolution/CoEvo_data_STRING11.5/511145_EggNOGmaxLevel2_eggNOGfilteredData/pair_MSA_Nf90_PasteAlign/\n",
      "******************************\n",
      "/mnt/mnemo6/tao/PPI_Coevolution/CoEvo_data_STRING11.5/511145_EggNOGmaxLevel1224_eggNOGfilteredData/pair_MSA_Nf90_PasteAlign/\n",
      "/mnt/mnemo6/tao/PPI_Coevolution/CoEvo_data_STRING11.5/1274374_EggNOGmaxLevel1239_eggNOGfilteredData/pair_MSA_Nf90_PasteAlign/\n",
      "/mnt/mnemo6/tao/PPI_Coevolution/CoEvo_data_STRING11.5/105422_EggNOGmaxLevel201174_eggNOGfilteredData/pair_MSA_Nf90_PasteAlign/\n",
      "/mnt/mnemo6/tao/PPI_Coevolution/CoEvo_data_STRING11.5/411476_EggNOGmaxLevel976_eggNOGfilteredData/pair_MSA_Nf90_PasteAlign/\n"
     ]
    }
   ],
   "source": [
    "DownSample_strategy = \"num\"  # \"percent\"\n",
    "DownSample_sizes = [3, 10, 50, 100, 300]\n",
    "\n",
    "selected1_pairedMSA_Nf90_folder_list = list()\n",
    "for DownSample_size in DownSample_sizes:\n",
    "    for EggNOG_maxLevel, currentSpe_TaxID in [('2', '511145')]:\n",
    "        input_root_folder = CoEvo_data_folder+currentSpe_TaxID + \\\n",
    "            \"_EggNOGmaxLevel\"+EggNOG_maxLevel+\"_eggNOGfilteredData/\"\n",
    "        DownSample_SamePosandNeg_pairedMSA_Nf90_folder = input_root_folder+\"DownSample_\" + \\\n",
    "            DownSample_strategy+str(DownSample_size) + \\\n",
    "            \"_pair_MSA_Nf90_PasteAlign/\"\n",
    "        selected1_pairedMSA_Nf90_folder_list.append(\n",
    "            DownSample_SamePosandNeg_pairedMSA_Nf90_folder)\n",
    "tupleList = [('2', '511145'),\n",
    "             ]\n",
    "for EggNOG_maxLevel, currentSpe_TaxID in tupleList:\n",
    "    input_root_folder = CoEvo_data_folder+currentSpe_TaxID + \\\n",
    "        \"_EggNOGmaxLevel\"+EggNOG_maxLevel+\"_eggNOGfilteredData/\"\n",
    "    SamePosandNeg_pairedMSA_Nf90_folder = input_root_folder+\"pair_MSA_Nf90_PasteAlign/\"\n",
    "    selected1_pairedMSA_Nf90_folder_list.append(\n",
    "        SamePosandNeg_pairedMSA_Nf90_folder)\n",
    "\n",
    "selected2_pairedMSA_Nf90_folder_list=list()\n",
    "tupleList = [('1224', '511145'),\n",
    "             (\"1239\", \"1274374\"),\n",
    "             ('201174', '105422'), ('976', '411476'),\n",
    "             ]\n",
    "for EggNOG_maxLevel, currentSpe_TaxID in tupleList:\n",
    "    input_root_folder = CoEvo_data_folder+currentSpe_TaxID + \\\n",
    "        \"_EggNOGmaxLevel\"+EggNOG_maxLevel+\"_eggNOGfilteredData/\"\n",
    "    SamePosandNeg_pairedMSA_Nf90_folder = input_root_folder+\"pair_MSA_Nf90_PasteAlign/\"\n",
    "    selected2_pairedMSA_Nf90_folder_list.append(\n",
    "        SamePosandNeg_pairedMSA_Nf90_folder)\n",
    "\n",
    "\n",
    "for f in selected1_pairedMSA_Nf90_folder_list:\n",
    "    print(f)\n",
    "print(\"*\"*30)\n",
    "for f in selected2_pairedMSA_Nf90_folder_list:\n",
    "    print(f)"
   ]
  },
  {
   "cell_type": "code",
   "execution_count": 23,
   "metadata": {},
   "outputs": [],
   "source": [
    "def get_homologous_pp_byFolder(pp1,pp2,folder,BestHomologous_listDict): \n",
    "    if '1274374' in folder: \n",
    "        if (pp1,pp2) in BestHomologous_listDict[('1239', '1274374')]: \n",
    "            new_pp1, new_pp2 = BestHomologous_listDict[('1239', '1274374')][(pp1,pp2)]\n",
    "    elif '105422' in folder:\n",
    "        if (pp1,pp2) in BestHomologous_listDict[('201174', '105422')]: \n",
    "            new_pp1, new_pp2 = BestHomologous_listDict[(\n",
    "                '201174', '105422')][(pp1, pp2)]\n",
    "    elif '411476' in folder:\n",
    "        if (pp1,pp2) in BestHomologous_listDict[('976', '411476')]:\n",
    "            new_pp1, new_pp2 = BestHomologous_listDict[(\n",
    "                '976', '411476')][(pp1, pp2)]\n",
    "\n",
    "    else:\n",
    "      new_pp1,new_pp2=pp1,pp2\n",
    "\n",
    "    return (new_pp1,new_pp2)"
   ]
  },
  {
   "cell_type": "code",
   "execution_count": 69,
   "metadata": {},
   "outputs": [],
   "source": [
    "def plot_pairwise_distance_histplot(pp1,pp2,selected_pairedMSA_Nf90_folder_list):\n",
    "    # tutorial to use sns to draw histplot https://seaborn.pydata.org/tutorial/distributions.html\n",
    "    #plt.figure(figsize=(8, 6))\n",
    "    fig, ax = plt.subplots()\n",
    "    for pairedMSA_Nf90_folder in selected_pairedMSA_Nf90_folder_list:\n",
    "        new_pp1, new_pp2 = get_homologous_pp_byFolder(\n",
    "            pp1, pp2, pairedMSA_Nf90_folder, Query2Subject_QueSpeAllPPI_BestHomologous_listDict)\n",
    "\n",
    "        new_pp1, new_pp2, msa_ori, msa_dists_list = get_msa_dist_list(\n",
    "            [new_pp1, new_pp2, pairedMSA_Nf90_folder])\n",
    "\n",
    "        # Drawing the distribution plot\n",
    "        # sns.displot(msa_dists_triu, bins=len(msa_dists_triu), kde=True) #\n",
    "        # sns.histplot(msa_dists_list,bins=bins_num)\n",
    "        # plt.hist(control1_list, bins=bins_num, alpha=0.5, label=\"control1\")\n",
    "        #sns.histplot(msa_dists_list, bins=bins_num, alpha=0.5, stat=\"probability\")\n",
    "        #sns.displot(msa_dists_list, alpha=0.5, kind=\"kde\",ax=ax,fill=True)\n",
    "        #kdeplot is axix level figure and displot is figure level funftion \n",
    "        sns.kdeplot(msa_dists_list, alpha=0.5, ax=ax, fill=True)\n",
    "\n",
    "        # Adding labels and title\n",
    "        # plt.title('Distribution Plot of Upper Triangle Values')\n",
    "        # plt.xlabel('Value')\n",
    "        # plt.ylabel('Density')\n",
    "        # Show the plot\n",
    "        print(new_pp1, new_pp2, pairedMSA_Nf90_folder)\n",
    "    plt.show()"
   ]
  },
  {
   "cell_type": "code",
   "execution_count": 70,
   "metadata": {},
   "outputs": [
    {
     "name": "stderr",
     "output_type": "stream",
     "text": [
      "/mnt/mnemo5/tao/anaconda3/envs/py39_notebook/lib/python3.9/site-packages/seaborn/_oldcore.py:1498: FutureWarning: is_categorical_dtype is deprecated and will be removed in a future version. Use isinstance(dtype, CategoricalDtype) instead\n",
      "  if pd.api.types.is_categorical_dtype(vector):\n",
      "/mnt/mnemo5/tao/anaconda3/envs/py39_notebook/lib/python3.9/site-packages/seaborn/_oldcore.py:1119: FutureWarning: use_inf_as_na option is deprecated and will be removed in a future version. Convert inf values to NaN before operating instead.\n",
      "  with pd.option_context('mode.use_inf_as_na', True):\n",
      "/mnt/mnemo5/tao/anaconda3/envs/py39_notebook/lib/python3.9/site-packages/seaborn/_oldcore.py:1498: FutureWarning: is_categorical_dtype is deprecated and will be removed in a future version. Use isinstance(dtype, CategoricalDtype) instead\n",
      "  if pd.api.types.is_categorical_dtype(vector):\n",
      "/mnt/mnemo5/tao/anaconda3/envs/py39_notebook/lib/python3.9/site-packages/seaborn/_oldcore.py:1119: FutureWarning: use_inf_as_na option is deprecated and will be removed in a future version. Convert inf values to NaN before operating instead.\n",
      "  with pd.option_context('mode.use_inf_as_na', True):\n",
      "/mnt/mnemo5/tao/anaconda3/envs/py39_notebook/lib/python3.9/site-packages/seaborn/_oldcore.py:1498: FutureWarning: is_categorical_dtype is deprecated and will be removed in a future version. Use isinstance(dtype, CategoricalDtype) instead\n",
      "  if pd.api.types.is_categorical_dtype(vector):\n",
      "/mnt/mnemo5/tao/anaconda3/envs/py39_notebook/lib/python3.9/site-packages/seaborn/_oldcore.py:1119: FutureWarning: use_inf_as_na option is deprecated and will be removed in a future version. Convert inf values to NaN before operating instead.\n",
      "  with pd.option_context('mode.use_inf_as_na', True):\n",
      "/mnt/mnemo5/tao/anaconda3/envs/py39_notebook/lib/python3.9/site-packages/seaborn/_oldcore.py:1498: FutureWarning: is_categorical_dtype is deprecated and will be removed in a future version. Use isinstance(dtype, CategoricalDtype) instead\n",
      "  if pd.api.types.is_categorical_dtype(vector):\n",
      "/mnt/mnemo5/tao/anaconda3/envs/py39_notebook/lib/python3.9/site-packages/seaborn/_oldcore.py:1119: FutureWarning: use_inf_as_na option is deprecated and will be removed in a future version. Convert inf values to NaN before operating instead.\n",
      "  with pd.option_context('mode.use_inf_as_na', True):\n"
     ]
    },
    {
     "name": "stdout",
     "output_type": "stream",
     "text": [
      "511145.b0408 511145.b3300 /mnt/mnemo6/tao/PPI_Coevolution/CoEvo_data_STRING11.5/511145_EggNOGmaxLevel2_eggNOGfilteredData/DownSample_num3_pair_MSA_Nf90_PasteAlign/\n",
      "511145.b0408 511145.b3300 /mnt/mnemo6/tao/PPI_Coevolution/CoEvo_data_STRING11.5/511145_EggNOGmaxLevel2_eggNOGfilteredData/DownSample_num10_pair_MSA_Nf90_PasteAlign/\n",
      "511145.b0408 511145.b3300 /mnt/mnemo6/tao/PPI_Coevolution/CoEvo_data_STRING11.5/511145_EggNOGmaxLevel2_eggNOGfilteredData/DownSample_num50_pair_MSA_Nf90_PasteAlign/\n",
      "511145.b0408 511145.b3300 /mnt/mnemo6/tao/PPI_Coevolution/CoEvo_data_STRING11.5/511145_EggNOGmaxLevel2_eggNOGfilteredData/DownSample_num100_pair_MSA_Nf90_PasteAlign/\n"
     ]
    },
    {
     "name": "stderr",
     "output_type": "stream",
     "text": [
      "/mnt/mnemo5/tao/anaconda3/envs/py39_notebook/lib/python3.9/site-packages/seaborn/_oldcore.py:1498: FutureWarning: is_categorical_dtype is deprecated and will be removed in a future version. Use isinstance(dtype, CategoricalDtype) instead\n",
      "  if pd.api.types.is_categorical_dtype(vector):\n",
      "/mnt/mnemo5/tao/anaconda3/envs/py39_notebook/lib/python3.9/site-packages/seaborn/_oldcore.py:1119: FutureWarning: use_inf_as_na option is deprecated and will be removed in a future version. Convert inf values to NaN before operating instead.\n",
      "  with pd.option_context('mode.use_inf_as_na', True):\n"
     ]
    },
    {
     "name": "stdout",
     "output_type": "stream",
     "text": [
      "511145.b0408 511145.b3300 /mnt/mnemo6/tao/PPI_Coevolution/CoEvo_data_STRING11.5/511145_EggNOGmaxLevel2_eggNOGfilteredData/DownSample_num300_pair_MSA_Nf90_PasteAlign/\n"
     ]
    },
    {
     "name": "stderr",
     "output_type": "stream",
     "text": [
      "/mnt/mnemo5/tao/anaconda3/envs/py39_notebook/lib/python3.9/site-packages/seaborn/_oldcore.py:1498: FutureWarning: is_categorical_dtype is deprecated and will be removed in a future version. Use isinstance(dtype, CategoricalDtype) instead\n",
      "  if pd.api.types.is_categorical_dtype(vector):\n",
      "/mnt/mnemo5/tao/anaconda3/envs/py39_notebook/lib/python3.9/site-packages/seaborn/_oldcore.py:1119: FutureWarning: use_inf_as_na option is deprecated and will be removed in a future version. Convert inf values to NaN before operating instead.\n",
      "  with pd.option_context('mode.use_inf_as_na', True):\n"
     ]
    }
   ],
   "source": [
    "%%time \n",
    "# tutorial to use sns to draw histplot https://seaborn.pydata.org/tutorial/distributions.html\n",
    "pp1, pp2 = \"511145.b0408\", \"511145.b3300\"\n",
    "plot_pairwise_distance_histplot(pp1,pp2,selected1_pairedMSA_Nf90_folder_list)\n",
    "\n"
   ]
  },
  {
   "cell_type": "code",
   "execution_count": null,
   "metadata": {},
   "outputs": [],
   "source": [
    "plot_pairwise_distance_histplot(pp1, pp2,selected2_pairedMSA_Nf90_folder_list)"
   ]
  },
  {
   "cell_type": "code",
   "execution_count": null,
   "metadata": {},
   "outputs": [],
   "source": []
  },
  {
   "cell_type": "code",
   "execution_count": null,
   "metadata": {},
   "outputs": [],
   "source": []
  },
  {
   "cell_type": "code",
   "execution_count": null,
   "metadata": {},
   "outputs": [],
   "source": []
  },
  {
   "cell_type": "code",
   "execution_count": null,
   "metadata": {},
   "outputs": [],
   "source": []
  },
  {
   "cell_type": "code",
   "execution_count": null,
   "metadata": {},
   "outputs": [],
   "source": []
  },
  {
   "cell_type": "code",
   "execution_count": null,
   "metadata": {},
   "outputs": [],
   "source": []
  },
  {
   "cell_type": "code",
   "execution_count": null,
   "metadata": {},
   "outputs": [],
   "source": []
  },
  {
   "cell_type": "code",
   "execution_count": null,
   "metadata": {},
   "outputs": [],
   "source": []
  },
  {
   "cell_type": "code",
   "execution_count": null,
   "metadata": {},
   "outputs": [],
   "source": []
  }
 ],
 "metadata": {
  "kernelspec": {
   "display_name": "py39_notebook",
   "language": "python",
   "name": "py39_notebook"
  },
  "language_info": {
   "codemirror_mode": {
    "name": "ipython",
    "version": 3
   },
   "file_extension": ".py",
   "mimetype": "text/x-python",
   "name": "python",
   "nbconvert_exporter": "python",
   "pygments_lexer": "ipython3",
   "version": "3.9.18"
  }
 },
 "nbformat": 4,
 "nbformat_minor": 2
}
