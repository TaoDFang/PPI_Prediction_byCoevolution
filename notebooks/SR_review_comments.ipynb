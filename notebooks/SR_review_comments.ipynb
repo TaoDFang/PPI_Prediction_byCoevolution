{
 "cells": [
  {
   "cell_type": "code",
   "execution_count": 6,
   "metadata": {},
   "outputs": [],
   "source": [
    "import sys\n",
    "import os\n",
    "import glob\n",
    "import pickle\n",
    "import pandas as pd\n",
    "import numpy as np \n",
    "\n",
    "from Bio import AlignIO\n",
    "from Bio.Align import MultipleSeqAlignment\n",
    "import random\n",
    "\n",
    "\n",
    "import multiprocessing as mp\n",
    "\n",
    "\n",
    "import matplotlib.pyplot as plt\n",
    "import seaborn as sns"
   ]
  },
  {
   "cell_type": "code",
   "execution_count": 3,
   "metadata": {},
   "outputs": [
    {
     "data": {
      "text/plain": [
       "'/mnt/mnemo5/tao/PPI_Prediction_byCoevolution/notebooks'"
      ]
     },
     "execution_count": 3,
     "metadata": {},
     "output_type": "execute_result"
    }
   ],
   "source": [
    "os.getcwd()"
   ]
  },
  {
   "cell_type": "code",
   "execution_count": 7,
   "metadata": {},
   "outputs": [],
   "source": [
    "\n",
    "%reload_ext autoreload\n",
    "%autoreload 2\n",
    "\n",
    "sys.path.append('../src/utilities/')\n",
    "\n",
    "\n",
    "from pdb_benchmark import get_STRING1105_pdb_interact\n",
    "from STRING_benchmark import  get_STRING1105_physical_interact\n",
    "\n",
    "from MSA_tools import downsample_msa\n",
    "from MSA_tools import onePhylumRandomised_msa\n",
    "from MSA_tools import allPhylumRandomised_msa\n",
    "from MSA_tools import get_msa_statistics_dict\n",
    "from MSA_tools import get_msa_dist_list\n",
    "\n",
    "from collect_topCoEvos import get_maxBetValue_dict_pydcaFNAPC_array_npz\n"
   ]
  },
  {
   "cell_type": "code",
   "execution_count": 8,
   "metadata": {},
   "outputs": [],
   "source": [
    "# \"/mnt/mnemo6/tao/\", /mnt/mnemo6/tao/notebook_data/\n",
    "notebookData_folder = \"/mnt/mnemo6/tao/\"\n",
    "newSTRING_rootFolder = f\"{notebookData_folder}PPI_Coevolution/STRING_data_11.5/\"\n",
    "CoEvo_data_folder = f\"{notebookData_folder}PPI_Coevolution/CoEvo_data_STRING11.5/\""
   ]
  },
  {
   "cell_type": "markdown",
   "metadata": {},
   "source": [
    "# control experiments \n",
    "\n",
    "Regarding the clade-wise alignment method. I would like to see more in-depth analysis of the following issues\u000b\n",
    "\u000b(1) Control of the effect of subdividing the msas by constructing pair alignments in which phylum-x submsa of protein 1 is merged with \n",
    "phylum-y submsa from protein 2. The perform of these control alignments where phylogenetic clades are mixed up should give a quantitative \n",
    "estimation of the effect of the method proposed. \u000b\n",
    "\n",
    "\u000b(2) Control of the effect of the classification method by pairing clade-msas for protein 1 with random versions of clade-msas for protein 2. \n",
    "Usually DCA methods assume for intra-molecular contacts that the protein has contacts and report some top pairs are real interactions. \n",
    "This method for inter-molecular interactions is expected to decide whether two proteins interact or not using a discrimination method. \n",
    "How does that work? These controls should inform about the false positive predicted interactions.\n",
    "\n",
    "our solution : \n",
    "\n",
    "One side from one phyla, other side from one same  or all different phyla , but shuffled \n",
    "\n",
    "\n",
    "\n",
    "\n",
    "\n",
    "\n"
   ]
  },
  {
   "cell_type": "markdown",
   "metadata": {},
   "source": [
    "## get small and postive benchmark \n",
    "\n",
    "we use pdb_interact as benchmark \n"
   ]
  },
  {
   "cell_type": "code",
   "execution_count": 7,
   "metadata": {},
   "outputs": [
    {
     "name": "stdout",
     "output_type": "stream",
     "text": [
      "len of intersection: 309\n",
      "414 3243 3657\n",
      "0\n",
      "3657\n"
     ]
    }
   ],
   "source": [
    "pdb_interact_PPs, pdb_complex_PPs = get_STRING1105_pdb_interact(pdb_interact_filename=\"/mnt/mnemo6/damian/STRING_derived_v11.5/pdb/pdb_interact.tsv\",\n",
    "                                                                retrieve_spe=511145,)\n",
    "\n",
    "\n",
    "pdb_interact_PPs_dict = {pp: 1 for pp in pdb_interact_PPs}\n",
    "pdb_complex_PPs_dict = {pp: 1 for pp in pdb_complex_PPs}\n",
    "pdb_PPs_dict = {pp: 1 for pp in pdb_interact_PPs+pdb_complex_PPs}\n",
    "\n",
    "print(len(pdb_interact_PPs), len(pdb_complex_PPs), len(pdb_PPs_dict))\n",
    "\n",
    "\n",
    "print(len(set(pdb_interact_PPs).intersection(pdb_complex_PPs)))\n",
    "\n",
    "print(len(set(pdb_interact_PPs).union(pdb_complex_PPs)))"
   ]
  },
  {
   "cell_type": "code",
   "execution_count": null,
   "metadata": {},
   "outputs": [],
   "source": []
  },
  {
   "cell_type": "markdown",
   "metadata": {},
   "source": [
    "## control 1 \n",
    "\n",
    "\n",
    "for phylum 1224 "
   ]
  },
  {
   "cell_type": "code",
   "execution_count": 8,
   "metadata": {},
   "outputs": [],
   "source": [
    "# # run once to generate randomised paired MSA \n",
    "# Query_tuple = ('1224', '511145')\n",
    "# EggNOG_maxLevel, currentSpe_TaxID = Query_tuple\n",
    "# input_root_folder = CoEvo_data_folder+currentSpe_TaxID + \\\n",
    "#     \"_EggNOGmaxLevel\"+EggNOG_maxLevel+\"_eggNOGfilteredData/\"\n",
    "# SamePosandNeg_pairedMSA_Nf90_folder = input_root_folder+\"pair_MSA_Nf90_PasteAlign/\"\n",
    "# print(SamePosandNeg_pairedMSA_Nf90_folder)\n",
    "\n",
    "# onePhylumRandomised_SamePosandNeg_pairedMSA_Nf90_folder = input_root_folder + \\\n",
    "#     \"onePhylumRandomised_pair_MSA_Nf90_PasteAlign/\"\n",
    "# print(onePhylumRandomised_SamePosandNeg_pairedMSA_Nf90_folder)\n",
    "\n",
    "\n",
    "# currentSpeMiddleDataPath = newSTRING_rootFolder+currentSpe_TaxID + \\\n",
    "#     \"_EggNOGmaxLevel\"+EggNOG_maxLevel+\"_MiddleData/\"\n",
    "# print(currentSpeMiddleDataPath)\n",
    "# with open(currentSpeMiddleDataPath+'fasta_protein_lens_dict.pickle', 'rb') as handle:\n",
    "#     fasta_protein_lens = pickle.load(handle)\n",
    "\n",
    "# print(fasta_protein_lens[\"511145.b0014\"], fasta_protein_lens[\"511145.b0055\"],\n",
    "#       fasta_protein_lens[\"511145.b0095\"], fasta_protein_lens[\"511145.b0436\"])\n",
    "\n",
    "\n",
    "# if not os.path.exists(onePhylumRandomised_SamePosandNeg_pairedMSA_Nf90_folder):\n",
    "#     os.makedirs(onePhylumRandomised_SamePosandNeg_pairedMSA_Nf90_folder)\n",
    "#     print(onePhylumRandomised_SamePosandNeg_pairedMSA_Nf90_folder)\n",
    "\n",
    "# mp_args = [(pp1, pp2, fasta_protein_lens[pp1], SamePosandNeg_pairedMSA_Nf90_folder,\n",
    "#             onePhylumRandomised_SamePosandNeg_pairedMSA_Nf90_folder) for pp1, pp2 in pdb_interact_PPs if pp1 in fasta_protein_lens]\n",
    "\n",
    "# pool = mp.Pool(20)\n",
    "# pool.map(onePhylumRandomised_msa, mp_args)\n",
    "# pool.close()"
   ]
  },
  {
   "cell_type": "code",
   "execution_count": null,
   "metadata": {},
   "outputs": [],
   "source": []
  },
  {
   "cell_type": "markdown",
   "metadata": {},
   "source": [
    "### compuation \n",
    "\n",
    "for run DCA . \n",
    "\n",
    "use: \n",
    " conda activate py37_pydca\n",
    " python onePhylumRandomised_DCA.py"
   ]
  },
  {
   "cell_type": "code",
   "execution_count": 9,
   "metadata": {},
   "outputs": [],
   "source": [
    "# # run once to collect data,\n",
    "# # move it here due to enviroment conflict, pandas is broken in py37_pydca\n",
    "# Query_tuple = ('1224', '511145')\n",
    "# EggNOG_maxLevel, currentSpe_TaxID = Query_tuple\n",
    "\n",
    "# input_root_folder = CoEvo_data_folder+currentSpe_TaxID + \\\n",
    "#     \"_EggNOGmaxLevel\"+EggNOG_maxLevel+\"_eggNOGfilteredData/\"\n",
    "\n",
    "# onePhylumRandomised_SamePosandNeg_pairedMSA_Nf90_folder = input_root_folder + \\\n",
    "#     \"onePhylumRandomised_pair_MSA_Nf90_PasteAlign/\"\n",
    "# print(onePhylumRandomised_SamePosandNeg_pairedMSA_Nf90_folder)\n",
    "\n",
    "\n",
    "# DCA_coevolutoin_path = input_root_folder + \\\n",
    "#     \"onePhylumRandomised_coevolutoin_result_DCA/\"\n",
    "\n",
    "\n",
    "# Benchmark_folder = input_root_folder+\"onePhylumRandomised_Benchmark/\"\n",
    "\n",
    "\n",
    "# currentSpeMiddleDataPath = newSTRING_rootFolder+currentSpe_TaxID + \\\n",
    "#     \"_EggNOGmaxLevel\"+EggNOG_maxLevel+\"_MiddleData/\"\n",
    "# with open(currentSpeMiddleDataPath+'fasta_protein_lens_dict.pickle', 'rb') as handle:\n",
    "#     fasta_protein_lens = pickle.load(handle)\n",
    "\n",
    "# input_msaFiles = glob.glob(\n",
    "#     onePhylumRandomised_SamePosandNeg_pairedMSA_Nf90_folder+\"*.fasta\")\n",
    "# print(len(input_msaFiles))\n",
    "# input_msaFiles = [os.path.basename(f)[0:-len(\".fasta\")]\n",
    "#                   for f in input_msaFiles]\n",
    "# input_PPs = [f.split(\"and\") for f in input_msaFiles]\n",
    "\n",
    "\n",
    "# ArgForGetDCAMax = [(p1, p2, fasta_protein_lens[p1], fasta_protein_lens[p2],\n",
    "#                     DCA_coevolutoin_path) for p1, p2 in input_PPs]\n",
    "# print(\"len(ArgForGetDCAMax):\", len(ArgForGetDCAMax))\n",
    "\n",
    "# if not os.path.exists(Benchmark_folder+\"max_pydcaFNAPC_frame.csv\"):\n",
    "#     pool = mp.Pool(30)\n",
    "#     max_pydcaFNAPC_list = pool.map(\n",
    "#         get_maxBetValue_dict_pydcaFNAPC_array_npz, ArgForGetDCAMax)\n",
    "#     pool.close()\n",
    "#     max_pydcaFNAPC_frame = pd.DataFrame(max_pydcaFNAPC_list, columns=[\"currentSpe_pro1\", \"currentSpe_pro2\",\n",
    "#                                                                       \"maxValue_all_idx_row\", \"maxValue_all_idx_col\", \"maxValue_all\",\n",
    "#                                                                       \"maxValue_bet_idx_row\", \"maxValue_bet_idx_col\", \"maxValue_bet\"])\n",
    "#     max_pydcaFNAPC_frame.to_csv(\n",
    "#         Benchmark_folder+\"max_pydcaFNAPC_frame.csv\", header=True, index=None, sep=\"\\t\")"
   ]
  },
  {
   "cell_type": "markdown",
   "metadata": {},
   "source": [
    "### collection resutls and compare "
   ]
  },
  {
   "cell_type": "code",
   "execution_count": 10,
   "metadata": {},
   "outputs": [
    {
     "name": "stdout",
     "output_type": "stream",
     "text": [
      "(2269191, 152)\n"
     ]
    }
   ],
   "source": [
    "# get original reusults in this phylum\n",
    "\n",
    "\n",
    "original_topRanking_DCA_frame = pd.read_csv(f\"{CoEvo_data_folder}allPPI_511145_EggNOGmaxLevel1224_eggNOGfilteredData/AllPPI_Benchmark/\"+\"DCA_thres_0_topRanking_pydcaFNAPC_frame.csv\",\n",
    "                                            header=0, index_col=None, sep=\"\\t\")\n",
    "print(original_topRanking_DCA_frame.shape)\n",
    "original_topRanking_DCA_frame.head(n=3)\n",
    "\n",
    "original_topRanking_DCA_dict = {\n",
    "    (l[0], l[1]): l[2] for l in original_topRanking_DCA_frame.values.tolist()}"
   ]
  },
  {
   "cell_type": "code",
   "execution_count": null,
   "metadata": {},
   "outputs": [],
   "source": []
  },
  {
   "cell_type": "code",
   "execution_count": 11,
   "metadata": {},
   "outputs": [
    {
     "name": "stdout",
     "output_type": "stream",
     "text": [
      "/mnt/mnemo6/tao/PPI_Coevolution/CoEvo_data_STRING11.5/511145_EggNOGmaxLevel1224_eggNOGfilteredData/onePhylumRandomised_pair_MSA_Nf90_PasteAlign/\n"
     ]
    }
   ],
   "source": [
    "leftPhylum_tuple = ('1224', '511145')\n",
    "leftPhylum_EggNOG_maxLevel, leftPhylum_currentSpe_TaxID = leftPhylum_tuple\n",
    "leftPhylum_input_root_folder = CoEvo_data_folder+leftPhylum_currentSpe_TaxID + \\\n",
    "    \"_EggNOGmaxLevel\"+leftPhylum_EggNOG_maxLevel+\"_eggNOGfilteredData/\"\n",
    "leftPhylumRandomised_SamePosandNeg_pairedMSA_Nf90_folder = leftPhylum_input_root_folder + \\\n",
    "    \"onePhylumRandomised_pair_MSA_Nf90_PasteAlign/\"\n",
    "print(leftPhylumRandomised_SamePosandNeg_pairedMSA_Nf90_folder)"
   ]
  },
  {
   "cell_type": "code",
   "execution_count": 12,
   "metadata": {},
   "outputs": [
    {
     "name": "stdout",
     "output_type": "stream",
     "text": [
      "295\n"
     ]
    }
   ],
   "source": [
    "leftPhylum_input_msaFiles = glob.glob(\n",
    "    leftPhylumRandomised_SamePosandNeg_pairedMSA_Nf90_folder+\"*.fasta\")\n",
    "print(len(leftPhylum_input_msaFiles))\n",
    "leftPhylum_input_msaFiles = [os.path.basename(f)[0:-len(\".fasta\")]\n",
    "                  for f in leftPhylum_input_msaFiles]\n",
    "leftPhylum_input_PPs = [f.split(\"and\") for f in leftPhylum_input_msaFiles]"
   ]
  },
  {
   "cell_type": "code",
   "execution_count": 13,
   "metadata": {},
   "outputs": [
    {
     "name": "stdout",
     "output_type": "stream",
     "text": [
      "294\n"
     ]
    }
   ],
   "source": [
    "control1_original_topRanking_DCA_dict = {(p1, p2): original_topRanking_DCA_dict[(\n",
    "    p1, p2)] for p1, p2 in leftPhylum_input_PPs if (p1, p2) in original_topRanking_DCA_dict}\n",
    "print(len(control1_original_topRanking_DCA_dict))\n",
    "# one exceptin is ('511145.b0440', '511145.b4000'), probably removed by other filtering step, like deep homologs , no bigie\n",
    "# from STRING_benchmark import get_STRING1105_physical_interact\n",
    "# strPhy_dict = get_STRING1105_physical_interact(data_folder=\"/mnt/mnemo6/tao/notebook_data/STRING_derived_v11.5/download_files/protein.physical.links.v11.5/\",\n",
    "#                                 retrieve_spe=511145,\n",
    "#                                      combined_score_thres=500,\n",
    "#                                      inputFrameIsReversed=True,\n",
    "#                                      return_dict=True,\n",
    "#                                     )"
   ]
  },
  {
   "cell_type": "code",
   "execution_count": 14,
   "metadata": {},
   "outputs": [
    {
     "name": "stdout",
     "output_type": "stream",
     "text": [
      "295\n"
     ]
    }
   ],
   "source": [
    "control1_dataframe_file = leftPhylum_input_root_folder + \\\n",
    "    \"onePhylumRandomised_Benchmark/max_pydcaFNAPC_frame.csv\"\n",
    "control1_dataframe = pd.read_csv(\n",
    "    control1_dataframe_file, header=0, index_col=None, sep=\"\\t\")\n",
    "\n",
    "control1_topRanking_DCA_dict = control1_dataframe.values.tolist()\n",
    "\n",
    "control1_topRanking_DCA_dict = {(l[0],l[1]):l[-1] for l in control1_topRanking_DCA_dict}\n",
    "print(len(control1_topRanking_DCA_dict))"
   ]
  },
  {
   "cell_type": "code",
   "execution_count": 15,
   "metadata": {},
   "outputs": [],
   "source": [
    "# original_list = list()\n",
    "# control1_list = list()\n",
    "# for pp in control1_original_topRanking_DCA_dict:\n",
    "#     # print(pp, control1_original_topRanking_DCA_dict[pp], control1_topRanking_DCA_dict[pp])\n",
    "#     original_list.append(control1_original_topRanking_DCA_dict[pp])\n",
    "#     control1_list.append(control1_topRanking_DCA_dict[pp])\n",
    "\n",
    "# plt.hist(control1_list, bins=30, alpha=0.5, label=\"control1\")\n",
    "# plt.hist(original_list, bins=30, alpha=0.5, label=\"original value\")\n",
    "# plt.legend(loc='upper right')\n",
    "# plt.show()\n",
    "\n",
    "# # could plot all the two control on the same plot ?"
   ]
  },
  {
   "cell_type": "code",
   "execution_count": null,
   "metadata": {},
   "outputs": [],
   "source": []
  },
  {
   "cell_type": "code",
   "execution_count": null,
   "metadata": {},
   "outputs": [],
   "source": []
  },
  {
   "cell_type": "markdown",
   "metadata": {},
   "source": []
  },
  {
   "cell_type": "code",
   "execution_count": null,
   "metadata": {},
   "outputs": [],
   "source": []
  },
  {
   "cell_type": "code",
   "execution_count": null,
   "metadata": {},
   "outputs": [],
   "source": []
  },
  {
   "cell_type": "code",
   "execution_count": null,
   "metadata": {},
   "outputs": [],
   "source": []
  },
  {
   "cell_type": "markdown",
   "metadata": {},
   "source": [
    "## control 2"
   ]
  },
  {
   "cell_type": "code",
   "execution_count": 16,
   "metadata": {},
   "outputs": [],
   "source": [
    "# # run once to get randomised paired MSA data \n",
    "# leftPhylum_tuple = ('1224', '511145')\n",
    "\n",
    "# leftPhylum_EggNOG_maxLevel, leftPhylum_currentSpe_TaxID = leftPhylum_tuple\n",
    "# leftPhylum_input_root_folder = CoEvo_data_folder+leftPhylum_currentSpe_TaxID + \\\n",
    "#     \"_EggNOGmaxLevel\"+leftPhylum_EggNOG_maxLevel+\"_eggNOGfilteredData/\"\n",
    "# leftPhylum_pairedMSA_Nf90_folder = leftPhylum_input_root_folder + \\\n",
    "#     \"pair_MSA_Nf90_PasteAlign/\"\n",
    "# print(leftPhylum_pairedMSA_Nf90_folder)\n",
    "\n",
    "\n",
    "# leftPhylum_currentSpeMiddleDataPath = newSTRING_rootFolder+leftPhylum_currentSpe_TaxID + \\\n",
    "#     \"_EggNOGmaxLevel\"+leftPhylum_EggNOG_maxLevel+\"_MiddleData/\"\n",
    "# print(leftPhylum_currentSpeMiddleDataPath)\n",
    "# with open(leftPhylum_currentSpeMiddleDataPath+'fasta_protein_lens_dict.pickle', 'rb') as handle:\n",
    "#     leftPhylum_fasta_protein_lens = pickle.load(handle)\n",
    "\n",
    "# print(leftPhylum_fasta_protein_lens[\"511145.b0014\"], leftPhylum_fasta_protein_lens[\"511145.b0055\"],\n",
    "#       leftPhylum_fasta_protein_lens[\"511145.b0095\"], leftPhylum_fasta_protein_lens[\"511145.b0436\"])\n",
    "\n",
    "# allPhylum_tuple = ('2', '511145')\n",
    "\n",
    "# allPhylum_EggNOG_maxLevel, allPhylum_currentSpe_TaxID = allPhylum_tuple\n",
    "# allPhylum_input_root_folder = CoEvo_data_folder+allPhylum_currentSpe_TaxID + \\\n",
    "#     \"_EggNOGmaxLevel\"+allPhylum_EggNOG_maxLevel+\"_eggNOGfilteredData/\"\n",
    "# allPhylum_pairedMSA_Nf90_folder = allPhylum_input_root_folder + \\\n",
    "#     \"pair_MSA_Nf90_PasteAlign/\"\n",
    "# print(allPhylum_pairedMSA_Nf90_folder)\n",
    "\n",
    "\n",
    "# allPhylum_currentSpeMiddleDataPath = newSTRING_rootFolder+allPhylum_currentSpe_TaxID + \\\n",
    "#     \"_EggNOGmaxLevel\"+allPhylum_EggNOG_maxLevel+\"_MiddleData/\"\n",
    "# print(allPhylum_currentSpeMiddleDataPath)\n",
    "# with open(allPhylum_currentSpeMiddleDataPath+'fasta_protein_lens_dict.pickle', 'rb') as handle:\n",
    "#     allPhylum_fasta_protein_lens = pickle.load(handle)\n",
    "\n",
    "# print(allPhylum_fasta_protein_lens[\"511145.b0014\"], allPhylum_fasta_protein_lens[\"511145.b0055\"],\n",
    "#       allPhylum_fasta_protein_lens[\"511145.b0095\"], allPhylum_fasta_protein_lens[\"511145.b0436\"])\n",
    "\n",
    "\n",
    "# allPhylumRandomised_SamePosandNeg_pairedMSA_Nf90_folder = leftPhylum_input_root_folder + \\\n",
    "#     \"allPhylumRandomised_pair_MSA_Nf90_PasteAlign/\"\n",
    "# print(allPhylumRandomised_SamePosandNeg_pairedMSA_Nf90_folder)\n",
    "\n",
    "# if not os.path.exists(allPhylumRandomised_SamePosandNeg_pairedMSA_Nf90_folder):\n",
    "#     os.makedirs(allPhylumRandomised_SamePosandNeg_pairedMSA_Nf90_folder)\n",
    "#     print(allPhylumRandomised_SamePosandNeg_pairedMSA_Nf90_folder)\n",
    "\n",
    "\n",
    "# mp_args = [(pp1, pp2, leftPhylum_fasta_protein_lens[pp1], allPhylum_fasta_protein_lens[pp1], leftPhylum_pairedMSA_Nf90_folder, allPhylum_pairedMSA_Nf90_folder,\n",
    "#             allPhylumRandomised_SamePosandNeg_pairedMSA_Nf90_folder) for pp1, pp2 in pdb_interact_PPs if (pp1 in leftPhylum_fasta_protein_lens) and (pp1 in allPhylum_fasta_protein_lens)]\n",
    "# print(len(mp_args))\n",
    "# pool = mp.Pool(20)\n",
    "# pool.map(allPhylumRandomised_msa, mp_args)\n",
    "# pool.close()"
   ]
  },
  {
   "cell_type": "code",
   "execution_count": null,
   "metadata": {},
   "outputs": [],
   "source": []
  },
  {
   "cell_type": "markdown",
   "metadata": {},
   "source": [
    "### computation \n",
    "\n",
    "for run DCA . \n",
    "\n",
    "use: \n",
    " conda  activate py37_pydca\n",
    " python allPhylumRandomised_DCA.py"
   ]
  },
  {
   "cell_type": "code",
   "execution_count": 17,
   "metadata": {},
   "outputs": [],
   "source": [
    "# # # run once to collect data,\n",
    "# # # move it here due to enviroment conflict, pandas is broken in py37_pydcab\n",
    "\n",
    "\n",
    "# leftPhylum_tuple = ('1224', '511145')\n",
    "# leftPhylum_EggNOG_maxLevel, leftPhylum_currentSpe_TaxID = leftPhylum_tuple\n",
    "# leftPhylum_input_root_folder = CoEvo_data_folder+leftPhylum_currentSpe_TaxID + \\\n",
    "#     \"_EggNOGmaxLevel\"+leftPhylum_EggNOG_maxLevel+\"_eggNOGfilteredData/\"\n",
    "# leftPhylum_currentSpeMiddleDataPath = newSTRING_rootFolder+leftPhylum_currentSpe_TaxID + \\\n",
    "#     \"_EggNOGmaxLevel\"+leftPhylum_EggNOG_maxLevel+\"_MiddleData/\"\n",
    "# print(leftPhylum_currentSpeMiddleDataPath)\n",
    "# with open(leftPhylum_currentSpeMiddleDataPath+'fasta_protein_lens_dict.pickle', 'rb') as handle:\n",
    "#     leftPhylum_fasta_protein_lens = pickle.load(handle)\n",
    "\n",
    "\n",
    "# allPhylum_tuple = ('2', '511145')\n",
    "\n",
    "# allPhylum_EggNOG_maxLevel, allPhylum_currentSpe_TaxID = allPhylum_tuple\n",
    "# allPhylum_input_root_folder = CoEvo_data_folder+allPhylum_currentSpe_TaxID + \\\n",
    "#     \"_EggNOGmaxLevel\"+allPhylum_EggNOG_maxLevel+\"_eggNOGfilteredData/\"\n",
    "# allPhylum_currentSpeMiddleDataPath = newSTRING_rootFolder+allPhylum_currentSpe_TaxID + \\\n",
    "#     \"_EggNOGmaxLevel\"+allPhylum_EggNOG_maxLevel+\"_MiddleData/\"\n",
    "# print(allPhylum_currentSpeMiddleDataPath)\n",
    "# with open(allPhylum_currentSpeMiddleDataPath+'fasta_protein_lens_dict.pickle', 'rb') as handle:\n",
    "#     allPhylum_fasta_protein_lens = pickle.load(handle)\n",
    "\n",
    "# allPhylumRandomised_SamePosandNeg_pairedMSA_Nf90_folder = leftPhylum_input_root_folder + \\\n",
    "#     \"allPhylumRandomised_pair_MSA_Nf90_PasteAlign/\"\n",
    "# print(allPhylumRandomised_SamePosandNeg_pairedMSA_Nf90_folder)\n",
    "\n",
    "# DCA_coevolutoin_path = leftPhylum_input_root_folder + \\\n",
    "#     \"allPhylumRandomised_coevolutoin_result_DCA/\"\n",
    "# MI_coevolutoin_path = leftPhylum_input_root_folder + \\\n",
    "#     \"allPhylumRandomised_coevolutoin_result_MI/\"\n",
    "\n",
    "# Benchmark_folder = leftPhylum_input_root_folder+\"allPhylumRandomised_Benchmark/\"\n",
    "\n",
    "\n",
    "# input_msaFiles = glob.glob(\n",
    "#     allPhylumRandomised_SamePosandNeg_pairedMSA_Nf90_folder+\"*.fasta\")\n",
    "# print(len(input_msaFiles))\n",
    "# input_msaFiles = [os.path.basename(f)[0:-len(\".fasta\")]\n",
    "#                   for f in input_msaFiles]\n",
    "# input_PPs = [f.split(\"and\") for f in input_msaFiles]\n",
    "\n",
    "# ArgForGetDCAMax = [(p1, p2, leftPhylum_fasta_protein_lens[p1], allPhylum_fasta_protein_lens[p2],\n",
    "#                     DCA_coevolutoin_path) for p1, p2 in input_PPs]\n",
    "# print(\"len(ArgForGetDCAMax):\", len(ArgForGetDCAMax))\n",
    "\n",
    "# if not os.path.exists(Benchmark_folder+\"max_pydcaFNAPC_frame.csv\"):\n",
    "#     pool = mp.Pool(30)\n",
    "#     max_pydcaFNAPC_list = pool.map(\n",
    "#         get_maxBetValue_dict_pydcaFNAPC_array_npz, ArgForGetDCAMax)\n",
    "#     pool.close()\n",
    "#     max_pydcaFNAPC_frame = pd.DataFrame(max_pydcaFNAPC_list, columns=[\"currentSpe_pro1\", \"currentSpe_pro2\",\n",
    "#                                                                       \"maxValue_all_idx_row\", \"maxValue_all_idx_col\", \"maxValue_all\",\n",
    "#                                                                       \"maxValue_bet_idx_row\", \"maxValue_bet_idx_col\", \"maxValue_bet\"])\n",
    "#     max_pydcaFNAPC_frame.to_csv(\n",
    "#         Benchmark_folder+\"max_pydcaFNAPC_frame.csv\", header=True, index=None, sep=\"\\t\")"
   ]
  },
  {
   "cell_type": "code",
   "execution_count": null,
   "metadata": {},
   "outputs": [],
   "source": []
  },
  {
   "cell_type": "code",
   "execution_count": null,
   "metadata": {},
   "outputs": [],
   "source": []
  },
  {
   "cell_type": "code",
   "execution_count": null,
   "metadata": {},
   "outputs": [],
   "source": []
  },
  {
   "cell_type": "markdown",
   "metadata": {},
   "source": [
    "### collection resutls and compare"
   ]
  },
  {
   "cell_type": "code",
   "execution_count": 18,
   "metadata": {},
   "outputs": [
    {
     "name": "stdout",
     "output_type": "stream",
     "text": [
      "/mnt/mnemo6/tao/PPI_Coevolution/STRING_data_11.5/511145_EggNOGmaxLevel1224_MiddleData/\n",
      "/mnt/mnemo6/tao/PPI_Coevolution/STRING_data_11.5/511145_EggNOGmaxLevel2_MiddleData/\n",
      "/mnt/mnemo6/tao/PPI_Coevolution/CoEvo_data_STRING11.5/511145_EggNOGmaxLevel1224_eggNOGfilteredData/allPhylumRandomised_pair_MSA_Nf90_PasteAlign/\n"
     ]
    }
   ],
   "source": [
    "leftPhylum_tuple = ('1224', '511145')\n",
    "leftPhylum_EggNOG_maxLevel, leftPhylum_currentSpe_TaxID = leftPhylum_tuple\n",
    "leftPhylum_input_root_folder = CoEvo_data_folder+leftPhylum_currentSpe_TaxID + \\\n",
    "    \"_EggNOGmaxLevel\"+leftPhylum_EggNOG_maxLevel+\"_eggNOGfilteredData/\"\n",
    "leftPhylum_currentSpeMiddleDataPath = newSTRING_rootFolder+leftPhylum_currentSpe_TaxID + \\\n",
    "    \"_EggNOGmaxLevel\"+leftPhylum_EggNOG_maxLevel+\"_MiddleData/\"\n",
    "print(leftPhylum_currentSpeMiddleDataPath)\n",
    "with open(leftPhylum_currentSpeMiddleDataPath+'fasta_protein_lens_dict.pickle', 'rb') as handle:\n",
    "    leftPhylum_fasta_protein_lens = pickle.load(handle)\n",
    "\n",
    "\n",
    "allPhylum_tuple = ('2', '511145')\n",
    "allPhylum_EggNOG_maxLevel, allPhylum_currentSpe_TaxID = allPhylum_tuple\n",
    "# allPhylum_input_root_folder = CoEvo_data_folder+allPhylum_currentSpe_TaxID + \\\n",
    "#     \"_EggNOGmaxLevel\"+allPhylum_EggNOG_maxLevel+\"_eggNOGfilteredData/\"\n",
    "allPhylum_currentSpeMiddleDataPath = newSTRING_rootFolder+allPhylum_currentSpe_TaxID + \\\n",
    "    \"_EggNOGmaxLevel\"+allPhylum_EggNOG_maxLevel+\"_MiddleData/\"\n",
    "print(allPhylum_currentSpeMiddleDataPath)\n",
    "with open(allPhylum_currentSpeMiddleDataPath+'fasta_protein_lens_dict.pickle', 'rb') as handle:\n",
    "    allPhylum_fasta_protein_lens = pickle.load(handle)\n",
    "\n",
    "allPhylumRandomised_SamePosandNeg_pairedMSA_Nf90_folder = leftPhylum_input_root_folder + \\\n",
    "    \"allPhylumRandomised_pair_MSA_Nf90_PasteAlign/\"\n",
    "print(allPhylumRandomised_SamePosandNeg_pairedMSA_Nf90_folder)"
   ]
  },
  {
   "cell_type": "code",
   "execution_count": 19,
   "metadata": {},
   "outputs": [
    {
     "name": "stdout",
     "output_type": "stream",
     "text": [
      "287\n"
     ]
    }
   ],
   "source": [
    "allPhylum_input_msaFiles = glob.glob(\n",
    "    allPhylumRandomised_SamePosandNeg_pairedMSA_Nf90_folder+\"*.fasta\")\n",
    "print(len(allPhylum_input_msaFiles))\n",
    "allPhylum_input_msaFiles = [os.path.basename(f)[0:-len(\".fasta\")]\n",
    "                             for f in allPhylum_input_msaFiles]\n",
    "allPhylum_input_PPs = [f.split(\"and\") for f in allPhylum_input_msaFiles]"
   ]
  },
  {
   "cell_type": "code",
   "execution_count": 20,
   "metadata": {},
   "outputs": [
    {
     "name": "stdout",
     "output_type": "stream",
     "text": [
      "286\n"
     ]
    }
   ],
   "source": [
    "control2_original_topRanking_DCA_dict = {(p1, p2): original_topRanking_DCA_dict[(\n",
    "    p1, p2)] for p1, p2 in allPhylum_input_PPs if (p1, p2) in original_topRanking_DCA_dict}\n",
    "print(len(control2_original_topRanking_DCA_dict))\n",
    "\n",
    "# one exceptin is ('511145.b0440', '511145.b4000'), probably removed by other filtering step, like deep homologs , no bigie"
   ]
  },
  {
   "cell_type": "code",
   "execution_count": null,
   "metadata": {},
   "outputs": [],
   "source": []
  },
  {
   "cell_type": "code",
   "execution_count": 21,
   "metadata": {},
   "outputs": [
    {
     "name": "stdout",
     "output_type": "stream",
     "text": [
      "(287, 8)\n"
     ]
    }
   ],
   "source": [
    "control2_dataframe_file = leftPhylum_input_root_folder + \\\n",
    "    \"allPhylumRandomised_Benchmark/max_pydcaFNAPC_frame.csv\"\n",
    "control2_dataframe = pd.read_csv(control2_dataframe_file, header=0, index_col=None, sep=\"\\t\")\n",
    "print(control2_dataframe.shape)\n",
    "control2_topRanking_DCA_dict = control2_dataframe.values.tolist()\n",
    "\n",
    "control2_topRanking_DCA_dict={(l[0],l[1]):l[-1] for l in control2_topRanking_DCA_dict}"
   ]
  },
  {
   "cell_type": "code",
   "execution_count": 22,
   "metadata": {},
   "outputs": [],
   "source": [
    "# original_list=list()\n",
    "# control2_list=list()\n",
    "# for pp in control2_original_topRanking_DCA_dict: \n",
    "#     #print(pp, control1_original_topRanking_DCA_dict[pp], control1_topRanking_DCA_dict[pp])\n",
    "#     original_list.append(control2_original_topRanking_DCA_dict[pp])\n",
    "#     control2_list.append(control2_topRanking_DCA_dict[pp])\n",
    "# plt.hist(control1_list, bins=30, alpha=0.5, label=\"control1\")\n",
    "# plt.hist(original_list, bins=30, alpha=0.5, label=\"original value\")\n",
    "# plt.legend(loc='upper right')\n",
    "# plt.show()\n",
    "\n",
    "# # could plot all the two control on the same plot ?"
   ]
  },
  {
   "cell_type": "code",
   "execution_count": null,
   "metadata": {},
   "outputs": [],
   "source": []
  },
  {
   "cell_type": "code",
   "execution_count": null,
   "metadata": {},
   "outputs": [],
   "source": []
  },
  {
   "cell_type": "code",
   "execution_count": null,
   "metadata": {},
   "outputs": [],
   "source": []
  },
  {
   "cell_type": "markdown",
   "metadata": {},
   "source": [
    "# Suplementary fig4 put two control in same plot "
   ]
  },
  {
   "cell_type": "code",
   "execution_count": 23,
   "metadata": {},
   "outputs": [
    {
     "name": "stdout",
     "output_type": "stream",
     "text": [
      "294 286\n",
      "286\n"
     ]
    }
   ],
   "source": [
    "print(len(control1_original_topRanking_DCA_dict),len(control2_original_topRanking_DCA_dict))\n",
    "common_PPs=[pp for pp in control1_original_topRanking_DCA_dict if pp in control2_original_topRanking_DCA_dict]\n",
    "print(len(common_PPs))"
   ]
  },
  {
   "cell_type": "code",
   "execution_count": 24,
   "metadata": {},
   "outputs": [
    {
     "name": "stderr",
     "output_type": "stream",
     "text": [
      "/mnt/mnemo5/tao/anaconda3/envs/py39_notebook/lib/python3.9/site-packages/seaborn/_oldcore.py:1498: FutureWarning: is_categorical_dtype is deprecated and will be removed in a future version. Use isinstance(dtype, CategoricalDtype) instead\n",
      "  if pd.api.types.is_categorical_dtype(vector):\n",
      "/mnt/mnemo5/tao/anaconda3/envs/py39_notebook/lib/python3.9/site-packages/seaborn/_oldcore.py:1119: FutureWarning: use_inf_as_na option is deprecated and will be removed in a future version. Convert inf values to NaN before operating instead.\n",
      "  with pd.option_context('mode.use_inf_as_na', True):\n",
      "/mnt/mnemo5/tao/anaconda3/envs/py39_notebook/lib/python3.9/site-packages/seaborn/_oldcore.py:1498: FutureWarning: is_categorical_dtype is deprecated and will be removed in a future version. Use isinstance(dtype, CategoricalDtype) instead\n",
      "  if pd.api.types.is_categorical_dtype(vector):\n",
      "/mnt/mnemo5/tao/anaconda3/envs/py39_notebook/lib/python3.9/site-packages/seaborn/_oldcore.py:1119: FutureWarning: use_inf_as_na option is deprecated and will be removed in a future version. Convert inf values to NaN before operating instead.\n",
      "  with pd.option_context('mode.use_inf_as_na', True):\n",
      "/mnt/mnemo5/tao/anaconda3/envs/py39_notebook/lib/python3.9/site-packages/seaborn/_oldcore.py:1498: FutureWarning: is_categorical_dtype is deprecated and will be removed in a future version. Use isinstance(dtype, CategoricalDtype) instead\n",
      "  if pd.api.types.is_categorical_dtype(vector):\n",
      "/mnt/mnemo5/tao/anaconda3/envs/py39_notebook/lib/python3.9/site-packages/seaborn/_oldcore.py:1119: FutureWarning: use_inf_as_na option is deprecated and will be removed in a future version. Convert inf values to NaN before operating instead.\n",
      "  with pd.option_context('mode.use_inf_as_na', True):\n"
     ]
    },
    {
     "data": {
      "image/png": "[encoded data removed]",
      "text/plain": [
       "<Figure size 800x600 with 1 Axes>"
      ]
     },
     "metadata": {},
     "output_type": "display_data"
    }
   ],
   "source": [
    "original_list=list()\n",
    "control1_list = list()\n",
    "control2_list=list()\n",
    "\n",
    "fig, ax = plt.subplots(figsize=(8, 6))\n",
    "\n",
    "for pp in common_PPs:\n",
    "    #print(pp, control1_original_topRanking_DCA_dict[pp], control1_topRanking_DCA_dict[pp])\n",
    "    original_list.append(control2_original_topRanking_DCA_dict[pp])\n",
    "    control1_list.append(control1_topRanking_DCA_dict[pp])\n",
    "    control2_list.append(control2_topRanking_DCA_dict[pp])\n",
    "\n",
    "bins_num=50 # 30\n",
    "# plt.hist(control1_list, bins=bins_num, alpha=0.5, label=\"control1\")\n",
    "# plt.hist(control2_list, bins=bins_num, alpha=0.5, label=\"control2\")\n",
    "# plt.hist(original_list, bins=bins_num, alpha=0.5, label=\"original value\")\n",
    "\n",
    "# when make them from sperated, the bin lenght is different ,use binrange=(0,8)\n",
    "sns.histplot(control1_list, bins=bins_num, alpha=0.5,\n",
    "             label=\"Control1\", ax=ax, kde=True, )\n",
    "sns.histplot(control2_list, bins=bins_num, alpha=0.5,\n",
    "             label=\"Control2\", ax=ax, kde=True, ),\n",
    "sns.histplot(original_list, bins=bins_num, alpha=0.5,\n",
    "             label=\"Original paired MSA\", ax=ax, kde=True, )  # , kde=True,fill=True\n",
    "\n",
    "ax.set_ylabel(\"Density\", fontsize=16)\n",
    "ax.set_xlabel(\"Maximal inter-protein DCA score\",fontsize=16)\n",
    "ax.set_title(\"Histogram of maximum inter-protein DCA scores\",\n",
    "             loc='center', fontsize=16)\n",
    "    \n",
    "\n",
    "plt.legend(loc='upper right', fontsize=10,)\n",
    "plt.show()\n",
    "\n",
    "fig.savefig(\"/mnt/mnemo5/tao/temp_figures/Sup_fig4.pdf\", dpi=600)"
   ]
  },
  {
   "cell_type": "code",
   "execution_count": 25,
   "metadata": {},
   "outputs": [],
   "source": [
    "# original_list = list()\n",
    "# control1_list = list()\n",
    "# control2_list = list()\n",
    "\n",
    "# fig, ax = plt.subplots()\n",
    "\n",
    "# for pp in common_PPs:\n",
    "#     # print(pp, control1_original_topRanking_DCA_dict[pp], control1_topRanking_DCA_dict[pp])\n",
    "#     original_list.append(control2_original_topRanking_DCA_dict[pp])\n",
    "#     control1_list.append(control1_topRanking_DCA_dict[pp])\n",
    "#     control2_list.append(control2_topRanking_DCA_dict[pp])\n",
    "\n",
    "# sns.kdeplot(control1_list, alpha=0.5,\n",
    "#              label=\"Control1\", ax=ax, fill=True)\n",
    "# sns.kdeplot(control2_list,  alpha=0.5,\n",
    "#             label=\"Control2\", ax=ax, fill=True)\n",
    "# sns.kdeplot(original_list,  alpha=0.5,\n",
    "#             label=\"Original paired MSA\", ax=ax, fill=True)\n",
    "# plt.legend(loc='upper right')\n",
    "# plt.show()"
   ]
  },
  {
   "cell_type": "code",
   "execution_count": null,
   "metadata": {},
   "outputs": [],
   "source": []
  },
  {
   "cell_type": "markdown",
   "metadata": {},
   "source": [
    "# comment :  pair-wise similarity distribution  of certain protein family \n",
    "For different representative protein family, do a protein sim distribution plot for different phylunm and downsampled size  \n",
    "Do distribgution , for other idea, mention them , (guided downsampl )\n",
    "\n",
    "\n",
    "first filter protein by their exsitences in different phylum , and in comman benchmark and of course has the final pairedMSA \n",
    "\n",
    "could first pick up one randome pps to write the follwoing pipeline .. \n",
    "\n",
    "for this one , we dont have to choose posive and dont have to be from pdb ?"
   ]
  },
  {
   "cell_type": "code",
   "execution_count": null,
   "metadata": {},
   "outputs": [],
   "source": []
  },
  {
   "cell_type": "code",
   "execution_count": 26,
   "metadata": {},
   "outputs": [
    {
     "name": "stdout",
     "output_type": "stream",
     "text": [
      "len of intersection: 309\n",
      "414 3243 3657\n",
      "0\n",
      "3657\n"
     ]
    }
   ],
   "source": [
    "pdb_interact_PPs, pdb_complex_PPs = get_STRING1105_pdb_interact(pdb_interact_filename=\"/mnt/mnemo6/damian/STRING_derived_v11.5/pdb/pdb_interact.tsv\",\n",
    "                                                                retrieve_spe=511145,)\n",
    "\n",
    "\n",
    "pdb_interact_PPs_dict = {pp: 1 for pp in pdb_interact_PPs}\n",
    "pdb_complex_PPs_dict = {pp: 1 for pp in pdb_complex_PPs}\n",
    "pdb_PPs_dict = {pp: 1 for pp in pdb_interact_PPs+pdb_complex_PPs}\n",
    "\n",
    "print(len(pdb_interact_PPs), len(pdb_complex_PPs), len(pdb_PPs_dict))\n",
    "\n",
    "\n",
    "print(len(set(pdb_interact_PPs).intersection(pdb_complex_PPs)))\n",
    "\n",
    "print(len(set(pdb_interact_PPs).union(pdb_complex_PPs)))"
   ]
  },
  {
   "cell_type": "code",
   "execution_count": 27,
   "metadata": {},
   "outputs": [],
   "source": [
    "EggNOG_maxLevel, currentSpe_TaxID = Query_tuple = ('1224', '511145')\n",
    "\n",
    "SamePosandNeg_Benchmark=CoEvo_data_folder+\"AllLevel_testPhylaEffectSamePosandNeg_Benchmark/\"\n",
    "\n",
    "SamePosandNeg_frame=pd.read_csv(SamePosandNeg_Benchmark+\"SamePosandNeg_STRING115EggNog\"+EggNOG_maxLevel+\"Spe\"+currentSpe_TaxID+\".benchmark\",\n",
    "                                                                                                            header=0,index_col=None,sep=\"\\t\")\n",
    "SamePosandNeg_PPs_dict = SamePosandNeg_frame.values.tolist()\n",
    "SamePosandNeg_PPs_dict={(l[0],l[1]):1 for l in SamePosandNeg_PPs_dict}"
   ]
  },
  {
   "cell_type": "code",
   "execution_count": 28,
   "metadata": {},
   "outputs": [
    {
     "name": "stdout",
     "output_type": "stream",
     "text": [
      "(3420, 9)\n"
     ]
    }
   ],
   "source": [
    "pos_SamePosandNeg_frame = SamePosandNeg_frame.loc[SamePosandNeg_frame[\"benchmark_status\"]==\"P\", :]\n",
    "print(pos_SamePosandNeg_frame.shape)\n",
    "\n",
    "pos_SamePosandNeg_PPs_dict = pos_SamePosandNeg_frame.values.tolist()\n",
    "pos_SamePosandNeg_PPs_dict = {(l[0], l[1]): 1 for l in pos_SamePosandNeg_PPs_dict}"
   ]
  },
  {
   "cell_type": "code",
   "execution_count": 29,
   "metadata": {},
   "outputs": [
    {
     "name": "stdout",
     "output_type": "stream",
     "text": [
      "154\n",
      "[('511145.b0014', '511145.b2614'), ('511145.b0093', '511145.b2748'), ('511145.b0095', '511145.b2412'), ('511145.b0098', '511145.b3312'), ('511145.b0098', '511145.b3318'), ('511145.b0114', '511145.b0115'), ('511145.b0169', '511145.b3303'), ('511145.b0169', '511145.b3306'), ('511145.b0169', '511145.b3314'), ('511145.b0169', '511145.b3649')]\n"
     ]
    }
   ],
   "source": [
    "# selected_PPs=[pp for pp in pdb_interact_PPs if pp in SamePosandNeg_PPs_dict]\n",
    "# if here is use pdb_interact_PPs, than later there is pp that have recored in different phylum \n",
    "# even use the one from allPPI benmark ?\n",
    "selected_PPs = [pp for pp in pdb_interact_PPs if pp in SamePosandNeg_PPs_dict]\n",
    "#selected_PPs = [pp for pp in pos_SamePosandNeg_PPs_dict.keys()]\n",
    "print(len(selected_PPs))\n",
    "\n",
    "print(selected_PPs[0:10])"
   ]
  },
  {
   "cell_type": "code",
   "execution_count": 30,
   "metadata": {},
   "outputs": [
    {
     "name": "stdout",
     "output_type": "stream",
     "text": [
      "/mnt/mnemo6/tao/PPI_Coevolution/CoEvo_data_STRING11.5/511145_EggNOGmaxLevel2_eggNOGfilteredData/DownSample_num3_pair_MSA_Nf90_PasteAlign/\n",
      "/mnt/mnemo6/tao/PPI_Coevolution/CoEvo_data_STRING11.5/511145_EggNOGmaxLevel2_eggNOGfilteredData/DownSample_num10_pair_MSA_Nf90_PasteAlign/\n",
      "/mnt/mnemo6/tao/PPI_Coevolution/CoEvo_data_STRING11.5/511145_EggNOGmaxLevel2_eggNOGfilteredData/DownSample_num50_pair_MSA_Nf90_PasteAlign/\n",
      "/mnt/mnemo6/tao/PPI_Coevolution/CoEvo_data_STRING11.5/511145_EggNOGmaxLevel2_eggNOGfilteredData/DownSample_num100_pair_MSA_Nf90_PasteAlign/\n",
      "/mnt/mnemo6/tao/PPI_Coevolution/CoEvo_data_STRING11.5/511145_EggNOGmaxLevel2_eggNOGfilteredData/DownSample_num300_pair_MSA_Nf90_PasteAlign/\n",
      "/mnt/mnemo6/tao/PPI_Coevolution/CoEvo_data_STRING11.5/511145_EggNOGmaxLevel1224_eggNOGfilteredData/pair_MSA_Nf90_PasteAlign/\n",
      "/mnt/mnemo6/tao/PPI_Coevolution/CoEvo_data_STRING11.5/511145_EggNOGmaxLevel2_eggNOGfilteredData/pair_MSA_Nf90_PasteAlign/\n",
      "/mnt/mnemo6/tao/PPI_Coevolution/CoEvo_data_STRING11.5/1274374_EggNOGmaxLevel1239_eggNOGfilteredData/pair_MSA_Nf90_PasteAlign/\n",
      "/mnt/mnemo6/tao/PPI_Coevolution/CoEvo_data_STRING11.5/105422_EggNOGmaxLevel201174_eggNOGfilteredData/pair_MSA_Nf90_PasteAlign/\n",
      "/mnt/mnemo6/tao/PPI_Coevolution/CoEvo_data_STRING11.5/411476_EggNOGmaxLevel976_eggNOGfilteredData/pair_MSA_Nf90_PasteAlign/\n"
     ]
    }
   ],
   "source": [
    "DownSample_strategy = \"num\"#\"percent\"\n",
    "DownSample_sizes=[3,10,50,100,300]\n",
    "pairedMSA_Nf90_folder_list=list()\n",
    "for DownSample_size in DownSample_sizes:\n",
    "    for EggNOG_maxLevel,currentSpe_TaxID in [('2', '511145')]:\n",
    "        input_root_folder=CoEvo_data_folder+currentSpe_TaxID+\"_EggNOGmaxLevel\"+EggNOG_maxLevel+\"_eggNOGfilteredData/\"\n",
    "        DownSample_SamePosandNeg_pairedMSA_Nf90_folder = input_root_folder+\"DownSample_\"+DownSample_strategy+str(DownSample_size)+\"_pair_MSA_Nf90_PasteAlign/\"\n",
    "        pairedMSA_Nf90_folder_list.append(DownSample_SamePosandNeg_pairedMSA_Nf90_folder)\n",
    "\n",
    "\n",
    "tupleList = [ ('1224', '511145'), \n",
    "              ('2', '511145'),\n",
    "                (\"1239\", \"1274374\"), # for other phylum , we need to retrive its homologous protein pair\n",
    "                ('201174', '105422'), ('976', '411476'),\n",
    "                   ]\n",
    "for EggNOG_maxLevel,currentSpe_TaxID in tupleList:\n",
    "    input_root_folder=CoEvo_data_folder+currentSpe_TaxID+\"_EggNOGmaxLevel\"+EggNOG_maxLevel+\"_eggNOGfilteredData/\"\n",
    "    SamePosandNeg_pairedMSA_Nf90_folder = input_root_folder+\"pair_MSA_Nf90_PasteAlign/\"\n",
    "    pairedMSA_Nf90_folder_list.append(SamePosandNeg_pairedMSA_Nf90_folder)\n",
    "for f in pairedMSA_Nf90_folder_list:\n",
    "    print(f) "
   ]
  },
  {
   "cell_type": "code",
   "execution_count": 31,
   "metadata": {},
   "outputs": [
    {
     "name": "stdout",
     "output_type": "stream",
     "text": [
      "('1239', '1274374') 1510551\n",
      "('201174', '105422') 1598711\n",
      "('976', '411476') 1229632\n",
      "('2', '179408') 1269201\n",
      "('511145.b0003', '511145.b0008') ('179408.Osc7112_2857', '179408.Osc7112_2817')\n"
     ]
    }
   ],
   "source": [
    "with open(f\"{CoEvo_data_folder}511145_EggNOGmaxLevel1224_eggNOGfilteredData/STRINPhyPPI_Benchmark/NameUnsorted_Subject2Query_SubSpeAllPPI_BestHomologous_ignoreQueryDCA_dict_listDict.pickle\", 'rb') as handle:\n",
    "    Query2Subject_QueSpeAllPPI_BestHomologous_listDict = pickle.load(handle)\n",
    "\n",
    "\n",
    "for key, l_dict in Query2Subject_QueSpeAllPPI_BestHomologous_listDict.items():\n",
    "    print(key, len(l_dict))\n",
    "\n",
    "for k, v in l_dict.items():\n",
    "    print(k, v)\n",
    "    break"
   ]
  },
  {
   "cell_type": "code",
   "execution_count": 32,
   "metadata": {},
   "outputs": [],
   "source": [
    "\n",
    "\n",
    "def check_fileExist_inFolders(pp1,pp2,BestHomologous_listDict, list_of_folders):\n",
    "    flag=True\n",
    "    for folder in list_of_folders:\n",
    "        if '1274374' in folder: \n",
    "            if (pp1,pp2) in BestHomologous_listDict[('1239', '1274374')]: \n",
    "                new_pp1, new_pp2 = BestHomologous_listDict[('1239', '1274374')][(pp1,pp2)]\n",
    "                #print(pp1,pp2)\n",
    "            else:\n",
    "                flag = False\n",
    "                break\n",
    "\n",
    "\n",
    "\n",
    "        elif '105422' in folder:\n",
    "            if (pp1,pp2) in BestHomologous_listDict[('201174', '105422')]: \n",
    "                new_pp1, new_pp2 = BestHomologous_listDict[(\n",
    "                    '201174', '105422')][(pp1, pp2)]\n",
    "                #print(pp1, pp2)\n",
    "            else:\n",
    "                flag = False\n",
    "                break\n",
    "\n",
    "        elif '411476' in folder:\n",
    "            if (pp1,pp2) in BestHomologous_listDict[('976', '411476')]:\n",
    "                new_pp1, new_pp2 = BestHomologous_listDict[(\n",
    "                    '976', '411476')][(pp1, pp2)]\n",
    "                #print(pp1, pp2)\n",
    "            else:\n",
    "                flag = False\n",
    "                break\n",
    "        else:\n",
    "            new_pp1, new_pp2=pp1,pp2\n",
    "\n",
    "        #print(new_pp1, new_pp2)\n",
    "        basefile_name = f\"{new_pp1}and{new_pp2}.fasta\"\n",
    "        if not os.path.exists(os.path.join(folder,basefile_name)):\n",
    "            flag=False\n",
    "            #print(basefile_name,list_of_folders)\n",
    "            break\n",
    "    #print(f\"flag:{flag}\")\n",
    "    return (flag)"
   ]
  },
  {
   "cell_type": "code",
   "execution_count": 33,
   "metadata": {},
   "outputs": [
    {
     "name": "stdout",
     "output_type": "stream",
     "text": [
      "154\n",
      "48\n",
      "CPU times: user 5.7 ms, sys: 21.1 ms, total: 26.8 ms\n",
      "Wall time: 122 ms\n"
     ]
    }
   ],
   "source": [
    "%%time\n",
    "print(len(selected_PPs))\n",
    "selected_PPs=[(p1,p2) for p1,p2 in selected_PPs if check_fileExist_inFolders(p1,p2,Query2Subject_QueSpeAllPPI_BestHomologous_listDict,pairedMSA_Nf90_folder_list)]\n",
    "print(len(selected_PPs))"
   ]
  },
  {
   "cell_type": "code",
   "execution_count": null,
   "metadata": {},
   "outputs": [],
   "source": []
  },
  {
   "cell_type": "code",
   "execution_count": 34,
   "metadata": {},
   "outputs": [
    {
     "name": "stdout",
     "output_type": "stream",
     "text": [
      "(4090, 5)\n",
      "4090\n"
     ]
    }
   ],
   "source": [
    "StringID2UniID_file = pd.read_csv(filepath_or_buffer=\"/mnt/mnemo5/tao/STRING/ecoli.uniprot_2_string.2018.tsv\",\n",
    "                                  sep=\"\\t\", index_col=None, header=None)\n",
    "print(StringID2UniID_file.shape)\n",
    "StringID2UniID_list = StringID2UniID_file.loc[:, [1, 2]].values.tolist()\n",
    "StringID2UniID_dict = {stringID: uniprotID.split('|')[0] for uniprotID, stringID in StringID2UniID_list}\n",
    "print(len(StringID2UniID_dict))"
   ]
  },
  {
   "cell_type": "code",
   "execution_count": 35,
   "metadata": {},
   "outputs": [
    {
     "name": "stdout",
     "output_type": "stream",
     "text": [
      "(62955, 17)\n"
     ]
    }
   ],
   "source": [
    "# get protein info from \"/mnt/mnemo6/tao/ecocyc/ecocyc.gaf.gz\"\n",
    "# data download from : https://current.geneontology.org/annotations/ecocyc.gaf.gz\n",
    "\n",
    "# to understand gaf header : https://geneontology.org/docs/go-annotation-file-gaf-format-2.1/#dbreference-column-6\n",
    "\n",
    "ecocyc = pd.read_csv(\"/mnt/mnemo6/tao/ecocyc/ecocyc.gaf.gz\",\n",
    "                     header=None, skiprows=32, sep=\"\\t\")\n",
    "print(ecocyc.shape)\n",
    "ecocyc.head(n=6)\n",
    "ecocyc_info_dict=ecocyc.values.tolist()\n",
    "ecocyc_info_dict={l[1]: l for l in ecocyc_info_dict}"
   ]
  },
  {
   "cell_type": "code",
   "execution_count": 36,
   "metadata": {},
   "outputs": [
    {
     "name": "stdout",
     "output_type": "stream",
     "text": [
      "************ 511145.b0014 511145.b2614\n",
      "['UniProtKB', 'P0A6Y8', 'dnaK', 'involved_in', 'GO:0051085', 'GOREF:0000033', 'IBA', 'PANTHER:PTN008570368|UniProtKB:P0A6Y8|MGI:MGI:105384', 'P', 'Chaperone protein DnaK', 'dnaK|groP|grpF|seg|JW0013|b0014', 'protein', 'taxon:83333', 20230111, 'GO_Central', nan, nan]\n",
      "['UniProtKB', 'P09372', 'grpE', 'is_active_in', 'GO:0005829', 'GOREF:0000033', 'IBA', 'PANTHER:PTN000478395|UniProtKB:P09372', 'C', 'Protein GrpE', 'grpE|JW2594|b2614', 'protein', 'taxon:83333', 20170228, 'GO_Central', nan, nan]\n",
      "************ 511145.b0098 511145.b3318\n",
      "['UniProtKB', 'P10408', 'secA', 'part_of', 'GO:0031522', 'GOREF:0000033', 'IBA', 'PANTHER:PTN000770133|UniProtKB:P9WGP5|UniProtKB:P10408', 'C', 'Protein translocase subunit SecA', 'secA|azi|pea|prlD|JW0096|b0098', 'protein', 'taxon:83333', 20170228, 'GO_Central', nan, nan]\n",
      "['UniProtKB', 'P0ADZ0', 'rplW', 'involved_in', 'GO:0000027', 'GOREF:0000033', 'IBA', 'PANTHER:PTN000178698|UniProtKB:P0ADZ0|SGD:S000005487', 'P', 'Large ribosomal subunit protein uL23', 'rplW|JW3280|b3318', 'protein', 'taxon:83333', 20170228, 'GO_Central', nan, nan]\n",
      "************ 511145.b0169 511145.b3303\n",
      "['UniProtKB', 'P0A7V0', 'rpsB', 'enables', 'GO:0003735', 'GOREF:0000033', 'IBA', 'PANTHER:PTN000283441|UniProtKB:P0A7V0|SGD:S000000996', 'F', 'Small ribosomal subunit protein uS2', 'rpsB|JW0164|b0169', 'protein', 'taxon:83333', 20200808, 'GO_Central', nan, nan]\n",
      "['UniProtKB', 'P0A7W1', 'rpsE', 'enables', 'GO:0003735', 'GOREF:0000033', 'IBA', 'PANTHER:PTN000346706|UniProtKB:P0A7W1|RGD:619887|UniProtKB:Q8IL02|FB:FBgn0004867|UniProtKB:P15880|MGI:MGI:105110|SGD:S000003091|SGD:S000000455', 'F', 'Small ribosomal subunit protein uS5', 'rpsE|spc|JW3265|b3303', 'protein', 'taxon:83333', 20230406, 'GO_Central', nan, nan]\n",
      "************ 511145.b0169 511145.b3306\n",
      "['UniProtKB', 'P0A7V0', 'rpsB', 'enables', 'GO:0003735', 'GOREF:0000033', 'IBA', 'PANTHER:PTN000283441|UniProtKB:P0A7V0|SGD:S000000996', 'F', 'Small ribosomal subunit protein uS2', 'rpsB|JW0164|b0169', 'protein', 'taxon:83333', 20200808, 'GO_Central', nan, nan]\n",
      "['UniProtKB', 'P0A7W7', 'rpsH', 'part_of', 'GO:0022627', 'GOREF:0000033', 'IBA', 'PANTHER:PTN000204723|UniProtKB:P62244|MGI:MGI:2389091|UniProtKB:P0A7W7|SGD:S000003726|SGD:S000004359|RGD:619939', 'C', 'Small ribosomal subunit protein uS8', 'rpsH|JW3268|b3306', 'protein', 'taxon:83333', 20230405, 'GO_Central', nan, nan]\n",
      "************ 511145.b0169 511145.b3314\n",
      "['UniProtKB', 'P0A7V0', 'rpsB', 'enables', 'GO:0003735', 'GOREF:0000033', 'IBA', 'PANTHER:PTN000283441|UniProtKB:P0A7V0|SGD:S000000996', 'F', 'Small ribosomal subunit protein uS2', 'rpsB|JW0164|b0169', 'protein', 'taxon:83333', 20200808, 'GO_Central', nan, nan]\n",
      "['UniProtKB', 'P0A7V3', 'rpsC', 'part_of', 'GO:0022627', 'GOREF:0000033', 'IBA', 'PANTHER:PTN000205057|MGI:MGI:1350917|UniProtKB:P23396|UniProtKB:P0A7V3|SGD:S000005122|RGD:619888|UniProtKB:Q8IKH8', 'C', 'Small ribosomal subunit protein uS3', 'rpsC|JW3276|b3314', 'protein', 'taxon:83333', 20230405, 'GO_Central', nan, nan]\n",
      "************ 511145.b0231 511145.b3701\n",
      "['UniProtKB', 'Q47155', 'dinB', 'involved_in', 'GO:0042276', 'GOREF:0000033', 'IBA', 'PANTHER:PTN000117876|WB:WBGene00017696|UniProtKB:Q47155|UniProtKB:Q9UBT6', 'P', 'DNA polymerase IV', 'dinB|dinP|JW0221|b0231', 'protein', 'taxon:83333', 20200929, 'GO_Central', nan, nan]\n",
      "['UniProtKB', 'P0A988', 'dnaN', 'involved_in', 'GO:0006271', 'GOREF:0000033', 'IBA', 'PANTHER:PTN000767221|UniProtKB:P0A988', 'P', 'Beta sliding clamp', 'dnaN|JW3678|b3701', 'protein', 'taxon:83333', 20180218, 'GO_Central', nan, nan]\n",
      "************ 511145.b0408 511145.b3300\n",
      "['UniProtKB', 'P0AG90', 'secD', 'involved_in', 'GO:0015031', 'GOREF:0000033', 'IBA', 'PANTHER:PTN000763987|UniProtKB:P0AG90|UniProtKB:P0AG93', 'P', 'Protein translocase subunit SecD', 'secD|JW0398|b0408', 'protein', 'taxon:83333', 20230406, 'GO_Central', nan, nan]\n",
      "['UniProtKB', 'P0AGA2', 'secY', 'involved_in', 'GO:0006616', 'GOREF:0000033', 'IBA', 'PANTHER:PTN000097217|SGD:S000004370|UniProtKB:P0AGA2', 'P', 'Protein translocase subunit SecY', 'secY|prlA|JW3262|b3300', 'protein', 'taxon:83333', 20180302, 'GO_Central', nan, nan]\n"
     ]
    }
   ],
   "source": [
    "count=0\n",
    "for p1,p2 in selected_PPs[count:(count+7)]: \n",
    "    uni_p1,uni_p2 = StringID2UniID_dict[p1], StringID2UniID_dict[p2]\n",
    "    print(\"*\"*12,p1,p2)\n",
    "    print(ecocyc_info_dict[uni_p1])\n",
    "    print(ecocyc_info_dict[uni_p2])"
   ]
  },
  {
   "cell_type": "code",
   "execution_count": 37,
   "metadata": {},
   "outputs": [
    {
     "name": "stdout",
     "output_type": "stream",
     "text": [
      "************ 511145.b0408 511145.b3705\n",
      "['UniProtKB', 'P0AG90', 'secD', 'involved_in', 'GO:0015031', 'GOREF:0000033', 'IBA', 'PANTHER:PTN000763987|UniProtKB:P0AG90|UniProtKB:P0AG93', 'P', 'Protein translocase subunit SecD', 'secD|JW0398|b0408', 'protein', 'taxon:83333', 20230406, 'GO_Central', nan, nan]\n",
      "['UniProtKB', 'P25714', 'yidC', 'enables', 'GO:0032977', 'GOREF:0000033', 'IBA', 'PANTHER:PTN000276804|UniProtKB:Q8N8Q8|SGD:S000000956|UniProtKB:P25714|PomBase:SPCC1442.15c|SGD:S000003294', 'F', 'Membrane protein insertase YidC', 'yidC|JW3683|b3705', 'protein', 'taxon:83333', 20181116, 'GO_Central', nan, nan]\n",
      "************ 511145.b0409 511145.b3300\n",
      "['UniProtKB', 'P0AG93', 'secF', 'involved_in', 'GO:0015031', 'GOREF:0000033', 'IBA', 'PANTHER:PTN000763987|UniProtKB:P0AG90|UniProtKB:P0AG93', 'P', 'Protein translocase subunit SecF', 'secF|JW0399|b0409', 'protein', 'taxon:83333', 20230406, 'GO_Central', nan, nan]\n",
      "['UniProtKB', 'P0AGA2', 'secY', 'involved_in', 'GO:0006616', 'GOREF:0000033', 'IBA', 'PANTHER:PTN000097217|SGD:S000004370|UniProtKB:P0AGA2', 'P', 'Protein translocase subunit SecY', 'secY|prlA|JW3262|b3300', 'protein', 'taxon:83333', 20180302, 'GO_Central', nan, nan]\n",
      "************ 511145.b0409 511145.b3705\n",
      "['UniProtKB', 'P0AG93', 'secF', 'involved_in', 'GO:0015031', 'GOREF:0000033', 'IBA', 'PANTHER:PTN000763987|UniProtKB:P0AG90|UniProtKB:P0AG93', 'P', 'Protein translocase subunit SecF', 'secF|JW0399|b0409', 'protein', 'taxon:83333', 20230406, 'GO_Central', nan, nan]\n",
      "['UniProtKB', 'P25714', 'yidC', 'enables', 'GO:0032977', 'GOREF:0000033', 'IBA', 'PANTHER:PTN000276804|UniProtKB:Q8N8Q8|SGD:S000000956|UniProtKB:P25714|PomBase:SPCC1442.15c|SGD:S000003294', 'F', 'Membrane protein insertase YidC', 'yidC|JW3683|b3705', 'protein', 'taxon:83333', 20181116, 'GO_Central', nan, nan]\n",
      "************ 511145.b0416 511145.b3169\n",
      "['UniProtKB', 'P0A780', 'nusB', 'is_active_in', 'GO:0005829', 'GOREF:0000033', 'IBA', 'PANTHER:PTN000118200|UniProtKB:P0A780', 'C', 'Transcription antitermination protein NusB', 'nusB|groNB|ssyB|JW0406|b0416', 'protein', 'taxon:83333', 20190524, 'GO_Central', nan, nan]\n",
      "['UniProtKB', 'P0AFF6', 'nusA', 'involved_in', 'GO:0031564', 'GOREF:0000033', 'IBA', 'PANTHER:PTN000505391|UniProtKB:P9WIV3|UniProtKB:P0AFF6', 'P', 'Transcription termination/antitermination protein NusA', 'nusA|JW3138|b3169', 'protein', 'taxon:83333', 20170228, 'GO_Central', nan, nan]\n",
      "************ 511145.b0416 511145.b3321\n",
      "['UniProtKB', 'P0A780', 'nusB', 'is_active_in', 'GO:0005829', 'GOREF:0000033', 'IBA', 'PANTHER:PTN000118200|UniProtKB:P0A780', 'C', 'Transcription antitermination protein NusB', 'nusB|groNB|ssyB|JW0406|b0416', 'protein', 'taxon:83333', 20190524, 'GO_Central', nan, nan]\n",
      "['UniProtKB', 'P0A7R5', 'rpsJ', 'part_of', 'GO:0015935', 'GOREF:0000033', 'IBA', 'PANTHER:PTN000193512|SGD:S000001007|UniProtKB:P0A7R5|MGI:MGI:1914677|UniProtKB:P60866|UniProtKB:A1XQU9|RGD:621037|SGD:S000002448', 'C', 'Small ribosomal subunit protein uS10', 'rpsJ|nusE|JW3283|b3321', 'protein', 'taxon:83333', 20230405, 'GO_Central', nan, nan]\n",
      "************ 511145.b0437 511145.b0438\n",
      "['UniProtKB', 'P0A6G7', 'clpP', 'involved_in', 'GO:0006515', 'GOREF:0000033', 'IBA', 'PANTHER:PTN000043558|UniProtKB:P0A6G7', 'P', 'ATP-dependent Clp protease proteolytic subunit', 'clpP|lopP|JW0427|b0437', 'protein', 'taxon:83333', 20180913, 'GO_Central', nan, nan]\n",
      "['UniProtKB', 'P0A6H1', 'clpX', 'involved_in', 'GO:0051301', 'GOREF:0000033', 'IBA', 'PANTHER:PTN000137358|UniProtKB:P0A6H1|UniProtKB:P9WPB9', 'P', 'ATP-dependent Clp protease ATP-binding subunit ClpX', 'clpX|lopC|JW0428|b0438', 'protein', 'taxon:83333', 20170228, 'GO_Central', nan, nan]\n",
      "************ 511145.b0470 511145.b1099\n",
      "['UniProtKB', 'P06710', 'dnaX', 'involved_in', 'GO:0006261', 'GOREF:0000033', 'IBA', 'PANTHER:PTN000186208|PomBase:SPAC23D3.02|UniProtKB:P35249|PomBase:SPAC27E2.10c|UniProtKB:P40937|PomBase:SPAC1687.03c|PomBase:SPBC83.14c|SGD:S000005234|SGD:S000003829|UniProtKB:P28631|UniProtKB:P35250|UniProtKB:P40938|SGD:S000005454|SGD:S000000291', 'P', 'DNA polymerase III subunit tau', 'dnaX|dnaZ|dnaZX|JW0459|b0470', 'protein', 'taxon:83333', 20231108, 'GO_Central', nan, nan]\n",
      "['UniProtKB', 'P28631', 'holB', 'involved_in', 'GO:0006261', 'GOREF:0000033', 'IBA', 'PANTHER:PTN000186208|PomBase:SPAC23D3.02|UniProtKB:P35249|PomBase:SPAC27E2.10c|UniProtKB:P40937|PomBase:SPAC1687.03c|PomBase:SPBC83.14c|SGD:S000005234|SGD:S000003829|UniProtKB:P28631|UniProtKB:P35250|UniProtKB:P40938|SGD:S000005454|SGD:S000000291', 'P', \"DNA polymerase III subunit delta'\", 'holB|JW1085|b1099', 'protein', 'taxon:83333', 20231108, 'GO_Central', nan, nan]\n"
     ]
    }
   ],
   "source": [
    "count = 7\n",
    "for p1, p2 in selected_PPs[count:(count+7)]:\n",
    "    uni_p1, uni_p2 = StringID2UniID_dict[p1], StringID2UniID_dict[p2]\n",
    "    print(\"*\"*12, p1, p2)\n",
    "    print(ecocyc_info_dict[uni_p1])\n",
    "    print(ecocyc_info_dict[uni_p2])"
   ]
  },
  {
   "cell_type": "code",
   "execution_count": 38,
   "metadata": {},
   "outputs": [
    {
     "name": "stdout",
     "output_type": "stream",
     "text": [
      "************ 511145.b0888 511145.b3781\n",
      "['UniProtKB', 'P0A9P4', 'trxB', 'enables', 'GO:0004791', 'GOREF:0000033', 'IBA', 'PANTHER:PTN005133404|FB:FBgn0037170|SGD:S000002761|RGD:61959|MGI:MGI:2386711|CGD:CAL0000184081|RGD:61960|UniProtKB:C8V4E8|UniProtKB:Q70G58|TAIR:locus:2117612|UniProtKB:P9WHH1|WB:WBGene00014028|PomBase:SPBC3F6.03|UniProtKB:Q16881|TAIR:locus:2062683|MGI:MGI:1354175|UniProtKB:P0A9P4|FB:FBgn0020653|UniProtKB:Q9N2I8|SGD:S000001148|UniProtKB:Q39242|dictyBase:DDB_G0280815', 'F', 'Thioredoxin reductase', 'trxB|JW0871|b0888', 'protein', 'taxon:83333', 20220926, 'GO_Central', nan, nan]\n",
      "['UniProtKB', 'P0AA25', 'trxA', 'is_active_in', 'GO:0005829', 'GOREF:0000033', 'IBA', 'PANTHER:PTN000047549|UniProtKB:P0AA25', 'C', 'Thioredoxin 1', 'trxA|fipA|tsnC|JW5856|b3781', 'protein', 'taxon:83333', 20170228, 'GO_Central', nan, nan]\n",
      "************ 511145.b1092 511145.b1094\n",
      "['UniProtKB', 'P0AAI9', 'fabD', 'enables', 'GO:0004314', 'GOREF:0000033', 'IBA', 'PANTHER:PTN002448244|UniProtKB:P0AAI9|SGD:S000005747|UniProtKB:Q8IVS2|UniProtKB:P9WNG5|TAIR:locus:2060884', 'F', 'Malonyl CoA-acyl carrier protein transacylase', 'fabD|tfpA|JW1078|b1092', 'protein', 'taxon:83333', 20211112, 'GO_Central', nan, nan]\n",
      "['UniProtKB', 'P0A6A8', 'acpP', 'enables', 'GO:0000036', 'GOREF:0000033', 'IBA', 'PANTHER:PTN000466551|UniProtKB:P9WQF1|UniProtKB:P0A6A8|TAIR:locus:2206300|TAIR:locus:2168968|TAIR:locus:2042331|UniProtKB:P9WQF3|UniProtKB:Q57WW9|UniProtKB:P11943', 'F', 'Acyl carrier protein', 'acpP|JW1080|b1094', 'protein', 'taxon:83333', 20230111, 'GO_Central', nan, nan]\n",
      "************ 511145.b1211 511145.b1212\n",
      "['UniProtKB', 'P0A7I0', 'prfA', 'located_in', 'GO:0005829', 'PMID:18304323', 'IDA', nan, 'C', 'Peptide chain release factor RF1', 'prfA|sueB|uar|JW1202|b1211', 'protein', 'taxon:83333', 20140602, 'EcoCyc', nan, nan]\n",
      "['UniProtKB', 'P0ACC1', 'prmC', 'enables', 'GO:0036009', 'GOREF:0000033', 'IBA', 'PANTHER:PTN000430983|UniProtKB:P0ACC1', 'F', 'Release factor glutamine methyltransferase', 'prmC|hemK|JW1203|b1212', 'protein', 'taxon:83333', 20170228, 'GO_Central', nan, nan]\n",
      "************ 511145.b1713 511145.b1714\n",
      "['UniProtKB', 'P07395', 'pheT', 'contributes_to', 'GO:0004826', 'GOREF:0000033', 'IBA', 'PANTHER:PTN000101805|SGD:S000004050', 'F', 'Phenylalanine--tRNA ligase beta subunit', 'pheT|JW1703|b1713', 'protein', 'taxon:83333', 20170228, 'GO_Central', nan, nan]\n",
      "['UniProtKB', 'P08312', 'pheS', 'involved_in', 'GO:0006432', 'GOREF:0000033', 'IBA', 'PANTHER:PTN000165932|SGD:S000006251|FB:FBgn0030007|UniProtKB:P08312|UniProtKB:C6KSN5|UniProtKB:O95363|FB:FBgn0275436|UniProtKB:Q9Y285|SGD:S000001872', 'P', 'Phenylalanine--tRNA ligase alpha subunit', 'pheS|JW5277|b1714', 'protein', 'taxon:83333', 20230110, 'GO_Central', nan, nan]\n",
      "************ 511145.b1716 511145.b3186\n",
      "['UniProtKB', 'P0A7L3', 'rplT', 'involved_in', 'GO:0000027', 'GOREF:0000033', 'IBA', 'PANTHER:PTN000105838|UniProtKB:P0A7L3', 'P', 'Large ribosomal subunit protein bL20', 'rplT|pdzA|JW1706|b1716', 'protein', 'taxon:83333', 20170228, 'GO_Central', nan, nan]\n",
      "['UniProtKB', 'P0AG48', 'rplU', 'enables', 'GO:0003735', 'GOREF:0000033', 'IBA', 'PANTHER:PTN000482431|SGD:S000003632', 'F', 'Large ribosomal subunit protein bL21', 'rplU|JW3153|b3186', 'protein', 'taxon:83333', 20170228, 'GO_Central', nan, nan]\n",
      "************ 511145.b1716 511145.b3231\n",
      "['UniProtKB', 'P0A7L3', 'rplT', 'involved_in', 'GO:0000027', 'GOREF:0000033', 'IBA', 'PANTHER:PTN000105838|UniProtKB:P0A7L3', 'P', 'Large ribosomal subunit protein bL20', 'rplT|pdzA|JW1706|b1716', 'protein', 'taxon:83333', 20170228, 'GO_Central', nan, nan]\n",
      "['UniProtKB', 'P0AA10', 'rplM', 'is_active_in', 'GO:0005840', 'GOREF:0000033', 'IBA', 'PANTHER:PTN000166701|FB:FBgn0037351|UniProtKB:P40429|SGD:S000001395|MGI:MGI:2137218|MGI:MGI:1351455|UniProtKB:Q9BYD1|SGD:S000005676|UniProtKB:P0AA10|SGD:S000005013|RGD:628697|UniProtKB:Q580D5|UniProtKB:O96222', 'C', 'Large ribosomal subunit protein uL13', 'rplM|JW3200|b3231', 'protein', 'taxon:83333', 20230110, 'GO_Central', nan, nan]\n",
      "************ 511145.b2185 511145.b3313\n",
      "['UniProtKB', 'P68919', 'rplY', 'enables', 'GO:0008097', 'GOREF:0000033', 'IBA', 'PANTHER:PTN002116473|UniProtKB:P68919', 'F', 'Large ribosomal subunit protein bL25', 'rplY|JW2173|b2185', 'protein', 'taxon:83333', 20170228, 'GO_Central', nan, nan]\n",
      "['UniProtKB', 'P0ADY7', 'rplP', 'part_of', 'GO:0022625', 'GOREF:0000033', 'IBA', 'PANTHER:PTN008534822|UniProtKB:P0ADY7', 'C', 'Large ribosomal subunit protein uL16', 'rplP|JW3275|b3313', 'protein', 'taxon:83333', 20170228, 'GO_Central', nan, nan]\n"
     ]
    }
   ],
   "source": [
    "count = 14\n",
    "for p1, p2 in selected_PPs[count:(count+7)]:\n",
    "    uni_p1, uni_p2 = StringID2UniID_dict[p1], StringID2UniID_dict[p2]\n",
    "    print(\"*\"*12, p1, p2)\n",
    "    print(ecocyc_info_dict[uni_p1])\n",
    "    print(ecocyc_info_dict[uni_p2])"
   ]
  },
  {
   "cell_type": "code",
   "execution_count": 39,
   "metadata": {},
   "outputs": [
    {
     "name": "stdout",
     "output_type": "stream",
     "text": [
      "************ 511145.b2511 511145.b3984\n",
      "['UniProtKB', 'P0A6P5', 'der', 'involved_in', 'GO:0000027', 'GOREF:0000033', 'IBA', 'PANTHER:PTN000182950|UniProtKB:P0A6P5', 'P', 'GTPase Der', 'der|engA|yfgK|JW5403|b2511', 'protein', 'taxon:83333', 20170228, 'GO_Central', nan, nan]\n",
      "['UniProtKB', 'P0A7L0', 'rplA', 'part_of', 'GO:0022625', 'GOREF:0000033', 'IBA', 'PANTHER:PTN000560546|UniProtKB:P0A7L0', 'C', 'Large ribosomal subunit protein uL1', 'rplA|JW3947|b3984', 'protein', 'taxon:83333', 20230407, 'GO_Central', nan, nan]\n",
      "************ 511145.b2606 511145.b3320\n",
      "['UniProtKB', 'P0A7K6', 'rplS', 'enables', 'GO:0003735', 'GOREF:0000033', 'IBA', 'PANTHER:PTN000402783|UniProtKB:P0A7K6|SGD:S000000642', 'F', 'Large ribosomal subunit protein bL19', 'rplS|JW2587|b2606', 'protein', 'taxon:83333', 20170228, 'GO_Central', nan, nan]\n",
      "['UniProtKB', 'P60438', 'rplC', 'part_of', 'GO:0022625', 'GOREF:0000033', 'IBA', 'PANTHER:PTN000132497|UniProtKB:P60438', 'C', 'Large ribosomal subunit protein uL3', 'rplC|JW3282|b3320', 'protein', 'taxon:83333', 20181024, 'GO_Central', nan, nan]\n",
      "************ 511145.b2610 511145.b3309\n",
      "['UniProtKB', 'P0AGD7', 'ffh', 'part_of', 'GO:1990904', 'PMID:1701272', 'IDA', nan, 'C', 'Signal recognition particle protein', 'ffh|JW5414|b2610', 'protein', 'taxon:83333', 20080723, 'EcoliWiki', nan, nan]\n",
      "['UniProtKB', 'P60624', 'rplX', 'part_of', 'GO:0022625', 'GOREF:0000033', 'IBA', 'PANTHER:PTN008543942|UniProtKB:P60624', 'C', 'Large ribosomal subunit protein uL24', 'rplX|JW3271|b3309', 'protein', 'taxon:83333', 20170228, 'GO_Central', nan, nan]\n",
      "************ 511145.b2891 511145.b3313\n",
      "['UniProtKB', 'P07012', 'prfB', 'located_in', 'GO:0005829', 'PMID:18304323', 'IDA', nan, 'C', 'Peptide chain release factor RF2', 'prfB|supK|JW5847|b2891', 'protein', 'taxon:83333', 20140602, 'EcoCyc', nan, nan]\n",
      "['UniProtKB', 'P0ADY7', 'rplP', 'part_of', 'GO:0022625', 'GOREF:0000033', 'IBA', 'PANTHER:PTN008534822|UniProtKB:P0ADY7', 'C', 'Large ribosomal subunit protein uL16', 'rplP|JW3275|b3313', 'protein', 'taxon:83333', 20170228, 'GO_Central', nan, nan]\n",
      "************ 511145.b3183 511145.b3305\n",
      "['UniProtKB', 'P42641', 'obgE', 'enables', 'GO:0003924', 'GOREF:0000033', 'IBA', 'PANTHER:PTN000193646|UniProtKB:P9WMT1|UniProtKB:P42641|UniProtKB:A0A144A1B2|UniProtKB:Q9H4K7|TAIR:locus:2182998', 'F', 'GTPase ObgE/CgtA', 'obgE|cgtA|obg|yhbZ|JW3150|b3183', 'protein', 'taxon:83333', 20230110, 'GO_Central', nan, nan]\n",
      "['UniProtKB', 'P0AG55', 'rplF', 'part_of', 'GO:0022625', 'GOREF:0000033', 'IBA', 'PANTHER:PTN000183776|UniProtKB:P0AG55', 'C', 'Large ribosomal subunit protein uL6', 'rplF|JW3267|b3305', 'protein', 'taxon:83333', 20170228, 'GO_Central', nan, nan]\n",
      "************ 511145.b3185 511145.b3304\n",
      "['UniProtKB', 'P0A7L8', 'rpmA', 'enables', 'GO:0003735', 'GOREF:0000033', 'IBA', 'PANTHER:PTN000407638|UniProtKB:P0A7L8|SGD:S000004950', 'F', 'Large ribosomal subunit protein bL27', 'rpmA|JW3152|b3185', 'protein', 'taxon:83333', 20170228, 'GO_Central', nan, nan]\n",
      "['UniProtKB', 'P0C018', 'rplR', 'enables', 'GO:0008097', 'GOREF:0000033', 'IBA', 'PANTHER:PTN000307352|UniProtKB:Q9H0U6|UniProtKB:P0C018', 'F', 'Large ribosomal subunit protein uL18', 'rplR|JW3266|b3304', 'protein', 'taxon:83333', 20170228, 'GO_Central', nan, nan]\n",
      "************ 511145.b3185 511145.b3313\n",
      "['UniProtKB', 'P0A7L8', 'rpmA', 'enables', 'GO:0003735', 'GOREF:0000033', 'IBA', 'PANTHER:PTN000407638|UniProtKB:P0A7L8|SGD:S000004950', 'F', 'Large ribosomal subunit protein bL27', 'rpmA|JW3152|b3185', 'protein', 'taxon:83333', 20170228, 'GO_Central', nan, nan]\n",
      "['UniProtKB', 'P0ADY7', 'rplP', 'part_of', 'GO:0022625', 'GOREF:0000033', 'IBA', 'PANTHER:PTN008534822|UniProtKB:P0ADY7', 'C', 'Large ribosomal subunit protein uL16', 'rplP|JW3275|b3313', 'protein', 'taxon:83333', 20170228, 'GO_Central', nan, nan]\n"
     ]
    }
   ],
   "source": [
    "count = 21\n",
    "for p1, p2 in selected_PPs[count:(count+7)]:\n",
    "    uni_p1, uni_p2 = StringID2UniID_dict[p1], StringID2UniID_dict[p2]\n",
    "    print(\"*\"*12, p1, p2)\n",
    "    print(ecocyc_info_dict[uni_p1])\n",
    "    print(ecocyc_info_dict[uni_p2])"
   ]
  },
  {
   "cell_type": "code",
   "execution_count": 40,
   "metadata": {},
   "outputs": [
    {
     "name": "stdout",
     "output_type": "stream",
     "text": [
      "************ 511145.b3186 511145.b3231\n",
      "['UniProtKB', 'P0AG48', 'rplU', 'enables', 'GO:0003735', 'GOREF:0000033', 'IBA', 'PANTHER:PTN000482431|SGD:S000003632', 'F', 'Large ribosomal subunit protein bL21', 'rplU|JW3153|b3186', 'protein', 'taxon:83333', 20170228, 'GO_Central', nan, nan]\n",
      "['UniProtKB', 'P0AA10', 'rplM', 'is_active_in', 'GO:0005840', 'GOREF:0000033', 'IBA', 'PANTHER:PTN000166701|FB:FBgn0037351|UniProtKB:P40429|SGD:S000001395|MGI:MGI:2137218|MGI:MGI:1351455|UniProtKB:Q9BYD1|SGD:S000005676|UniProtKB:P0AA10|SGD:S000005013|RGD:628697|UniProtKB:Q580D5|UniProtKB:O96222', 'C', 'Large ribosomal subunit protein uL13', 'rplM|JW3200|b3231', 'protein', 'taxon:83333', 20230110, 'GO_Central', nan, nan]\n",
      "************ 511145.b3186 511145.b3301\n",
      "['UniProtKB', 'P0AG48', 'rplU', 'enables', 'GO:0003735', 'GOREF:0000033', 'IBA', 'PANTHER:PTN000482431|SGD:S000003632', 'F', 'Large ribosomal subunit protein bL21', 'rplU|JW3153|b3186', 'protein', 'taxon:83333', 20170228, 'GO_Central', nan, nan]\n",
      "['UniProtKB', 'P02413', 'rplO', 'part_of', 'GO:0022625', 'GOREF:0000033', 'IBA', 'PANTHER:PTN000309650|UniProtKB:P02413', 'C', 'Large ribosomal subunit protein uL15', 'rplO|JW3263|b3301', 'protein', 'taxon:83333', 20170228, 'GO_Central', nan, nan]\n",
      "************ 511145.b3230 511145.b3307\n",
      "['UniProtKB', 'P0A7X3', 'rpsI', 'enables', 'GO:0003735', 'GOREF:0000033', 'IBA', 'PANTHER:PTN000490829|FB:FBgn0034743|MGI:MGI:98118|SGD:S000000350|UniProtKB:P0A7X3|UniProtKB:P62249', 'F', 'Small ribosomal subunit protein uS9', 'rpsI|JW3199|b3230', 'protein', 'taxon:83333', 20230406, 'GO_Central', nan, nan]\n",
      "['UniProtKB', 'P0AG59', 'rpsN', 'part_of', 'GO:0015935', 'GOREF:0000033', 'IBA', 'PANTHER:PTN000457003|UniProtKB:O60783|SGD:S000006370|UniProtKB:P0AG59', 'C', 'Small ribosomal subunit protein uS14', 'rpsN|JW3269|b3307', 'protein', 'taxon:83333', 20200808, 'GO_Central', nan, nan]\n",
      "************ 511145.b3230 511145.b3341\n",
      "['UniProtKB', 'P0A7X3', 'rpsI', 'enables', 'GO:0003735', 'GOREF:0000033', 'IBA', 'PANTHER:PTN000490829|FB:FBgn0034743|MGI:MGI:98118|SGD:S000000350|UniProtKB:P0A7X3|UniProtKB:P62249', 'F', 'Small ribosomal subunit protein uS9', 'rpsI|JW3199|b3230', 'protein', 'taxon:83333', 20230406, 'GO_Central', nan, nan]\n",
      "['UniProtKB', 'P02359', 'rpsG', 'involved_in', 'GO:0000028', 'GOREF:0000033', 'IBA', 'PANTHER:PTN000128889|UniProtKB:P02359', 'P', 'Small ribosomal subunit protein uS7', 'rpsG|JW3303|b3341', 'protein', 'taxon:83333', 20170228, 'GO_Central', nan, nan]\n",
      "************ 511145.b3231 511145.b3320\n",
      "['UniProtKB', 'P0AA10', 'rplM', 'is_active_in', 'GO:0005840', 'GOREF:0000033', 'IBA', 'PANTHER:PTN000166701|FB:FBgn0037351|UniProtKB:P40429|SGD:S000001395|MGI:MGI:2137218|MGI:MGI:1351455|UniProtKB:Q9BYD1|SGD:S000005676|UniProtKB:P0AA10|SGD:S000005013|RGD:628697|UniProtKB:Q580D5|UniProtKB:O96222', 'C', 'Large ribosomal subunit protein uL13', 'rplM|JW3200|b3231', 'protein', 'taxon:83333', 20230110, 'GO_Central', nan, nan]\n",
      "['UniProtKB', 'P60438', 'rplC', 'part_of', 'GO:0022625', 'GOREF:0000033', 'IBA', 'PANTHER:PTN000132497|UniProtKB:P60438', 'C', 'Large ribosomal subunit protein uL3', 'rplC|JW3282|b3320', 'protein', 'taxon:83333', 20181024, 'GO_Central', nan, nan]\n",
      "************ 511145.b3294 511145.b3315\n",
      "['UniProtKB', 'P0AG44', 'rplQ', 'enables', 'GO:0003735', 'GOREF:0000033', 'IBA', 'PANTHER:PTN000373768|SGD:S000003599|UniProtKB:P0AG44', 'F', 'Large ribosomal subunit protein bL17', 'rplQ|JW3256|b3294', 'protein', 'taxon:83333', 20170228, 'GO_Central', nan, nan]\n",
      "['UniProtKB', 'P61175', 'rplV', 'part_of', 'GO:0022625', 'GOREF:0000033', 'IBA', 'PANTHER:PTN000337498|UniProtKB:P61175', 'C', 'Large ribosomal subunit protein uL22', 'rplV|eryB|JW3277|b3315', 'protein', 'taxon:83333', 20170228, 'GO_Central', nan, nan]\n",
      "************ 511145.b3294 511145.b3320\n",
      "['UniProtKB', 'P0AG44', 'rplQ', 'enables', 'GO:0003735', 'GOREF:0000033', 'IBA', 'PANTHER:PTN000373768|SGD:S000003599|UniProtKB:P0AG44', 'F', 'Large ribosomal subunit protein bL17', 'rplQ|JW3256|b3294', 'protein', 'taxon:83333', 20170228, 'GO_Central', nan, nan]\n",
      "['UniProtKB', 'P60438', 'rplC', 'part_of', 'GO:0022625', 'GOREF:0000033', 'IBA', 'PANTHER:PTN000132497|UniProtKB:P60438', 'C', 'Large ribosomal subunit protein uL3', 'rplC|JW3282|b3320', 'protein', 'taxon:83333', 20181024, 'GO_Central', nan, nan]\n"
     ]
    }
   ],
   "source": [
    "count = 28\n",
    "for p1, p2 in selected_PPs[count:(count+7)]:\n",
    "    uni_p1, uni_p2 = StringID2UniID_dict[p1], StringID2UniID_dict[p2]\n",
    "    print(\"*\"*12, p1, p2)\n",
    "    print(ecocyc_info_dict[uni_p1])\n",
    "    print(ecocyc_info_dict[uni_p2])"
   ]
  },
  {
   "cell_type": "code",
   "execution_count": 41,
   "metadata": {},
   "outputs": [
    {
     "name": "stdout",
     "output_type": "stream",
     "text": [
      "************ 511145.b3298 511145.b4161\n",
      "['UniProtKB', 'P0A7S9', 'rpsM', 'part_of', 'GO:0015935', 'GOREF:0000033', 'IBA', 'PANTHER:PTN000093238|MGI:MGI:98146|UniProtKB:P0A7S9|RGD:3595|UniProtKB:P62269|UniProtKB:P62272|SGD:S000005025', 'C', 'Small ribosomal subunit protein uS13', 'rpsM|JW3260|b3298', 'protein', 'taxon:83333', 20230405, 'GO_Central', nan, nan]\n",
      "['UniProtKB', 'P39286', 'rsgA', 'located_in', 'GO:0005829', 'PMID:18304323', 'IDA', nan, 'C', 'Small ribosomal subunit biogenesis GTPase RsgA', 'rsgA|engC|yjeQ|JW4122|b4161', 'protein', 'taxon:83333', 20140602, 'EcoCyc', nan, nan]\n",
      "************ 511145.b3300 511145.b3309\n",
      "['UniProtKB', 'P0AGA2', 'secY', 'involved_in', 'GO:0006616', 'GOREF:0000033', 'IBA', 'PANTHER:PTN000097217|SGD:S000004370|UniProtKB:P0AGA2', 'P', 'Protein translocase subunit SecY', 'secY|prlA|JW3262|b3300', 'protein', 'taxon:83333', 20180302, 'GO_Central', nan, nan]\n",
      "['UniProtKB', 'P60624', 'rplX', 'part_of', 'GO:0022625', 'GOREF:0000033', 'IBA', 'PANTHER:PTN008543942|UniProtKB:P60624', 'C', 'Large ribosomal subunit protein uL24', 'rplX|JW3271|b3309', 'protein', 'taxon:83333', 20170228, 'GO_Central', nan, nan]\n",
      "************ 511145.b3300 511145.b3705\n",
      "['UniProtKB', 'P0AGA2', 'secY', 'involved_in', 'GO:0006616', 'GOREF:0000033', 'IBA', 'PANTHER:PTN000097217|SGD:S000004370|UniProtKB:P0AGA2', 'P', 'Protein translocase subunit SecY', 'secY|prlA|JW3262|b3300', 'protein', 'taxon:83333', 20180302, 'GO_Central', nan, nan]\n",
      "['UniProtKB', 'P25714', 'yidC', 'enables', 'GO:0032977', 'GOREF:0000033', 'IBA', 'PANTHER:PTN000276804|UniProtKB:Q8N8Q8|SGD:S000000956|UniProtKB:P25714|PomBase:SPCC1442.15c|SGD:S000003294', 'F', 'Membrane protein insertase YidC', 'yidC|JW3683|b3705', 'protein', 'taxon:83333', 20181116, 'GO_Central', nan, nan]\n",
      "************ 511145.b3301 511145.b3319\n",
      "['UniProtKB', 'P02413', 'rplO', 'part_of', 'GO:0022625', 'GOREF:0000033', 'IBA', 'PANTHER:PTN000309650|UniProtKB:P02413', 'C', 'Large ribosomal subunit protein uL15', 'rplO|JW3263|b3301', 'protein', 'taxon:83333', 20170228, 'GO_Central', nan, nan]\n",
      "['UniProtKB', 'P60723', 'rplD', 'enables', 'GO:0003735', 'GOREF:0000033', 'IBA', 'PANTHER:PTN000078778|SGD:S000004487', 'F', 'Large ribosomal subunit protein uL4', 'rplD|eryA|JW3281|b3319', 'protein', 'taxon:83333', 20170228, 'GO_Central', nan, nan]\n",
      "************ 511145.b3303 511145.b3306\n",
      "['UniProtKB', 'P0A7W1', 'rpsE', 'enables', 'GO:0003735', 'GOREF:0000033', 'IBA', 'PANTHER:PTN000346706|UniProtKB:P0A7W1|RGD:619887|UniProtKB:Q8IL02|FB:FBgn0004867|UniProtKB:P15880|MGI:MGI:105110|SGD:S000003091|SGD:S000000455', 'F', 'Small ribosomal subunit protein uS5', 'rpsE|spc|JW3265|b3303', 'protein', 'taxon:83333', 20230406, 'GO_Central', nan, nan]\n",
      "['UniProtKB', 'P0A7W7', 'rpsH', 'part_of', 'GO:0022627', 'GOREF:0000033', 'IBA', 'PANTHER:PTN000204723|UniProtKB:P62244|MGI:MGI:2389091|UniProtKB:P0A7W7|SGD:S000003726|SGD:S000004359|RGD:619939', 'C', 'Small ribosomal subunit protein uS8', 'rpsH|JW3268|b3306', 'protein', 'taxon:83333', 20230405, 'GO_Central', nan, nan]\n",
      "************ 511145.b3305 511145.b4173\n",
      "['UniProtKB', 'P0AG55', 'rplF', 'part_of', 'GO:0022625', 'GOREF:0000033', 'IBA', 'PANTHER:PTN000183776|UniProtKB:P0AG55', 'C', 'Large ribosomal subunit protein uL6', 'rplF|JW3267|b3305', 'protein', 'taxon:83333', 20170228, 'GO_Central', nan, nan]\n",
      "['UniProtKB', 'P25519', 'hflX', 'is_active_in', 'GO:0005737', 'GOREF:0000033', 'IBA', 'PANTHER:PTN000027640|UniProtKB:P25519', 'C', 'GTPase HflX', 'hflX|JW4131|b4173', 'protein', 'taxon:83333', 20200807, 'GO_Central', nan, nan]\n",
      "************ 511145.b3306 511145.b3311\n",
      "['UniProtKB', 'P0A7W7', 'rpsH', 'part_of', 'GO:0022627', 'GOREF:0000033', 'IBA', 'PANTHER:PTN000204723|UniProtKB:P62244|MGI:MGI:2389091|UniProtKB:P0A7W7|SGD:S000003726|SGD:S000004359|RGD:619939', 'C', 'Small ribosomal subunit protein uS8', 'rpsH|JW3268|b3306', 'protein', 'taxon:83333', 20230405, 'GO_Central', nan, nan]\n",
      "['UniProtKB', 'P0AG63', 'rpsQ', 'part_of', 'GO:0022627', 'GOREF:0000033', 'IBA', 'PANTHER:PTN000078534|RGD:621026|MGI:MGI:1351329|UniProtKB:P0AG63|SGD:S000000252|SGD:S000002432|UniProtKB:P62280', 'C', 'Small ribosomal subunit protein uS17', 'rpsQ|neaA|JW3273|b3311', 'protein', 'taxon:83333', 20230405, 'GO_Central', nan, nan]\n"
     ]
    }
   ],
   "source": [
    "count = 35\n",
    "for p1, p2 in selected_PPs[count:(count+7)]:\n",
    "    uni_p1, uni_p2 = StringID2UniID_dict[p1], StringID2UniID_dict[p2]\n",
    "    print(\"*\"*12, p1, p2)\n",
    "    print(ecocyc_info_dict[uni_p1])\n",
    "    print(ecocyc_info_dict[uni_p2])"
   ]
  },
  {
   "cell_type": "code",
   "execution_count": 42,
   "metadata": {},
   "outputs": [
    {
     "name": "stdout",
     "output_type": "stream",
     "text": [
      "************ 511145.b3314 511145.b3982\n",
      "['UniProtKB', 'P0A7V3', 'rpsC', 'part_of', 'GO:0022627', 'GOREF:0000033', 'IBA', 'PANTHER:PTN000205057|MGI:MGI:1350917|UniProtKB:P23396|UniProtKB:P0A7V3|SGD:S000005122|RGD:619888|UniProtKB:Q8IKH8', 'C', 'Small ribosomal subunit protein uS3', 'rpsC|JW3276|b3314', 'protein', 'taxon:83333', 20230405, 'GO_Central', nan, nan]\n",
      "['UniProtKB', 'P0AFG0', 'nusG', 'is_active_in', 'GO:0005829', 'GOREF:0000033', 'IBA', 'PANTHER:PTN000767438|UniProtKB:P0AFG0', 'C', 'Transcription termination/antitermination protein NusG', 'nusG|JW3945|b3982', 'protein', 'taxon:83333', 20170228, 'GO_Central', nan, nan]\n",
      "************ 511145.b3317 511145.b4203\n",
      "['UniProtKB', 'P60422', 'rplB', 'enables', 'GO:0003723', 'GOREF:0000033', 'IBA', 'PANTHER:PTN000343556|TAIR:locus:504954483|TAIR:locus:2122189|RGD:619827|TAIR:locus:2828126|TAIR:locus:2060917', 'F', 'Large ribosomal subunit protein uL2', 'rplB|JW3279|b3317', 'protein', 'taxon:83333', 20230110, 'GO_Central', nan, nan]\n",
      "['UniProtKB', 'P0A7R1', 'rplI', 'part_of', 'GO:0022625', 'GOREF:0000033', 'IBA', 'PANTHER:PTN000483103|UniProtKB:P0A7R1', 'C', 'Large ribosomal subunit protein bL9', 'rplI|JW4161|b4203', 'protein', 'taxon:83333', 20170228, 'GO_Central', nan, nan]\n",
      "************ 511145.b3342 511145.b4161\n",
      "['UniProtKB', 'P0A7S3', 'rpsL', 'is_active_in', 'GO:0005840', 'GOREF:0000033', 'IBA', 'PANTHER:PTN000182999|RGD:621039|MGI:MGI:1913725|UniProtKB:Q6SA96|UniProtKB:Q29RU1|UniProtKB:P62266|UniProtKB:P0A7S3|UniProtKB:O15235|SGD:S000006336|SGD:S000005319|FB:FBgn0033912|SGD:S000003350', 'C', 'Small ribosomal subunit protein uS12', 'rpsL|strA|JW3304|b3342', 'protein', 'taxon:83333', 20230405, 'GO_Central', nan, nan]\n",
      "['UniProtKB', 'P39286', 'rsgA', 'located_in', 'GO:0005829', 'PMID:18304323', 'IDA', nan, 'C', 'Small ribosomal subunit biogenesis GTPase RsgA', 'rsgA|engC|yjeQ|JW4122|b4161', 'protein', 'taxon:83333', 20140602, 'EcoCyc', nan, nan]\n",
      "************ 511145.b3731 511145.b3733\n",
      "['UniProtKB', 'P0A6E6', 'atpC', 'part_of', 'GO:0045261', 'GOREF:0000033', 'IBA', 'PANTHER:PTN000352521|UniProtKB:P0A6E6', 'C', 'ATP synthase epsilon chain', 'atpC|papG|uncC|JW3709|b3731', 'protein', 'taxon:83333', 20170228, 'GO_Central', nan, nan]\n",
      "['UniProtKB', 'P0ABA6', 'atpG', 'involved_in', 'GO:0015986', 'GOREF:0000033', 'IBA', 'PANTHER:PTN000190379|UniProtKB:P36542|UniProtKB:P0ABA6|SGD:S000000243', 'P', 'ATP synthase gamma chain', 'atpG|papC|uncG|JW3711|b3733', 'protein', 'taxon:83333', 20230405, 'GO_Central', nan, nan]\n",
      "************ 511145.b3983 511145.b3985\n",
      "['UniProtKB', 'P0A7J7', 'rplK', 'part_of', 'GO:0022625', 'GOREF:0000033', 'IBA', 'PANTHER:PTN008523224|UniProtKB:P0A7J7', 'C', 'Large ribosomal subunit protein uL11', 'rplK|relC|JW3946|b3983', 'protein', 'taxon:83333', 20170228, 'GO_Central', nan, nan]\n",
      "['UniProtKB', 'P0A7J3', 'rplJ', 'involved_in', 'GO:0006412', 'GOREF:0000033', 'IBA', 'PANTHER:PTN000169209|UniProtKB:P0A7J3|UniProtKB:Q3MHY7', 'P', 'Large ribosomal subunit protein uL10', 'rplJ|JW3948|b3985', 'protein', 'taxon:83333', 20170228, 'GO_Central', nan, nan]\n",
      "************ 511145.b3983 511145.b4173\n",
      "['UniProtKB', 'P0A7J7', 'rplK', 'part_of', 'GO:0022625', 'GOREF:0000033', 'IBA', 'PANTHER:PTN008523224|UniProtKB:P0A7J7', 'C', 'Large ribosomal subunit protein uL11', 'rplK|relC|JW3946|b3983', 'protein', 'taxon:83333', 20170228, 'GO_Central', nan, nan]\n",
      "['UniProtKB', 'P25519', 'hflX', 'is_active_in', 'GO:0005737', 'GOREF:0000033', 'IBA', 'PANTHER:PTN000027640|UniProtKB:P25519', 'C', 'GTPase HflX', 'hflX|JW4131|b4173', 'protein', 'taxon:83333', 20200807, 'GO_Central', nan, nan]\n"
     ]
    }
   ],
   "source": [
    "count = 42\n",
    "for p1, p2 in selected_PPs[count:(count+7)]:\n",
    "    uni_p1, uni_p2 = StringID2UniID_dict[p1], StringID2UniID_dict[p2]\n",
    "    print(\"*\"*12, p1, p2)\n",
    "    print(ecocyc_info_dict[uni_p1])\n",
    "    print(ecocyc_info_dict[uni_p2])"
   ]
  },
  {
   "cell_type": "markdown",
   "metadata": {},
   "source": [
    "## we selected these protein pair \n",
    "these \"\"\"\n",
    "511145.b0169 511145.b3303\n",
    "511145.b0408 511145.b3300\n",
    "511145.b0416 511145.b3169\n",
    "511145.b1092 511145.b1094\n",
    "\"\"\"\n",
    "\n",
    "<!-- [(\"511145.b0169\", \"511145.b3303\"),(\"511145.b0408\", \"511145.b3300\"),(\"511145.b0416\", \"511145.b3169\"),(\"511145.b1092\", \"511145.b1094\")]): -->\n",
    "\n",
    "\n",
    "[(\"511145.b0169\", \"511145.b3303\"),(\"511145.b3300\", \"511145.b3705\"),(\"511145.b0416\", \"511145.b3169\"),(\"511145.b1092\", \"511145.b1094\")]):\n",
    "\n",
    "\n",
    "511145.b3300 511145.b3705\n",
    "\n",
    "small ribosomes \n",
    "************ 511145.b0169 511145.b3303\n",
    "['UniProtKB', 'P0A7V0', 'rpsB', 'enables', 'GO:0003735', 'GOREF:0000033', 'IBA', 'PANTHER:PTN000283441|UniProtKB:P0A7V0|SGD:S000000996', 'F', 'Small ribosomal subunit protein uS2', 'rpsB|JW0164|b0169', 'protein', 'taxon:83333', 20200808, 'GO_Central', nan, nan]\n",
    "['UniProtKB', 'P0A7W1', 'rpsE', 'enables', 'GO:0003735', 'GOREF:0000033', 'IBA', 'PANTHER:PTN000346706|UniProtKB:P0A7W1|RGD:619887|UniProtKB:Q8IL02|FB:FBgn0004867|UniProtKB:P15880|MGI:MGI:105110|SGD:S000003091|SGD:S000000455', 'F', 'Small ribosomal subunit protein uS5', 'rpsE|spc|JW3265|b3303', 'protein', 'taxon:83333', 20230406, 'GO_Central', nan, nan]\n",
    "***\n",
    "\n",
    "\n",
    "Protein translocase seem intereting \n",
    "************ 511145.b3300 511145.b3705\n",
    "['UniProtKB', 'P0AGA2', 'secY', 'involved_in', 'GO:0006616', 'GOREF:0000033', 'IBA', 'PANTHER:PTN000097217|SGD:S000004370|UniProtKB:P0AGA2', 'P', 'Protein translocase subunit SecY', 'secY|prlA|JW3262|b3300', 'protein', 'taxon:83333', 20180302, 'GO_Central', nan, nan]\n",
    "['UniProtKB', 'P25714', 'yidC', 'enables', 'GO:0032977', 'GOREF:0000033', 'IBA', 'PANTHER:PTN000276804|UniProtKB:Q8N8Q8|SGD:S000000956|UniProtKB:P25714|PomBase:SPCC1442.15c|SGD:S000003294', 'F', 'Membrane protein insertase YidC', 'yidC|JW3683|b3705', 'protein', 'taxon:83333', 20181116, 'GO_Central', nan, nan]\n",
    "************ 511145.b3301 511145.b3319\n",
    "\n",
    "Protein translocase, drop this one \n",
    "************ 511145.b0408 511145.b3300\n",
    "['UniProtKB', 'P0AG90', 'secD', 'involved_in', 'GO:0015031', 'GOREF:0000033', 'IBA', 'PANTHER:PTN000763987|UniProtKB:P0AG90|UniProtKB:P0AG93', 'P', 'Protein translocase subunit SecD', 'secD|JW0398|b0408', 'protein', 'taxon:83333', 20230406, 'GO_Central', nan, nan]\n",
    "['UniProtKB', 'P0AGA2', 'secY', 'involved_in', 'GO:0006616', 'GOREF:0000033', 'IBA', 'PANTHER:PTN000097217|SGD:S000004370|UniProtKB:P0AGA2', 'P', 'Protein translocase subunit SecY', 'secY|prlA|JW3262|b3300', 'protein', 'taxon:83333', 20180302, 'GO_Central', nan, nan]\n",
    "\n",
    "\n",
    "************ 511145.b0408 511145.b3705\n",
    "['UniProtKB', 'P0AG90', 'secD', 'involved_in', 'GO:0015031', 'GOREF:0000033', 'IBA', 'PANTHER:PTN000763987|UniProtKB:P0AG90|UniProtKB:P0AG93', 'P', 'Protein translocase subunit SecD', 'secD|JW0398|b0408', 'protein', 'taxon:83333', 20230406, 'GO_Central', nan, nan]\n",
    "['UniProtKB', 'P25714', 'yidC', 'enables', 'GO:0032977', 'GOREF:0000033', 'IBA', 'PANTHER:PTN000276804|UniProtKB:Q8N8Q8|SGD:S000000956|UniProtKB:P25714|PomBase:SPCC1442.15c|SGD:S000003294', 'F', 'Membrane protein insertase YidC', 'yidC|JW3683|b3705', 'protein', 'taxon:83333', 20181116, 'GO_Central', nan, nan]\n",
    "************ 511145.b0409 511145.b3300\n",
    "\n",
    "\n",
    "pick this one TF factors \n",
    "************ 511145.b0416 511145.b3169\n",
    "['UniProtKB', 'P0A780', 'nusB', 'is_active_in', 'GO:0005829', 'GOREF:0000033', 'IBA', 'PANTHER:PTN000118200|UniProtKB:P0A780', 'C', 'Transcription antitermination protein NusB', 'nusB|groNB|ssyB|JW0406|b0416', 'protein', 'taxon:83333', 20190524, 'GO_Central', nan, nan]\n",
    "['UniProtKB', 'P0AFF6', 'nusA', 'involved_in', 'GO:0031564', 'GOREF:0000033', 'IBA', 'PANTHER:PTN000505391|UniProtKB:P9WIV3|UniProtKB:P0AFF6', 'P', 'Transcription termination/antitermination protein NusA', 'nusA|JW3138|b3169', 'protein', 'taxon:83333', 20170228, 'GO_Central', nan, nan]\n",
    "\n",
    "\n",
    "\n",
    "this one to me is interseing , seems to be the transiennt interaction!!!!\n",
    "this one has high dca score in phylum level \n",
    "but its not in final sup table S1 \n",
    "check its final contact prob ? still predicted as positive \n",
    "(base) tao@deimos:~/temp_figures$ less STRINGFullPhyBalancePhyla_DCAandLRandRF_frame.csv | grep 511145.b1092 | grep 511145.b1094\n",
    "511145.b1092    511145.b1094    1.4689  0.6163442427111441      0.48848043808943464     P       pdb_direct\n",
    " ************ 511145.b1092 511145.b1094\n",
    "['UniProtKB', 'P0AAI9', 'fabD', 'enables', 'GO:0004314', 'GOREF:0000033', 'IBA', 'PANTHER:PTN002448244|UniProtKB:P0AAI9|SGD:S000005747|UniProtKB:Q8IVS2|UniProtKB:P9WNG5|TAIR:locus:2060884', 'F', 'Malonyl CoA-acyl carrier protein transacylase', 'fabD|tfpA|JW1078|b1092', 'protein', 'taxon:83333', 20211112, 'GO_Central', nan, nan]\n",
    "['UniProtKB', 'P0A6A8', 'acpP', 'enables', 'GO:0000036', 'GOREF:0000033', 'IBA', 'PANTHER:PTN000466551|UniProtKB:P9WQF1|UniProtKB:P0A6A8|TAIR:locus:2206300|TAIR:locus:2168968|TAIR:locus:2042331|UniProtKB:P9WQF3|UniProtKB:Q57WW9|UniProtKB:P11943', 'F', 'Acyl carrier protein', 'acpP|JW1080|b1094', 'protein', 'taxon:83333', 20230111, 'GO_Central', nan, nan]\n",
    "\n",
    "\n",
    "\n",
    "************ 511145.b0437 511145.b0438\n",
    "['UniProtKB', 'P0A6G7', 'clpP', 'involved_in', 'GO:0006515', 'GOREF:0000033', 'IBA', 'PANTHER:PTN000043558|UniProtKB:P0A6G7', 'P', 'ATP-dependent Clp protease proteolytic subunit', 'clpP|lopP|JW0427|b0437', 'protein', 'taxon:83333', 20180913, 'GO_Central', nan, nan]\n",
    "['UniProtKB', 'P0A6H1', 'clpX', 'involved_in', 'GO:0051301', 'GOREF:0000033', 'IBA', 'PANTHER:PTN000137358|UniProtKB:P0A6H1|UniProtKB:P9WPB9',\n",
    " 'P', 'ATP-dependent Clp protease ATP-binding subunit ClpX', 'clpX|lopC|JW0428|b0438', 'protein', 'taxon:83333', 20170228, 'GO_Central', nan, nan]\n",
    "\n",
    "\n",
    "____below is backup____\n",
    "\n",
    "************ 511145.b1716 511145.b3186\n",
    "['UniProtKB', 'P0A7L3', 'rplT', 'involved_in', 'GO:0000027', 'GOREF:0000033', 'IBA', 'PANTHER:PTN000105838|UniProtKB:P0A7L3', 'P', 'Large ribosomal subunit protein bL20', 'rplT|pdzA|JW1706|b1716', 'protein', 'taxon:83333', 20170228, 'GO_Central', nan, nan]\n",
    "['UniProtKB', 'P0AG48', 'rplU', 'enables', 'GO:0003735', 'GOREF:0000033', 'IBA', 'PANTHER:PTN000482431|SGD:S000003632', 'F', 'Large ribosomal subunit protein bL21', 'rplU|JW3153|b3186', 'protein', 'taxon:83333', 20170228, 'GO_Central', nan, nan]\n",
    "\n",
    "\n",
    "\n"
   ]
  },
  {
   "cell_type": "code",
   "execution_count": 43,
   "metadata": {},
   "outputs": [
    {
     "name": "stdout",
     "output_type": "stream",
     "text": [
      "('3', '/mnt/mnemo6/tao/PPI_Coevolution/CoEvo_data_STRING11.5/511145_EggNOGmaxLevel2_eggNOGfilteredData/DownSample_num3_pair_MSA_Nf90_PasteAlign/')\n",
      "('10', '/mnt/mnemo6/tao/PPI_Coevolution/CoEvo_data_STRING11.5/511145_EggNOGmaxLevel2_eggNOGfilteredData/DownSample_num10_pair_MSA_Nf90_PasteAlign/')\n",
      "('50', '/mnt/mnemo6/tao/PPI_Coevolution/CoEvo_data_STRING11.5/511145_EggNOGmaxLevel2_eggNOGfilteredData/DownSample_num50_pair_MSA_Nf90_PasteAlign/')\n",
      "('100', '/mnt/mnemo6/tao/PPI_Coevolution/CoEvo_data_STRING11.5/511145_EggNOGmaxLevel2_eggNOGfilteredData/DownSample_num100_pair_MSA_Nf90_PasteAlign/')\n",
      "('300', '/mnt/mnemo6/tao/PPI_Coevolution/CoEvo_data_STRING11.5/511145_EggNOGmaxLevel2_eggNOGfilteredData/DownSample_num300_pair_MSA_Nf90_PasteAlign/')\n",
      "('Not DownSampled', '/mnt/mnemo6/tao/PPI_Coevolution/CoEvo_data_STRING11.5/511145_EggNOGmaxLevel2_eggNOGfilteredData/pair_MSA_Nf90_PasteAlign/')\n",
      "******************************\n",
      "('phylum(1239)', '/mnt/mnemo6/tao/PPI_Coevolution/CoEvo_data_STRING11.5/1274374_EggNOGmaxLevel1239_eggNOGfilteredData/pair_MSA_Nf90_PasteAlign/')\n",
      "('phylum(1224)', '/mnt/mnemo6/tao/PPI_Coevolution/CoEvo_data_STRING11.5/511145_EggNOGmaxLevel1224_eggNOGfilteredData/pair_MSA_Nf90_PasteAlign/')\n",
      "('phylum(201174)', '/mnt/mnemo6/tao/PPI_Coevolution/CoEvo_data_STRING11.5/105422_EggNOGmaxLevel201174_eggNOGfilteredData/pair_MSA_Nf90_PasteAlign/')\n",
      "('phylum(976)', '/mnt/mnemo6/tao/PPI_Coevolution/CoEvo_data_STRING11.5/411476_EggNOGmaxLevel976_eggNOGfilteredData/pair_MSA_Nf90_PasteAlign/')\n"
     ]
    }
   ],
   "source": [
    "# DownSample_sizes = [3, 10, 50, 100, 300, 600]  # [3,5,10,50,100,200,300]\n",
    "DownSample_strategy = \"num\"  # \"percent\"\n",
    "DownSample_sizes = [3, 10, 50, 100, 300]\n",
    "\n",
    "selected1_pairedMSA_Nf90_folder_list = list()\n",
    "for DownSample_size in DownSample_sizes:\n",
    "    for EggNOG_maxLevel, currentSpe_TaxID in [('2', '511145')]:\n",
    "        input_root_folder = CoEvo_data_folder+currentSpe_TaxID + \\\n",
    "            \"_EggNOGmaxLevel\"+EggNOG_maxLevel+\"_eggNOGfilteredData/\"\n",
    "        DownSample_SamePosandNeg_pairedMSA_Nf90_folder = input_root_folder+\"DownSample_\" + \\\n",
    "            DownSample_strategy+str(DownSample_size) + \\\n",
    "            \"_pair_MSA_Nf90_PasteAlign/\"\n",
    "        selected1_pairedMSA_Nf90_folder_list.append(\n",
    "            (str(DownSample_size), DownSample_SamePosandNeg_pairedMSA_Nf90_folder))\n",
    "\n",
    "tupleList = [('2', '511145'),]\n",
    "for EggNOG_maxLevel, currentSpe_TaxID in tupleList:\n",
    "    input_root_folder = CoEvo_data_folder+currentSpe_TaxID + \\\n",
    "        \"_EggNOGmaxLevel\"+EggNOG_maxLevel+\"_eggNOGfilteredData/\"\n",
    "    SamePosandNeg_pairedMSA_Nf90_folder = input_root_folder+\"pair_MSA_Nf90_PasteAlign/\"\n",
    "    selected1_pairedMSA_Nf90_folder_list.append(\n",
    "        (\"Not DownSampled\",SamePosandNeg_pairedMSA_Nf90_folder))\n",
    "\n",
    "selected2_pairedMSA_Nf90_folder_list=list()\n",
    "tupleList = [(\"1239\", \"1274374\"), \n",
    "             ('1224', '511145'),# make it second to match color in other plot \n",
    "             ('201174', '105422'), ('976', '411476'),\n",
    "             ]\n",
    "for EggNOG_maxLevel, currentSpe_TaxID in tupleList:\n",
    "    input_root_folder = CoEvo_data_folder+currentSpe_TaxID + \\\n",
    "        \"_EggNOGmaxLevel\"+EggNOG_maxLevel+\"_eggNOGfilteredData/\"\n",
    "    SamePosandNeg_pairedMSA_Nf90_folder = input_root_folder+\"pair_MSA_Nf90_PasteAlign/\"\n",
    "    selected2_pairedMSA_Nf90_folder_list.append((f\"phylum({EggNOG_maxLevel})\",SamePosandNeg_pairedMSA_Nf90_folder))\n",
    "\n",
    "\n",
    "for f in selected1_pairedMSA_Nf90_folder_list:\n",
    "    print(f)\n",
    "print(\"*\"*30)\n",
    "for f in selected2_pairedMSA_Nf90_folder_list:\n",
    "    print(f)"
   ]
  },
  {
   "cell_type": "code",
   "execution_count": 44,
   "metadata": {},
   "outputs": [],
   "source": [
    "def get_homologous_pp_byFolder(pp1,pp2,folder,BestHomologous_listDict): \n",
    "    if '1274374' in folder: \n",
    "        if (pp1,pp2) in BestHomologous_listDict[('1239', '1274374')]: \n",
    "            new_pp1, new_pp2 = BestHomologous_listDict[('1239', '1274374')][(pp1,pp2)]\n",
    "    elif '105422' in folder:\n",
    "        if (pp1,pp2) in BestHomologous_listDict[('201174', '105422')]: \n",
    "            new_pp1, new_pp2 = BestHomologous_listDict[(\n",
    "                '201174', '105422')][(pp1, pp2)]\n",
    "    elif '411476' in folder:\n",
    "        if (pp1,pp2) in BestHomologous_listDict[('976', '411476')]:\n",
    "            new_pp1, new_pp2 = BestHomologous_listDict[(\n",
    "                '976', '411476')][(pp1, pp2)]\n",
    "\n",
    "    else:\n",
    "      new_pp1,new_pp2=pp1,pp2\n",
    "\n",
    "    return (new_pp1,new_pp2)"
   ]
  },
  {
   "cell_type": "code",
   "execution_count": 45,
   "metadata": {},
   "outputs": [],
   "source": [
    "def plot_pairwise_distance_histplot(pp1, pp2, selected_pairedMSA_Nf90_folder_list, ax, alpha=0.5,legend=None,legend_loc=None,title=False,\n",
    "                            xlabel=True,ylabel=True):\n",
    "    # tutorial to use sns to draw histplot https://seaborn.pydata.org/tutorial/distributions.html\n",
    "    #plt.figure(figsize=(8, 6))\n",
    "    #fig, ax = plt.subplots()\n",
    "    for label_text,pairedMSA_Nf90_folder in selected_pairedMSA_Nf90_folder_list:\n",
    "        new_pp1, new_pp2 = get_homologous_pp_byFolder(\n",
    "            pp1, pp2, pairedMSA_Nf90_folder, Query2Subject_QueSpeAllPPI_BestHomologous_listDict)\n",
    "\n",
    "        new_pp1, new_pp2, msa_ori, msa_dists_list = get_msa_dist_list(\n",
    "            [new_pp1, new_pp2, pairedMSA_Nf90_folder])\n",
    "\n",
    "        # Drawing the distribution plot\n",
    "        # sns.displot(msa_dists_triu, bins=len(msa_dists_triu), kde=True) #\n",
    "        # sns.histplot(msa_dists_list,bins=bins_num)\n",
    "        # plt.hist(control1_list, bins=bins_num, alpha=0.5, label=\"control1\")\n",
    "        #sns.histplot(msa_dists_list, bins=bins_num, alpha=0.5, stat=\"probability\")\n",
    "        #sns.displot(msa_dists_list, alpha=0.5, kind=\"kde\",ax=ax,fill=True)\n",
    "        #kdeplot is axix level figure and displot is figure level funftion \n",
    "        sns.kdeplot(msa_dists_list, alpha=alpha,\n",
    "                    ax=ax, fill=True, label=label_text)\n",
    "\n",
    "        # Adding labels and title\n",
    "        # plt.title('Distribution Plot of Upper Triangle Values')\n",
    "        # plt.xlabel('Value')\n",
    "        # plt.ylabel('Density')\n",
    "        # Show the plot\n",
    "        # if ylabel:\n",
    "        ax.set_ylabel(\"Density\", fontsize=16)  # fontsize=16 fontsize=12\n",
    "        # \"Pairwise sequence identity\"\n",
    "        if xlabel:\n",
    "            # fontsize=16 fontsize=12\n",
    "            ax.set_xlabel(\"Sequence identity\", fontsize=16)\n",
    "        if title:\n",
    "            ax.set_title(\"Distribution plot of pairwise sequence identity in paired MSA\",loc='right', fontsize=16)\n",
    "            \n",
    "        ax.legend(title=legend,\n",
    "            loc=legend_loc,\n",
    "           # loc=\"upper right\",\n",
    "           # loc='center left', bbox_to_anchor=(1, 0.5),\n",
    "           fontsize=10,\n",
    "          )\n",
    "\n",
    "    print(new_pp1, new_pp2, pairedMSA_Nf90_folder)\n",
    "    # plt.show()"
   ]
  },
  {
   "cell_type": "code",
   "execution_count": null,
   "metadata": {},
   "outputs": [],
   "source": []
  },
  {
   "cell_type": "code",
   "execution_count": null,
   "metadata": {},
   "outputs": [],
   "source": []
  },
  {
   "cell_type": "markdown",
   "metadata": {},
   "source": [
    "## Supplementray fig5 draw the plot \n",
    "\n",
    "    "
   ]
  },
  {
   "cell_type": "code",
   "execution_count": 46,
   "metadata": {},
   "outputs": [
    {
     "name": "stdout",
     "output_type": "stream",
     "text": [
      "0 ('511145.b0169', '511145.b3303') Axes(0.125,0.712609;0.352273x0.167391) Axes(0.547727,0.712609;0.352273x0.167391)\n",
      "************ 511145.b0169 511145.b3303 1.5738\n"
     ]
    },
    {
     "name": "stderr",
     "output_type": "stream",
     "text": [
      "/mnt/mnemo5/tao/anaconda3/envs/py39_notebook/lib/python3.9/site-packages/seaborn/_oldcore.py:1498: FutureWarning: is_categorical_dtype is deprecated and will be removed in a future version. Use isinstance(dtype, CategoricalDtype) instead\n",
      "  if pd.api.types.is_categorical_dtype(vector):\n",
      "/mnt/mnemo5/tao/anaconda3/envs/py39_notebook/lib/python3.9/site-packages/seaborn/_oldcore.py:1119: FutureWarning: use_inf_as_na option is deprecated and will be removed in a future version. Convert inf values to NaN before operating instead.\n",
      "  with pd.option_context('mode.use_inf_as_na', True):\n",
      "/mnt/mnemo5/tao/anaconda3/envs/py39_notebook/lib/python3.9/site-packages/seaborn/_oldcore.py:1498: FutureWarning: is_categorical_dtype is deprecated and will be removed in a future version. Use isinstance(dtype, CategoricalDtype) instead\n",
      "  if pd.api.types.is_categorical_dtype(vector):\n",
      "/mnt/mnemo5/tao/anaconda3/envs/py39_notebook/lib/python3.9/site-packages/seaborn/_oldcore.py:1119: FutureWarning: use_inf_as_na option is deprecated and will be removed in a future version. Convert inf values to NaN before operating instead.\n",
      "  with pd.option_context('mode.use_inf_as_na', True):\n",
      "/mnt/mnemo5/tao/anaconda3/envs/py39_notebook/lib/python3.9/site-packages/seaborn/_oldcore.py:1498: FutureWarning: is_categorical_dtype is deprecated and will be removed in a future version. Use isinstance(dtype, CategoricalDtype) instead\n",
      "  if pd.api.types.is_categorical_dtype(vector):\n",
      "/mnt/mnemo5/tao/anaconda3/envs/py39_notebook/lib/python3.9/site-packages/seaborn/_oldcore.py:1119: FutureWarning: use_inf_as_na option is deprecated and will be removed in a future version. Convert inf values to NaN before operating instead.\n",
      "  with pd.option_context('mode.use_inf_as_na', True):\n",
      "/mnt/mnemo5/tao/anaconda3/envs/py39_notebook/lib/python3.9/site-packages/seaborn/_oldcore.py:1498: FutureWarning: is_categorical_dtype is deprecated and will be removed in a future version. Use isinstance(dtype, CategoricalDtype) instead\n",
      "  if pd.api.types.is_categorical_dtype(vector):\n",
      "/mnt/mnemo5/tao/anaconda3/envs/py39_notebook/lib/python3.9/site-packages/seaborn/_oldcore.py:1119: FutureWarning: use_inf_as_na option is deprecated and will be removed in a future version. Convert inf values to NaN before operating instead.\n",
      "  with pd.option_context('mode.use_inf_as_na', True):\n",
      "/mnt/mnemo5/tao/anaconda3/envs/py39_notebook/lib/python3.9/site-packages/seaborn/_oldcore.py:1498: FutureWarning: is_categorical_dtype is deprecated and will be removed in a future version. Use isinstance(dtype, CategoricalDtype) instead\n",
      "  if pd.api.types.is_categorical_dtype(vector):\n",
      "/mnt/mnemo5/tao/anaconda3/envs/py39_notebook/lib/python3.9/site-packages/seaborn/_oldcore.py:1119: FutureWarning: use_inf_as_na option is deprecated and will be removed in a future version. Convert inf values to NaN before operating instead.\n",
      "  with pd.option_context('mode.use_inf_as_na', True):\n"
     ]
    },
    {
     "name": "stderr",
     "output_type": "stream",
     "text": [
      "/mnt/mnemo5/tao/anaconda3/envs/py39_notebook/lib/python3.9/site-packages/seaborn/_oldcore.py:1498: FutureWarning: is_categorical_dtype is deprecated and will be removed in a future version. Use isinstance(dtype, CategoricalDtype) instead\n",
      "  if pd.api.types.is_categorical_dtype(vector):\n",
      "/mnt/mnemo5/tao/anaconda3/envs/py39_notebook/lib/python3.9/site-packages/seaborn/_oldcore.py:1119: FutureWarning: use_inf_as_na option is deprecated and will be removed in a future version. Convert inf values to NaN before operating instead.\n",
      "  with pd.option_context('mode.use_inf_as_na', True):\n"
     ]
    },
    {
     "name": "stdout",
     "output_type": "stream",
     "text": [
      "511145.b0169 511145.b3303 /mnt/mnemo6/tao/PPI_Coevolution/CoEvo_data_STRING11.5/511145_EggNOGmaxLevel2_eggNOGfilteredData/pair_MSA_Nf90_PasteAlign/\n"
     ]
    },
    {
     "name": "stderr",
     "output_type": "stream",
     "text": [
      "/mnt/mnemo5/tao/anaconda3/envs/py39_notebook/lib/python3.9/site-packages/seaborn/_oldcore.py:1498: FutureWarning: is_categorical_dtype is deprecated and will be removed in a future version. Use isinstance(dtype, CategoricalDtype) instead\n",
      "  if pd.api.types.is_categorical_dtype(vector):\n",
      "/mnt/mnemo5/tao/anaconda3/envs/py39_notebook/lib/python3.9/site-packages/seaborn/_oldcore.py:1119: FutureWarning: use_inf_as_na option is deprecated and will be removed in a future version. Convert inf values to NaN before operating instead.\n",
      "  with pd.option_context('mode.use_inf_as_na', True):\n",
      "/mnt/mnemo5/tao/anaconda3/envs/py39_notebook/lib/python3.9/site-packages/seaborn/_oldcore.py:1498: FutureWarning: is_categorical_dtype is deprecated and will be removed in a future version. Use isinstance(dtype, CategoricalDtype) instead\n",
      "  if pd.api.types.is_categorical_dtype(vector):\n",
      "/mnt/mnemo5/tao/anaconda3/envs/py39_notebook/lib/python3.9/site-packages/seaborn/_oldcore.py:1119: FutureWarning: use_inf_as_na option is deprecated and will be removed in a future version. Convert inf values to NaN before operating instead.\n",
      "  with pd.option_context('mode.use_inf_as_na', True):\n",
      "/mnt/mnemo5/tao/anaconda3/envs/py39_notebook/lib/python3.9/site-packages/seaborn/_oldcore.py:1498: FutureWarning: is_categorical_dtype is deprecated and will be removed in a future version. Use isinstance(dtype, CategoricalDtype) instead\n",
      "  if pd.api.types.is_categorical_dtype(vector):\n",
      "/mnt/mnemo5/tao/anaconda3/envs/py39_notebook/lib/python3.9/site-packages/seaborn/_oldcore.py:1119: FutureWarning: use_inf_as_na option is deprecated and will be removed in a future version. Convert inf values to NaN before operating instead.\n",
      "  with pd.option_context('mode.use_inf_as_na', True):\n",
      "/mnt/mnemo5/tao/anaconda3/envs/py39_notebook/lib/python3.9/site-packages/seaborn/_oldcore.py:1498: FutureWarning: is_categorical_dtype is deprecated and will be removed in a future version. Use isinstance(dtype, CategoricalDtype) instead\n",
      "  if pd.api.types.is_categorical_dtype(vector):\n",
      "/mnt/mnemo5/tao/anaconda3/envs/py39_notebook/lib/python3.9/site-packages/seaborn/_oldcore.py:1119: FutureWarning: use_inf_as_na option is deprecated and will be removed in a future version. Convert inf values to NaN before operating instead.\n",
      "  with pd.option_context('mode.use_inf_as_na', True):\n"
     ]
    },
    {
     "name": "stdout",
     "output_type": "stream",
     "text": [
      "411476.BACOVA_01100 411476.BACOVA_01010 /mnt/mnemo6/tao/PPI_Coevolution/CoEvo_data_STRING11.5/411476_EggNOGmaxLevel976_eggNOGfilteredData/pair_MSA_Nf90_PasteAlign/\n",
      "1 ('511145.b3300', '511145.b3705') Axes(0.0591898,0.533972;0.433649x0.203403) Axes(0.544633,0.533972;0.433649x0.203403)\n",
      "************ 511145.b3300 511145.b3705 1.4862\n"
     ]
    },
    {
     "name": "stderr",
     "output_type": "stream",
     "text": [
      "/mnt/mnemo5/tao/anaconda3/envs/py39_notebook/lib/python3.9/site-packages/seaborn/_oldcore.py:1498: FutureWarning: is_categorical_dtype is deprecated and will be removed in a future version. Use isinstance(dtype, CategoricalDtype) instead\n",
      "  if pd.api.types.is_categorical_dtype(vector):\n",
      "/mnt/mnemo5/tao/anaconda3/envs/py39_notebook/lib/python3.9/site-packages/seaborn/_oldcore.py:1119: FutureWarning: use_inf_as_na option is deprecated and will be removed in a future version. Convert inf values to NaN before operating instead.\n",
      "  with pd.option_context('mode.use_inf_as_na', True):\n",
      "/mnt/mnemo5/tao/anaconda3/envs/py39_notebook/lib/python3.9/site-packages/seaborn/_oldcore.py:1498: FutureWarning: is_categorical_dtype is deprecated and will be removed in a future version. Use isinstance(dtype, CategoricalDtype) instead\n",
      "  if pd.api.types.is_categorical_dtype(vector):\n",
      "/mnt/mnemo5/tao/anaconda3/envs/py39_notebook/lib/python3.9/site-packages/seaborn/_oldcore.py:1119: FutureWarning: use_inf_as_na option is deprecated and will be removed in a future version. Convert inf values to NaN before operating instead.\n",
      "  with pd.option_context('mode.use_inf_as_na', True):\n",
      "/mnt/mnemo5/tao/anaconda3/envs/py39_notebook/lib/python3.9/site-packages/seaborn/_oldcore.py:1498: FutureWarning: is_categorical_dtype is deprecated and will be removed in a future version. Use isinstance(dtype, CategoricalDtype) instead\n",
      "  if pd.api.types.is_categorical_dtype(vector):\n",
      "/mnt/mnemo5/tao/anaconda3/envs/py39_notebook/lib/python3.9/site-packages/seaborn/_oldcore.py:1119: FutureWarning: use_inf_as_na option is deprecated and will be removed in a future version. Convert inf values to NaN before operating instead.\n",
      "  with pd.option_context('mode.use_inf_as_na', True):\n",
      "/mnt/mnemo5/tao/anaconda3/envs/py39_notebook/lib/python3.9/site-packages/seaborn/_oldcore.py:1498: FutureWarning: is_categorical_dtype is deprecated and will be removed in a future version. Use isinstance(dtype, CategoricalDtype) instead\n",
      "  if pd.api.types.is_categorical_dtype(vector):\n",
      "/mnt/mnemo5/tao/anaconda3/envs/py39_notebook/lib/python3.9/site-packages/seaborn/_oldcore.py:1119: FutureWarning: use_inf_as_na option is deprecated and will be removed in a future version. Convert inf values to NaN before operating instead.\n",
      "  with pd.option_context('mode.use_inf_as_na', True):\n",
      "/mnt/mnemo5/tao/anaconda3/envs/py39_notebook/lib/python3.9/site-packages/seaborn/_oldcore.py:1498: FutureWarning: is_categorical_dtype is deprecated and will be removed in a future version. Use isinstance(dtype, CategoricalDtype) instead\n",
      "  if pd.api.types.is_categorical_dtype(vector):\n",
      "/mnt/mnemo5/tao/anaconda3/envs/py39_notebook/lib/python3.9/site-packages/seaborn/_oldcore.py:1119: FutureWarning: use_inf_as_na option is deprecated and will be removed in a future version. Convert inf values to NaN before operating instead.\n",
      "  with pd.option_context('mode.use_inf_as_na', True):\n",
      "/mnt/mnemo5/tao/anaconda3/envs/py39_notebook/lib/python3.9/site-packages/seaborn/_oldcore.py:1498: FutureWarning: is_categorical_dtype is deprecated and will be removed in a future version. Use isinstance(dtype, CategoricalDtype) instead\n",
      "  if pd.api.types.is_categorical_dtype(vector):\n",
      "/mnt/mnemo5/tao/anaconda3/envs/py39_notebook/lib/python3.9/site-packages/seaborn/_oldcore.py:1119: FutureWarning: use_inf_as_na option is deprecated and will be removed in a future version. Convert inf values to NaN before operating instead.\n",
      "  with pd.option_context('mode.use_inf_as_na', True):\n"
     ]
    },
    {
     "name": "stdout",
     "output_type": "stream",
     "text": [
      "511145.b3300 511145.b3705 /mnt/mnemo6/tao/PPI_Coevolution/CoEvo_data_STRING11.5/511145_EggNOGmaxLevel2_eggNOGfilteredData/pair_MSA_Nf90_PasteAlign/\n"
     ]
    },
    {
     "name": "stderr",
     "output_type": "stream",
     "text": [
      "/mnt/mnemo5/tao/anaconda3/envs/py39_notebook/lib/python3.9/site-packages/seaborn/_oldcore.py:1498: FutureWarning: is_categorical_dtype is deprecated and will be removed in a future version. Use isinstance(dtype, CategoricalDtype) instead\n",
      "  if pd.api.types.is_categorical_dtype(vector):\n",
      "/mnt/mnemo5/tao/anaconda3/envs/py39_notebook/lib/python3.9/site-packages/seaborn/_oldcore.py:1119: FutureWarning: use_inf_as_na option is deprecated and will be removed in a future version. Convert inf values to NaN before operating instead.\n",
      "  with pd.option_context('mode.use_inf_as_na', True):\n",
      "/mnt/mnemo5/tao/anaconda3/envs/py39_notebook/lib/python3.9/site-packages/seaborn/_oldcore.py:1498: FutureWarning: is_categorical_dtype is deprecated and will be removed in a future version. Use isinstance(dtype, CategoricalDtype) instead\n",
      "  if pd.api.types.is_categorical_dtype(vector):\n",
      "/mnt/mnemo5/tao/anaconda3/envs/py39_notebook/lib/python3.9/site-packages/seaborn/_oldcore.py:1119: FutureWarning: use_inf_as_na option is deprecated and will be removed in a future version. Convert inf values to NaN before operating instead.\n",
      "  with pd.option_context('mode.use_inf_as_na', True):\n",
      "/mnt/mnemo5/tao/anaconda3/envs/py39_notebook/lib/python3.9/site-packages/seaborn/_oldcore.py:1498: FutureWarning: is_categorical_dtype is deprecated and will be removed in a future version. Use isinstance(dtype, CategoricalDtype) instead\n",
      "  if pd.api.types.is_categorical_dtype(vector):\n",
      "/mnt/mnemo5/tao/anaconda3/envs/py39_notebook/lib/python3.9/site-packages/seaborn/_oldcore.py:1119: FutureWarning: use_inf_as_na option is deprecated and will be removed in a future version. Convert inf values to NaN before operating instead.\n",
      "  with pd.option_context('mode.use_inf_as_na', True):\n",
      "/mnt/mnemo5/tao/anaconda3/envs/py39_notebook/lib/python3.9/site-packages/seaborn/_oldcore.py:1498: FutureWarning: is_categorical_dtype is deprecated and will be removed in a future version. Use isinstance(dtype, CategoricalDtype) instead\n",
      "  if pd.api.types.is_categorical_dtype(vector):\n",
      "/mnt/mnemo5/tao/anaconda3/envs/py39_notebook/lib/python3.9/site-packages/seaborn/_oldcore.py:1119: FutureWarning: use_inf_as_na option is deprecated and will be removed in a future version. Convert inf values to NaN before operating instead.\n",
      "  with pd.option_context('mode.use_inf_as_na', True):\n"
     ]
    },
    {
     "name": "stdout",
     "output_type": "stream",
     "text": [
      "411476.BACOVA_01007 411476.BACOVA_03693 /mnt/mnemo6/tao/PPI_Coevolution/CoEvo_data_STRING11.5/411476_EggNOGmaxLevel976_eggNOGfilteredData/pair_MSA_Nf90_PasteAlign/\n",
      "2 ('511145.b0416', '511145.b3169') Axes(0.0702315,0.286347;0.42443x0.203403) Axes(0.553851,0.286347;0.42443x0.203403)\n",
      "************ 511145.b0416 511145.b3169 1.0753\n"
     ]
    },
    {
     "name": "stderr",
     "output_type": "stream",
     "text": [
      "/mnt/mnemo5/tao/anaconda3/envs/py39_notebook/lib/python3.9/site-packages/seaborn/_oldcore.py:1498: FutureWarning: is_categorical_dtype is deprecated and will be removed in a future version. Use isinstance(dtype, CategoricalDtype) instead\n",
      "  if pd.api.types.is_categorical_dtype(vector):\n",
      "/mnt/mnemo5/tao/anaconda3/envs/py39_notebook/lib/python3.9/site-packages/seaborn/_oldcore.py:1119: FutureWarning: use_inf_as_na option is deprecated and will be removed in a future version. Convert inf values to NaN before operating instead.\n",
      "  with pd.option_context('mode.use_inf_as_na', True):\n",
      "/mnt/mnemo5/tao/anaconda3/envs/py39_notebook/lib/python3.9/site-packages/seaborn/_oldcore.py:1498: FutureWarning: is_categorical_dtype is deprecated and will be removed in a future version. Use isinstance(dtype, CategoricalDtype) instead\n",
      "  if pd.api.types.is_categorical_dtype(vector):\n",
      "/mnt/mnemo5/tao/anaconda3/envs/py39_notebook/lib/python3.9/site-packages/seaborn/_oldcore.py:1119: FutureWarning: use_inf_as_na option is deprecated and will be removed in a future version. Convert inf values to NaN before operating instead.\n",
      "  with pd.option_context('mode.use_inf_as_na', True):\n",
      "/mnt/mnemo5/tao/anaconda3/envs/py39_notebook/lib/python3.9/site-packages/seaborn/_oldcore.py:1498: FutureWarning: is_categorical_dtype is deprecated and will be removed in a future version. Use isinstance(dtype, CategoricalDtype) instead\n",
      "  if pd.api.types.is_categorical_dtype(vector):\n",
      "/mnt/mnemo5/tao/anaconda3/envs/py39_notebook/lib/python3.9/site-packages/seaborn/_oldcore.py:1119: FutureWarning: use_inf_as_na option is deprecated and will be removed in a future version. Convert inf values to NaN before operating instead.\n",
      "  with pd.option_context('mode.use_inf_as_na', True):\n",
      "/mnt/mnemo5/tao/anaconda3/envs/py39_notebook/lib/python3.9/site-packages/seaborn/_oldcore.py:1498: FutureWarning: is_categorical_dtype is deprecated and will be removed in a future version. Use isinstance(dtype, CategoricalDtype) instead\n",
      "  if pd.api.types.is_categorical_dtype(vector):\n",
      "/mnt/mnemo5/tao/anaconda3/envs/py39_notebook/lib/python3.9/site-packages/seaborn/_oldcore.py:1119: FutureWarning: use_inf_as_na option is deprecated and will be removed in a future version. Convert inf values to NaN before operating instead.\n",
      "  with pd.option_context('mode.use_inf_as_na', True):\n",
      "/mnt/mnemo5/tao/anaconda3/envs/py39_notebook/lib/python3.9/site-packages/seaborn/_oldcore.py:1498: FutureWarning: is_categorical_dtype is deprecated and will be removed in a future version. Use isinstance(dtype, CategoricalDtype) instead\n",
      "  if pd.api.types.is_categorical_dtype(vector):\n",
      "/mnt/mnemo5/tao/anaconda3/envs/py39_notebook/lib/python3.9/site-packages/seaborn/_oldcore.py:1119: FutureWarning: use_inf_as_na option is deprecated and will be removed in a future version. Convert inf values to NaN before operating instead.\n",
      "  with pd.option_context('mode.use_inf_as_na', True):\n",
      "/mnt/mnemo5/tao/anaconda3/envs/py39_notebook/lib/python3.9/site-packages/seaborn/_oldcore.py:1498: FutureWarning: is_categorical_dtype is deprecated and will be removed in a future version. Use isinstance(dtype, CategoricalDtype) instead\n",
      "  if pd.api.types.is_categorical_dtype(vector):\n",
      "/mnt/mnemo5/tao/anaconda3/envs/py39_notebook/lib/python3.9/site-packages/seaborn/_oldcore.py:1119: FutureWarning: use_inf_as_na option is deprecated and will be removed in a future version. Convert inf values to NaN before operating instead.\n",
      "  with pd.option_context('mode.use_inf_as_na', True):\n"
     ]
    },
    {
     "name": "stdout",
     "output_type": "stream",
     "text": [
      "511145.b0416 511145.b3169 /mnt/mnemo6/tao/PPI_Coevolution/CoEvo_data_STRING11.5/511145_EggNOGmaxLevel2_eggNOGfilteredData/pair_MSA_Nf90_PasteAlign/\n"
     ]
    },
    {
     "name": "stderr",
     "output_type": "stream",
     "text": [
      "/mnt/mnemo5/tao/anaconda3/envs/py39_notebook/lib/python3.9/site-packages/seaborn/_oldcore.py:1498: FutureWarning: is_categorical_dtype is deprecated and will be removed in a future version. Use isinstance(dtype, CategoricalDtype) instead\n",
      "  if pd.api.types.is_categorical_dtype(vector):\n",
      "/mnt/mnemo5/tao/anaconda3/envs/py39_notebook/lib/python3.9/site-packages/seaborn/_oldcore.py:1119: FutureWarning: use_inf_as_na option is deprecated and will be removed in a future version. Convert inf values to NaN before operating instead.\n",
      "  with pd.option_context('mode.use_inf_as_na', True):\n",
      "/mnt/mnemo5/tao/anaconda3/envs/py39_notebook/lib/python3.9/site-packages/seaborn/_oldcore.py:1498: FutureWarning: is_categorical_dtype is deprecated and will be removed in a future version. Use isinstance(dtype, CategoricalDtype) instead\n",
      "  if pd.api.types.is_categorical_dtype(vector):\n",
      "/mnt/mnemo5/tao/anaconda3/envs/py39_notebook/lib/python3.9/site-packages/seaborn/_oldcore.py:1119: FutureWarning: use_inf_as_na option is deprecated and will be removed in a future version. Convert inf values to NaN before operating instead.\n",
      "  with pd.option_context('mode.use_inf_as_na', True):\n",
      "/mnt/mnemo5/tao/anaconda3/envs/py39_notebook/lib/python3.9/site-packages/seaborn/_oldcore.py:1498: FutureWarning: is_categorical_dtype is deprecated and will be removed in a future version. Use isinstance(dtype, CategoricalDtype) instead\n",
      "  if pd.api.types.is_categorical_dtype(vector):\n",
      "/mnt/mnemo5/tao/anaconda3/envs/py39_notebook/lib/python3.9/site-packages/seaborn/_oldcore.py:1119: FutureWarning: use_inf_as_na option is deprecated and will be removed in a future version. Convert inf values to NaN before operating instead.\n",
      "  with pd.option_context('mode.use_inf_as_na', True):\n",
      "/mnt/mnemo5/tao/anaconda3/envs/py39_notebook/lib/python3.9/site-packages/seaborn/_oldcore.py:1498: FutureWarning: is_categorical_dtype is deprecated and will be removed in a future version. Use isinstance(dtype, CategoricalDtype) instead\n",
      "  if pd.api.types.is_categorical_dtype(vector):\n",
      "/mnt/mnemo5/tao/anaconda3/envs/py39_notebook/lib/python3.9/site-packages/seaborn/_oldcore.py:1119: FutureWarning: use_inf_as_na option is deprecated and will be removed in a future version. Convert inf values to NaN before operating instead.\n",
      "  with pd.option_context('mode.use_inf_as_na', True):\n"
     ]
    },
    {
     "name": "stdout",
     "output_type": "stream",
     "text": [
      "411476.BACOVA_05386 411476.BACOVA_01903 /mnt/mnemo6/tao/PPI_Coevolution/CoEvo_data_STRING11.5/411476_EggNOGmaxLevel976_eggNOGfilteredData/pair_MSA_Nf90_PasteAlign/\n",
      "3 ('511145.b1092', '511145.b1094') Axes(0.0702315,0.0387222;0.42443x0.203403) Axes(0.553851,0.0387222;0.42443x0.203403)\n",
      "************ 511145.b1092 511145.b1094 1.4689\n"
     ]
    },
    {
     "name": "stderr",
     "output_type": "stream",
     "text": [
      "/mnt/mnemo5/tao/anaconda3/envs/py39_notebook/lib/python3.9/site-packages/seaborn/_oldcore.py:1498: FutureWarning: is_categorical_dtype is deprecated and will be removed in a future version. Use isinstance(dtype, CategoricalDtype) instead\n",
      "  if pd.api.types.is_categorical_dtype(vector):\n",
      "/mnt/mnemo5/tao/anaconda3/envs/py39_notebook/lib/python3.9/site-packages/seaborn/_oldcore.py:1119: FutureWarning: use_inf_as_na option is deprecated and will be removed in a future version. Convert inf values to NaN before operating instead.\n",
      "  with pd.option_context('mode.use_inf_as_na', True):\n",
      "/mnt/mnemo5/tao/anaconda3/envs/py39_notebook/lib/python3.9/site-packages/seaborn/_oldcore.py:1498: FutureWarning: is_categorical_dtype is deprecated and will be removed in a future version. Use isinstance(dtype, CategoricalDtype) instead\n",
      "  if pd.api.types.is_categorical_dtype(vector):\n",
      "/mnt/mnemo5/tao/anaconda3/envs/py39_notebook/lib/python3.9/site-packages/seaborn/_oldcore.py:1119: FutureWarning: use_inf_as_na option is deprecated and will be removed in a future version. Convert inf values to NaN before operating instead.\n",
      "  with pd.option_context('mode.use_inf_as_na', True):\n",
      "/mnt/mnemo5/tao/anaconda3/envs/py39_notebook/lib/python3.9/site-packages/seaborn/_oldcore.py:1498: FutureWarning: is_categorical_dtype is deprecated and will be removed in a future version. Use isinstance(dtype, CategoricalDtype) instead\n",
      "  if pd.api.types.is_categorical_dtype(vector):\n",
      "/mnt/mnemo5/tao/anaconda3/envs/py39_notebook/lib/python3.9/site-packages/seaborn/_oldcore.py:1119: FutureWarning: use_inf_as_na option is deprecated and will be removed in a future version. Convert inf values to NaN before operating instead.\n",
      "  with pd.option_context('mode.use_inf_as_na', True):\n",
      "/mnt/mnemo5/tao/anaconda3/envs/py39_notebook/lib/python3.9/site-packages/seaborn/_oldcore.py:1498: FutureWarning: is_categorical_dtype is deprecated and will be removed in a future version. Use isinstance(dtype, CategoricalDtype) instead\n",
      "  if pd.api.types.is_categorical_dtype(vector):\n",
      "/mnt/mnemo5/tao/anaconda3/envs/py39_notebook/lib/python3.9/site-packages/seaborn/_oldcore.py:1119: FutureWarning: use_inf_as_na option is deprecated and will be removed in a future version. Convert inf values to NaN before operating instead.\n",
      "  with pd.option_context('mode.use_inf_as_na', True):\n",
      "/mnt/mnemo5/tao/anaconda3/envs/py39_notebook/lib/python3.9/site-packages/seaborn/_oldcore.py:1498: FutureWarning: is_categorical_dtype is deprecated and will be removed in a future version. Use isinstance(dtype, CategoricalDtype) instead\n",
      "  if pd.api.types.is_categorical_dtype(vector):\n",
      "/mnt/mnemo5/tao/anaconda3/envs/py39_notebook/lib/python3.9/site-packages/seaborn/_oldcore.py:1119: FutureWarning: use_inf_as_na option is deprecated and will be removed in a future version. Convert inf values to NaN before operating instead.\n",
      "  with pd.option_context('mode.use_inf_as_na', True):\n",
      "/mnt/mnemo5/tao/anaconda3/envs/py39_notebook/lib/python3.9/site-packages/seaborn/_oldcore.py:1498: FutureWarning: is_categorical_dtype is deprecated and will be removed in a future version. Use isinstance(dtype, CategoricalDtype) instead\n",
      "  if pd.api.types.is_categorical_dtype(vector):\n",
      "/mnt/mnemo5/tao/anaconda3/envs/py39_notebook/lib/python3.9/site-packages/seaborn/_oldcore.py:1119: FutureWarning: use_inf_as_na option is deprecated and will be removed in a future version. Convert inf values to NaN before operating instead.\n",
      "  with pd.option_context('mode.use_inf_as_na', True):\n"
     ]
    },
    {
     "name": "stdout",
     "output_type": "stream",
     "text": [
      "511145.b1092 511145.b1094 /mnt/mnemo6/tao/PPI_Coevolution/CoEvo_data_STRING11.5/511145_EggNOGmaxLevel2_eggNOGfilteredData/pair_MSA_Nf90_PasteAlign/\n"
     ]
    },
    {
     "name": "stderr",
     "output_type": "stream",
     "text": [
      "/mnt/mnemo5/tao/anaconda3/envs/py39_notebook/lib/python3.9/site-packages/seaborn/_oldcore.py:1498: FutureWarning: is_categorical_dtype is deprecated and will be removed in a future version. Use isinstance(dtype, CategoricalDtype) instead\n",
      "  if pd.api.types.is_categorical_dtype(vector):\n",
      "/mnt/mnemo5/tao/anaconda3/envs/py39_notebook/lib/python3.9/site-packages/seaborn/_oldcore.py:1119: FutureWarning: use_inf_as_na option is deprecated and will be removed in a future version. Convert inf values to NaN before operating instead.\n",
      "  with pd.option_context('mode.use_inf_as_na', True):\n",
      "/mnt/mnemo5/tao/anaconda3/envs/py39_notebook/lib/python3.9/site-packages/seaborn/_oldcore.py:1498: FutureWarning: is_categorical_dtype is deprecated and will be removed in a future version. Use isinstance(dtype, CategoricalDtype) instead\n",
      "  if pd.api.types.is_categorical_dtype(vector):\n",
      "/mnt/mnemo5/tao/anaconda3/envs/py39_notebook/lib/python3.9/site-packages/seaborn/_oldcore.py:1119: FutureWarning: use_inf_as_na option is deprecated and will be removed in a future version. Convert inf values to NaN before operating instead.\n",
      "  with pd.option_context('mode.use_inf_as_na', True):\n",
      "/mnt/mnemo5/tao/anaconda3/envs/py39_notebook/lib/python3.9/site-packages/seaborn/_oldcore.py:1498: FutureWarning: is_categorical_dtype is deprecated and will be removed in a future version. Use isinstance(dtype, CategoricalDtype) instead\n",
      "  if pd.api.types.is_categorical_dtype(vector):\n",
      "/mnt/mnemo5/tao/anaconda3/envs/py39_notebook/lib/python3.9/site-packages/seaborn/_oldcore.py:1119: FutureWarning: use_inf_as_na option is deprecated and will be removed in a future version. Convert inf values to NaN before operating instead.\n",
      "  with pd.option_context('mode.use_inf_as_na', True):\n",
      "/mnt/mnemo5/tao/anaconda3/envs/py39_notebook/lib/python3.9/site-packages/seaborn/_oldcore.py:1498: FutureWarning: is_categorical_dtype is deprecated and will be removed in a future version. Use isinstance(dtype, CategoricalDtype) instead\n",
      "  if pd.api.types.is_categorical_dtype(vector):\n",
      "/mnt/mnemo5/tao/anaconda3/envs/py39_notebook/lib/python3.9/site-packages/seaborn/_oldcore.py:1119: FutureWarning: use_inf_as_na option is deprecated and will be removed in a future version. Convert inf values to NaN before operating instead.\n",
      "  with pd.option_context('mode.use_inf_as_na', True):\n"
     ]
    },
    {
     "name": "stdout",
     "output_type": "stream",
     "text": [
      "411476.BACOVA_02529 411476.BACOVA_01955 /mnt/mnemo6/tao/PPI_Coevolution/CoEvo_data_STRING11.5/411476_EggNOGmaxLevel976_eggNOGfilteredData/pair_MSA_Nf90_PasteAlign/\n"
     ]
    },
    {
     "data": {
      "image/png": "[encoded data removed]",
      "text/plain": [
       "<Figure size 1200x1000 with 8 Axes>"
      ]
     },
     "metadata": {},
     "output_type": "display_data"
    },
    {
     "name": "stdout",
     "output_type": "stream",
     "text": [
      "CPU times: user 5min 43s, sys: 7min 49s, total: 13min 33s\n",
      "Wall time: 4min 3s\n"
     ]
    }
   ],
   "source": [
    "%%time \n",
    "# tutorial to use sns to draw histplot https://seaborn.pydata.org/tutorial/distributions.html\n",
    "\n",
    "\n",
    "#[(\"511145.b0169\", \"511145.b3303\"),(\"511145.b0408\", \"511145.b3300\"),(\"511145.b0416\", \"511145.b3169\"),(\"511145.b1092\", \"511145.b1094\")]\n",
    "#for pp1, pp2 in [(\"511145.b1092\", \"511145.b1094\")]:\n",
    "\n",
    "# fig1 = plt.figure(figsize=(12,6)) #plt.figure(figsize=(15,6)) figsize=(15,15)\n",
    "\n",
    "# ax1 = plt.subplot(1,2,1) #plt.subplot(1,3,1)\n",
    "# ax2 = plt.subplot(1,2,2)\n",
    "\n",
    "fig1 = plt.figure(figsize=(12,10)) #plt.figure(figsize=(15,6)) figsize=(15,15)\n",
    "\n",
    "\n",
    "ax_list=[(plt.subplot(4,2,1),plt.subplot(4,2,2)),\n",
    "        (plt.subplot(4,2,3),plt.subplot(4,2,4)),\n",
    "        (plt.subplot(4,2,5),plt.subplot(4,2,6)),\n",
    "        (plt.subplot(4,2,7),plt.subplot(4,2,8)),\n",
    "    ]\n",
    "#for idx,pp in enumerate([(\"511145.b0169\", \"511145.b3303\"),(\"511145.b0408\", \"511145.b3300\"),(\"511145.b0416\", \"511145.b3169\"),(\"511145.b1092\", \"511145.b1094\")]):\n",
    "for idx,pp in enumerate([(\"511145.b0169\", \"511145.b3303\"),(\"511145.b3300\", \"511145.b3705\"),(\"511145.b0416\", \"511145.b3169\"),(\"511145.b1092\", \"511145.b1094\")]):\n",
    "    print(idx,pp,ax_list[idx][0],ax_list[idx][1])\n",
    "    if idx!=3: \n",
    "        xlabel,ylabel=False,False\n",
    "    else: \n",
    "        xlabel,ylabel=True, True\n",
    "    pp1,pp2=pp\n",
    "    print(\"*\"*12, pp1, pp2,original_topRanking_DCA_dict[(pp1,pp2)])\n",
    "\n",
    "    plot_pairwise_distance_histplot(pp1,pp2,selected1_pairedMSA_Nf90_folder_list,ax_list[idx][0],\n",
    "    alpha=0.1,legend=\"# of MSA sequences (downsampled)\",legend_loc=\"upper left\",xlabel=xlabel,ylabel=ylabel)\n",
    "\n",
    "    plot_pairwise_distance_histplot(pp1,pp2,selected2_pairedMSA_Nf90_folder_list,ax_list[idx][1],xlabel=xlabel,ylabel=ylabel)\n",
    "\n",
    "    #plt.title(\"Distribution plot of pairwise sequence identity in paired MSA\",loc='left', fontsize=16) \n",
    "    # this draw for second plot , could use affnity designer to change location later \n",
    "    fig1.tight_layout()\n",
    "    #break\n",
    "\n",
    "for l in ax_list[0:-1]:\n",
    "    for ax  in l :\n",
    "        ax.legend([],[], frameon=False)\n",
    "plt.show()\n",
    "# save figure \n",
    "fig1.savefig(\"/mnt/mnemo5/tao/temp_figures/Sup_fig5.pdf\", dpi=600)\n",
    "\n",
    "\n"
   ]
  },
  {
   "cell_type": "code",
   "execution_count": null,
   "metadata": {},
   "outputs": [],
   "source": []
  },
  {
   "cell_type": "code",
   "execution_count": null,
   "metadata": {},
   "outputs": [],
   "source": []
  },
  {
   "cell_type": "markdown",
   "metadata": {},
   "source": [
    "# comment about the PPI interction types"
   ]
  },
  {
   "cell_type": "code",
   "execution_count": 9,
   "metadata": {},
   "outputs": [
    {
     "name": "stdout",
     "output_type": "stream",
     "text": [
      "/mnt/mnemo6/tao/\n"
     ]
    }
   ],
   "source": [
    "print(notebookData_folder)"
   ]
  },
  {
   "cell_type": "code",
   "execution_count": 13,
   "metadata": {},
   "outputs": [
    {
     "name": "stdout",
     "output_type": "stream",
     "text": [
      "(4090, 5)\n",
      "4090\n"
     ]
    }
   ],
   "source": [
    "StringID2UniID_file = pd.read_csv(filepath_or_buffer=\"/mnt/mnemo5/tao/STRING/ecoli.uniprot_2_string.2018.tsv\",\n",
    "                                  sep=\"\\t\", index_col=None, header=None)\n",
    "print(StringID2UniID_file.shape)\n",
    "StringID2UniID_list = StringID2UniID_file.loc[:, [1, 2]].values.tolist()\n",
    "StringID2UniID_dict = {stringID: uniprotID.split(\n",
    "    '|')[0] for uniprotID, stringID in StringID2UniID_list}\n",
    "print(len(StringID2UniID_dict))"
   ]
  },
  {
   "cell_type": "code",
   "execution_count": 10,
   "metadata": {},
   "outputs": [
    {
     "name": "stdout",
     "output_type": "stream",
     "text": [
      "(2269192, 7)\n"
     ]
    }
   ],
   "source": [
    "original_STRINGFullPhyBalancePhyla_DCAandLRandRF_frame = pd.read_csv(f\"/mnt/mnemo5/tao/temp_figures/STRINGFullPhyBalancePhyla_DCAandLRandRF_frame.csv\",\n",
    "                                                     sep=\"\\t\", header=0, index_col=None)\n",
    "\n",
    "print(original_STRINGFullPhyBalancePhyla_DCAandLRandRF_frame.shape)"
   ]
  },
  {
   "cell_type": "code",
   "execution_count": 21,
   "metadata": {},
   "outputs": [
    {
     "name": "stdout",
     "output_type": "stream",
     "text": [
      "2269192\n"
     ]
    }
   ],
   "source": [
    "original_STRINGFullPhyBalancePhyla_DCAandLRandRF_dict = original_STRINGFullPhyBalancePhyla_DCAandLRandRF_frame.values.tolist()\n",
    "original_STRINGFullPhyBalancePhyla_DCAandLRandRF_dict = {(l[0],l[1]): l for l in original_STRINGFullPhyBalancePhyla_DCAandLRandRF_dict}\n",
    "print(len(original_STRINGFullPhyBalancePhyla_DCAandLRandRF_dict))"
   ]
  },
  {
   "cell_type": "code",
   "execution_count": 42,
   "metadata": {},
   "outputs": [
    {
     "name": "stdout",
     "output_type": "stream",
     "text": [
      "(3000, 7)\n"
     ]
    },
    {
     "data": {
      "text/html": [
       "<div>\n",
       "<style scoped>\n",
       "    .dataframe tbody tr th:only-of-type {\n",
       "        vertical-align: middle;\n",
       "    }\n",
       "\n",
       "    .dataframe tbody tr th {\n",
       "        vertical-align: top;\n",
       "    }\n",
       "\n",
       "    .dataframe thead th {\n",
       "        text-align: right;\n",
       "    }\n",
       "</style>\n",
       "<table border=\"1\" class=\"dataframe\">\n",
       "  <thead>\n",
       "    <tr style=\"text-align: right;\">\n",
       "      <th></th>\n",
       "      <th>p1</th>\n",
       "      <th>p2</th>\n",
       "      <th>maxDCA</th>\n",
       "      <th>LR</th>\n",
       "      <th>RF</th>\n",
       "      <th>STRINGPhy_status</th>\n",
       "      <th>pdb_status</th>\n",
       "    </tr>\n",
       "  </thead>\n",
       "  <tbody>\n",
       "    <tr>\n",
       "      <th>829988</th>\n",
       "      <td>511145.b0296</td>\n",
       "      <td>511145.b3316</td>\n",
       "      <td>2.1107</td>\n",
       "      <td>0.955897</td>\n",
       "      <td>0.990911</td>\n",
       "      <td>P</td>\n",
       "      <td>pdb_mediated</td>\n",
       "    </tr>\n",
       "    <tr>\n",
       "      <th>710111</th>\n",
       "      <td>511145.b0296</td>\n",
       "      <td>511145.b3307</td>\n",
       "      <td>1.8812</td>\n",
       "      <td>0.856054</td>\n",
       "      <td>0.990672</td>\n",
       "      <td>P</td>\n",
       "      <td>pdb_mediated</td>\n",
       "    </tr>\n",
       "    <tr>\n",
       "      <th>857612</th>\n",
       "      <td>511145.b3636</td>\n",
       "      <td>511145.b3936</td>\n",
       "      <td>1.7330</td>\n",
       "      <td>0.858243</td>\n",
       "      <td>0.990385</td>\n",
       "      <td>P</td>\n",
       "      <td>pdb_mediated</td>\n",
       "    </tr>\n",
       "    <tr>\n",
       "      <th>1755528</th>\n",
       "      <td>511145.b3316</td>\n",
       "      <td>511145.b3936</td>\n",
       "      <td>2.9426</td>\n",
       "      <td>0.910243</td>\n",
       "      <td>0.990363</td>\n",
       "      <td>P</td>\n",
       "      <td>pdb_mediated</td>\n",
       "    </tr>\n",
       "    <tr>\n",
       "      <th>558265</th>\n",
       "      <td>511145.b3185</td>\n",
       "      <td>511145.b3936</td>\n",
       "      <td>1.7776</td>\n",
       "      <td>0.763393</td>\n",
       "      <td>0.990184</td>\n",
       "      <td>P</td>\n",
       "      <td>pdb_mediated</td>\n",
       "    </tr>\n",
       "    <tr>\n",
       "      <th>...</th>\n",
       "      <td>...</td>\n",
       "      <td>...</td>\n",
       "      <td>...</td>\n",
       "      <td>...</td>\n",
       "      <td>...</td>\n",
       "      <td>...</td>\n",
       "      <td>...</td>\n",
       "    </tr>\n",
       "    <tr>\n",
       "      <th>1087938</th>\n",
       "      <td>511145.b3294</td>\n",
       "      <td>511145.b3986</td>\n",
       "      <td>1.6304</td>\n",
       "      <td>0.732228</td>\n",
       "      <td>0.927832</td>\n",
       "      <td>P</td>\n",
       "      <td>pdb_mediated</td>\n",
       "    </tr>\n",
       "    <tr>\n",
       "      <th>598634</th>\n",
       "      <td>511145.b3307</td>\n",
       "      <td>511145.b3354</td>\n",
       "      <td>1.9962</td>\n",
       "      <td>0.958295</td>\n",
       "      <td>0.927828</td>\n",
       "      <td>N</td>\n",
       "      <td>N</td>\n",
       "    </tr>\n",
       "    <tr>\n",
       "      <th>1952082</th>\n",
       "      <td>511145.b2830</td>\n",
       "      <td>511145.b3297</td>\n",
       "      <td>1.5281</td>\n",
       "      <td>0.865486</td>\n",
       "      <td>0.927805</td>\n",
       "      <td>N</td>\n",
       "      <td>N</td>\n",
       "    </tr>\n",
       "    <tr>\n",
       "      <th>452069</th>\n",
       "      <td>511145.b1628</td>\n",
       "      <td>511145.b3310</td>\n",
       "      <td>2.5195</td>\n",
       "      <td>0.962179</td>\n",
       "      <td>0.927761</td>\n",
       "      <td>N</td>\n",
       "      <td>N</td>\n",
       "    </tr>\n",
       "    <tr>\n",
       "      <th>1739522</th>\n",
       "      <td>511145.b1716</td>\n",
       "      <td>511145.b4172</td>\n",
       "      <td>1.6636</td>\n",
       "      <td>0.974945</td>\n",
       "      <td>0.927759</td>\n",
       "      <td>N</td>\n",
       "      <td>N</td>\n",
       "    </tr>\n",
       "  </tbody>\n",
       "</table>\n",
       "<p>3000 rows × 7 columns</p>\n",
       "</div>"
      ],
      "text/plain": [
       "                   p1            p2  maxDCA        LR        RF  \\\n",
       "829988   511145.b0296  511145.b3316  2.1107  0.955897  0.990911   \n",
       "710111   511145.b0296  511145.b3307  1.8812  0.856054  0.990672   \n",
       "857612   511145.b3636  511145.b3936  1.7330  0.858243  0.990385   \n",
       "1755528  511145.b3316  511145.b3936  2.9426  0.910243  0.990363   \n",
       "558265   511145.b3185  511145.b3936  1.7776  0.763393  0.990184   \n",
       "...               ...           ...     ...       ...       ...   \n",
       "1087938  511145.b3294  511145.b3986  1.6304  0.732228  0.927832   \n",
       "598634   511145.b3307  511145.b3354  1.9962  0.958295  0.927828   \n",
       "1952082  511145.b2830  511145.b3297  1.5281  0.865486  0.927805   \n",
       "452069   511145.b1628  511145.b3310  2.5195  0.962179  0.927761   \n",
       "1739522  511145.b1716  511145.b4172  1.6636  0.974945  0.927759   \n",
       "\n",
       "        STRINGPhy_status    pdb_status  \n",
       "829988                 P  pdb_mediated  \n",
       "710111                 P  pdb_mediated  \n",
       "857612                 P  pdb_mediated  \n",
       "1755528                P  pdb_mediated  \n",
       "558265                 P  pdb_mediated  \n",
       "...                  ...           ...  \n",
       "1087938                P  pdb_mediated  \n",
       "598634                 N             N  \n",
       "1952082                N             N  \n",
       "452069                 N             N  \n",
       "1739522                N             N  \n",
       "\n",
       "[3000 rows x 7 columns]"
      ]
     },
     "execution_count": 42,
     "metadata": {},
     "output_type": "execute_result"
    }
   ],
   "source": [
    "selected_num=3000\n",
    "STRINGFullPhyBalancePhyla_DCAandLRandRF_frame = original_STRINGFullPhyBalancePhyla_DCAandLRandRF_frame.sort_values(\n",
    "    by=\"RF\", ascending=False)\n",
    "STRINGFullPhyBalancePhyla_DCAandLRandRF_frame = STRINGFullPhyBalancePhyla_DCAandLRandRF_frame.iloc[0:selected_num,:]\n",
    "print(STRINGFullPhyBalancePhyla_DCAandLRandRF_frame.shape)\n",
    "STRINGFullPhyBalancePhyla_DCAandLRandRF_frame"
   ]
  },
  {
   "cell_type": "code",
   "execution_count": 13,
   "metadata": {},
   "outputs": [
    {
     "name": "stdout",
     "output_type": "stream",
     "text": [
      "3000\n"
     ]
    }
   ],
   "source": [
    "selected_PPs = STRINGFullPhyBalancePhyla_DCAandLRandRF_frame.values.tolist()\n",
    "selected_PPs=[(l[0],l[1]) for l in selected_PPs]\n",
    "\n",
    "selected_PPs_UniID = [(StringID2UniID_dict[p1], StringID2UniID_dict[p2]) for p1, p2 in selected_PPs]\n",
    "print(len(selected_PPs_UniID))"
   ]
  },
  {
   "cell_type": "code",
   "execution_count": 14,
   "metadata": {},
   "outputs": [
    {
     "data": {
      "text/plain": [
       "([('511145.b0296', '511145.b3316'),\n",
       "  ('511145.b0296', '511145.b3307'),\n",
       "  ('511145.b3636', '511145.b3936')],\n",
       " [('P0A7N1', 'P0A7U3'), ('P0A7N1', 'P0AG59'), ('P0A7N9', 'P0A7M9')])"
      ]
     },
     "execution_count": 14,
     "metadata": {},
     "output_type": "execute_result"
    }
   ],
   "source": [
    "selected_PPs[0:3], selected_PPs_UniID[0:3]"
   ]
  },
  {
   "cell_type": "code",
   "execution_count": 15,
   "metadata": {},
   "outputs": [
    {
     "name": "stdout",
     "output_type": "stream",
     "text": [
      "456\n"
     ]
    }
   ],
   "source": [
    "selected_proteins_UniID = list(set([p for pp in selected_PPs_UniID for p in pp ]))\n",
    "print(len(selected_proteins_UniID))"
   ]
  },
  {
   "cell_type": "code",
   "execution_count": 16,
   "metadata": {},
   "outputs": [
    {
     "name": "stdout",
     "output_type": "stream",
     "text": [
      "456\n"
     ]
    }
   ],
   "source": [
    "selected_proteins = list(set([p for pp in selected_PPs for p in pp]))\n",
    "print(len(selected_proteins))"
   ]
  },
  {
   "cell_type": "code",
   "execution_count": 46,
   "metadata": {},
   "outputs": [],
   "source": [
    "with open(\"/mnt/mnemo5/tao/temp_figures/selected_proteins.csv\", \"w\") as f:\n",
    "    for p in selected_proteins:\n",
    "        f.write(p)\n",
    "        f.write(\"\\n\")\n",
    "\n",
    "# then do enrichment analysis as string but inpute all these proteins https://string-db.org/cgi/network?taskId=bFLzGHpf1Znh&sessionId=bLnuQ8vkLKeN\n",
    "\n"
   ]
  },
  {
   "cell_type": "markdown",
   "metadata": {},
   "source": [
    "## check transient interction expeciall Transcription factors \n",
    "\n"
   ]
  },
  {
   "cell_type": "code",
   "execution_count": 14,
   "metadata": {},
   "outputs": [
    {
     "name": "stdout",
     "output_type": "stream",
     "text": [
      "(62955, 17)\n"
     ]
    }
   ],
   "source": [
    "# get protein info from \"/mnt/mnemo6/tao/ecocyc/ecocyc.gaf.gz\"\n",
    "# data download from : https://current.geneontology.org/annotations/ecocyc.gaf.gz\n",
    "\n",
    "# to understand gaf header : https://geneontology.org/docs/go-annotation-file-gaf-format-2.1/#dbreference-column-6\n",
    "\n",
    "ecocyc = pd.read_csv(\"/mnt/mnemo6/tao/ecocyc/ecocyc.gaf.gz\",\n",
    "                     header=None, skiprows=32, sep=\"\\t\")\n",
    "print(ecocyc.shape)\n",
    "ecocyc.head(n=6)\n",
    "ecocyc_info_dict = ecocyc.values.tolist()\n",
    "ecocyc_info_dict = {l[1]: l for l in ecocyc_info_dict}"
   ]
  },
  {
   "cell_type": "code",
   "execution_count": 20,
   "metadata": {},
   "outputs": [
    {
     "name": "stdout",
     "output_type": "stream",
     "text": [
      "3000\n",
      "[('P0A7N1', 'P0A7U3'), ('P0A7N1', 'P0AG59'), ('P0A7N9', 'P0A7M9')]\n"
     ]
    }
   ],
   "source": [
    "print(len(selected_PPs_UniID))\n",
    "print(selected_PPs_UniID[0:3])"
   ]
  },
  {
   "cell_type": "code",
   "execution_count": 39,
   "metadata": {},
   "outputs": [
    {
     "name": "stdout",
     "output_type": "stream",
     "text": [
      "************ P0A8D0 P63020\n",
      "0\n",
      "UniProtKB_P0A8D0_nrdR_involved_in_GO:0045892_GO_REF:0000104_IEA_UniRule:UR000087109_P_Transcriptional repressor NrdR_nrdR|ybaD|JW0403|b0413_protein_taxon:83333_20230911_UniProt_nan_nan\n",
      "UniProtKB_P63020_nfuA_enables_GO:0051539_GOREF:0000033_IBA_PANTHER:PTN000127018|UniProtKB:P63020_F_Fe/S biogenesis protein NfuA_nfuA|gntY|yhgI|JW3377|b3414_protein_taxon:83333_20200807_GO_Central_nan_nan\n",
      "************ P0A7U3 P0AFG0\n",
      "1\n",
      "UniProtKB_P0A7U3_rpsS_enables_GO:0003735_GOREF:0000033_IBA_PANTHER:PTN000222938|MGI:MGI:98117|UniProtKB:C0H5C2|UniProtKB:P62841|FB:FBgn0034138|RGD:62026|SGD:S000005320_F_Small ribosomal subunit protein uS19_rpsS|JW3278|b3316_protein_taxon:83333_20230405_GO_Central_nan_nan\n",
      "UniProtKB_P0AFG0_nusG_is_active_in_GO:0005829_GOREF:0000033_IBA_PANTHER:PTN000767438|UniProtKB:P0AFG0_C_Transcription termination/antitermination protein NusG_nusG|JW3945|b3982_protein_taxon:83333_20170228_GO_Central_nan_nan\n",
      "************ P0AAP3 P0ADY3\n",
      "2\n",
      "UniProtKB_P0AAP3_frmR_located_in_GO:0005737_GO_REF:0000044_IEA_UniProtKB-SubCell:SL-0086_C_Transcriptional repressor FrmR_frmR|yaiN|JW0348|b0357_protein_taxon:83333_20230911_UniProt_nan_nan\n",
      "UniProtKB_P0ADY3_rplN_part_of_GO:0022625_GOREF:0000033_IBA_PANTHER:PTN000205184|UniProtKB:P0ADY3|SGD:S000000183|UniProtKB:P62829|MGI:MGI:1929455|SGD:S000000919|RGD:62067_C_Large ribosomal subunit protein uL14_rplN|JW3272|b3310_protein_taxon:83333_20211216_GO_Central_nan_nan\n",
      "************ P0A6W5 P0A7S3\n",
      "3\n",
      "UniProtKB_P0A6W5_greA_involved_in_GO:0006354_GOREF:0000033_IBA_PANTHER:PTN001252439|UniProtKB:P0A6W5_P_Transcription elongation factor GreA_greA|JW3148|b3181_protein_taxon:83333_20171023_GO_Central_nan_nan\n",
      "UniProtKB_P0A7S3_rpsL_is_active_in_GO:0005840_GOREF:0000033_IBA_PANTHER:PTN000182999|RGD:621039|MGI:MGI:1913725|UniProtKB:Q6SA96|UniProtKB:Q29RU1|UniProtKB:P62266|UniProtKB:P0A7S3|UniProtKB:O15235|SGD:S000006336|SGD:S000005319|FB:FBgn0033912|SGD:S000003350_C_Small ribosomal subunit protein uS12_rpsL|strA|JW3304|b3342_protein_taxon:83333_20230405_GO_Central_nan_nan\n",
      "************ P0A780 Q2EEQ2\n",
      "4\n",
      "UniProtKB_P0A780_nusB_is_active_in_GO:0005829_GOREF:0000033_IBA_PANTHER:PTN000118200|UniProtKB:P0A780_C_Transcription antitermination protein NusB_nusB|groNB|ssyB|JW0406|b0416_protein_taxon:83333_20190524_GO_Central_nan_nan\n",
      "UniProtKB_Q2EEQ2_ykgO_part_of_GO:1990904_GO_REF:0000043_IEA_UniProtKB-KW:KW-0687_C_Large ribosomal subunit protein bL36B_ykgO|rpmJ2|JW5034|b4506_protein_taxon:83333_20230911_UniProt_nan_nan\n",
      "************ P69222 P30128\n",
      "5\n",
      "UniProtKB_P69222_infA_is_active_in_GO:0005829_GOREF:0000033_IBA_PANTHER:PTN002120760|UniProtKB:P69222_C_Translation initiation factor IF-1_infA|JW0867|b0884_protein_taxon:83333_20170228_GO_Central_nan_nan\n",
      "UniProtKB_P30128_greB_involved_in_GO:0006354_GOREF:0000033_IBA_PANTHER:PTN001252439|UniProtKB:P0A6W5_P_Transcription elongation factor GreB_greB|JW3369|b3406_protein_taxon:83333_20171023_GO_Central_nan_nan\n",
      "************ P0A9F1 P0AAC8\n",
      "6\n",
      "UniProtKB_P0A9F1_mntR_located_in_GO:0005737_GO_REF:0000044_IEA_UniProtKB-SubCell:SL-0086_C_Transcriptional regulator MntR_mntR|ybiQ|JW0801|b0817_protein_taxon:83333_20230911_UniProt_nan_nan\n",
      "UniProtKB_P0AAC8_iscA_is_active_in_GO:0005737_GOREF:0000033_IBA_PANTHER:PTN001601055|UniProtKB:O97297|SGD:S000003950|UniProtKB:P0AAC8|UniProtKB:P77667|PomBase:SPCC645.03c|UniProtKB:Q57X28_C_Iron-binding protein IscA_iscA|yfhF|JW2512|b2528_protein_taxon:83333_20230405_GO_Central_nan_nan\n"
     ]
    }
   ],
   "source": [
    "count=0\n",
    "existed_proteins=list()\n",
    "for uni_p1, uni_p2 in selected_PPs_UniID: \n",
    "    try: \n",
    "        info1=ecocyc_info_dict[uni_p1]\n",
    "        info2=ecocyc_info_dict[uni_p2]\n",
    "        info1=[str(i) for i in info1]\n",
    "        info2=[str(i) for i in info2]\n",
    "        info1 = \"_\".join(info1)\n",
    "        info2 = \"_\".join(info2)\n",
    "        if  (\"Transcrip\" in info1) or (\"Transcrip\" in  info2):\n",
    "            if (uni_p1 not in existed_proteins) and (uni_p2 not in existed_proteins):\n",
    "                print(\"*\"*12, uni_p1, uni_p2)\n",
    "                print(count)    \n",
    "                print(info1)\n",
    "                print(info2)\n",
    "\n",
    "                count += 1\n",
    "                existed_proteins.append(uni_p1)\n",
    "                existed_proteins.append(uni_p2)\n",
    "            #break\n",
    "    except:\n",
    "        pass\n",
    "        # print(\"*\"*12)\n",
    "        # print(\"No mapping \")"
   ]
  },
  {
   "cell_type": "code",
   "execution_count": 40,
   "metadata": {},
   "outputs": [
    {
     "name": "stdout",
     "output_type": "stream",
     "text": [
      "************ P0A8D0 P63020\n",
      "0\n",
      "UniProtKB_P0A8D0_nrdR_involved_in_GO:0045892_GO_REF:0000104_IEA_UniRule:UR000087109_P_Transcriptional repressor NrdR_nrdR|ybaD|JW0403|b0413_protein_taxon:83333_20230911_UniProt_nan_nan\n",
      "UniProtKB_P63020_nfuA_enables_GO:0051539_GOREF:0000033_IBA_PANTHER:PTN000127018|UniProtKB:P63020_F_Fe/S biogenesis protein NfuA_nfuA|gntY|yhgI|JW3377|b3414_protein_taxon:83333_20200807_GO_Central_nan_nan\n",
      "************ P0A8D0 Q2EEQ2\n",
      "1\n",
      "UniProtKB_P0A8D0_nrdR_involved_in_GO:0045892_GO_REF:0000104_IEA_UniRule:UR000087109_P_Transcriptional repressor NrdR_nrdR|ybaD|JW0403|b0413_protein_taxon:83333_20230911_UniProt_nan_nan\n",
      "UniProtKB_Q2EEQ2_ykgO_part_of_GO:1990904_GO_REF:0000043_IEA_UniProtKB-KW:KW-0687_C_Large ribosomal subunit protein bL36B_ykgO|rpmJ2|JW5034|b4506_protein_taxon:83333_20230911_UniProt_nan_nan\n",
      "************ P0A8D0 P0A7R5\n",
      "2\n",
      "UniProtKB_P0A8D0_nrdR_involved_in_GO:0045892_GO_REF:0000104_IEA_UniRule:UR000087109_P_Transcriptional repressor NrdR_nrdR|ybaD|JW0403|b0413_protein_taxon:83333_20230911_UniProt_nan_nan\n",
      "UniProtKB_P0A7R5_rpsJ_part_of_GO:0015935_GOREF:0000033_IBA_PANTHER:PTN000193512|SGD:S000001007|UniProtKB:P0A7R5|MGI:MGI:1914677|UniProtKB:P60866|UniProtKB:A1XQU9|RGD:621037|SGD:S000002448_C_Small ribosomal subunit protein uS10_rpsJ|nusE|JW3283|b3321_protein_taxon:83333_20230405_GO_Central_nan_nan\n",
      "************ P0A7U3 P0AFG0\n",
      "3\n",
      "UniProtKB_P0A7U3_rpsS_enables_GO:0003735_GOREF:0000033_IBA_PANTHER:PTN000222938|MGI:MGI:98117|UniProtKB:C0H5C2|UniProtKB:P62841|FB:FBgn0034138|RGD:62026|SGD:S000005320_F_Small ribosomal subunit protein uS19_rpsS|JW3278|b3316_protein_taxon:83333_20230405_GO_Central_nan_nan\n",
      "UniProtKB_P0AFG0_nusG_is_active_in_GO:0005829_GOREF:0000033_IBA_PANTHER:PTN000767438|UniProtKB:P0AFG0_C_Transcription termination/antitermination protein NusG_nusG|JW3945|b3982_protein_taxon:83333_20170228_GO_Central_nan_nan\n",
      "************ P0A8D0 P0A7S3\n",
      "4\n",
      "UniProtKB_P0A8D0_nrdR_involved_in_GO:0045892_GO_REF:0000104_IEA_UniRule:UR000087109_P_Transcriptional repressor NrdR_nrdR|ybaD|JW0403|b0413_protein_taxon:83333_20230911_UniProt_nan_nan\n",
      "UniProtKB_P0A7S3_rpsL_is_active_in_GO:0005840_GOREF:0000033_IBA_PANTHER:PTN000182999|RGD:621039|MGI:MGI:1913725|UniProtKB:Q6SA96|UniProtKB:Q29RU1|UniProtKB:P62266|UniProtKB:P0A7S3|UniProtKB:O15235|SGD:S000006336|SGD:S000005319|FB:FBgn0033912|SGD:S000003350_C_Small ribosomal subunit protein uS12_rpsL|strA|JW3304|b3342_protein_taxon:83333_20230405_GO_Central_nan_nan\n",
      "************ P0A7S3 P0AFG0\n",
      "5\n",
      "UniProtKB_P0A7S3_rpsL_is_active_in_GO:0005840_GOREF:0000033_IBA_PANTHER:PTN000182999|RGD:621039|MGI:MGI:1913725|UniProtKB:Q6SA96|UniProtKB:Q29RU1|UniProtKB:P62266|UniProtKB:P0A7S3|UniProtKB:O15235|SGD:S000006336|SGD:S000005319|FB:FBgn0033912|SGD:S000003350_C_Small ribosomal subunit protein uS12_rpsL|strA|JW3304|b3342_protein_taxon:83333_20230405_GO_Central_nan_nan\n",
      "UniProtKB_P0AFG0_nusG_is_active_in_GO:0005829_GOREF:0000033_IBA_PANTHER:PTN000767438|UniProtKB:P0AFG0_C_Transcription termination/antitermination protein NusG_nusG|JW3945|b3982_protein_taxon:83333_20170228_GO_Central_nan_nan\n",
      "************ P0A7R9 P0AFG0\n",
      "6\n",
      "UniProtKB_P0A7R9_rpsK_involved_in_GO:0006412_GOREF:0000033_IBA_PANTHER:PTN008526151|UniProtKB:P62263_P_Small ribosomal subunit protein uS11_rpsK|JW3259|b3297_protein_taxon:83333_20230405_GO_Central_nan_nan\n",
      "UniProtKB_P0AFG0_nusG_is_active_in_GO:0005829_GOREF:0000033_IBA_PANTHER:PTN000767438|UniProtKB:P0AFG0_C_Transcription termination/antitermination protein NusG_nusG|JW3945|b3982_protein_taxon:83333_20170228_GO_Central_nan_nan\n",
      "************ P0ACC3 P0A8D0\n",
      "7\n",
      "UniProtKB_P0ACC3_erpA_enables_GO:0051537_GOREF:0000033_IBA_PANTHER:PTN000008068|UniProtKB:P0ACC3_F_Iron-sulfur cluster insertion protein ErpA_erpA|yadR|JW0152|b0156_protein_taxon:83333_20170228_GO_Central_nan_nan\n",
      "UniProtKB_P0A8D0_nrdR_involved_in_GO:0045892_GO_REF:0000104_IEA_UniRule:UR000087109_P_Transcriptional repressor NrdR_nrdR|ybaD|JW0403|b0413_protein_taxon:83333_20230911_UniProt_nan_nan\n",
      "************ P0A7R5 P0AFG0\n",
      "8\n",
      "UniProtKB_P0A7R5_rpsJ_part_of_GO:0015935_GOREF:0000033_IBA_PANTHER:PTN000193512|SGD:S000001007|UniProtKB:P0A7R5|MGI:MGI:1914677|UniProtKB:P60866|UniProtKB:A1XQU9|RGD:621037|SGD:S000002448_C_Small ribosomal subunit protein uS10_rpsJ|nusE|JW3283|b3321_protein_taxon:83333_20230405_GO_Central_nan_nan\n",
      "UniProtKB_P0AFG0_nusG_is_active_in_GO:0005829_GOREF:0000033_IBA_PANTHER:PTN000767438|UniProtKB:P0AFG0_C_Transcription termination/antitermination protein NusG_nusG|JW3945|b3982_protein_taxon:83333_20170228_GO_Central_nan_nan\n",
      "************ P0ADZ4 P0AFG0\n",
      "9\n",
      "UniProtKB_P0ADZ4_rpsO_part_of_GO:0022627_GOREF:0000033_IBA_PANTHER:PTN000594971|UniProtKB:P0ADZ4_C_Small ribosomal subunit protein uS15_rpsO|secC|JW3134|b3165_protein_taxon:83333_20170228_GO_Central_nan_nan\n",
      "UniProtKB_P0AFG0_nusG_is_active_in_GO:0005829_GOREF:0000033_IBA_PANTHER:PTN000767438|UniProtKB:P0AFG0_C_Transcription termination/antitermination protein NusG_nusG|JW3945|b3982_protein_taxon:83333_20170228_GO_Central_nan_nan\n",
      "************ P68679 P0AFG0\n",
      "10\n",
      "UniProtKB_P68679_rpsU_part_of_GO:1990904_GO_REF:0000043_IEA_UniProtKB-KW:KW-0687_C_Small ribosomal subunit protein bS21_rpsU|JW3037|b3065_protein_taxon:83333_20230911_UniProt_nan_nan\n",
      "UniProtKB_P0AFG0_nusG_is_active_in_GO:0005829_GOREF:0000033_IBA_PANTHER:PTN000767438|UniProtKB:P0AFG0_C_Transcription termination/antitermination protein NusG_nusG|JW3945|b3982_protein_taxon:83333_20170228_GO_Central_nan_nan\n",
      "************ P0A8D0 P0A8G9\n",
      "11\n",
      "UniProtKB_P0A8D0_nrdR_involved_in_GO:0045892_GO_REF:0000104_IEA_UniRule:UR000087109_P_Transcriptional repressor NrdR_nrdR|ybaD|JW0403|b0413_protein_taxon:83333_20230911_UniProt_nan_nan\n",
      "UniProtKB_P0A8G9_xseB_is_active_in_GO:0005829_GOREF:0000033_IBA_PANTHER:PTN002148936|UniProtKB:P0A8G9_C_Exodeoxyribonuclease 7 small subunit_xseB|yajE|JW0412|b0422_protein_taxon:83333_20171208_GO_Central_nan_nan\n",
      "************ P0A8D0 P76078\n",
      "12\n",
      "UniProtKB_P0A8D0_nrdR_involved_in_GO:0045892_GO_REF:0000104_IEA_UniRule:UR000087109_P_Transcriptional repressor NrdR_nrdR|ybaD|JW0403|b0413_protein_taxon:83333_20230911_UniProt_nan_nan\n",
      "UniProtKB_P76078_paaB_part_of_GO:0062077_PMID:21247899_IPI_nan_C_1,2-phenylacetyl-CoA epoxidase, subunit B_paaB|ynbF|JW1384|b1389_protein_taxon:83333_20181011_ComplexPortal_nan_nan\n",
      "************ P0A8D0 P0A7R9\n",
      "13\n",
      "UniProtKB_P0A8D0_nrdR_involved_in_GO:0045892_GO_REF:0000104_IEA_UniRule:UR000087109_P_Transcriptional repressor NrdR_nrdR|ybaD|JW0403|b0413_protein_taxon:83333_20230911_UniProt_nan_nan\n",
      "UniProtKB_P0A7R9_rpsK_involved_in_GO:0006412_GOREF:0000033_IBA_PANTHER:PTN008526151|UniProtKB:P62263_P_Small ribosomal subunit protein uS11_rpsK|JW3259|b3297_protein_taxon:83333_20230405_GO_Central_nan_nan\n",
      "************ P0A7S9 P0AFG0\n",
      "14\n",
      "UniProtKB_P0A7S9_rpsM_part_of_GO:0015935_GOREF:0000033_IBA_PANTHER:PTN000093238|MGI:MGI:98146|UniProtKB:P0A7S9|RGD:3595|UniProtKB:P62269|UniProtKB:P62272|SGD:S000005025_C_Small ribosomal subunit protein uS13_rpsM|JW3260|b3298_protein_taxon:83333_20230405_GO_Central_nan_nan\n",
      "UniProtKB_P0AFG0_nusG_is_active_in_GO:0005829_GOREF:0000033_IBA_PANTHER:PTN000767438|UniProtKB:P0AFG0_C_Transcription termination/antitermination protein NusG_nusG|JW3945|b3982_protein_taxon:83333_20170228_GO_Central_nan_nan\n",
      "************ P0AFG0 P0A7K2\n",
      "15\n",
      "UniProtKB_P0AFG0_nusG_is_active_in_GO:0005829_GOREF:0000033_IBA_PANTHER:PTN000767438|UniProtKB:P0AFG0_C_Transcription termination/antitermination protein NusG_nusG|JW3945|b3982_protein_taxon:83333_20170228_GO_Central_nan_nan\n",
      "UniProtKB_P0A7K2_rplL_enables_GO:0003735_GOREF:0000033_IBA_PANTHER:PTN000211803|SGD:S000003036_F_Large ribosomal subunit protein bL12_rplL|JW3949|b3986_protein_taxon:83333_20220121_GO_Central_nan_nan\n",
      "************ P0A8D0 P0A7Q6\n",
      "16\n",
      "UniProtKB_P0A8D0_nrdR_involved_in_GO:0045892_GO_REF:0000104_IEA_UniRule:UR000087109_P_Transcriptional repressor NrdR_nrdR|ybaD|JW0403|b0413_protein_taxon:83333_20230911_UniProt_nan_nan\n",
      "UniProtKB_P0A7Q6_rpmJ_part_of_GO:1990904_GO_REF:0000043_IEA_UniProtKB-KW:KW-0687_C_Large ribosomal subunit protein bL36A_rpmJ|JW3261|b3299_protein_taxon:83333_20230911_UniProt_nan_nan\n",
      "************ P0A8D0 P0A7U3\n",
      "17\n",
      "UniProtKB_P0A8D0_nrdR_involved_in_GO:0045892_GO_REF:0000104_IEA_UniRule:UR000087109_P_Transcriptional repressor NrdR_nrdR|ybaD|JW0403|b0413_protein_taxon:83333_20230911_UniProt_nan_nan\n",
      "UniProtKB_P0A7U3_rpsS_enables_GO:0003735_GOREF:0000033_IBA_PANTHER:PTN000222938|MGI:MGI:98117|UniProtKB:C0H5C2|UniProtKB:P62841|FB:FBgn0034138|RGD:62026|SGD:S000005320_F_Small ribosomal subunit protein uS19_rpsS|JW3278|b3316_protein_taxon:83333_20230405_GO_Central_nan_nan\n",
      "************ P0A8D0 P0AG59\n",
      "18\n",
      "UniProtKB_P0A8D0_nrdR_involved_in_GO:0045892_GO_REF:0000104_IEA_UniRule:UR000087109_P_Transcriptional repressor NrdR_nrdR|ybaD|JW0403|b0413_protein_taxon:83333_20230911_UniProt_nan_nan\n",
      "UniProtKB_P0AG59_rpsN_part_of_GO:0015935_GOREF:0000033_IBA_PANTHER:PTN000457003|UniProtKB:O60783|SGD:S000006370|UniProtKB:P0AG59_C_Small ribosomal subunit protein uS14_rpsN|JW3269|b3307_protein_taxon:83333_20200808_GO_Central_nan_nan\n",
      "************ P0A8D0 P0AFE4\n",
      "19\n",
      "UniProtKB_P0A8D0_nrdR_involved_in_GO:0045892_GO_REF:0000104_IEA_UniRule:UR000087109_P_Transcriptional repressor NrdR_nrdR|ybaD|JW0403|b0413_protein_taxon:83333_20230911_UniProt_nan_nan\n",
      "UniProtKB_P0AFE4_nuoK_part_of_GO:0030964_GOREF:0000033_IBA_PANTHER:PTN000153441|FB:FBgn0013683|UniProtKB:P03901|UniProtKB:P0AFE4|UniProtKB:P03902_C_NADH-quinone oxidoreductase subunit K_nuoK|JW2274|b2279_protein_taxon:83333_20231108_GO_Central_nan_nan\n",
      "************ P0AAP3 P0ADY3\n",
      "20\n",
      "UniProtKB_P0AAP3_frmR_located_in_GO:0005737_GO_REF:0000044_IEA_UniProtKB-SubCell:SL-0086_C_Transcriptional repressor FrmR_frmR|yaiN|JW0348|b0357_protein_taxon:83333_20230911_UniProt_nan_nan\n",
      "UniProtKB_P0ADY3_rplN_part_of_GO:0022625_GOREF:0000033_IBA_PANTHER:PTN000205184|UniProtKB:P0ADY3|SGD:S000000183|UniProtKB:P62829|MGI:MGI:1929455|SGD:S000000919|RGD:62067_C_Large ribosomal subunit protein uL14_rplN|JW3272|b3310_protein_taxon:83333_20211216_GO_Central_nan_nan\n",
      "************ P0A7L8 P0AFG0\n",
      "21\n",
      "UniProtKB_P0A7L8_rpmA_enables_GO:0003735_GOREF:0000033_IBA_PANTHER:PTN000407638|UniProtKB:P0A7L8|SGD:S000004950_F_Large ribosomal subunit protein bL27_rpmA|JW3152|b3185_protein_taxon:83333_20170228_GO_Central_nan_nan\n",
      "UniProtKB_P0AFG0_nusG_is_active_in_GO:0005829_GOREF:0000033_IBA_PANTHER:PTN000767438|UniProtKB:P0AFG0_C_Transcription termination/antitermination protein NusG_nusG|JW3945|b3982_protein_taxon:83333_20170228_GO_Central_nan_nan\n",
      "************ P0A6W5 P0A7S3\n",
      "22\n",
      "UniProtKB_P0A6W5_greA_involved_in_GO:0006354_GOREF:0000033_IBA_PANTHER:PTN001252439|UniProtKB:P0A6W5_P_Transcription elongation factor GreA_greA|JW3148|b3181_protein_taxon:83333_20171023_GO_Central_nan_nan\n",
      "UniProtKB_P0A7S3_rpsL_is_active_in_GO:0005840_GOREF:0000033_IBA_PANTHER:PTN000182999|RGD:621039|MGI:MGI:1913725|UniProtKB:Q6SA96|UniProtKB:Q29RU1|UniProtKB:P62266|UniProtKB:P0A7S3|UniProtKB:O15235|SGD:S000006336|SGD:S000005319|FB:FBgn0033912|SGD:S000003350_C_Small ribosomal subunit protein uS12_rpsL|strA|JW3304|b3342_protein_taxon:83333_20230405_GO_Central_nan_nan\n",
      "************ P0A8D0 P0A800\n",
      "23\n",
      "UniProtKB_P0A8D0_nrdR_involved_in_GO:0045892_GO_REF:0000104_IEA_UniRule:UR000087109_P_Transcriptional repressor NrdR_nrdR|ybaD|JW0403|b0413_protein_taxon:83333_20230911_UniProt_nan_nan\n",
      "UniProtKB_P0A800_rpoZ_part_of_GO:0030880_PMID:2152188_IMP_nan_C_DNA-directed RNA polymerase subunit omega_rpoZ|JW3624|b3649_protein_taxon:83333_20110715_EcoliWiki_nan_nan\n",
      "************ P0A8D0 P0ADY3\n",
      "24\n",
      "UniProtKB_P0A8D0_nrdR_involved_in_GO:0045892_GO_REF:0000104_IEA_UniRule:UR000087109_P_Transcriptional repressor NrdR_nrdR|ybaD|JW0403|b0413_protein_taxon:83333_20230911_UniProt_nan_nan\n",
      "UniProtKB_P0ADY3_rplN_part_of_GO:0022625_GOREF:0000033_IBA_PANTHER:PTN000205184|UniProtKB:P0ADY3|SGD:S000000183|UniProtKB:P62829|MGI:MGI:1929455|SGD:S000000919|RGD:62067_C_Large ribosomal subunit protein uL14_rplN|JW3272|b3310_protein_taxon:83333_20211216_GO_Central_nan_nan\n",
      "************ P63020 P0AFG0\n",
      "25\n",
      "UniProtKB_P63020_nfuA_enables_GO:0051539_GOREF:0000033_IBA_PANTHER:PTN000127018|UniProtKB:P63020_F_Fe/S biogenesis protein NfuA_nfuA|gntY|yhgI|JW3377|b3414_protein_taxon:83333_20200807_GO_Central_nan_nan\n",
      "UniProtKB_P0AFG0_nusG_is_active_in_GO:0005829_GOREF:0000033_IBA_PANTHER:PTN000767438|UniProtKB:P0AFG0_C_Transcription termination/antitermination protein NusG_nusG|JW3945|b3982_protein_taxon:83333_20170228_GO_Central_nan_nan\n",
      "************ P0A7S3 P30128\n",
      "26\n",
      "UniProtKB_P0A7S3_rpsL_is_active_in_GO:0005840_GOREF:0000033_IBA_PANTHER:PTN000182999|RGD:621039|MGI:MGI:1913725|UniProtKB:Q6SA96|UniProtKB:Q29RU1|UniProtKB:P62266|UniProtKB:P0A7S3|UniProtKB:O15235|SGD:S000006336|SGD:S000005319|FB:FBgn0033912|SGD:S000003350_C_Small ribosomal subunit protein uS12_rpsL|strA|JW3304|b3342_protein_taxon:83333_20230405_GO_Central_nan_nan\n",
      "UniProtKB_P30128_greB_involved_in_GO:0006354_GOREF:0000033_IBA_PANTHER:PTN001252439|UniProtKB:P0A6W5_P_Transcription elongation factor GreB_greB|JW3369|b3406_protein_taxon:83333_20171023_GO_Central_nan_nan\n",
      "************ P0A7U3 P30128\n",
      "27\n",
      "UniProtKB_P0A7U3_rpsS_enables_GO:0003735_GOREF:0000033_IBA_PANTHER:PTN000222938|MGI:MGI:98117|UniProtKB:C0H5C2|UniProtKB:P62841|FB:FBgn0034138|RGD:62026|SGD:S000005320_F_Small ribosomal subunit protein uS19_rpsS|JW3278|b3316_protein_taxon:83333_20230405_GO_Central_nan_nan\n",
      "UniProtKB_P30128_greB_involved_in_GO:0006354_GOREF:0000033_IBA_PANTHER:PTN001252439|UniProtKB:P0A6W5_P_Transcription elongation factor GreB_greB|JW3369|b3406_protein_taxon:83333_20171023_GO_Central_nan_nan\n",
      "************ P0ADY7 P0AFG0\n",
      "28\n",
      "UniProtKB_P0ADY7_rplP_part_of_GO:0022625_GOREF:0000033_IBA_PANTHER:PTN008534822|UniProtKB:P0ADY7_C_Large ribosomal subunit protein uL16_rplP|JW3275|b3313_protein_taxon:83333_20170228_GO_Central_nan_nan\n",
      "UniProtKB_P0AFG0_nusG_is_active_in_GO:0005829_GOREF:0000033_IBA_PANTHER:PTN000767438|UniProtKB:P0AFG0_C_Transcription termination/antitermination protein NusG_nusG|JW3945|b3982_protein_taxon:83333_20170228_GO_Central_nan_nan\n",
      "************ P0A8D0 P69222\n",
      "29\n",
      "UniProtKB_P0A8D0_nrdR_involved_in_GO:0045892_GO_REF:0000104_IEA_UniRule:UR000087109_P_Transcriptional repressor NrdR_nrdR|ybaD|JW0403|b0413_protein_taxon:83333_20230911_UniProt_nan_nan\n",
      "UniProtKB_P69222_infA_is_active_in_GO:0005829_GOREF:0000033_IBA_PANTHER:PTN002120760|UniProtKB:P69222_C_Translation initiation factor IF-1_infA|JW0867|b0884_protein_taxon:83333_20170228_GO_Central_nan_nan\n",
      "************ P0A6W5 P0A800\n",
      "30\n",
      "UniProtKB_P0A6W5_greA_involved_in_GO:0006354_GOREF:0000033_IBA_PANTHER:PTN001252439|UniProtKB:P0A6W5_P_Transcription elongation factor GreA_greA|JW3148|b3181_protein_taxon:83333_20171023_GO_Central_nan_nan\n",
      "UniProtKB_P0A800_rpoZ_part_of_GO:0030880_PMID:2152188_IMP_nan_C_DNA-directed RNA polymerase subunit omega_rpoZ|JW3624|b3649_protein_taxon:83333_20110715_EcoliWiki_nan_nan\n",
      "************ P0A780 Q2EEQ2\n",
      "31\n",
      "UniProtKB_P0A780_nusB_is_active_in_GO:0005829_GOREF:0000033_IBA_PANTHER:PTN000118200|UniProtKB:P0A780_C_Transcription antitermination protein NusB_nusB|groNB|ssyB|JW0406|b0416_protein_taxon:83333_20190524_GO_Central_nan_nan\n",
      "UniProtKB_Q2EEQ2_ykgO_part_of_GO:1990904_GO_REF:0000043_IEA_UniProtKB-KW:KW-0687_C_Large ribosomal subunit protein bL36B_ykgO|rpmJ2|JW5034|b4506_protein_taxon:83333_20230911_UniProt_nan_nan\n",
      "************ P69222 P0A6W5\n",
      "32\n",
      "UniProtKB_P69222_infA_is_active_in_GO:0005829_GOREF:0000033_IBA_PANTHER:PTN002120760|UniProtKB:P69222_C_Translation initiation factor IF-1_infA|JW0867|b0884_protein_taxon:83333_20170228_GO_Central_nan_nan\n",
      "UniProtKB_P0A6W5_greA_involved_in_GO:0006354_GOREF:0000033_IBA_PANTHER:PTN001252439|UniProtKB:P0A6W5_P_Transcription elongation factor GreA_greA|JW3148|b3181_protein_taxon:83333_20171023_GO_Central_nan_nan\n",
      "************ P0A6W5 P0A7P5\n",
      "33\n",
      "UniProtKB_P0A6W5_greA_involved_in_GO:0006354_GOREF:0000033_IBA_PANTHER:PTN001252439|UniProtKB:P0A6W5_P_Transcription elongation factor GreA_greA|JW3148|b3181_protein_taxon:83333_20171023_GO_Central_nan_nan\n",
      "UniProtKB_P0A7P5_rpmH_part_of_GO:1990904_GO_REF:0000043_IEA_UniProtKB-KW:KW-0687_C_Large ribosomal subunit protein bL34_rpmH|rimA|ssaF|JW3680|b3703_protein_taxon:83333_20230911_UniProt_nan_nan\n",
      "************ P69222 P30128\n",
      "34\n",
      "UniProtKB_P69222_infA_is_active_in_GO:0005829_GOREF:0000033_IBA_PANTHER:PTN002120760|UniProtKB:P69222_C_Translation initiation factor IF-1_infA|JW0867|b0884_protein_taxon:83333_20170228_GO_Central_nan_nan\n",
      "UniProtKB_P30128_greB_involved_in_GO:0006354_GOREF:0000033_IBA_PANTHER:PTN001252439|UniProtKB:P0A6W5_P_Transcription elongation factor GreB_greB|JW3369|b3406_protein_taxon:83333_20171023_GO_Central_nan_nan\n",
      "************ P0A8D0 P0ADY7\n",
      "35\n",
      "UniProtKB_P0A8D0_nrdR_involved_in_GO:0045892_GO_REF:0000104_IEA_UniRule:UR000087109_P_Transcriptional repressor NrdR_nrdR|ybaD|JW0403|b0413_protein_taxon:83333_20230911_UniProt_nan_nan\n",
      "UniProtKB_P0ADY7_rplP_part_of_GO:0022625_GOREF:0000033_IBA_PANTHER:PTN008534822|UniProtKB:P0ADY7_C_Large ribosomal subunit protein uL16_rplP|JW3275|b3313_protein_taxon:83333_20170228_GO_Central_nan_nan\n",
      "************ P0A8D0 P0A7K6\n",
      "36\n",
      "UniProtKB_P0A8D0_nrdR_involved_in_GO:0045892_GO_REF:0000104_IEA_UniRule:UR000087109_P_Transcriptional repressor NrdR_nrdR|ybaD|JW0403|b0413_protein_taxon:83333_20230911_UniProt_nan_nan\n",
      "UniProtKB_P0A7K6_rplS_enables_GO:0003735_GOREF:0000033_IBA_PANTHER:PTN000402783|UniProtKB:P0A7K6|SGD:S000000642_F_Large ribosomal subunit protein bL19_rplS|JW2587|b2606_protein_taxon:83333_20170228_GO_Central_nan_nan\n",
      "************ P0A800 P0AFG0\n",
      "37\n",
      "UniProtKB_P0A800_rpoZ_part_of_GO:0030880_PMID:2152188_IMP_nan_C_DNA-directed RNA polymerase subunit omega_rpoZ|JW3624|b3649_protein_taxon:83333_20110715_EcoliWiki_nan_nan\n",
      "UniProtKB_P0AFG0_nusG_is_active_in_GO:0005829_GOREF:0000033_IBA_PANTHER:PTN000767438|UniProtKB:P0AFG0_C_Transcription termination/antitermination protein NusG_nusG|JW3945|b3982_protein_taxon:83333_20170228_GO_Central_nan_nan\n",
      "************ P0A7R5 P30128\n",
      "38\n",
      "UniProtKB_P0A7R5_rpsJ_part_of_GO:0015935_GOREF:0000033_IBA_PANTHER:PTN000193512|SGD:S000001007|UniProtKB:P0A7R5|MGI:MGI:1914677|UniProtKB:P60866|UniProtKB:A1XQU9|RGD:621037|SGD:S000002448_C_Small ribosomal subunit protein uS10_rpsJ|nusE|JW3283|b3321_protein_taxon:83333_20230405_GO_Central_nan_nan\n",
      "UniProtKB_P30128_greB_involved_in_GO:0006354_GOREF:0000033_IBA_PANTHER:PTN001252439|UniProtKB:P0A6W5_P_Transcription elongation factor GreB_greB|JW3369|b3406_protein_taxon:83333_20171023_GO_Central_nan_nan\n",
      "************ P0A6W5 Q2EEQ2\n",
      "39\n",
      "UniProtKB_P0A6W5_greA_involved_in_GO:0006354_GOREF:0000033_IBA_PANTHER:PTN001252439|UniProtKB:P0A6W5_P_Transcription elongation factor GreA_greA|JW3148|b3181_protein_taxon:83333_20171023_GO_Central_nan_nan\n",
      "UniProtKB_Q2EEQ2_ykgO_part_of_GO:1990904_GO_REF:0000043_IEA_UniProtKB-KW:KW-0687_C_Large ribosomal subunit protein bL36B_ykgO|rpmJ2|JW5034|b4506_protein_taxon:83333_20230911_UniProt_nan_nan\n",
      "************ P0A8D0 P0A7N9\n",
      "40\n",
      "UniProtKB_P0A8D0_nrdR_involved_in_GO:0045892_GO_REF:0000104_IEA_UniRule:UR000087109_P_Transcriptional repressor NrdR_nrdR|ybaD|JW0403|b0413_protein_taxon:83333_20230911_UniProt_nan_nan\n",
      "UniProtKB_P0A7N9_rpmG_enables_GO:0003735_GOREF:0000033_IBA_PANTHER:PTN000391312|UniProtKB:P0A7N9_F_Large ribosomal subunit protein bL33_rpmG|JW3611|b3636_protein_taxon:83333_20170228_GO_Central_nan_nan\n",
      "************ P0A6W5 P0A7W1\n",
      "41\n",
      "UniProtKB_P0A6W5_greA_involved_in_GO:0006354_GOREF:0000033_IBA_PANTHER:PTN001252439|UniProtKB:P0A6W5_P_Transcription elongation factor GreA_greA|JW3148|b3181_protein_taxon:83333_20171023_GO_Central_nan_nan\n",
      "UniProtKB_P0A7W1_rpsE_enables_GO:0003735_GOREF:0000033_IBA_PANTHER:PTN000346706|UniProtKB:P0A7W1|RGD:619887|UniProtKB:Q8IL02|FB:FBgn0004867|UniProtKB:P15880|MGI:MGI:105110|SGD:S000003091|SGD:S000000455_F_Small ribosomal subunit protein uS5_rpsE|spc|JW3265|b3303_protein_taxon:83333_20230406_GO_Central_nan_nan\n",
      "************ P0A6W5 P0A7R9\n",
      "42\n",
      "UniProtKB_P0A6W5_greA_involved_in_GO:0006354_GOREF:0000033_IBA_PANTHER:PTN001252439|UniProtKB:P0A6W5_P_Transcription elongation factor GreA_greA|JW3148|b3181_protein_taxon:83333_20171023_GO_Central_nan_nan\n",
      "UniProtKB_P0A7R9_rpsK_involved_in_GO:0006412_GOREF:0000033_IBA_PANTHER:PTN008526151|UniProtKB:P62263_P_Small ribosomal subunit protein uS11_rpsK|JW3259|b3297_protein_taxon:83333_20230405_GO_Central_nan_nan\n",
      "************ P0AG63 P0AFG0\n",
      "43\n",
      "UniProtKB_P0AG63_rpsQ_part_of_GO:0022627_GOREF:0000033_IBA_PANTHER:PTN000078534|RGD:621026|MGI:MGI:1351329|UniProtKB:P0AG63|SGD:S000000252|SGD:S000002432|UniProtKB:P62280_C_Small ribosomal subunit protein uS17_rpsQ|neaA|JW3273|b3311_protein_taxon:83333_20230405_GO_Central_nan_nan\n",
      "UniProtKB_P0AFG0_nusG_is_active_in_GO:0005829_GOREF:0000033_IBA_PANTHER:PTN000767438|UniProtKB:P0AFG0_C_Transcription termination/antitermination protein NusG_nusG|JW3945|b3982_protein_taxon:83333_20170228_GO_Central_nan_nan\n",
      "************ P0A7R9 P30128\n",
      "44\n",
      "UniProtKB_P0A7R9_rpsK_involved_in_GO:0006412_GOREF:0000033_IBA_PANTHER:PTN008526151|UniProtKB:P62263_P_Small ribosomal subunit protein uS11_rpsK|JW3259|b3297_protein_taxon:83333_20230405_GO_Central_nan_nan\n",
      "UniProtKB_P30128_greB_involved_in_GO:0006354_GOREF:0000033_IBA_PANTHER:PTN001252439|UniProtKB:P0A6W5_P_Transcription elongation factor GreB_greB|JW3369|b3406_protein_taxon:83333_20171023_GO_Central_nan_nan\n",
      "************ P0ADY3 P0AFG0\n",
      "45\n",
      "UniProtKB_P0ADY3_rplN_part_of_GO:0022625_GOREF:0000033_IBA_PANTHER:PTN000205184|UniProtKB:P0ADY3|SGD:S000000183|UniProtKB:P62829|MGI:MGI:1929455|SGD:S000000919|RGD:62067_C_Large ribosomal subunit protein uL14_rplN|JW3272|b3310_protein_taxon:83333_20211216_GO_Central_nan_nan\n",
      "UniProtKB_P0AFG0_nusG_is_active_in_GO:0005829_GOREF:0000033_IBA_PANTHER:PTN000767438|UniProtKB:P0AFG0_C_Transcription termination/antitermination protein NusG_nusG|JW3945|b3982_protein_taxon:83333_20170228_GO_Central_nan_nan\n",
      "************ P68679 P0A6W5\n",
      "46\n",
      "UniProtKB_P68679_rpsU_part_of_GO:1990904_GO_REF:0000043_IEA_UniProtKB-KW:KW-0687_C_Small ribosomal subunit protein bS21_rpsU|JW3037|b3065_protein_taxon:83333_20230911_UniProt_nan_nan\n",
      "UniProtKB_P0A6W5_greA_involved_in_GO:0006354_GOREF:0000033_IBA_PANTHER:PTN001252439|UniProtKB:P0A6W5_P_Transcription elongation factor GreA_greA|JW3148|b3181_protein_taxon:83333_20171023_GO_Central_nan_nan\n",
      "************ P0A7V3 P0AFG0\n",
      "47\n",
      "UniProtKB_P0A7V3_rpsC_part_of_GO:0022627_GOREF:0000033_IBA_PANTHER:PTN000205057|MGI:MGI:1350917|UniProtKB:P23396|UniProtKB:P0A7V3|SGD:S000005122|RGD:619888|UniProtKB:Q8IKH8_C_Small ribosomal subunit protein uS3_rpsC|JW3276|b3314_protein_taxon:83333_20230405_GO_Central_nan_nan\n",
      "UniProtKB_P0AFG0_nusG_is_active_in_GO:0005829_GOREF:0000033_IBA_PANTHER:PTN000767438|UniProtKB:P0AFG0_C_Transcription termination/antitermination protein NusG_nusG|JW3945|b3982_protein_taxon:83333_20170228_GO_Central_nan_nan\n",
      "************ P0A6W5 P0A7R5\n",
      "48\n",
      "UniProtKB_P0A6W5_greA_involved_in_GO:0006354_GOREF:0000033_IBA_PANTHER:PTN001252439|UniProtKB:P0A6W5_P_Transcription elongation factor GreA_greA|JW3148|b3181_protein_taxon:83333_20171023_GO_Central_nan_nan\n",
      "UniProtKB_P0A7R5_rpsJ_part_of_GO:0015935_GOREF:0000033_IBA_PANTHER:PTN000193512|SGD:S000001007|UniProtKB:P0A7R5|MGI:MGI:1914677|UniProtKB:P60866|UniProtKB:A1XQU9|RGD:621037|SGD:S000002448_C_Small ribosomal subunit protein uS10_rpsJ|nusE|JW3283|b3321_protein_taxon:83333_20230405_GO_Central_nan_nan\n",
      "************ P0A6W5 P63020\n",
      "49\n",
      "UniProtKB_P0A6W5_greA_involved_in_GO:0006354_GOREF:0000033_IBA_PANTHER:PTN001252439|UniProtKB:P0A6W5_P_Transcription elongation factor GreA_greA|JW3148|b3181_protein_taxon:83333_20171023_GO_Central_nan_nan\n",
      "UniProtKB_P63020_nfuA_enables_GO:0051539_GOREF:0000033_IBA_PANTHER:PTN000127018|UniProtKB:P63020_F_Fe/S biogenesis protein NfuA_nfuA|gntY|yhgI|JW3377|b3414_protein_taxon:83333_20200807_GO_Central_nan_nan\n",
      "************ P0A8D0 P0AG63\n",
      "50\n",
      "UniProtKB_P0A8D0_nrdR_involved_in_GO:0045892_GO_REF:0000104_IEA_UniRule:UR000087109_P_Transcriptional repressor NrdR_nrdR|ybaD|JW0403|b0413_protein_taxon:83333_20230911_UniProt_nan_nan\n",
      "UniProtKB_P0AG63_rpsQ_part_of_GO:0022627_GOREF:0000033_IBA_PANTHER:PTN000078534|RGD:621026|MGI:MGI:1351329|UniProtKB:P0AG63|SGD:S000000252|SGD:S000002432|UniProtKB:P62280_C_Small ribosomal subunit protein uS17_rpsQ|neaA|JW3273|b3311_protein_taxon:83333_20230405_GO_Central_nan_nan\n",
      "************ P0A8D0 P62399\n",
      "51\n",
      "UniProtKB_P0A8D0_nrdR_involved_in_GO:0045892_GO_REF:0000104_IEA_UniRule:UR000087109_P_Transcriptional repressor NrdR_nrdR|ybaD|JW0403|b0413_protein_taxon:83333_20230911_UniProt_nan_nan\n",
      "UniProtKB_P62399_rplE_enables_GO:0003735_GOREF:0000033_IBA_PANTHER:PTN000242048|UniProtKB:P62913|MGI:MGI:1914275|SGD:S000002645|FB:FBgn0013325_F_Large ribosomal subunit protein uL5_rplE|JW3270|b3308_protein_taxon:83333_20230405_GO_Central_nan_nan\n",
      "************ P0A8D0 P02359\n",
      "52\n",
      "UniProtKB_P0A8D0_nrdR_involved_in_GO:0045892_GO_REF:0000104_IEA_UniRule:UR000087109_P_Transcriptional repressor NrdR_nrdR|ybaD|JW0403|b0413_protein_taxon:83333_20230911_UniProt_nan_nan\n",
      "UniProtKB_P02359_rpsG_involved_in_GO:0000028_GOREF:0000033_IBA_PANTHER:PTN000128889|UniProtKB:P02359_P_Small ribosomal subunit protein uS7_rpsG|JW3303|b3341_protein_taxon:83333_20170228_GO_Central_nan_nan\n",
      "************ P0A780 P0AFW2\n",
      "53\n",
      "UniProtKB_P0A780_nusB_is_active_in_GO:0005829_GOREF:0000033_IBA_PANTHER:PTN000118200|UniProtKB:P0A780_C_Transcription antitermination protein NusB_nusB|groNB|ssyB|JW0406|b0416_protein_taxon:83333_20190524_GO_Central_nan_nan\n",
      "UniProtKB_P0AFW2_rmf_located_in_GO:0005737_PMID:2181444_IDA_nan_C_Ribosome modulation factor_rmf|JW0936|b0953_protein_taxon:83333_20120531_EcoCyc_nan_nan\n",
      "************ P0A7W1 P0AFG0\n",
      "54\n",
      "UniProtKB_P0A7W1_rpsE_enables_GO:0003735_GOREF:0000033_IBA_PANTHER:PTN000346706|UniProtKB:P0A7W1|RGD:619887|UniProtKB:Q8IL02|FB:FBgn0004867|UniProtKB:P15880|MGI:MGI:105110|SGD:S000003091|SGD:S000000455_F_Small ribosomal subunit protein uS5_rpsE|spc|JW3265|b3303_protein_taxon:83333_20230406_GO_Central_nan_nan\n",
      "UniProtKB_P0AFG0_nusG_is_active_in_GO:0005829_GOREF:0000033_IBA_PANTHER:PTN000767438|UniProtKB:P0AFG0_C_Transcription termination/antitermination protein NusG_nusG|JW3945|b3982_protein_taxon:83333_20170228_GO_Central_nan_nan\n",
      "************ P0A780 P63020\n",
      "55\n",
      "UniProtKB_P0A780_nusB_is_active_in_GO:0005829_GOREF:0000033_IBA_PANTHER:PTN000118200|UniProtKB:P0A780_C_Transcription antitermination protein NusB_nusB|groNB|ssyB|JW0406|b0416_protein_taxon:83333_20190524_GO_Central_nan_nan\n",
      "UniProtKB_P63020_nfuA_enables_GO:0051539_GOREF:0000033_IBA_PANTHER:PTN000127018|UniProtKB:P63020_F_Fe/S biogenesis protein NfuA_nfuA|gntY|yhgI|JW3377|b3414_protein_taxon:83333_20200807_GO_Central_nan_nan\n",
      "************ P0A8D0 P0A7W7\n",
      "56\n",
      "UniProtKB_P0A8D0_nrdR_involved_in_GO:0045892_GO_REF:0000104_IEA_UniRule:UR000087109_P_Transcriptional repressor NrdR_nrdR|ybaD|JW0403|b0413_protein_taxon:83333_20230911_UniProt_nan_nan\n",
      "UniProtKB_P0A7W7_rpsH_part_of_GO:0022627_GOREF:0000033_IBA_PANTHER:PTN000204723|UniProtKB:P62244|MGI:MGI:2389091|UniProtKB:P0A7W7|SGD:S000003726|SGD:S000004359|RGD:619939_C_Small ribosomal subunit protein uS8_rpsH|JW3268|b3306_protein_taxon:83333_20230405_GO_Central_nan_nan\n",
      "************ P0A6W5 P0A6R3\n",
      "57\n",
      "UniProtKB_P0A6W5_greA_involved_in_GO:0006354_GOREF:0000033_IBA_PANTHER:PTN001252439|UniProtKB:P0A6W5_P_Transcription elongation factor GreA_greA|JW3148|b3181_protein_taxon:83333_20171023_GO_Central_nan_nan\n",
      "UniProtKB_P0A6R3_fis_enables_GO:0043565_GOREF:0000033_IBA_PANTHER:PTN002936601|UniProtKB:P0A6R3_F_DNA-binding protein Fis_fis|JW3229|b3261_protein_taxon:83333_20211113_GO_Central_nan_nan\n",
      "************ P0A9F1 P0AAC8\n",
      "58\n",
      "UniProtKB_P0A9F1_mntR_located_in_GO:0005737_GO_REF:0000044_IEA_UniProtKB-SubCell:SL-0086_C_Transcriptional regulator MntR_mntR|ybiQ|JW0801|b0817_protein_taxon:83333_20230911_UniProt_nan_nan\n",
      "UniProtKB_P0AAC8_iscA_is_active_in_GO:0005737_GOREF:0000033_IBA_PANTHER:PTN001601055|UniProtKB:O97297|SGD:S000003950|UniProtKB:P0AAC8|UniProtKB:P77667|PomBase:SPCC645.03c|UniProtKB:Q57X28_C_Iron-binding protein IscA_iscA|yfhF|JW2512|b2528_protein_taxon:83333_20230405_GO_Central_nan_nan\n",
      "************ P0A6W5 P0ADY3\n",
      "59\n",
      "UniProtKB_P0A6W5_greA_involved_in_GO:0006354_GOREF:0000033_IBA_PANTHER:PTN001252439|UniProtKB:P0A6W5_P_Transcription elongation factor GreA_greA|JW3148|b3181_protein_taxon:83333_20171023_GO_Central_nan_nan\n",
      "UniProtKB_P0ADY3_rplN_part_of_GO:0022625_GOREF:0000033_IBA_PANTHER:PTN000205184|UniProtKB:P0ADY3|SGD:S000000183|UniProtKB:P62829|MGI:MGI:1929455|SGD:S000000919|RGD:62067_C_Large ribosomal subunit protein uL14_rplN|JW3272|b3310_protein_taxon:83333_20211216_GO_Central_nan_nan\n",
      "************ P0AFG0 P0A7L0\n",
      "60\n",
      "UniProtKB_P0AFG0_nusG_is_active_in_GO:0005829_GOREF:0000033_IBA_PANTHER:PTN000767438|UniProtKB:P0AFG0_C_Transcription termination/antitermination protein NusG_nusG|JW3945|b3982_protein_taxon:83333_20170228_GO_Central_nan_nan\n",
      "UniProtKB_P0A7L0_rplA_part_of_GO:0022625_GOREF:0000033_IBA_PANTHER:PTN000560546|UniProtKB:P0A7L0_C_Large ribosomal subunit protein uL1_rplA|JW3947|b3984_protein_taxon:83333_20230407_GO_Central_nan_nan\n",
      "************ P0A7S9 P30128\n",
      "61\n",
      "UniProtKB_P0A7S9_rpsM_part_of_GO:0015935_GOREF:0000033_IBA_PANTHER:PTN000093238|MGI:MGI:98146|UniProtKB:P0A7S9|RGD:3595|UniProtKB:P62269|UniProtKB:P62272|SGD:S000005025_C_Small ribosomal subunit protein uS13_rpsM|JW3260|b3298_protein_taxon:83333_20230405_GO_Central_nan_nan\n",
      "UniProtKB_P30128_greB_involved_in_GO:0006354_GOREF:0000033_IBA_PANTHER:PTN001252439|UniProtKB:P0A6W5_P_Transcription elongation factor GreB_greB|JW3369|b3406_protein_taxon:83333_20171023_GO_Central_nan_nan\n",
      "************ P0ADY3 P30128\n",
      "62\n",
      "UniProtKB_P0ADY3_rplN_part_of_GO:0022625_GOREF:0000033_IBA_PANTHER:PTN000205184|UniProtKB:P0ADY3|SGD:S000000183|UniProtKB:P62829|MGI:MGI:1929455|SGD:S000000919|RGD:62067_C_Large ribosomal subunit protein uL14_rplN|JW3272|b3310_protein_taxon:83333_20211216_GO_Central_nan_nan\n",
      "UniProtKB_P30128_greB_involved_in_GO:0006354_GOREF:0000033_IBA_PANTHER:PTN001252439|UniProtKB:P0A6W5_P_Transcription elongation factor GreB_greB|JW3369|b3406_protein_taxon:83333_20171023_GO_Central_nan_nan\n",
      "************ P30128 Q2EEQ2\n",
      "63\n",
      "UniProtKB_P30128_greB_involved_in_GO:0006354_GOREF:0000033_IBA_PANTHER:PTN001252439|UniProtKB:P0A6W5_P_Transcription elongation factor GreB_greB|JW3369|b3406_protein_taxon:83333_20171023_GO_Central_nan_nan\n",
      "UniProtKB_Q2EEQ2_ykgO_part_of_GO:1990904_GO_REF:0000043_IEA_UniProtKB-KW:KW-0687_C_Large ribosomal subunit protein bL36B_ykgO|rpmJ2|JW5034|b4506_protein_taxon:83333_20230911_UniProt_nan_nan\n",
      "************ P0A7Q6 P0AFG0\n",
      "64\n",
      "UniProtKB_P0A7Q6_rpmJ_part_of_GO:1990904_GO_REF:0000043_IEA_UniProtKB-KW:KW-0687_C_Large ribosomal subunit protein bL36A_rpmJ|JW3261|b3299_protein_taxon:83333_20230911_UniProt_nan_nan\n",
      "UniProtKB_P0AFG0_nusG_is_active_in_GO:0005829_GOREF:0000033_IBA_PANTHER:PTN000767438|UniProtKB:P0AFG0_C_Transcription termination/antitermination protein NusG_nusG|JW3945|b3982_protein_taxon:83333_20170228_GO_Central_nan_nan\n",
      "************ P0A8D0 P0A7S9\n",
      "65\n",
      "UniProtKB_P0A8D0_nrdR_involved_in_GO:0045892_GO_REF:0000104_IEA_UniRule:UR000087109_P_Transcriptional repressor NrdR_nrdR|ybaD|JW0403|b0413_protein_taxon:83333_20230911_UniProt_nan_nan\n",
      "UniProtKB_P0A7S9_rpsM_part_of_GO:0015935_GOREF:0000033_IBA_PANTHER:PTN000093238|MGI:MGI:98146|UniProtKB:P0A7S9|RGD:3595|UniProtKB:P62269|UniProtKB:P62272|SGD:S000005025_C_Small ribosomal subunit protein uS13_rpsM|JW3260|b3298_protein_taxon:83333_20230405_GO_Central_nan_nan\n"
     ]
    }
   ],
   "source": [
    "count = 0\n",
    "for uni_p1, uni_p2 in selected_PPs_UniID:\n",
    "    try:\n",
    "        info1 = ecocyc_info_dict[uni_p1]\n",
    "        info2 = ecocyc_info_dict[uni_p2]\n",
    "        info1 = [str(i) for i in info1]\n",
    "        info2 = [str(i) for i in info2]\n",
    "        info1 = \"_\".join(info1)\n",
    "        info2 = \"_\".join(info2)\n",
    "        if (\"Transcrip\" in info1) or (\"Transcrip\" in info2):\n",
    "            print(\"*\"*12, uni_p1, uni_p2)\n",
    "            print(count)\n",
    "            print(info1)\n",
    "            print(info2)\n",
    "\n",
    "            count += 1\n",
    "        # break\n",
    "    except:\n",
    "        pass\n",
    "        # print(\"*\"*12)\n",
    "        # print(\"No mapping \")"
   ]
  },
  {
   "cell_type": "code",
   "execution_count": null,
   "metadata": {},
   "outputs": [],
   "source": []
  },
  {
   "cell_type": "markdown",
   "metadata": {},
   "source": [
    "# check transient interction expeciall Transcription factors. espciall the one with diffilutes \n",
    "\n"
   ]
  },
  {
   "cell_type": "code",
   "execution_count": 45,
   "metadata": {},
   "outputs": [
    {
     "name": "stdout",
     "output_type": "stream",
     "text": [
      "(3000, 7)\n"
     ]
    },
    {
     "data": {
      "text/html": [
       "<div>\n",
       "<style scoped>\n",
       "    .dataframe tbody tr th:only-of-type {\n",
       "        vertical-align: middle;\n",
       "    }\n",
       "\n",
       "    .dataframe tbody tr th {\n",
       "        vertical-align: top;\n",
       "    }\n",
       "\n",
       "    .dataframe thead th {\n",
       "        text-align: right;\n",
       "    }\n",
       "</style>\n",
       "<table border=\"1\" class=\"dataframe\">\n",
       "  <thead>\n",
       "    <tr style=\"text-align: right;\">\n",
       "      <th></th>\n",
       "      <th>p1</th>\n",
       "      <th>p2</th>\n",
       "      <th>maxDCA</th>\n",
       "      <th>LR</th>\n",
       "      <th>RF</th>\n",
       "      <th>STRINGPhy_status</th>\n",
       "      <th>pdb_status</th>\n",
       "    </tr>\n",
       "  </thead>\n",
       "  <tbody>\n",
       "    <tr>\n",
       "      <th>49885</th>\n",
       "      <td>511145.b0185</td>\n",
       "      <td>511145.b1344</td>\n",
       "      <td>1.2265</td>\n",
       "      <td>0.624393</td>\n",
       "      <td>0.657620</td>\n",
       "      <td>N</td>\n",
       "      <td>N</td>\n",
       "    </tr>\n",
       "    <tr>\n",
       "      <th>2233368</th>\n",
       "      <td>511145.b0888</td>\n",
       "      <td>511145.b2792</td>\n",
       "      <td>1.8423</td>\n",
       "      <td>0.761902</td>\n",
       "      <td>0.657618</td>\n",
       "      <td>N</td>\n",
       "      <td>N</td>\n",
       "    </tr>\n",
       "    <tr>\n",
       "      <th>808003</th>\n",
       "      <td>511145.b0104</td>\n",
       "      <td>511145.b4202</td>\n",
       "      <td>1.3434</td>\n",
       "      <td>0.650629</td>\n",
       "      <td>0.657616</td>\n",
       "      <td>N</td>\n",
       "      <td>N</td>\n",
       "    </tr>\n",
       "    <tr>\n",
       "      <th>2092096</th>\n",
       "      <td>511145.b1925</td>\n",
       "      <td>511145.b3649</td>\n",
       "      <td>1.6606</td>\n",
       "      <td>0.698126</td>\n",
       "      <td>0.657609</td>\n",
       "      <td>N</td>\n",
       "      <td>N</td>\n",
       "    </tr>\n",
       "    <tr>\n",
       "      <th>1354734</th>\n",
       "      <td>511145.b1074</td>\n",
       "      <td>511145.b3836</td>\n",
       "      <td>1.8384</td>\n",
       "      <td>0.790663</td>\n",
       "      <td>0.657606</td>\n",
       "      <td>N</td>\n",
       "      <td>N</td>\n",
       "    </tr>\n",
       "    <tr>\n",
       "      <th>...</th>\n",
       "      <td>...</td>\n",
       "      <td>...</td>\n",
       "      <td>...</td>\n",
       "      <td>...</td>\n",
       "      <td>...</td>\n",
       "      <td>...</td>\n",
       "      <td>...</td>\n",
       "    </tr>\n",
       "    <tr>\n",
       "      <th>1256916</th>\n",
       "      <td>511145.b1758</td>\n",
       "      <td>511145.b3307</td>\n",
       "      <td>1.6626</td>\n",
       "      <td>0.830659</td>\n",
       "      <td>0.647680</td>\n",
       "      <td>N</td>\n",
       "      <td>N</td>\n",
       "    </tr>\n",
       "    <tr>\n",
       "      <th>1720852</th>\n",
       "      <td>511145.b1135</td>\n",
       "      <td>511145.b1391</td>\n",
       "      <td>1.2936</td>\n",
       "      <td>0.575709</td>\n",
       "      <td>0.647674</td>\n",
       "      <td>N</td>\n",
       "      <td>N</td>\n",
       "    </tr>\n",
       "    <tr>\n",
       "      <th>1503681</th>\n",
       "      <td>511145.b2267</td>\n",
       "      <td>511145.b3231</td>\n",
       "      <td>1.3220</td>\n",
       "      <td>0.749713</td>\n",
       "      <td>0.647674</td>\n",
       "      <td>N</td>\n",
       "      <td>N</td>\n",
       "    </tr>\n",
       "    <tr>\n",
       "      <th>720019</th>\n",
       "      <td>511145.b0413</td>\n",
       "      <td>511145.b2567</td>\n",
       "      <td>1.3345</td>\n",
       "      <td>0.644504</td>\n",
       "      <td>0.647662</td>\n",
       "      <td>N</td>\n",
       "      <td>N</td>\n",
       "    </tr>\n",
       "    <tr>\n",
       "      <th>600100</th>\n",
       "      <td>511145.b0369</td>\n",
       "      <td>511145.b1832</td>\n",
       "      <td>1.5689</td>\n",
       "      <td>0.706065</td>\n",
       "      <td>0.647659</td>\n",
       "      <td>N</td>\n",
       "      <td>N</td>\n",
       "    </tr>\n",
       "  </tbody>\n",
       "</table>\n",
       "<p>3000 rows × 7 columns</p>\n",
       "</div>"
      ],
      "text/plain": [
       "                   p1            p2  maxDCA        LR        RF  \\\n",
       "49885    511145.b0185  511145.b1344  1.2265  0.624393  0.657620   \n",
       "2233368  511145.b0888  511145.b2792  1.8423  0.761902  0.657618   \n",
       "808003   511145.b0104  511145.b4202  1.3434  0.650629  0.657616   \n",
       "2092096  511145.b1925  511145.b3649  1.6606  0.698126  0.657609   \n",
       "1354734  511145.b1074  511145.b3836  1.8384  0.790663  0.657606   \n",
       "...               ...           ...     ...       ...       ...   \n",
       "1256916  511145.b1758  511145.b3307  1.6626  0.830659  0.647680   \n",
       "1720852  511145.b1135  511145.b1391  1.2936  0.575709  0.647674   \n",
       "1503681  511145.b2267  511145.b3231  1.3220  0.749713  0.647674   \n",
       "720019   511145.b0413  511145.b2567  1.3345  0.644504  0.647662   \n",
       "600100   511145.b0369  511145.b1832  1.5689  0.706065  0.647659   \n",
       "\n",
       "        STRINGPhy_status pdb_status  \n",
       "49885                  N          N  \n",
       "2233368                N          N  \n",
       "808003                 N          N  \n",
       "2092096                N          N  \n",
       "1354734                N          N  \n",
       "...                  ...        ...  \n",
       "1256916                N          N  \n",
       "1720852                N          N  \n",
       "1503681                N          N  \n",
       "720019                 N          N  \n",
       "600100                 N          N  \n",
       "\n",
       "[3000 rows x 7 columns]"
      ]
     },
     "execution_count": 45,
     "metadata": {},
     "output_type": "execute_result"
    }
   ],
   "source": [
    "selected_num = 3000\n",
    "start_number=30000\n",
    "STRINGFullPhyBalancePhyla_DCAandLRandRF_frame = original_STRINGFullPhyBalancePhyla_DCAandLRandRF_frame.sort_values(\n",
    "    by=\"RF\", ascending=False)\n",
    "STRINGFullPhyBalancePhyla_DCAandLRandRF_frame = STRINGFullPhyBalancePhyla_DCAandLRandRF_frame.iloc[\n",
    "    start_number:start_number+selected_num, :]\n",
    "print(STRINGFullPhyBalancePhyla_DCAandLRandRF_frame.shape)\n",
    "STRINGFullPhyBalancePhyla_DCAandLRandRF_frame\n"
   ]
  },
  {
   "cell_type": "code",
   "execution_count": 46,
   "metadata": {},
   "outputs": [
    {
     "name": "stdout",
     "output_type": "stream",
     "text": [
      "3000\n"
     ]
    }
   ],
   "source": [
    "HardTF_selected_PPs = STRINGFullPhyBalancePhyla_DCAandLRandRF_frame.values.tolist()\n",
    "HardTF_selected_PPs = [(l[0], l[1]) for l in HardTF_selected_PPs]\n",
    "\n",
    "HardTF_selected_PPs_UniID = [(StringID2UniID_dict[p1], StringID2UniID_dict[p2])\n",
    "                      for p1, p2 in HardTF_selected_PPs]\n",
    "print(len(HardTF_selected_PPs_UniID))"
   ]
  },
  {
   "cell_type": "code",
   "execution_count": 48,
   "metadata": {},
   "outputs": [
    {
     "name": "stdout",
     "output_type": "stream",
     "text": [
      "************ P52108 P0A7U3\n",
      "0\n",
      "UniProtKB_P52108_rstA_enables_GO:0000156_GOREF:0000033_IBA_PANTHER:PTN000724188|UniProtKB:P0AE88|UniProtKB:P0AA16|UniProtKB:P38684|UniProtKB:Q9I2U3|UniProtKB:O07776|UniProtKB:P30843|UniProtKB:P0A9Q1_F_Transcriptional regulatory protein RstA_rstA|urpT|JW1600|b1608_protein_taxon:83333_20211113_GO_Central_nan_nan\n",
      "UniProtKB_P0A7U3_rpsS_enables_GO:0003735_GOREF:0000033_IBA_PANTHER:PTN000222938|MGI:MGI:98117|UniProtKB:C0H5C2|UniProtKB:P62841|FB:FBgn0034138|RGD:62026|SGD:S000005320_F_Small ribosomal subunit protein uS19_rpsS|JW3278|b3316_protein_taxon:83333_20230405_GO_Central_nan_nan\n",
      "************ P22186 P0AC05\n",
      "1\n",
      "UniProtKB_P22186_mraZ_enables_GO:0000976_GOREF:0000033_IBA_PANTHER:PTN002162879|UniProtKB:P22186_F_Transcriptional regulator MraZ_mraZ|yabB|JW0079|b0081_protein_taxon:83333_20170228_GO_Central_nan_nan\n",
      "UniProtKB_P0AC05_fliP_located_in_GO:0120102_PMID:31337100_NAS_nan_C_Flagellar biosynthetic protein FliP_fliP|flaR|JW1932|b1948_protein_taxon:83333_20200928_ComplexPortal_nan_nan\n",
      "************ P60438 P0AG30\n",
      "2\n",
      "UniProtKB_P60438_rplC_part_of_GO:0022625_GOREF:0000033_IBA_PANTHER:PTN000132497|UniProtKB:P60438_C_Large ribosomal subunit protein uL3_rplC|JW3282|b3320_protein_taxon:83333_20181024_GO_Central_nan_nan\n",
      "UniProtKB_P0AG30_rho_located_in_GO:0016020_PMID:16858726_HDA_nan_C_Transcription termination factor Rho_rho|nitA|psuA|rnsC|sbaA|tsu|JW3756|b3783_protein_taxon:83333_20090506_UniProt_nan_nan\n",
      "************ P0A8D0 P0ACF0\n",
      "3\n",
      "UniProtKB_P0A8D0_nrdR_involved_in_GO:0045892_GO_REF:0000104_IEA_UniRule:UR000087109_P_Transcriptional repressor NrdR_nrdR|ybaD|JW0403|b0413_protein_taxon:83333_20230911_UniProt_nan_nan\n",
      "UniProtKB_P0ACF0_hupA_is_active_in_GO:0005829_GOREF:0000033_IBA_PANTHER:PTN002110664|UniProtKB:P0A6X7|UniProtKB:P0A6Y1|UniProtKB:P0ACF0|UniProtKB:P0ACF4_C_DNA-binding protein HU-alpha_hupA|JW3964|b4000_protein_taxon:83333_20170228_GO_Central_nan_nan\n",
      "************ P62623 P64530\n",
      "4\n",
      "UniProtKB_P62623_ispH_located_in_GO:0005829_PMID:18304323_IDA_nan_C_4-hydroxy-3-methylbut-2-enyl diphosphate reductase_ispH|lytB|yaaE|JW0027|b0029_protein_taxon:83333_20140602_EcoCyc_nan_nan\n",
      "UniProtKB_P64530_rcnR_located_in_GO:0005737_GO_REF:0000044_IEA_UniProtKB-SubCell:SL-0086_C_Transcriptional repressor RcnR_rcnR|yohL|JW2092|b2105_protein_taxon:83333_20230911_UniProt_nan_nan\n",
      "************ P64588 P60422\n",
      "5\n",
      "UniProtKB_P64588_yqjI_located_in_GO:0005829_PMID:18304323_IDA_nan_C_Transcriptional regulator YqjI_yqjI|JW3042|b3071_protein_taxon:83333_20140602_EcoCyc_nan_nan\n",
      "UniProtKB_P60422_rplB_enables_GO:0003723_GOREF:0000033_IBA_PANTHER:PTN000343556|TAIR:locus:504954483|TAIR:locus:2122189|RGD:619827|TAIR:locus:2828126|TAIR:locus:2060917_F_Large ribosomal subunit protein uL2_rplB|JW3279|b3317_protein_taxon:83333_20230110_GO_Central_nan_nan\n",
      "************ P0A8W2 P62399\n",
      "6\n",
      "UniProtKB_P0A8W2_slyA_involved_in_GO:0006355_GOREF:0000033_IBA_PANTHER:PTN002109389|UniProtKB:Q9HZZ4|UniProtKB:P11065|UniProtKB:O34777|UniProtKB:P27245|UniProtKB:Q8EI70|UniProtKB:P0A8W2|UniProtKB:P0ACR9_P_Transcriptional regulator SlyA_slyA|JW5267|b1642_protein_taxon:83333_20221009_GO_Central_nan_nan\n",
      "UniProtKB_P62399_rplE_enables_GO:0003735_GOREF:0000033_IBA_PANTHER:PTN000242048|UniProtKB:P62913|MGI:MGI:1914275|SGD:S000002645|FB:FBgn0013325_F_Large ribosomal subunit protein uL5_rplE|JW3270|b3308_protein_taxon:83333_20230405_GO_Central_nan_nan\n",
      "************ P77179 P0AFG0\n",
      "7\n",
      "UniProtKB_P77179_rsxE_is_active_in_GO:0005886_GOREF:0000033_IBA_PANTHER:PTN000778701|UniProtKB:P77179_C_Ion-translocating oxidoreductase complex subunit E_rsxE|rnfE|ydgQ|JW1624|b1632_protein_taxon:83333_20170228_GO_Central_nan_nan\n",
      "UniProtKB_P0AFG0_nusG_is_active_in_GO:0005829_GOREF:0000033_IBA_PANTHER:PTN000767438|UniProtKB:P0AFG0_C_Transcription termination/antitermination protein NusG_nusG|JW3945|b3982_protein_taxon:83333_20170228_GO_Central_nan_nan\n",
      "************ P0A720 P30128\n",
      "8\n",
      "UniProtKB_P0A720_tmk_enables_GO:0004798_GOREF:0000033_IBA_PANTHER:PTN000038985|UniProtKB:P23919|MGI:MGI:108396|PomBase:SPCC70.07c|SGD:S000003818|RGD:1305881|UniProtKB:Q8I4S1|UniProtKB:P9WKE1|UniProtKB:P0A720_F_Thymidylate kinase_tmk|ycfG|JW1084|b1098_protein_taxon:83333_20230109_GO_Central_nan_nan\n",
      "UniProtKB_P30128_greB_involved_in_GO:0006354_GOREF:0000033_IBA_PANTHER:PTN001252439|UniProtKB:P0A6W5_P_Transcription elongation factor GreB_greB|JW3369|b3406_protein_taxon:83333_20171023_GO_Central_nan_nan\n",
      "************ P0ABX2 P0AFF6\n",
      "9\n",
      "UniProtKB_P0ABX2_flgC_involved_in_GO:0071978_GOREF:0000033_IBA_PANTHER:PTN000764839|UniProtKB:P39752|UniProtKB:P24501|UniProtKB:P24500|UniProtKB:P23446_P_Flagellar basal-body rod protein FlgC_flgC|fla FIII|flaW|JW1061|b1074_protein_taxon:83333_20200809_GO_Central_nan_nan\n",
      "UniProtKB_P0AFF6_nusA_involved_in_GO:0031564_GOREF:0000033_IBA_PANTHER:PTN000505391|UniProtKB:P9WIV3|UniProtKB:P0AFF6_P_Transcription termination/antitermination protein NusA_nusA|JW3138|b3169_protein_taxon:83333_20170228_GO_Central_nan_nan\n",
      "************ P0ABX5 P0A6W5\n",
      "10\n",
      "UniProtKB_P0ABX5_flgG_involved_in_GO:0071978_GOREF:0000033_IBA_PANTHER:PTN000764839|UniProtKB:P39752|UniProtKB:P24501|UniProtKB:P24500|UniProtKB:P23446_P_Flagellar basal-body rod protein FlgG_flgG|fla FVII|flaL|JW1065|b1078_protein_taxon:83333_20200809_GO_Central_nan_nan\n",
      "UniProtKB_P0A6W5_greA_involved_in_GO:0006354_GOREF:0000033_IBA_PANTHER:PTN001252439|UniProtKB:P0A6W5_P_Transcription elongation factor GreA_greA|JW3148|b3181_protein_taxon:83333_20171023_GO_Central_nan_nan\n",
      "************ P0AAP3 P0AG03\n",
      "11\n",
      "UniProtKB_P0AAP3_frmR_located_in_GO:0005737_GO_REF:0000044_IEA_UniProtKB-SubCell:SL-0086_C_Transcriptional repressor FrmR_frmR|yaiN|JW0348|b0357_protein_taxon:83333_20230911_UniProt_nan_nan\n",
      "UniProtKB_P0AG03_ubiX_enables_GO:0016831_GOREF:0000033_IBA_PANTHER:PTN000764671|SGD:S000002946_F_Flavin prenyltransferase UbiX_ubiX|dedF|JW2308|b2311_protein_taxon:83333_20170228_GO_Central_nan_nan\n",
      "************ P0A7Y8 P0AE88\n",
      "12\n",
      "UniProtKB_P0A7Y8_rnpA_enables_GO:0042781_GOREF:0000033_IBA_PANTHER:PTN002144900|UniProtKB:P25814_F_Ribonuclease P protein component_rnpA|JW3681|b3704_protein_taxon:83333_20190307_GO_Central_nan_nan\n",
      "UniProtKB_P0AE88_cpxR_part_of_GO:0032993_GOREF:0000033_IBA_PANTHER:PTN000724188|UniProtKB:P0A9Q1|UniProtKB:P23836|UniProtKB:O24973|UniProtKB:Q8EHJ3|UniProtKB:Q8EE50_C_Transcriptional regulatory protein CpxR_cpxR|yiiA|JW3883|b3912_protein_taxon:83333_20170829_GO_Central_nan_nan\n",
      "************ P76141 P0A7R9\n",
      "13\n",
      "UniProtKB_P76141_lsrR_located_in_GO:0005829_PMID:18304323_IDA_nan_C_Transcriptional regulator LsrR_lsrR|ydeW|JW1505|b1512_protein_taxon:83333_20140602_EcoCyc_nan_nan\n",
      "UniProtKB_P0A7R9_rpsK_involved_in_GO:0006412_GOREF:0000033_IBA_PANTHER:PTN008526151|UniProtKB:P62263_P_Small ribosomal subunit protein uS11_rpsK|JW3259|b3297_protein_taxon:83333_20230405_GO_Central_nan_nan\n",
      "************ P0A780 P76112\n",
      "14\n",
      "UniProtKB_P0A780_nusB_is_active_in_GO:0005829_GOREF:0000033_IBA_PANTHER:PTN000118200|UniProtKB:P0A780_C_Transcription antitermination protein NusB_nusB|groNB|ssyB|JW0406|b0416_protein_taxon:83333_20190524_GO_Central_nan_nan\n",
      "UniProtKB_P76112_mnaT_enables_GO:0016747_GOREF:0000033_IBA_PANTHER:PTN002453816|UniProtKB:Q8ZPD3_F_L-amino acid N-acyltransferase MnaT_mnaT|yncA|JW5233|b1448_protein_taxon:83333_20170228_GO_Central_nan_nan\n",
      "************ P0AFW0 Q2EEQ2\n",
      "15\n",
      "UniProtKB_P0AFW0_rfaH_is_active_in_GO:0005829_GOREF:0000033_IBA_PANTHER:PTN000767438|UniProtKB:P0AFG0_C_Transcription antitermination protein RfaH_rfaH|hlyT|sfrB|JW3818|b3842_protein_taxon:83333_20170228_GO_Central_nan_nan\n",
      "UniProtKB_Q2EEQ2_ykgO_part_of_GO:1990904_GO_REF:0000043_IEA_UniProtKB-KW:KW-0687_C_Large ribosomal subunit protein bL36B_ykgO|rpmJ2|JW5034|b4506_protein_taxon:83333_20230911_UniProt_nan_nan\n",
      "************ P0AAX8 P0AFT5\n",
      "16\n",
      "UniProtKB_P0AAX8_ybiS_involved_in_GO:0018104_GOREF:0000033_IBA_PANTHER:PTN001255072|UniProtKB:O53638|UniProtKB:P39176|UniProtKB:P0AAX8|UniProtKB:P75954_P_Probable L,D-transpeptidase YbiS_ybiS|JW0803|b0819_protein_taxon:83333_20170511_GO_Central_nan_nan\n",
      "UniProtKB_P0AFT5_btsR_involved_in_GO:0006355_GOREF:0000033_IBA_PANTHER:PTN000724188|UniProtKB:P0A9Q1|UniProtKB:P38684|UniProtKB:P9WGM7|UniProtKB:P0AA16|UniProtKB:P08368|UniProtKB:P76340|UniProtKB:P9WGM9|UniProtKB:P21866|UniProtKB:P0AFJ5|UniProtKB:P37478|UniProtKB:P0ACZ8|UniProtKB:P0AE88|UniProtKB:P71814|UniProtKB:P0AFT5|UniProtKB:Q9I034|UniProtKB:P23890|UniProtKB:O53830|UniProtKB:P9WGL9|UniProtKB:P69228|UniProtKB:P30843|UniProtKB:O24973|UniProtKB:Q8EE50|UniProtKB:Q8EEF6|UniProtKB:P23836|UniProtKB:P44918|UniProtKB:Q8EHJ3_P_Transcriptional regulatory protein BtsR_btsR|yehT|JW5352|b2125_protein_taxon:83333_20230604_GO_Central_nan_nan\n",
      "************ P0A9F1 P46846\n",
      "17\n",
      "UniProtKB_P0A9F1_mntR_located_in_GO:0005737_GO_REF:0000044_IEA_UniProtKB-SubCell:SL-0086_C_Transcriptional regulator MntR_mntR|ybiQ|JW0801|b0817_protein_taxon:83333_20230911_UniProt_nan_nan\n",
      "UniProtKB_P46846_gntX_acts_upstream_of_or_within_GO:0015976_PMID:16707682_IMP_nan_P_DNA utilization protein YhgH_gntX|yhgH|JW5691|b3413_protein_taxon:83333_20170112_EcoCyc_nan_nan\n"
     ]
    }
   ],
   "source": [
    "count = 0\n",
    "existed_proteins = list()\n",
    "for uni_p1, uni_p2 in HardTF_selected_PPs_UniID:\n",
    "    try:\n",
    "        info1 = ecocyc_info_dict[uni_p1]\n",
    "        info2 = ecocyc_info_dict[uni_p2]\n",
    "        info1 = [str(i) for i in info1]\n",
    "        info2 = [str(i) for i in info2]\n",
    "        info1 = \"_\".join(info1)\n",
    "        info2 = \"_\".join(info2)\n",
    "        if (\"Transcrip\" in info1) or (\"Transcrip\" in info2):\n",
    "            if (uni_p1 not in existed_proteins) and (uni_p2 not in existed_proteins):\n",
    "                print(\"*\"*12, uni_p1, uni_p2)\n",
    "                print(count)\n",
    "                print(info1)\n",
    "                print(info2)\n",
    "\n",
    "                count += 1\n",
    "                existed_proteins.append(uni_p1)\n",
    "                existed_proteins.append(uni_p2)\n",
    "            # break\n",
    "    except:\n",
    "        pass\n",
    "        # print(\"*\"*12)\n",
    "        # print(\"No mapping \")"
   ]
  },
  {
   "cell_type": "markdown",
   "metadata": {},
   "source": [
    "# use positive benchmark not prediction : check transient interction  expeciall Transcription factors. espciall the one with diffilutes"
   ]
  },
  {
   "cell_type": "code",
   "execution_count": 12,
   "metadata": {},
   "outputs": [
    {
     "name": "stdout",
     "output_type": "stream",
     "text": [
      "STRINGcurrentSpePhyPPI_benchmark.shape: (53300, 3)\n",
      "STRINGcurrentSpePhyPPI_benchmark.shape: (15476, 3)\n",
      "15476\n"
     ]
    }
   ],
   "source": [
    "STRINGcurrentSpePhyPPI_posPPI_dict = get_STRING1105_physical_interact(data_folder=\"/mnt/mnemo6/damian/STRING_derived_v11.5/download_files/protein.physical.links.v11.5/\",\n",
    "                                                                      retrieve_spe=511145,\n",
    "                                                                      combined_score_thres=500)\n",
    "print(len(STRINGcurrentSpePhyPPI_posPPI_dict))"
   ]
  },
  {
   "cell_type": "code",
   "execution_count": 18,
   "metadata": {},
   "outputs": [
    {
     "name": "stdout",
     "output_type": "stream",
     "text": [
      "15438\n"
     ]
    }
   ],
   "source": [
    "\n",
    "benchmark_selected_PPs = [pp for pp in STRINGcurrentSpePhyPPI_posPPI_dict.keys()]\n",
    "\n",
    "benchmark_selected_PPs_UniID = [(StringID2UniID_dict[p1], StringID2UniID_dict[p2])\n",
    "                                for p1, p2 in benchmark_selected_PPs if (p1 in StringID2UniID_dict) and (p2 in StringID2UniID_dict)]\n",
    "print(len(benchmark_selected_PPs_UniID))"
   ]
  },
  {
   "cell_type": "code",
   "execution_count": 30,
   "metadata": {},
   "outputs": [
    {
     "name": "stdout",
     "output_type": "stream",
     "text": [
      "************ P0AG30 P0AFG0\n",
      "0\n",
      "['511145.b3783', '511145.b3982', 1.221, 0.6171384202722818, 0.5765687870558635, 'P', 'pdb_direct']\n",
      "UniProtKB_P0AG30_rho_located_in_GO:0016020_PMID:16858726_HDA_nan_C_Transcription termination factor Rho_rho|nitA|psuA|rnsC|sbaA|tsu|JW3756|b3783_protein_taxon:83333_20090506_UniProt_nan_nan\n",
      "UniProtKB_P0AFG0_nusG_is_active_in_GO:0005829_GOREF:0000033_IBA_PANTHER:PTN000767438|UniProtKB:P0AFG0_C_Transcription termination/antitermination protein NusG_nusG|JW3945|b3982_protein_taxon:83333_20170228_GO_Central_nan_nan\n",
      "************ P0A780 P0A7R5\n",
      "1\n",
      "['511145.b0416', '511145.b3321', 1.4805, 0.7838678120798424, 0.8579499975803359, 'P', 'pdb_direct']\n",
      "UniProtKB_P0A780_nusB_is_active_in_GO:0005829_GOREF:0000033_IBA_PANTHER:PTN000118200|UniProtKB:P0A780_C_Transcription antitermination protein NusB_nusB|groNB|ssyB|JW0406|b0416_protein_taxon:83333_20190524_GO_Central_nan_nan\n",
      "UniProtKB_P0A7R5_rpsJ_part_of_GO:0015935_GOREF:0000033_IBA_PANTHER:PTN000193512|SGD:S000001007|UniProtKB:P0A7R5|MGI:MGI:1914677|UniProtKB:P60866|UniProtKB:A1XQU9|RGD:621037|SGD:S000002448_C_Small ribosomal subunit protein uS10_rpsJ|nusE|JW3283|b3321_protein_taxon:83333_20230405_GO_Central_nan_nan\n",
      "************ P23837 P23836\n",
      "2\n",
      "['511145.b1129', '511145.b1130', 1.4183, 0.5291502305371628, 0.4005932827436054, 'P', 'N']\n",
      "UniProtKB_P23837_phoQ_is_active_in_GO:0005886_GOREF:0000033_IBA_PANTHER:PTN001976770|UniProtKB:P30844|UniProtKB:P77485|UniProtKB:P23837_C_Sensor protein PhoQ_phoQ|JW1115|b1129_protein_taxon:83333_20211112_GO_Central_nan_nan\n",
      "UniProtKB_P23836_phoP_enables_GO:0000156_GOREF:0000033_IBA_PANTHER:PTN000724188|UniProtKB:P0AE88|UniProtKB:P0AA16|UniProtKB:P38684|UniProtKB:Q9I2U3|UniProtKB:O07776|UniProtKB:P30843|UniProtKB:P0A9Q1_F_Transcriptional regulatory protein PhoP_phoP|JW1116|b1130_protein_taxon:83333_20211113_GO_Central_nan_nan\n",
      "************ P0AFF6 P0A7Z4\n",
      "3\n",
      "['511145.b3169', '511145.b3295', 1.0449, 0.4902903197322424, 0.5255094602820299, 'P', 'pdb_direct']\n",
      "UniProtKB_P0AFF6_nusA_involved_in_GO:0031564_GOREF:0000033_IBA_PANTHER:PTN000505391|UniProtKB:P9WIV3|UniProtKB:P0AFF6_P_Transcription termination/antitermination protein NusA_nusA|JW3138|b3169_protein_taxon:83333_20170228_GO_Central_nan_nan\n",
      "UniProtKB_P0A7Z4_rpoA_is_active_in_GO:0005737_GOREF:0000033_IBA_PANTHER:PTN000780603|UniProtKB:P0A7Z4_C_DNA-directed RNA polymerase subunit alpha_rpoA|pez|phs|sez|JW3257|b3295_protein_taxon:83333_20230407_GO_Central_nan_nan\n",
      "************ P30128 P0A800\n",
      "4\n",
      "['511145.b3406', '511145.b3649', 1.1501, 0.7531182445519491, 0.7720755911544758, 'P', 'pdb_mediated']\n",
      "UniProtKB_P30128_greB_involved_in_GO:0006354_GOREF:0000033_IBA_PANTHER:PTN001252439|UniProtKB:P0A6W5_P_Transcription elongation factor GreB_greB|JW3369|b3406_protein_taxon:83333_20171023_GO_Central_nan_nan\n",
      "UniProtKB_P0A800_rpoZ_part_of_GO:0030880_PMID:2152188_IMP_nan_C_DNA-directed RNA polymerase subunit omega_rpoZ|JW3624|b3649_protein_taxon:83333_20110715_EcoliWiki_nan_nan\n",
      "************ P0ABS1 P0A6W5\n",
      "5\n",
      "['511145.b0145', '511145.b3181', 1.1336, 0.6397774998115764, 0.5888431288114526, 'P', 'N']\n",
      "UniProtKB_P0ABS1_dksA_located_in_GO:0005829_PMID:18304323_IDA_nan_C_RNA polymerase-binding transcription factor DksA_dksA|JW0141|b0145_protein_taxon:83333_20140602_EcoCyc_nan_nan\n",
      "UniProtKB_P0A6W5_greA_involved_in_GO:0006354_GOREF:0000033_IBA_PANTHER:PTN001252439|UniProtKB:P0A6W5_P_Transcription elongation factor GreA_greA|JW3148|b3181_protein_taxon:83333_20171023_GO_Central_nan_nan\n",
      "************ P21866 P52108\n",
      "6\n",
      "['511145.b0694', '511145.b1608', 1.0824, 0.3759714683577247, 0.3703613181055319, 'P', 'N']\n",
      "UniProtKB_P21866_kdpE_part_of_GO:0032993_GOREF:0000033_IBA_PANTHER:PTN000724188|UniProtKB:P0A9Q1|UniProtKB:P23836|UniProtKB:O24973|UniProtKB:Q8EHJ3|UniProtKB:Q8EE50_C_KDP operon transcriptional regulatory protein KdpE_kdpE|JW5096|b0694_protein_taxon:83333_20170829_GO_Central_nan_nan\n",
      "UniProtKB_P52108_rstA_enables_GO:0000156_GOREF:0000033_IBA_PANTHER:PTN000724188|UniProtKB:P0AE88|UniProtKB:P0AA16|UniProtKB:P38684|UniProtKB:Q9I2U3|UniProtKB:O07776|UniProtKB:P30843|UniProtKB:P0A9Q1_F_Transcriptional regulatory protein RstA_rstA|urpT|JW1600|b1608_protein_taxon:83333_20211113_GO_Central_nan_nan\n",
      "************ P22186 P75938\n",
      "7\n",
      "['511145.b0081', '511145.b1077', 1.1316, 0.4194287111525855, 0.3722924353516175, 'P', 'N']\n",
      "UniProtKB_P22186_mraZ_enables_GO:0000976_GOREF:0000033_IBA_PANTHER:PTN002162879|UniProtKB:P22186_F_Transcriptional regulator MraZ_mraZ|yabB|JW0079|b0081_protein_taxon:83333_20170228_GO_Central_nan_nan\n",
      "UniProtKB_P75938_flgF_involved_in_GO:0071978_GOREF:0000033_IBA_PANTHER:PTN000764839|UniProtKB:P39752|UniProtKB:P24501|UniProtKB:P24500|UniProtKB:P23446_P_Flagellar basal-body rod protein FlgF_flgF|fla FVI|flaX|JW1064|b1077_protein_taxon:83333_20200809_GO_Central_nan_nan\n"
     ]
    }
   ],
   "source": [
    "count = 0\n",
    "existed_proteins = list()\n",
    "for p1,p2 in benchmark_selected_PPs:\n",
    "    try:\n",
    "        uni_p1, uni_p2=StringID2UniID_dict[p1],StringID2UniID_dict[p2]\n",
    "        info1 = ecocyc_info_dict[uni_p1]\n",
    "        info2 = ecocyc_info_dict[uni_p2]\n",
    "        info1 = [str(i) for i in info1]\n",
    "        info2 = [str(i) for i in info2]\n",
    "        info1 = \"_\".join(info1)\n",
    "        info2 = \"_\".join(info2)\n",
    "        if (\"Transcrip\" in info1) or (\"Transcrip\" in info2):\n",
    "            if original_STRINGFullPhyBalancePhyla_DCAandLRandRF_dict[(p1, p2)][2]>1: # DCA score more than 1\n",
    "                if (uni_p1 not in existed_proteins) and (uni_p2 not in existed_proteins):\n",
    "                    print(\"*\"*12, uni_p1, uni_p2)\n",
    "                    print(count)\n",
    "                    print(original_STRINGFullPhyBalancePhyla_DCAandLRandRF_dict[(p1,p2)])\n",
    "                    print(info1)\n",
    "                    print(info2)\n",
    "\n",
    "                    count += 1\n",
    "                    existed_proteins.append(uni_p1)\n",
    "                    existed_proteins.append(uni_p2)\n",
    "                # break\n",
    "    except:\n",
    "        pass\n",
    "        # print(\"*\"*12)\n",
    "        # print(\"No mapping \")"
   ]
  },
  {
   "cell_type": "code",
   "execution_count": 31,
   "metadata": {},
   "outputs": [
    {
     "name": "stdout",
     "output_type": "stream",
     "text": [
      "************ P30958 P0A698\n",
      "0\n",
      "['511145.b1114', '511145.b4058', 0.724, 0.307363055846402, 0.2622956580612728, 'P', 'pdb_direct']\n",
      "UniProtKB_P30958_mfd_involved_in_GO:0000716_GOREF:0000033_IBA_PANTHER:PTN008553567|UniProtKB:P30958_P_Transcription-repair-coupling factor_mfd|JW1100|b1114_protein_taxon:83333_20190807_GO_Central_nan_nan\n",
      "UniProtKB_P0A698_uvrA_part_of_GO:0009380_PMID:12145219_IDA_nan_C_UvrABC system protein A_uvrA|dinE|JW4019|b4058_protein_taxon:83333_20140924_UniProt_nan_nan\n",
      "************ P30844 P30843\n",
      "1\n",
      "['511145.b4112', '511145.b4113', 0.6985, 0.1773445268675955, 0.2915574773161959, 'P', 'N']\n",
      "UniProtKB_P30844_basS_is_active_in_GO:0005886_GOREF:0000033_IBA_PANTHER:PTN001976770|UniProtKB:P30844|UniProtKB:P77485|UniProtKB:P23837_C_Sensor protein BasS_basS|pmrB|JW4073|b4112_protein_taxon:83333_20211112_GO_Central_nan_nan\n",
      "UniProtKB_P30843_basR_part_of_GO:0032993_GOREF:0000033_IBA_PANTHER:PTN000724188|UniProtKB:P0A9Q1|UniProtKB:P23836|UniProtKB:O24973|UniProtKB:Q8EHJ3|UniProtKB:Q8EE50_C_Transcriptional regulatory protein BasR_basR|pmrA|JW4074|b4113_protein_taxon:83333_20170829_GO_Central_nan_nan\n",
      "************ P0AE82 P0AE88\n",
      "2\n",
      "['511145.b3911', '511145.b3912', 0.6617, 0.1823225827537899, 0.2703150483981423, 'P', 'N']\n",
      "UniProtKB_P0AE82_cpxA_enables_GO:0000155_GOREF:0000033_IBA_PANTHER:PTN002557430|UniProtKB:P0AE82_F_Sensor histidine kinase CpxA_cpxA|ecfB|eup|ssd|JW3882|b3911_protein_taxon:83333_20171018_GO_Central_nan_nan\n",
      "UniProtKB_P0AE88_cpxR_part_of_GO:0032993_GOREF:0000033_IBA_PANTHER:PTN000724188|UniProtKB:P0A9Q1|UniProtKB:P23836|UniProtKB:O24973|UniProtKB:Q8EHJ3|UniProtKB:Q8EE50_C_Transcriptional regulatory protein CpxR_cpxR|yiiA|JW3883|b3912_protein_taxon:83333_20170829_GO_Central_nan_nan\n",
      "************ P08400 P23836\n",
      "3\n",
      "['511145.b0400', '511145.b1130', 0.6489, 0.2057103612236988, 0.221816245458258, 'P', 'N']\n",
      "UniProtKB_P08400_phoR_is_active_in_GO:0005886_GOREF:0000033_IBA_PANTHER:PTN001564735|UniProtKB:P08400_C_Phosphate regulon sensor protein PhoR_phoR|nmpB|JW0390|b0400_protein_taxon:83333_20230112_GO_Central_nan_nan\n",
      "UniProtKB_P23836_phoP_enables_GO:0000156_GOREF:0000033_IBA_PANTHER:PTN000724188|UniProtKB:P0AE88|UniProtKB:P0AA16|UniProtKB:P38684|UniProtKB:Q9I2U3|UniProtKB:O07776|UniProtKB:P30843|UniProtKB:P0A9Q1_F_Transcriptional regulatory protein PhoP_phoP|JW1116|b1130_protein_taxon:83333_20211113_GO_Central_nan_nan\n",
      "************ P0AFF6 P0A8V2\n",
      "4\n",
      "['511145.b3169', '511145.b3987', 0.9482, 0.3142345546250319, 0.3263643608426327, 'P', 'pdb_direct']\n",
      "UniProtKB_P0AFF6_nusA_involved_in_GO:0031564_GOREF:0000033_IBA_PANTHER:PTN000505391|UniProtKB:P9WIV3|UniProtKB:P0AFF6_P_Transcription termination/antitermination protein NusA_nusA|JW3138|b3169_protein_taxon:83333_20170228_GO_Central_nan_nan\n",
      "UniProtKB_P0A8V2_rpoB_contributes_to_GO:0003899_GOREF:0000033_IBA_PANTHER:PTN000465875|SGD:S000006214|SGD:S000005677|PomBase:SPAC23G3.01|RGD:620822|SGD:S000005733_F_DNA-directed RNA polymerase subunit beta_rpoB|groN|nitB|rif|ron|stl|stv|tabD|JW3950|b3987_protein_taxon:83333_20170228_GO_Central_nan_nan\n",
      "************ P52108 P18392\n",
      "5\n",
      "['511145.b1608', '511145.b1609', 0.7916, 0.2842047069432402, 0.238344617583484, 'P', 'N']\n",
      "UniProtKB_P52108_rstA_enables_GO:0000156_GOREF:0000033_IBA_PANTHER:PTN000724188|UniProtKB:P0AE88|UniProtKB:P0AA16|UniProtKB:P38684|UniProtKB:Q9I2U3|UniProtKB:O07776|UniProtKB:P30843|UniProtKB:P0A9Q1_F_Transcriptional regulatory protein RstA_rstA|urpT|JW1600|b1608_protein_taxon:83333_20211113_GO_Central_nan_nan\n",
      "UniProtKB_P18392_rstB_enables_GO:0000155_GOREF:0000033_IBA_PANTHER:PTN001293174|UniProtKB:Q9I2U4|UniProtKB:P0AEJ4|UniProtKB:Q9HT87_F_Sensor protein RstB_rstB|uspT|JW1601|b1609_protein_taxon:83333_20221009_GO_Central_nan_nan\n",
      "************ P52076 P40719\n",
      "6\n",
      "['511145.b3025', '511145.b3026', 0.7071, 0.16397489853297, 0.2968105269824905, 'P', 'N']\n",
      "UniProtKB_P52076_qseB_is_active_in_GO:0005829_GOREF:0000033_IBA_PANTHER:PTN000724188|UniProtKB:P23836|UniProtKB:P0AE88|UniProtKB:P69228|UniProtKB:P0A9Q1_C_Transcriptional regulatory protein QseB_qseB|ygiX|JW2993|b3025_protein_taxon:83333_20170829_GO_Central_nan_nan\n",
      "UniProtKB_P40719_qseC_is_active_in_GO:0005886_GOREF:0000033_IBA_PANTHER:PTN001976770|UniProtKB:P30844|UniProtKB:P77485|UniProtKB:P23837_C_Sensor protein QseC_qseC|ygiY|JW2994|b3026_protein_taxon:83333_20211112_GO_Central_nan_nan\n",
      "************ P30847 P69228\n",
      "7\n",
      "['511145.b2078', '511145.b2079', 0.787, 0.2292127163947947, 0.2871313312460241, 'P', 'N']\n",
      "UniProtKB_P30847_baeS_located_in_GO:0016020_PMID:8282725_IDA_nan_C_Signal transduction histidine-protein kinase BaeS_baeS|JW2063|b2078_protein_taxon:83333_20190404_EcoCyc_nan_nan\n",
      "UniProtKB_P69228_baeR_is_active_in_GO:0005829_GOREF:0000033_IBA_PANTHER:PTN000724188|UniProtKB:P23836|UniProtKB:P0AE88|UniProtKB:P69228|UniProtKB:P0A9Q1_C_Transcriptional regulatory protein BaeR_baeR|JW2064|b2079_protein_taxon:83333_20170829_GO_Central_nan_nan\n",
      "************ P0ADG4 P0AFG0\n",
      "8\n",
      "['511145.b2533', '511145.b3982', 0.8796, 0.4296130480771923, 0.355469346114766, 'P', 'pdb_direct']\n",
      "UniProtKB_P0ADG4_suhB_enables_GO:0008934_GOREF:0000033_IBA_PANTHER:PTN000465134|RGD:69254|TAIR:locus:2029524|TAIR:locus:2075392|UniProtKB:P9WKI9|SGD:S000001088|UniProtKB:P0ADG4|UniProtKB:O14732|UniProtKB:P29218|SGD:S000002695_F_Nus factor SuhB_suhB|ssyA|JW2517|b2533_protein_taxon:83333_20170228_GO_Central_nan_nan\n",
      "UniProtKB_P0AFG0_nusG_is_active_in_GO:0005829_GOREF:0000033_IBA_PANTHER:PTN000767438|UniProtKB:P0AFG0_C_Transcription termination/antitermination protein NusG_nusG|JW3945|b3982_protein_taxon:83333_20170228_GO_Central_nan_nan\n",
      "************ P76339 P76340\n",
      "9\n",
      "['511145.b1968', '511145.b1969', 0.6161, 0.2033442881932631, 0.2144486064742854, 'P', 'N']\n",
      "UniProtKB_P76339_hprS_involved_in_GO:0000160_GOREF:0000033_IBA_PANTHER:PTN001976770|UniProtKB:P23837|UniProtKB:Q9HV31_P_Sensor histidine kinase HprS_hprS|yedV|JW1951|b1968_protein_taxon:83333_20201001_GO_Central_nan_nan\n",
      "UniProtKB_P76340_hprR_is_active_in_GO:0005829_GOREF:0000033_IBA_PANTHER:PTN000724188|UniProtKB:P23836|UniProtKB:P0AE88|UniProtKB:P69228|UniProtKB:P0A9Q1_C_Transcriptional regulatory protein HprR_hprR|yedW|JW5322|b1969_protein_taxon:83333_20170829_GO_Central_nan_nan\n",
      "************ P0AG30 P0A8T7\n",
      "10\n",
      "['511145.b3783', '511145.b3988', 0.8308, 0.3395258790837389, 0.366857597956871, 'P', 'pdb_direct']\n",
      "UniProtKB_P0AG30_rho_located_in_GO:0016020_PMID:16858726_HDA_nan_C_Transcription termination factor Rho_rho|nitA|psuA|rnsC|sbaA|tsu|JW3756|b3783_protein_taxon:83333_20090506_UniProt_nan_nan\n",
      "UniProtKB_P0A8T7_rpoC_contributes_to_GO:0003899_GOREF:0000033_IBA_PANTHER:PTN000453461|SGD:S000005868|SGD:S000005642|PomBase:SPBC28F2.12|RGD:620824|SGD:S000002299|WB:WBGene00000123_F_DNA-directed RNA polymerase subunit beta'_rpoC|tabB|JW3951|b3988_protein_taxon:83333_20170228_GO_Central_nan_nan\n",
      "************ P08368 P08401\n",
      "11\n",
      "['511145.b4398', '511145.b4399', 0.8597, 0.2073382539148619, 0.2834939017979797, 'P', 'N']\n",
      "UniProtKB_P08368_creB_enables_GO:0000976_GOREF:0000033_IBA_PANTHER:PTN000724188|UniProtKB:P0A9Q1|UniProtKB:O24973|UniProtKB:P69228|UniProtKB:P21866|UniProtKB:Q8EE50|UniProtKB:P23836|UniProtKB:Q8EHJ3|UniProtKB:P08368_F_Transcriptional regulatory protein CreB_creB|yjjE|JW4361|b4398_protein_taxon:83333_20211113_GO_Central_nan_nan\n",
      "UniProtKB_P08401_creC_located_in_GO:0016020_PMID:3531171_RCA_nan_C_Sensor protein CreC_creC|phoM|JW4362|b4399_protein_taxon:83333_20100628_EcoCyc_nan_nan\n",
      "************ P0AFU4 P52101\n",
      "12\n",
      "['511145.b2554', '511145.b2556', 0.5781, 0.1463773461576027, 0.2932106165134396, 'P', 'N']\n",
      "UniProtKB_P0AFU4_glrR_located_in_GO:0005737_GO_REF:0000044_IEA_UniProtKB-SubCell:SL-0086_C_Transcriptional regulatory protein GlrR_glrR|yfhA|JW2538|b2554_protein_taxon:83333_20230911_UniProt_nan_nan\n",
      "UniProtKB_P52101_glrK_enables_GO:0000156_GOREF:0000033_IBA_PANTHER:PTN002450928|CGD:CAL0000190567|SGD:S000003996_F_Sensor histidine kinase GlrK_glrK|yfhK|JW5407|b2556_protein_taxon:83333_20221009_GO_Central_nan_nan\n",
      "************ P24192 P14375\n",
      "13\n",
      "['511145.b2729', '511145.b4004', 0.7752, 0.2334834985410437, 0.3123138096387934, 'P', 'N']\n",
      "UniProtKB_P24192_hypD_involved_in_GO:0051604_GOREF:0000033_IBA_PANTHER:PTN000765452|UniProtKB:P24192_P_Hydrogenase maturation factor HypD_hypD|JW2699|b2729_protein_taxon:83333_20190822_GO_Central_nan_nan\n",
      "UniProtKB_P14375_zraR_located_in_GO:0005737_GO_REF:0000044_IEA_UniProtKB-SubCell:SL-0086_C_Transcriptional regulatory protein ZraR_zraR|hydG|JW3968|b4004_protein_taxon:83333_20230911_UniProt_nan_nan\n"
     ]
    }
   ],
   "source": [
    "count = 0\n",
    "existed_proteins = list()\n",
    "for p1, p2 in benchmark_selected_PPs:\n",
    "    try:\n",
    "        uni_p1, uni_p2 = StringID2UniID_dict[p1], StringID2UniID_dict[p2]\n",
    "        info1 = ecocyc_info_dict[uni_p1]\n",
    "        info2 = ecocyc_info_dict[uni_p2]\n",
    "        info1 = [str(i) for i in info1]\n",
    "        info2 = [str(i) for i in info2]\n",
    "        info1 = \"_\".join(info1)\n",
    "        info2 = \"_\".join(info2)\n",
    "        if (\"Transcrip\" in info1) or (\"Transcrip\" in info2):\n",
    "            # DCA score more than 1\n",
    "            if original_STRINGFullPhyBalancePhyla_DCAandLRandRF_dict[(p1, p2)][2] < 1:\n",
    "                if (uni_p1 not in existed_proteins) and (uni_p2 not in existed_proteins):\n",
    "                    print(\"*\"*12, uni_p1, uni_p2)\n",
    "                    print(count)\n",
    "                    print(\n",
    "                        original_STRINGFullPhyBalancePhyla_DCAandLRandRF_dict[(p1, p2)])\n",
    "                    print(info1)\n",
    "                    print(info2)\n",
    "\n",
    "                    count += 1\n",
    "                    existed_proteins.append(uni_p1)\n",
    "                    existed_proteins.append(uni_p2)\n",
    "                # break\n",
    "    except:\n",
    "        pass\n",
    "        # print(\"*\"*12)\n",
    "        # print(\"No mapping \")"
   ]
  },
  {
   "cell_type": "markdown",
   "metadata": {},
   "source": [
    "### interesting one: \n",
    "************ P0AFF6 P0A7Z4\n",
    "3\n",
    "['511145.b3169', '511145.b3295', 1.0449, 0.4902903197322424, 0.5255094602820299, 'P', 'pdb_direct']\n",
    "UniProtKB_P0AFF6_nusA_involved_in_GO:0031564_GOREF:0000033_IBA_PANTHER:PTN000505391|UniProtKB:P9WIV3|UniProtKB:P0AFF6_P_Transcription termination/antitermination protein NusA_nusA|JW3138|b3169_protein_taxon:83333_20170228_GO_Central_nan_nan\n",
    "UniProtKB_P0A7Z4_rpoA_is_active_in_GO:0005737_GOREF:0000033_IBA_PANTHER:PTN000780603|UniProtKB:P0A7Z4_C_DNA-directed RNA polymerase subunit alpha_rpoA|pez|phs|sez|JW3257|b3295_protein_taxon:83333_20230407_GO_Central_nan_nan\n",
    "\n",
    "************ P30128 P0A800\n",
    "4\n",
    "['511145.b3406', '511145.b3649', 1.1501, 0.7531182445519491, 0.7720755911544758, 'P', 'pdb_mediated']\n",
    "UniProtKB_P30128_greB_involved_in_GO:0006354_GOREF:0000033_IBA_PANTHER:PTN001252439|UniProtKB:P0A6W5_P_Transcription elongation factor GreB_greB|JW3369|b3406_protein_taxon:83333_20171023_GO_Central_nan_nan\n",
    "UniProtKB_P0A800_rpoZ_part_of_GO:0030880_PMID:2152188_IMP_nan_C_DNA-directed RNA polymerase subunit omega_rpoZ|JW3624|b3649_protein_taxon:83333_20110715_EcoliWiki_nan_nan\n",
    "\n",
    "************ P0ABS1 P0A6W5\n",
    "5\n",
    "['511145.b0145', '511145.b3181', 1.1336, 0.6397774998115764, 0.5888431288114526, 'P', 'N']\n",
    "UniProtKB_P0ABS1_dksA_located_in_GO:0005829_PMID:18304323_IDA_nan_C_RNA polymerase-binding transcription factor DksA_dksA|JW0141|b0145_protein_taxon:83333_20140602_EcoCyc_nan_nan\n",
    "UniProtKB_P0A6W5_greA_involved_in_GO:0006354_GOREF:0000033_IBA_PANTHER:PTN001252439|UniProtKB:P0A6W5_P_Transcription elongation factor GreA_greA|JW3148|b3181_protein_taxon:83333_20171023_GO_Central_nan_nan\n",
    "\n",
    "\n",
    "\n",
    "************ P22186 P75938\n",
    "7\n",
    "['511145.b0081', '511145.b1077', 1.1316, 0.4194287111525855, 0.3722924353516175, 'P', 'N']\n",
    "UniProtKB_P22186_mraZ_enables_GO:0000976_GOREF:0000033_IBA_PANTHER:PTN002162879|UniProtKB:P22186_F_Transcriptional regulator MraZ_mraZ|yabB|JW0079|b0081_protein_taxon:83333_20170228_GO_Central_nan_nan\n",
    "UniProtKB_P75938_flgF_involved_in_GO:0071978_GOREF:0000033_IBA_PANTHER:PTN000764839|UniProtKB:P39752|UniProtKB:P24501|UniProtKB:P24500|UniProtKB:P23446_P_Flagellar basal-body rod protein FlgF_flgF|fla FVI|flaX|JW1064|b1077_protein_taxon:83333_20200809_GO_Central_nan_nan\n",
    ":\n",
    " by yeast two hybrid https://string-db.org/cgi/setevidence?taskId=bdP1LXVznEAg&sessionId=bDxjmjhq6kBL&data_channel=experimental&node1=26280007&node2=26280913"
   ]
  }
 ],
 "metadata": {
  "kernelspec": {
   "display_name": "py39_notebook",
   "language": "python",
   "name": "py39_notebook"
  },
  "language_info": {
   "codemirror_mode": {
    "name": "ipython",
    "version": 3
   },
   "file_extension": ".py",
   "mimetype": "text/x-python",
   "name": "python",
   "nbconvert_exporter": "python",
   "pygments_lexer": "ipython3",
   "version": "3.9.18"
  }
 },
 "nbformat": 4,
 "nbformat_minor": 2
}
