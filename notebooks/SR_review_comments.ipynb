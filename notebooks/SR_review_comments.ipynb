{
 "cells": [
  {
   "cell_type": "code",
   "execution_count": 17,
   "metadata": {},
   "outputs": [],
   "source": [
    "import sys\n",
    "import os\n",
    "import glob\n",
    "import pickle\n",
    "import pandas as pd\n",
    "\n",
    "from Bio import AlignIO\n",
    "from Bio.Align import MultipleSeqAlignment\n",
    "import random\n",
    "\n",
    "\n",
    "import multiprocessing as mp"
   ]
  },
  {
   "cell_type": "code",
   "execution_count": null,
   "metadata": {},
   "outputs": [],
   "source": []
  },
  {
   "cell_type": "code",
   "execution_count": 19,
   "metadata": {},
   "outputs": [],
   "source": [
    "\n",
    "%reload_ext autoreload\n",
    "%autoreload 2\n",
    "\n",
    "sys.path.append('../src/utilities/')\n",
    "\n",
    "\n",
    "from pdb_benchmark import get_STRING1105_pdb_interact\n",
    "\n",
    "from MSA_tools import downsample_msa\n",
    "from MSA_tools import onePhylumRandomised_msa\n",
    "from MSA_tools import allPhylumRandomised_msa\n",
    "from MSA_tools import get_msa_statistics_dict\n"
   ]
  },
  {
   "cell_type": "code",
   "execution_count": 3,
   "metadata": {},
   "outputs": [],
   "source": [
    "# \"/mnt/mnemo6/tao/\", /mnt/mnemo6/tao/notebook_data/\n",
    "notebookData_folder = \"/mnt/mnemo6/tao/\"\n",
    "newSTRING_rootFolder = f\"{notebookData_folder}PPI_Coevolution/STRING_data_11.5/\"\n",
    "CoEvo_data_folder = f\"{notebookData_folder}PPI_Coevolution/CoEvo_data_STRING11.5/\""
   ]
  },
  {
   "cell_type": "markdown",
   "metadata": {},
   "source": [
    "# control experiments \n",
    "\n",
    "Regarding the clade-wise alignment method. I would like to see more in-depth analysis of the following issues\u000b\n",
    "\u000b(1) Control of the effect of subdividing the msas by constructing pair alignments in which phylum-x submsa of protein 1 is merged with \n",
    "phylum-y submsa from protein 2. The perform of these control alignments where phylogenetic clades are mixed up should give a quantitative \n",
    "estimation of the effect of the method proposed. \u000b\n",
    "\n",
    "\u000b(2) Control of the effect of the classification method by pairing clade-msas for protein 1 with random versions of clade-msas for protein 2. \n",
    "Usually DCA methods assume for intra-molecular contacts that the protein has contacts and report some top pairs are real interactions. \n",
    "This method for inter-molecular interactions is expected to decide whether two proteins interact or not using a discrimination method. \n",
    "How does that work? These controls should inform about the false positive predicted interactions.\n",
    "\n",
    "our solution : \n",
    "\n",
    "One side from one phyla, other side from one same  or all different phyla , but shuffled \n",
    "\n",
    "\n",
    "\n",
    "\n",
    "\n",
    "\n"
   ]
  },
  {
   "cell_type": "markdown",
   "metadata": {},
   "source": [
    "## get small and postive benchmark \n",
    "\n",
    "we use pdb_interact as benchmark \n"
   ]
  },
  {
   "cell_type": "code",
   "execution_count": 4,
   "metadata": {},
   "outputs": [
    {
     "name": "stdout",
     "output_type": "stream",
     "text": [
      "len of intersection: 309\n",
      "414 3243 3657\n",
      "0\n",
      "3657\n"
     ]
    }
   ],
   "source": [
    "pdb_interact_PPs, pdb_complex_PPs = get_STRING1105_pdb_interact(pdb_interact_filename=\"/mnt/mnemo6/damian/STRING_derived_v11.5/pdb/pdb_interact.tsv\",\n",
    "                                                                retrieve_spe=511145,)\n",
    "\n",
    "\n",
    "pdb_interact_PPs_dict = {pp: 1 for pp in pdb_interact_PPs}\n",
    "pdb_complex_PPs_dict = {pp: 1 for pp in pdb_complex_PPs}\n",
    "pdb_PPs_dict = {pp: 1 for pp in pdb_interact_PPs+pdb_complex_PPs}\n",
    "\n",
    "print(len(pdb_interact_PPs), len(pdb_complex_PPs), len(pdb_PPs_dict))\n",
    "\n",
    "\n",
    "print(len(set(pdb_interact_PPs).intersection(pdb_complex_PPs)))\n",
    "\n",
    "print(len(set(pdb_interact_PPs).union(pdb_complex_PPs)))"
   ]
  },
  {
   "cell_type": "code",
   "execution_count": null,
   "metadata": {},
   "outputs": [],
   "source": []
  },
  {
   "cell_type": "markdown",
   "metadata": {},
   "source": [
    "## control 1 \n",
    "\n",
    "\n",
    "for phylum 1224 "
   ]
  },
  {
   "cell_type": "code",
   "execution_count": 21,
   "metadata": {},
   "outputs": [],
   "source": [
    "# # run once to generate randomised paired MSA \n",
    "# Query_tuple = ('1224', '511145')\n",
    "# EggNOG_maxLevel, currentSpe_TaxID = Query_tuple\n",
    "# input_root_folder = CoEvo_data_folder+currentSpe_TaxID + \\\n",
    "#     \"_EggNOGmaxLevel\"+EggNOG_maxLevel+\"_eggNOGfilteredData/\"\n",
    "# SamePosandNeg_pairedMSA_Nf90_folder = input_root_folder+\"pair_MSA_Nf90_PasteAlign/\"\n",
    "# print(SamePosandNeg_pairedMSA_Nf90_folder)\n",
    "\n",
    "# onePhylumRandomised_SamePosandNeg_pairedMSA_Nf90_folder = input_root_folder + \\\n",
    "#     \"onePhylumRandomised_pair_MSA_Nf90_PasteAlign/\"\n",
    "# print(onePhylumRandomised_SamePosandNeg_pairedMSA_Nf90_folder)\n",
    "\n",
    "\n",
    "# currentSpeMiddleDataPath = newSTRING_rootFolder+currentSpe_TaxID + \\\n",
    "#     \"_EggNOGmaxLevel\"+EggNOG_maxLevel+\"_MiddleData/\"\n",
    "# print(currentSpeMiddleDataPath)\n",
    "# with open(currentSpeMiddleDataPath+'fasta_protein_lens_dict.pickle', 'rb') as handle:\n",
    "#     fasta_protein_lens = pickle.load(handle)\n",
    "\n",
    "# print(fasta_protein_lens[\"511145.b0014\"], fasta_protein_lens[\"511145.b0055\"],\n",
    "#       fasta_protein_lens[\"511145.b0095\"], fasta_protein_lens[\"511145.b0436\"])\n",
    "\n",
    "\n",
    "# if not os.path.exists(onePhylumRandomised_SamePosandNeg_pairedMSA_Nf90_folder):\n",
    "#     os.makedirs(onePhylumRandomised_SamePosandNeg_pairedMSA_Nf90_folder)\n",
    "#     print(onePhylumRandomised_SamePosandNeg_pairedMSA_Nf90_folder)\n",
    "\n",
    "# mp_args = [(pp1, pp2, fasta_protein_lens[pp1], SamePosandNeg_pairedMSA_Nf90_folder,\n",
    "#             onePhylumRandomised_SamePosandNeg_pairedMSA_Nf90_folder) for pp1, pp2 in pdb_interact_PPs if pp1 in fasta_protein_lens]\n",
    "\n",
    "# pool = mp.Pool(20)\n",
    "# pool.map(onePhylumRandomised_msa, mp_args)\n",
    "# pool.close()"
   ]
  },
  {
   "cell_type": "code",
   "execution_count": null,
   "metadata": {},
   "outputs": [],
   "source": [
    "for run DCA . \n",
    "\n",
    "use: \n",
    " python onePhylumRandomised_DCA.py"
   ]
  },
  {
   "cell_type": "code",
   "execution_count": null,
   "metadata": {},
   "outputs": [],
   "source": []
  },
  {
   "cell_type": "markdown",
   "metadata": {},
   "source": [
    "## control 2"
   ]
  },
  {
   "cell_type": "code",
   "execution_count": 5,
   "metadata": {},
   "outputs": [
    {
     "name": "stdout",
     "output_type": "stream",
     "text": [
      "/mnt/mnemo6/tao/PPI_Coevolution/CoEvo_data_STRING11.5/511145_EggNOGmaxLevel1224_eggNOGfilteredData/pair_MSA_Nf90_PasteAlign/\n",
      "/mnt/mnemo6/tao/PPI_Coevolution/STRING_data_11.5/511145_EggNOGmaxLevel1224_MiddleData/\n",
      "638 256 380 431\n"
     ]
    }
   ],
   "source": [
    "leftPhylum_tuple = ('1224', '511145')\n",
    "\n",
    "leftPhylum_EggNOG_maxLevel, leftPhylum_currentSpe_TaxID = leftPhylum_tuple\n",
    "leftPhylum_input_root_folder = CoEvo_data_folder+leftPhylum_currentSpe_TaxID + \\\n",
    "    \"_EggNOGmaxLevel\"+leftPhylum_EggNOG_maxLevel+\"_eggNOGfilteredData/\"\n",
    "leftPhylum_pairedMSA_Nf90_folder = leftPhylum_input_root_folder + \\\n",
    "    \"pair_MSA_Nf90_PasteAlign/\"\n",
    "print(leftPhylum_pairedMSA_Nf90_folder)\n",
    "\n",
    "\n",
    "leftPhylum_currentSpeMiddleDataPath = newSTRING_rootFolder+leftPhylum_currentSpe_TaxID + \\\n",
    "    \"_EggNOGmaxLevel\"+leftPhylum_EggNOG_maxLevel+\"_MiddleData/\"\n",
    "print(leftPhylum_currentSpeMiddleDataPath)\n",
    "with open(leftPhylum_currentSpeMiddleDataPath+'fasta_protein_lens_dict.pickle', 'rb') as handle:\n",
    "    leftPhylum_fasta_protein_lens = pickle.load(handle)\n",
    "\n",
    "print(leftPhylum_fasta_protein_lens[\"511145.b0014\"], leftPhylum_fasta_protein_lens[\"511145.b0055\"],\n",
    "      leftPhylum_fasta_protein_lens[\"511145.b0095\"], leftPhylum_fasta_protein_lens[\"511145.b0436\"])"
   ]
  },
  {
   "cell_type": "code",
   "execution_count": 6,
   "metadata": {},
   "outputs": [
    {
     "name": "stdout",
     "output_type": "stream",
     "text": [
      "/mnt/mnemo6/tao/PPI_Coevolution/CoEvo_data_STRING11.5/511145_EggNOGmaxLevel2_eggNOGfilteredData/pair_MSA_Nf90_PasteAlign/\n",
      "/mnt/mnemo6/tao/PPI_Coevolution/STRING_data_11.5/511145_EggNOGmaxLevel2_MiddleData/\n",
      "632 252 366 429\n"
     ]
    }
   ],
   "source": [
    "allPhylum_tuple = ('2', '511145')\n",
    "\n",
    "allPhylum_EggNOG_maxLevel, allPhylum_currentSpe_TaxID = allPhylum_tuple\n",
    "allPhylum_input_root_folder = CoEvo_data_folder+allPhylum_currentSpe_TaxID + \\\n",
    "    \"_EggNOGmaxLevel\"+allPhylum_EggNOG_maxLevel+\"_eggNOGfilteredData/\"\n",
    "allPhylum_pairedMSA_Nf90_folder = allPhylum_input_root_folder + \\\n",
    "    \"pair_MSA_Nf90_PasteAlign/\"\n",
    "print(allPhylum_pairedMSA_Nf90_folder)\n",
    "\n",
    "\n",
    "allPhylum_currentSpeMiddleDataPath = newSTRING_rootFolder+allPhylum_currentSpe_TaxID + \\\n",
    "    \"_EggNOGmaxLevel\"+allPhylum_EggNOG_maxLevel+\"_MiddleData/\"\n",
    "print(allPhylum_currentSpeMiddleDataPath)\n",
    "with open(allPhylum_currentSpeMiddleDataPath+'fasta_protein_lens_dict.pickle', 'rb') as handle:\n",
    "    allPhylum_fasta_protein_lens = pickle.load(handle)\n",
    "\n",
    "print(allPhylum_fasta_protein_lens[\"511145.b0014\"], allPhylum_fasta_protein_lens[\"511145.b0055\"],\n",
    "      allPhylum_fasta_protein_lens[\"511145.b0095\"], allPhylum_fasta_protein_lens[\"511145.b0436\"])"
   ]
  },
  {
   "cell_type": "code",
   "execution_count": 9,
   "metadata": {},
   "outputs": [
    {
     "name": "stdout",
     "output_type": "stream",
     "text": [
      "/mnt/mnemo6/tao/PPI_Coevolution/CoEvo_data_STRING11.5/511145_EggNOGmaxLevel1224_eggNOGfilteredData/allPhylumRandomised_pair_MSA_Nf90_PasteAlign/\n",
      "/mnt/mnemo6/tao/PPI_Coevolution/CoEvo_data_STRING11.5/511145_EggNOGmaxLevel1224_eggNOGfilteredData/allPhylumRandomised_pair_MSA_Nf90_PasteAlign/\n"
     ]
    }
   ],
   "source": [
    "\n",
    "\n",
    "allPhylumRandomised_SamePosandNeg_pairedMSA_Nf90_folder = leftPhylum_input_root_folder + \\\n",
    "    \"allPhylumRandomised_pair_MSA_Nf90_PasteAlign/\"\n",
    "print(allPhylumRandomised_SamePosandNeg_pairedMSA_Nf90_folder)\n",
    "\n",
    "if not os.path.exists(allPhylumRandomised_SamePosandNeg_pairedMSA_Nf90_folder):\n",
    "    os.makedirs(allPhylumRandomised_SamePosandNeg_pairedMSA_Nf90_folder)\n",
    "    print(allPhylumRandomised_SamePosandNeg_pairedMSA_Nf90_folder)"
   ]
  },
  {
   "cell_type": "code",
   "execution_count": 54,
   "metadata": {},
   "outputs": [],
   "source": []
  },
  {
   "cell_type": "code",
   "execution_count": 21,
   "metadata": {},
   "outputs": [
    {
     "name": "stdout",
     "output_type": "stream",
     "text": [
      "384\n",
      "allPhylum_error\n",
      "allPhylum_error\n"
     ]
    }
   ],
   "source": [
    "\n",
    "mp_args = [(pp1, pp2, leftPhylum_fasta_protein_lens[pp1], allPhylum_fasta_protein_lens[pp1], leftPhylum_pairedMSA_Nf90_folder,allPhylum_pairedMSA_Nf90_folder,\n",
    "            allPhylumRandomised_SamePosandNeg_pairedMSA_Nf90_folder) for pp1, pp2 in pdb_interact_PPs if (pp1 in leftPhylum_fasta_protein_lens) and (pp1 in allPhylum_fasta_protein_lens)]\n",
    "print(len(mp_args))\n",
    "pool = mp.Pool(20)\n",
    "pool.map(allPhylumRandomised_msa, mp_args)\n",
    "pool.close()"
   ]
  },
  {
   "cell_type": "code",
   "execution_count": null,
   "metadata": {},
   "outputs": [],
   "source": []
  },
  {
   "cell_type": "code",
   "execution_count": null,
   "metadata": {},
   "outputs": [],
   "source": []
  },
  {
   "cell_type": "code",
   "execution_count": null,
   "metadata": {},
   "outputs": [],
   "source": []
  },
  {
   "cell_type": "code",
   "execution_count": null,
   "metadata": {},
   "outputs": [],
   "source": []
  },
  {
   "cell_type": "code",
   "execution_count": null,
   "metadata": {},
   "outputs": [],
   "source": []
  },
  {
   "cell_type": "code",
   "execution_count": null,
   "metadata": {},
   "outputs": [],
   "source": []
  },
  {
   "cell_type": "code",
   "execution_count": null,
   "metadata": {},
   "outputs": [],
   "source": []
  }
 ],
 "metadata": {
  "kernelspec": {
   "display_name": "py38_notebook",
   "language": "python",
   "name": "py38_notebook"
  },
  "language_info": {
   "codemirror_mode": {
    "name": "ipython",
    "version": 3
   },
   "file_extension": ".py",
   "mimetype": "text/x-python",
   "name": "python",
   "nbconvert_exporter": "python",
   "pygments_lexer": "ipython3",
   "version": "3.8.18"
  }
 },
 "nbformat": 4,
 "nbformat_minor": 2
}
